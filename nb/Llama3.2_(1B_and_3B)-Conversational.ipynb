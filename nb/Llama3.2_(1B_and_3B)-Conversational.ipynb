{
  "cells": [
    {
      "cell_type": "markdown",
      "metadata": {
        "id": "EzA6tAd69fMo"
      },
      "source": [
        "To run this, press \"*Runtime*\" and press \"*Run all*\" on a **free** Tesla T4 Google Colab instance!\n",
        "<div class=\"align-center\">\n",
        "<a href=\"https://unsloth.ai/\"><img src=\"https://github.com/unslothai/unsloth/raw/main/images/unsloth%20new%20logo.png\" width=\"115\"></a>\n",
        "<a href=\"https://discord.gg/unsloth\"><img src=\"https://github.com/unslothai/unsloth/raw/main/images/Discord button.png\" width=\"145\"></a>\n",
        "<a href=\"https://docs.unsloth.ai/\"><img src=\"https://github.com/unslothai/unsloth/blob/main/images/documentation%20green%20button.png?raw=true\" width=\"125\"></a></a> Join Discord if you need help + ⭐ <i>Star us on <a href=\"https://github.com/unslothai/unsloth\">Github</a> </i> ⭐\n",
        "</div>\n",
        "\n",
        "To install Unsloth on your own computer, follow the installation instructions on our Github page [here](https://docs.unsloth.ai/get-started/installing-+-updating).\n",
        "\n",
        "You will learn how to do [data prep](#Data), how to [train](#Train), how to [run the model](#Inference), & [how to save it](#Save)\n"
      ]
    },
    {
      "cell_type": "markdown",
      "metadata": {
        "id": "3KusLenu9fMp"
      },
      "source": [
        "### News"
      ]
    },
    {
      "cell_type": "markdown",
      "metadata": {
        "id": "yqJzbEiv9fMp"
      },
      "source": [
        "Unsloth now supports Text-to-Speech (TTS) models. Read our [guide here](https://docs.unsloth.ai/basics/text-to-speech-tts-fine-tuning).\n",
        "\n",
        "Read our **[Gemma 3N Guide](https://docs.unsloth.ai/basics/gemma-3n-how-to-run-and-fine-tune)** and check out our new **[Dynamic 2.0](https://docs.unsloth.ai/basics/unsloth-dynamic-2.0-ggufs)** quants which outperforms other quantization methods!\n",
        "\n",
        "Visit our docs for all our [model uploads](https://docs.unsloth.ai/get-started/all-our-models) and [notebooks](https://docs.unsloth.ai/get-started/unsloth-notebooks).\n"
      ]
    },
    {
      "cell_type": "markdown",
      "metadata": {
        "id": "Cwgd2cby9fMq"
      },
      "source": [
        "### Installation"
      ]
    },
    {
      "cell_type": "code",
      "execution_count": 1,
      "metadata": {
        "id": "MQt-Xxo_9fMq"
      },
      "outputs": [],
      "source": [
        "%%capture\n",
        "import os\n",
        "if \"COLAB_\" not in \"\".join(os.environ.keys()):\n",
        "    !pip install unsloth\n",
        "else:\n",
        "    # Do this only in Colab notebooks! Otherwise use pip install unsloth\n",
        "    !pip install --no-deps bitsandbytes accelerate xformers==0.0.29.post3 peft trl triton cut_cross_entropy unsloth_zoo\n",
        "    !pip install sentencepiece protobuf \"datasets>=3.4.1\" huggingface_hub hf_transfer\n",
        "    !pip install --no-deps unsloth"
      ]
    },
    {
      "cell_type": "markdown",
      "metadata": {
        "id": "3-DX4JnR9fMr"
      },
      "source": [
        "### Unsloth"
      ]
    },
    {
      "cell_type": "code",
      "execution_count": 16,
      "metadata": {
        "id": "Ku2FOr6v9fMr",
        "outputId": "e3726bbc-e389-4ca5-93c1-3fe5c7cbfe89",
        "colab": {
          "base_uri": "https://localhost:8080/",
          "height": 742,
          "referenced_widgets": [
            "eba7814f8e134e2bbea8ceb41980a689",
            "ae32da990aaa4938a22cb8972a3325d9",
            "c04a6de1dafb483192bf7fef866a9b6e",
            "494159ff2fa3474b92cd7862bf97b822",
            "f95b1988cc454081b6084c6e6e761cc9",
            "30963cc9ff474419902655c49aa2ae81",
            "4a5b75f59e77438c9675653a80cfb264",
            "8ce3cd376b8244aeb4dab92dc1e9c00f",
            "24e9eaae7b3846e7937fee758a420e12",
            "a665c22aecdc455884153d6cc2872da8",
            "e290d0aeed0442b1ad19af31be7ae0c7",
            "e9b9d2b1194947339860d3bb75d12c04",
            "a899f3b7bf84491db1f95b12796a1f14",
            "c83ef4803ec84e0cb656539d49f0c089",
            "b7b040f0899a433db38b8be1224cc1a3",
            "fd858a637b6d4c8cb71700d806c24bdc",
            "2b15b8f2b73040338898eafcbb60f50c",
            "f5cfe984315f469c8f01674401066d50",
            "fbfe1981b14648698f01f4e26ffc245b",
            "ccce067591da4394a0e0a5a97b54651d",
            "149e9d81fc4d45528ad16ef667c0a16a",
            "62bf38894ce94426a3108c9ebbef192c",
            "4589526d683545d2b3f04b7c9cc88776",
            "62a5239595014a6d8f9dd0fd4efabb33",
            "cd6c342019dd44dda797dbaaac6c41a8",
            "89712eb2e47f4defad3b2abe33d82d82",
            "6710ba3abe554fb6a55d0d11cc89bfc9",
            "acacdc8fc31f4d438209a45e30cd83a8",
            "88d56088b9eb4ff1bc0b35b5488b7684",
            "b2dd7945d22141da937834e591b7acb9",
            "95735766622f44228b9a27da1fc6e8e6",
            "dc70ee25f0364ee8b4e3deb2c9cdd0c4",
            "22263cbd95944e35ba3fca8179d5abbd",
            "d759a67600cc4f34a2fe683e39a2e97c",
            "4ceb2d6c96ca401d9f509e8acfe24fb3",
            "53d50b6e30064e4dabb933c53183c152",
            "f71ac7d24aff49f0a405a20d7c3e450e",
            "f11f611c462940f88120229fddd85851",
            "5b3007968a734532abb7714bec3e453d",
            "93bd8834c7124b91a52a243f5e468edf",
            "5eb9c9b1f1c24640b3bd989eae04da55",
            "fa28c938f60a4b0eb2337e225799d5fa",
            "e16d6edd1c064dc2bea0bb32154e3328",
            "cd8c665fa64845748008d983cb415b73",
            "0b4c2c0a466e464196d579518368dd0f",
            "a2c427da0ecd44fba691a3830ea172de",
            "14ebe749938f42528764e392ab5ae58b",
            "fabac993d0d8472e8fc1369152c22ac3",
            "74fd24bdcbf241dda709318b80f9123d",
            "7975e17661504684a8692e82e9718c87",
            "55c0f2125977483f9856cd01825eb850",
            "1bec582decce425c981663e0200983b8",
            "1d1d075f2d54441ab028763777e7b43c",
            "409a6a5908464204bfe2445975b1fdac",
            "8e26095e8fa14b69b5787ee7b76de5e3"
          ]
        }
      },
      "outputs": [
        {
          "output_type": "stream",
          "name": "stdout",
          "text": [
            "==((====))==  Unsloth 2025.7.3: Fast Llama patching. Transformers: 4.53.1.\n",
            "   \\\\   /|    Tesla T4. Num GPUs = 1. Max memory: 14.741 GB. Platform: Linux.\n",
            "O^O/ \\_/ \\    Torch: 2.6.0+cu124. CUDA: 7.5. CUDA Toolkit: 12.4. Triton: 3.2.0\n",
            "\\        /    Bfloat16 = FALSE. FA [Xformers = 0.0.29.post3. FA2 = False]\n",
            " \"-____-\"     Free license: http://github.com/unslothai/unsloth\n",
            "Unsloth: Fast downloading is enabled - ignore downloading bars which are red colored!\n"
          ]
        },
        {
          "output_type": "display_data",
          "data": {
            "text/plain": [
              "model.safetensors.index.json: 0.00B [00:00, ?B/s]"
            ],
            "application/vnd.jupyter.widget-view+json": {
              "version_major": 2,
              "version_minor": 0,
              "model_id": "eba7814f8e134e2bbea8ceb41980a689"
            }
          },
          "metadata": {}
        },
        {
          "output_type": "display_data",
          "data": {
            "text/plain": [
              "model-00001-of-00004.safetensors:   0%|          | 0.00/4.98G [00:00<?, ?B/s]"
            ],
            "application/vnd.jupyter.widget-view+json": {
              "version_major": 2,
              "version_minor": 0,
              "model_id": "e9b9d2b1194947339860d3bb75d12c04"
            }
          },
          "metadata": {}
        },
        {
          "output_type": "display_data",
          "data": {
            "text/plain": [
              "model-00002-of-00004.safetensors:   0%|          | 0.00/5.00G [00:00<?, ?B/s]"
            ],
            "application/vnd.jupyter.widget-view+json": {
              "version_major": 2,
              "version_minor": 0,
              "model_id": "4589526d683545d2b3f04b7c9cc88776"
            }
          },
          "metadata": {}
        },
        {
          "output_type": "display_data",
          "data": {
            "text/plain": [
              "model-00003-of-00004.safetensors:   0%|          | 0.00/4.92G [00:00<?, ?B/s]"
            ],
            "application/vnd.jupyter.widget-view+json": {
              "version_major": 2,
              "version_minor": 0,
              "model_id": "d759a67600cc4f34a2fe683e39a2e97c"
            }
          },
          "metadata": {}
        },
        {
          "output_type": "display_data",
          "data": {
            "text/plain": [
              "model-00004-of-00004.safetensors:   0%|          | 0.00/1.17G [00:00<?, ?B/s]"
            ],
            "application/vnd.jupyter.widget-view+json": {
              "version_major": 2,
              "version_minor": 0,
              "model_id": "0b4c2c0a466e464196d579518368dd0f"
            }
          },
          "metadata": {}
        },
        {
          "output_type": "error",
          "ename": "RuntimeError",
          "evalue": "CUDA error: an illegal memory access was encountered\nCUDA kernel errors might be asynchronously reported at some other API call, so the stacktrace below might be incorrect.\nFor debugging consider passing CUDA_LAUNCH_BLOCKING=1\nCompile with `TORCH_USE_CUDA_DSA` to enable device-side assertions.\n",
          "traceback": [
            "\u001b[0;31m---------------------------------------------------------------------------\u001b[0m",
            "\u001b[0;31mRuntimeError\u001b[0m                              Traceback (most recent call last)",
            "\u001b[0;32m/tmp/ipython-input-16-844017487.py\u001b[0m in \u001b[0;36m<cell line: 0>\u001b[0;34m()\u001b[0m\n\u001b[1;32m     26\u001b[0m ] # More models at https://huggingface.co/unsloth\n\u001b[1;32m     27\u001b[0m \u001b[0;34m\u001b[0m\u001b[0m\n\u001b[0;32m---> 28\u001b[0;31m model, tokenizer = FastLanguageModel.from_pretrained(\n\u001b[0m\u001b[1;32m     29\u001b[0m     \u001b[0mmodel_name\u001b[0m \u001b[0;34m=\u001b[0m \u001b[0;34m\"unsloth/Meta-Llama-3.1-8B-Instruct-bnb-4bit\"\u001b[0m\u001b[0;34m,\u001b[0m \u001b[0;31m# or choose \"unsloth/Llama-3.2-1B-Instruct\"\u001b[0m\u001b[0;34m\u001b[0m\u001b[0;34m\u001b[0m\u001b[0m\n\u001b[1;32m     30\u001b[0m     \u001b[0mmax_seq_length\u001b[0m \u001b[0;34m=\u001b[0m \u001b[0mmax_seq_length\u001b[0m\u001b[0;34m,\u001b[0m\u001b[0;34m\u001b[0m\u001b[0;34m\u001b[0m\u001b[0m\n",
            "\u001b[0;32m/usr/local/lib/python3.11/dist-packages/unsloth/models/loader.py\u001b[0m in \u001b[0;36mfrom_pretrained\u001b[0;34m(model_name, max_seq_length, dtype, load_in_4bit, load_in_8bit, full_finetuning, token, device_map, rope_scaling, fix_tokenizer, trust_remote_code, use_gradient_checkpointing, resize_model_vocab, revision, use_exact_model_name, fast_inference, gpu_memory_utilization, float8_kv_cache, random_state, max_lora_rank, disable_log_stats, *args, **kwargs)\u001b[0m\n\u001b[1;32m    391\u001b[0m         \u001b[0;32mpass\u001b[0m\u001b[0;34m\u001b[0m\u001b[0;34m\u001b[0m\u001b[0m\n\u001b[1;32m    392\u001b[0m \u001b[0;34m\u001b[0m\u001b[0m\n\u001b[0;32m--> 393\u001b[0;31m         model, tokenizer = dispatch_model.from_pretrained(\n\u001b[0m\u001b[1;32m    394\u001b[0m             \u001b[0mmodel_name\u001b[0m        \u001b[0;34m=\u001b[0m \u001b[0mmodel_name\u001b[0m\u001b[0;34m,\u001b[0m\u001b[0;34m\u001b[0m\u001b[0;34m\u001b[0m\u001b[0m\n\u001b[1;32m    395\u001b[0m             \u001b[0mmax_seq_length\u001b[0m    \u001b[0;34m=\u001b[0m \u001b[0mmax_seq_length\u001b[0m\u001b[0;34m,\u001b[0m\u001b[0;34m\u001b[0m\u001b[0;34m\u001b[0m\u001b[0m\n",
            "\u001b[0;32m/usr/local/lib/python3.11/dist-packages/unsloth/models/llama.py\u001b[0m in \u001b[0;36mfrom_pretrained\u001b[0;34m(model_name, max_seq_length, dtype, load_in_4bit, token, device_map, rope_scaling, fix_tokenizer, model_patcher, tokenizer_name, trust_remote_code, revision, fast_inference, gpu_memory_utilization, float8_kv_cache, random_state, max_lora_rank, disable_log_stats, unsloth_vllm_standby, num_labels, **kwargs)\u001b[0m\n\u001b[1;32m   1982\u001b[0m             )\n\u001b[1;32m   1983\u001b[0m         \u001b[0;32melif\u001b[0m \u001b[0;32mnot\u001b[0m \u001b[0mfast_inference\u001b[0m\u001b[0;34m:\u001b[0m\u001b[0;34m\u001b[0m\u001b[0;34m\u001b[0m\u001b[0m\n\u001b[0;32m-> 1984\u001b[0;31m             model = AutoModelForCausalLM.from_pretrained(\n\u001b[0m\u001b[1;32m   1985\u001b[0m                 \u001b[0mmodel_name\u001b[0m\u001b[0;34m,\u001b[0m\u001b[0;34m\u001b[0m\u001b[0;34m\u001b[0m\u001b[0m\n\u001b[1;32m   1986\u001b[0m                 \u001b[0mdevice_map\u001b[0m              \u001b[0;34m=\u001b[0m \u001b[0mdevice_map\u001b[0m\u001b[0;34m,\u001b[0m\u001b[0;34m\u001b[0m\u001b[0;34m\u001b[0m\u001b[0m\n",
            "\u001b[0;32m/usr/local/lib/python3.11/dist-packages/transformers/models/auto/auto_factory.py\u001b[0m in \u001b[0;36mfrom_pretrained\u001b[0;34m(cls, pretrained_model_name_or_path, *model_args, **kwargs)\u001b[0m\n\u001b[1;32m    598\u001b[0m             \u001b[0;32mif\u001b[0m \u001b[0mmodel_class\u001b[0m\u001b[0;34m.\u001b[0m\u001b[0mconfig_class\u001b[0m \u001b[0;34m==\u001b[0m \u001b[0mconfig\u001b[0m\u001b[0;34m.\u001b[0m\u001b[0msub_configs\u001b[0m\u001b[0;34m.\u001b[0m\u001b[0mget\u001b[0m\u001b[0;34m(\u001b[0m\u001b[0;34m\"text_config\"\u001b[0m\u001b[0;34m,\u001b[0m \u001b[0;32mNone\u001b[0m\u001b[0;34m)\u001b[0m\u001b[0;34m:\u001b[0m\u001b[0;34m\u001b[0m\u001b[0;34m\u001b[0m\u001b[0m\n\u001b[1;32m    599\u001b[0m                 \u001b[0mconfig\u001b[0m \u001b[0;34m=\u001b[0m \u001b[0mconfig\u001b[0m\u001b[0;34m.\u001b[0m\u001b[0mget_text_config\u001b[0m\u001b[0;34m(\u001b[0m\u001b[0;34m)\u001b[0m\u001b[0;34m\u001b[0m\u001b[0;34m\u001b[0m\u001b[0m\n\u001b[0;32m--> 600\u001b[0;31m             return model_class.from_pretrained(\n\u001b[0m\u001b[1;32m    601\u001b[0m                 \u001b[0mpretrained_model_name_or_path\u001b[0m\u001b[0;34m,\u001b[0m \u001b[0;34m*\u001b[0m\u001b[0mmodel_args\u001b[0m\u001b[0;34m,\u001b[0m \u001b[0mconfig\u001b[0m\u001b[0;34m=\u001b[0m\u001b[0mconfig\u001b[0m\u001b[0;34m,\u001b[0m \u001b[0;34m**\u001b[0m\u001b[0mhub_kwargs\u001b[0m\u001b[0;34m,\u001b[0m \u001b[0;34m**\u001b[0m\u001b[0mkwargs\u001b[0m\u001b[0;34m\u001b[0m\u001b[0;34m\u001b[0m\u001b[0m\n\u001b[1;32m    602\u001b[0m             )\n",
            "\u001b[0;32m/usr/local/lib/python3.11/dist-packages/transformers/modeling_utils.py\u001b[0m in \u001b[0;36m_wrapper\u001b[0;34m(*args, **kwargs)\u001b[0m\n\u001b[1;32m    309\u001b[0m         \u001b[0mold_dtype\u001b[0m \u001b[0;34m=\u001b[0m \u001b[0mtorch\u001b[0m\u001b[0;34m.\u001b[0m\u001b[0mget_default_dtype\u001b[0m\u001b[0;34m(\u001b[0m\u001b[0;34m)\u001b[0m\u001b[0;34m\u001b[0m\u001b[0;34m\u001b[0m\u001b[0m\n\u001b[1;32m    310\u001b[0m         \u001b[0;32mtry\u001b[0m\u001b[0;34m:\u001b[0m\u001b[0;34m\u001b[0m\u001b[0;34m\u001b[0m\u001b[0m\n\u001b[0;32m--> 311\u001b[0;31m             \u001b[0;32mreturn\u001b[0m \u001b[0mfunc\u001b[0m\u001b[0;34m(\u001b[0m\u001b[0;34m*\u001b[0m\u001b[0margs\u001b[0m\u001b[0;34m,\u001b[0m \u001b[0;34m**\u001b[0m\u001b[0mkwargs\u001b[0m\u001b[0;34m)\u001b[0m\u001b[0;34m\u001b[0m\u001b[0;34m\u001b[0m\u001b[0m\n\u001b[0m\u001b[1;32m    312\u001b[0m         \u001b[0;32mfinally\u001b[0m\u001b[0;34m:\u001b[0m\u001b[0;34m\u001b[0m\u001b[0;34m\u001b[0m\u001b[0m\n\u001b[1;32m    313\u001b[0m             \u001b[0mtorch\u001b[0m\u001b[0;34m.\u001b[0m\u001b[0mset_default_dtype\u001b[0m\u001b[0;34m(\u001b[0m\u001b[0mold_dtype\u001b[0m\u001b[0;34m)\u001b[0m\u001b[0;34m\u001b[0m\u001b[0;34m\u001b[0m\u001b[0m\n",
            "\u001b[0;32m/usr/local/lib/python3.11/dist-packages/transformers/modeling_utils.py\u001b[0m in \u001b[0;36mfrom_pretrained\u001b[0;34m(cls, pretrained_model_name_or_path, config, cache_dir, ignore_mismatched_sizes, force_download, local_files_only, token, revision, use_safetensors, weights_only, *model_args, **kwargs)\u001b[0m\n\u001b[1;32m   4764\u001b[0m         \u001b[0;32mwith\u001b[0m \u001b[0mContextManagers\u001b[0m\u001b[0;34m(\u001b[0m\u001b[0mmodel_init_context\u001b[0m\u001b[0;34m)\u001b[0m\u001b[0;34m:\u001b[0m\u001b[0;34m\u001b[0m\u001b[0;34m\u001b[0m\u001b[0m\n\u001b[1;32m   4765\u001b[0m             \u001b[0;31m# Let's make sure we don't run the init function of buffer modules\u001b[0m\u001b[0;34m\u001b[0m\u001b[0;34m\u001b[0m\u001b[0m\n\u001b[0;32m-> 4766\u001b[0;31m             \u001b[0mmodel\u001b[0m \u001b[0;34m=\u001b[0m \u001b[0mcls\u001b[0m\u001b[0;34m(\u001b[0m\u001b[0mconfig\u001b[0m\u001b[0;34m,\u001b[0m \u001b[0;34m*\u001b[0m\u001b[0mmodel_args\u001b[0m\u001b[0;34m,\u001b[0m \u001b[0;34m**\u001b[0m\u001b[0mmodel_kwargs\u001b[0m\u001b[0;34m)\u001b[0m\u001b[0;34m\u001b[0m\u001b[0;34m\u001b[0m\u001b[0m\n\u001b[0m\u001b[1;32m   4767\u001b[0m \u001b[0;34m\u001b[0m\u001b[0m\n\u001b[1;32m   4768\u001b[0m         \u001b[0;31m# Make sure to tie the weights correctly\u001b[0m\u001b[0;34m\u001b[0m\u001b[0;34m\u001b[0m\u001b[0m\n",
            "\u001b[0;32m/usr/local/lib/python3.11/dist-packages/transformers/models/llama/modeling_llama.py\u001b[0m in \u001b[0;36m__init__\u001b[0;34m(self, config)\u001b[0m\n\u001b[1;32m    481\u001b[0m     \u001b[0;32mdef\u001b[0m \u001b[0m__init__\u001b[0m\u001b[0;34m(\u001b[0m\u001b[0mself\u001b[0m\u001b[0;34m,\u001b[0m \u001b[0mconfig\u001b[0m\u001b[0;34m)\u001b[0m\u001b[0;34m:\u001b[0m\u001b[0;34m\u001b[0m\u001b[0;34m\u001b[0m\u001b[0m\n\u001b[1;32m    482\u001b[0m         \u001b[0msuper\u001b[0m\u001b[0;34m(\u001b[0m\u001b[0;34m)\u001b[0m\u001b[0;34m.\u001b[0m\u001b[0m__init__\u001b[0m\u001b[0;34m(\u001b[0m\u001b[0mconfig\u001b[0m\u001b[0;34m)\u001b[0m\u001b[0;34m\u001b[0m\u001b[0;34m\u001b[0m\u001b[0m\n\u001b[0;32m--> 483\u001b[0;31m         \u001b[0mself\u001b[0m\u001b[0;34m.\u001b[0m\u001b[0mmodel\u001b[0m \u001b[0;34m=\u001b[0m \u001b[0mLlamaModel\u001b[0m\u001b[0;34m(\u001b[0m\u001b[0mconfig\u001b[0m\u001b[0;34m)\u001b[0m\u001b[0;34m\u001b[0m\u001b[0;34m\u001b[0m\u001b[0m\n\u001b[0m\u001b[1;32m    484\u001b[0m         \u001b[0mself\u001b[0m\u001b[0;34m.\u001b[0m\u001b[0mvocab_size\u001b[0m \u001b[0;34m=\u001b[0m \u001b[0mconfig\u001b[0m\u001b[0;34m.\u001b[0m\u001b[0mvocab_size\u001b[0m\u001b[0;34m\u001b[0m\u001b[0;34m\u001b[0m\u001b[0m\n\u001b[1;32m    485\u001b[0m         \u001b[0mself\u001b[0m\u001b[0;34m.\u001b[0m\u001b[0mlm_head\u001b[0m \u001b[0;34m=\u001b[0m \u001b[0mnn\u001b[0m\u001b[0;34m.\u001b[0m\u001b[0mLinear\u001b[0m\u001b[0;34m(\u001b[0m\u001b[0mconfig\u001b[0m\u001b[0;34m.\u001b[0m\u001b[0mhidden_size\u001b[0m\u001b[0;34m,\u001b[0m \u001b[0mconfig\u001b[0m\u001b[0;34m.\u001b[0m\u001b[0mvocab_size\u001b[0m\u001b[0;34m,\u001b[0m \u001b[0mbias\u001b[0m\u001b[0;34m=\u001b[0m\u001b[0;32mFalse\u001b[0m\u001b[0;34m)\u001b[0m\u001b[0;34m\u001b[0m\u001b[0;34m\u001b[0m\u001b[0m\n",
            "\u001b[0;32m/usr/local/lib/python3.11/dist-packages/transformers/models/llama/modeling_llama.py\u001b[0m in \u001b[0;36m__init__\u001b[0;34m(self, config)\u001b[0m\n\u001b[1;32m    356\u001b[0m         )\n\u001b[1;32m    357\u001b[0m         \u001b[0mself\u001b[0m\u001b[0;34m.\u001b[0m\u001b[0mnorm\u001b[0m \u001b[0;34m=\u001b[0m \u001b[0mLlamaRMSNorm\u001b[0m\u001b[0;34m(\u001b[0m\u001b[0mconfig\u001b[0m\u001b[0;34m.\u001b[0m\u001b[0mhidden_size\u001b[0m\u001b[0;34m,\u001b[0m \u001b[0meps\u001b[0m\u001b[0;34m=\u001b[0m\u001b[0mconfig\u001b[0m\u001b[0;34m.\u001b[0m\u001b[0mrms_norm_eps\u001b[0m\u001b[0;34m)\u001b[0m\u001b[0;34m\u001b[0m\u001b[0;34m\u001b[0m\u001b[0m\n\u001b[0;32m--> 358\u001b[0;31m         \u001b[0mself\u001b[0m\u001b[0;34m.\u001b[0m\u001b[0mrotary_emb\u001b[0m \u001b[0;34m=\u001b[0m \u001b[0mLlamaRotaryEmbedding\u001b[0m\u001b[0;34m(\u001b[0m\u001b[0mconfig\u001b[0m\u001b[0;34m=\u001b[0m\u001b[0mconfig\u001b[0m\u001b[0;34m)\u001b[0m\u001b[0;34m\u001b[0m\u001b[0;34m\u001b[0m\u001b[0m\n\u001b[0m\u001b[1;32m    359\u001b[0m         \u001b[0mself\u001b[0m\u001b[0;34m.\u001b[0m\u001b[0mgradient_checkpointing\u001b[0m \u001b[0;34m=\u001b[0m \u001b[0;32mFalse\u001b[0m\u001b[0;34m\u001b[0m\u001b[0;34m\u001b[0m\u001b[0m\n\u001b[1;32m    360\u001b[0m \u001b[0;34m\u001b[0m\u001b[0m\n",
            "\u001b[0;32m/usr/local/lib/python3.11/dist-packages/unsloth/models/llama.py\u001b[0m in \u001b[0;36m__init__\u001b[0;34m(self, dim, max_position_embeddings, base, device, config)\u001b[0m\n\u001b[1;32m   1363\u001b[0m         \u001b[0;31m# Build here to make `torch.jit.trace` work.\u001b[0m\u001b[0;34m\u001b[0m\u001b[0;34m\u001b[0m\u001b[0m\n\u001b[1;32m   1364\u001b[0m         \u001b[0;32mfor\u001b[0m \u001b[0mdevice_idx\u001b[0m \u001b[0;32min\u001b[0m \u001b[0mrange\u001b[0m\u001b[0;34m(\u001b[0m\u001b[0mDEVICE_COUNT\u001b[0m\u001b[0;34m)\u001b[0m\u001b[0;34m:\u001b[0m\u001b[0;34m\u001b[0m\u001b[0;34m\u001b[0m\u001b[0m\n\u001b[0;32m-> 1365\u001b[0;31m             \u001b[0mself\u001b[0m\u001b[0;34m.\u001b[0m\u001b[0m_set_cos_sin_cache\u001b[0m\u001b[0;34m(\u001b[0m\u001b[0mseq_len\u001b[0m\u001b[0;34m=\u001b[0m\u001b[0mself\u001b[0m\u001b[0;34m.\u001b[0m\u001b[0mcurrent_rope_size\u001b[0m\u001b[0;34m,\u001b[0m \u001b[0mdevice\u001b[0m\u001b[0;34m=\u001b[0m\u001b[0mtorch\u001b[0m\u001b[0;34m.\u001b[0m\u001b[0mdevice\u001b[0m\u001b[0;34m(\u001b[0m\u001b[0mdevice_idx\u001b[0m\u001b[0;34m)\u001b[0m\u001b[0;34m,\u001b[0m \u001b[0mdtype\u001b[0m\u001b[0;34m=\u001b[0m\u001b[0mtorch\u001b[0m\u001b[0;34m.\u001b[0m\u001b[0mget_default_dtype\u001b[0m\u001b[0;34m(\u001b[0m\u001b[0;34m)\u001b[0m\u001b[0;34m)\u001b[0m\u001b[0;34m\u001b[0m\u001b[0;34m\u001b[0m\u001b[0m\n\u001b[0m\u001b[1;32m   1366\u001b[0m \u001b[0;34m\u001b[0m\u001b[0m\n\u001b[1;32m   1367\u001b[0m         \u001b[0;31m# dummy so that patch_utils doesn't fail for now\u001b[0m\u001b[0;34m\u001b[0m\u001b[0;34m\u001b[0m\u001b[0m\n",
            "\u001b[0;32m/usr/local/lib/python3.11/dist-packages/unsloth/models/llama.py\u001b[0m in \u001b[0;36m_set_cos_sin_cache\u001b[0;34m(self, seq_len, device, dtype)\u001b[0m\n\u001b[1;32m   1382\u001b[0m         \u001b[0;31m# Different from paper, but it uses a different permutation in order to obtain the same calculation\u001b[0m\u001b[0;34m\u001b[0m\u001b[0;34m\u001b[0m\u001b[0m\n\u001b[1;32m   1383\u001b[0m         \u001b[0memb\u001b[0m \u001b[0;34m=\u001b[0m \u001b[0mtorch\u001b[0m\u001b[0;34m.\u001b[0m\u001b[0mcat\u001b[0m\u001b[0;34m(\u001b[0m\u001b[0;34m(\u001b[0m\u001b[0mfreqs\u001b[0m\u001b[0;34m,\u001b[0m \u001b[0mfreqs\u001b[0m\u001b[0;34m)\u001b[0m\u001b[0;34m,\u001b[0m \u001b[0mdim\u001b[0m\u001b[0;34m=\u001b[0m\u001b[0;34m-\u001b[0m\u001b[0;36m1\u001b[0m\u001b[0;34m)\u001b[0m\u001b[0;34m\u001b[0m\u001b[0;34m\u001b[0m\u001b[0m\n\u001b[0;32m-> 1384\u001b[0;31m         \u001b[0mcos\u001b[0m \u001b[0;34m=\u001b[0m \u001b[0memb\u001b[0m\u001b[0;34m.\u001b[0m\u001b[0mcos\u001b[0m\u001b[0;34m(\u001b[0m\u001b[0;34m)\u001b[0m\u001b[0;34m.\u001b[0m\u001b[0mto\u001b[0m\u001b[0;34m(\u001b[0m\u001b[0mdtype\u001b[0m\u001b[0;34m=\u001b[0m\u001b[0mdtype\u001b[0m\u001b[0;34m,\u001b[0m \u001b[0mdevice\u001b[0m\u001b[0;34m=\u001b[0m\u001b[0mdevice\u001b[0m\u001b[0;34m,\u001b[0m \u001b[0mnon_blocking\u001b[0m\u001b[0;34m=\u001b[0m\u001b[0;32mTrue\u001b[0m\u001b[0;34m)\u001b[0m\u001b[0;34m\u001b[0m\u001b[0;34m\u001b[0m\u001b[0m\n\u001b[0m\u001b[1;32m   1385\u001b[0m         \u001b[0msin\u001b[0m \u001b[0;34m=\u001b[0m \u001b[0memb\u001b[0m\u001b[0;34m.\u001b[0m\u001b[0msin\u001b[0m\u001b[0;34m(\u001b[0m\u001b[0;34m)\u001b[0m\u001b[0;34m.\u001b[0m\u001b[0mto\u001b[0m\u001b[0;34m(\u001b[0m\u001b[0mdtype\u001b[0m\u001b[0;34m=\u001b[0m\u001b[0mdtype\u001b[0m\u001b[0;34m,\u001b[0m \u001b[0mdevice\u001b[0m\u001b[0;34m=\u001b[0m\u001b[0mdevice\u001b[0m\u001b[0;34m,\u001b[0m \u001b[0mnon_blocking\u001b[0m\u001b[0;34m=\u001b[0m\u001b[0;32mTrue\u001b[0m\u001b[0;34m)\u001b[0m\u001b[0;34m\u001b[0m\u001b[0;34m\u001b[0m\u001b[0m\n\u001b[1;32m   1386\u001b[0m         \u001b[0mself\u001b[0m\u001b[0;34m.\u001b[0m\u001b[0mmulti_gpu_cos_cached\u001b[0m\u001b[0;34m[\u001b[0m\u001b[0mdevice\u001b[0m\u001b[0;34m.\u001b[0m\u001b[0mindex\u001b[0m\u001b[0;34m]\u001b[0m \u001b[0;34m=\u001b[0m \u001b[0mcos\u001b[0m\u001b[0;34m\u001b[0m\u001b[0;34m\u001b[0m\u001b[0m\n",
            "\u001b[0;31mRuntimeError\u001b[0m: CUDA error: an illegal memory access was encountered\nCUDA kernel errors might be asynchronously reported at some other API call, so the stacktrace below might be incorrect.\nFor debugging consider passing CUDA_LAUNCH_BLOCKING=1\nCompile with `TORCH_USE_CUDA_DSA` to enable device-side assertions.\n"
          ]
        }
      ],
      "source": [
        "from unsloth import FastLanguageModel\n",
        "import torch\n",
        "max_seq_length = 100000 # Choose any! We auto support RoPE Scaling internally!\n",
        "dtype = None # None for auto detection. Float16 for Tesla T4, V100, Bfloat16 for Ampere+\n",
        "load_in_4bit = False #True # Use 4bit quantization to reduce memory usage. Can be False.\n",
        "\n",
        "# 4bit pre quantized models we support for 4x faster downloading + no OOMs.\n",
        "fourbit_models = [\n",
        "    \"unsloth/Meta-Llama-3.1-8B-bnb-4bit\",      # Llama-3.1 2x faster\n",
        "    \"unsloth/Meta-Llama-3.1-8B-Instruct-bnb-4bit\",\n",
        "    \"unsloth/Meta-Llama-3.1-70B-bnb-4bit\",\n",
        "    \"unsloth/Meta-Llama-3.1-405B-bnb-4bit\",    # 4bit for 405b!\n",
        "    \"unsloth/Mistral-Small-Instruct-2409\",     # Mistral 22b 2x faster!\n",
        "    \"unsloth/mistral-7b-instruct-v0.3-bnb-4bit\",\n",
        "    \"unsloth/Phi-3.5-mini-instruct\",           # Phi-3.5 2x faster!\n",
        "    \"unsloth/Phi-3-medium-4k-instruct\",\n",
        "    \"unsloth/gemma-2-9b-bnb-4bit\",\n",
        "    \"unsloth/gemma-2-27b-bnb-4bit\",            # Gemma 2x faster!\n",
        "\n",
        "    \"unsloth/Llama-3.2-1B-bnb-4bit\",           # NEW! Llama 3.2 models\n",
        "    \"unsloth/Llama-3.2-1B-Instruct-bnb-4bit\",\n",
        "    \"unsloth/Llama-3.2-3B-bnb-4bit\",\n",
        "    \"unsloth/Llama-3.2-3B-Instruct-bnb-4bit\",\n",
        "\n",
        "    \"unsloth/Llama-3.3-70B-Instruct-bnb-4bit\" # NEW! Llama 3.3 70B!\n",
        "] # More models at https://huggingface.co/unsloth\n",
        "\n",
        "model, tokenizer = FastLanguageModel.from_pretrained(\n",
        "    model_name = \"unsloth/Meta-Llama-3.1-8B-Instruct-bnb-4bit\", # or choose \"unsloth/Llama-3.2-1B-Instruct\"\n",
        "    max_seq_length = max_seq_length,\n",
        "    dtype = dtype,\n",
        "    load_in_4bit = load_in_4bit,\n",
        "    # token = \"hf_...\", # use one if using gated models like meta-llama/Llama-2-7b-hf\n",
        ")"
      ]
    },
    {
      "cell_type": "markdown",
      "metadata": {
        "id": "SXd9bTZd1aaL"
      },
      "source": [
        "We now add LoRA adapters so we only need to update 1 to 10% of all parameters!"
      ]
    },
    {
      "cell_type": "code",
      "execution_count": null,
      "metadata": {
        "id": "6bZsfBuZDeCL"
      },
      "outputs": [],
      "source": [
        "model = FastLanguageModel.get_peft_model(\n",
        "    model,\n",
        "    r = 8, # Choose any number > 0 ! Suggested 8, 16, 32, 64, 128\n",
        "    target_modules = [\"q_proj\", \"k_proj\", \"v_proj\", \"o_proj\",\n",
        "                      \"gate_proj\", \"up_proj\", \"down_proj\",],\n",
        "    lora_alpha = 16,\n",
        "    lora_dropout = 0, # Supports any, but = 0 is optimized\n",
        "    bias = \"none\",    # Supports any, but = \"none\" is optimized\n",
        "    # [NEW] \"unsloth\" uses 30% less VRAM, fits 2x larger batch sizes!\n",
        "    use_gradient_checkpointing = \"unsloth\", # True or \"unsloth\" for very long context\n",
        "    random_state = 32,\n",
        "    use_rslora = False,  # We support rank stabilized LoRA\n",
        "    loftq_config = None, # And LoftQ\n",
        ")"
      ]
    },
    {
      "cell_type": "markdown",
      "metadata": {
        "id": "vITh0KVJ10qX"
      },
      "source": [
        "<a name=\"Data\"></a>\n",
        "### Data Prep\n",
        "We now use the `Llama-3.1` format for conversation style finetunes. We use [Maxime Labonne's FineTome-100k](https://huggingface.co/datasets/mlabonne/FineTome-100k) dataset in ShareGPT style. But we convert it to HuggingFace's normal multiturn format `(\"role\", \"content\")` instead of `(\"from\", \"value\")`/ Llama-3 renders multi turn conversations like below:\n",
        "\n",
        "```\n",
        "<|begin_of_text|><|start_header_id|>user<|end_header_id|>\n",
        "\n",
        "Hello!<|eot_id|><|start_header_id|>assistant<|end_header_id|>\n",
        "\n",
        "Hey there! How are you?<|eot_id|><|start_header_id|>user<|end_header_id|>\n",
        "\n",
        "I'm great thanks!<|eot_id|>\n",
        "```\n",
        "\n",
        "We use our `get_chat_template` function to get the correct chat template. We support `zephyr, chatml, mistral, llama, alpaca, vicuna, vicuna_old, phi3, llama3` and more."
      ]
    },
    {
      "cell_type": "code",
      "execution_count": 4,
      "metadata": {
        "id": "LjY75GoYUCB8"
      },
      "outputs": [],
      "source": [
        "from unsloth.chat_templates import get_chat_template\n",
        "\n",
        "tokenizer = get_chat_template(\n",
        "    tokenizer,\n",
        "    chat_template = \"llama-3.1\",\n",
        ")\n",
        "\n",
        "def formatting_prompts_func(examples):\n",
        "    convos = examples[\"messages\"]\n",
        "    texts = [tokenizer.apply_chat_template(convo, tokenize = False, add_generation_prompt = False) for convo in convos]\n",
        "    return { \"text\" : texts, }\n",
        "pass\n",
        "\n",
        "# from datasets import load_dataset\n",
        "# dataset = load_dataset(\"mlabonne/FineTome-100k\", split = \"train\")"
      ]
    },
    {
      "cell_type": "markdown",
      "metadata": {
        "id": "K9CBpiISFa6C"
      },
      "source": [
        "We now use `standardize_sharegpt` to convert ShareGPT style datasets into HuggingFace's generic format. This changes the dataset from looking like:\n",
        "```\n",
        "{\"from\": \"system\", \"value\": \"You are an assistant\"}\n",
        "{\"from\": \"human\", \"value\": \"What is 2+2?\"}\n",
        "{\"from\": \"gpt\", \"value\": \"It's 4.\"}\n",
        "```\n",
        "to\n",
        "```\n",
        "{\"role\": \"system\", \"content\": \"You are an assistant\"}\n",
        "{\"role\": \"user\", \"content\": \"What is 2+2?\"}\n",
        "{\"role\": \"assistant\", \"content\": \"It's 4.\"}\n",
        "```"
      ]
    },
    {
      "cell_type": "code",
      "source": [
        "import json\n",
        "with open(r\"/content/supremecourt_training_headnote_dataset.json\", 'r') as f:\n",
        "  dataset = json.load(f)\n",
        "\n",
        "\n",
        "# import pandas as pd\n",
        "# dataset = pd.read_json(r\"/content/supremecourt_training_headnote_dataset.json\")"
      ],
      "metadata": {
        "id": "AJRYYhOEA7X2"
      },
      "execution_count": 8,
      "outputs": []
    },
    {
      "cell_type": "code",
      "source": [
        "import re\n",
        "for data in dataset:\n",
        "  data['messages'][0]['content'] += data['messages'][-2]['content']\n",
        "  data['messages'][1]['content'] +=\"\\n\\n THE PROVIDED \"+ data['messages'][2]['content']\n",
        "  data['messages'][-1]['content'] = re.sub(r\"\\s{2,}\",\" \",data['messages'][-1]['content'].replace('\\n',' '))\n",
        "  del data['messages'][-2]\n",
        "  del data['messages'][2]\n",
        "\n",
        "  data[\"text\"] = tokenizer.apply_chat_template(\n",
        "        data[\"messages\"],\n",
        "        tokenize=False,\n",
        "        add_generation_prompt=False#, system_prompt = \"\"\n",
        "    ).replace(\n",
        "    \"\\n\\nCutting Knowledge Date: December 2023\\nToday Date: 26 July 2024\\n\\n\",\n",
        "    \"\"\n",
        ")"
      ],
      "metadata": {
        "id": "gP5hMVBNBGVA"
      },
      "execution_count": 9,
      "outputs": []
    },
    {
      "cell_type": "code",
      "source": [
        "dataset[10]['text']"
      ],
      "metadata": {
        "id": "QJPZZn22COY-",
        "outputId": "44b86b60-6f93-458c-ec1d-cf5e5466aa70",
        "colab": {
          "base_uri": "https://localhost:8080/",
          "height": 191
        }
      },
      "execution_count": 10,
      "outputs": [
        {
          "output_type": "execute_result",
          "data": {
            "text/plain": [
              "'<|begin_of_text|><|start_header_id|>system<|end_header_id|>As an AI assistant specializing in summarizing court orders, your specific task is to carefully analyze the issue provided and create a DETAILED digest or summary based exclusively on that focal point from the court order. Your summary should meticulously extract and present the core elements relevant to the identified issue, including information related to the holdings (judgments made on that issue, referencing paragraph numbers), pertinent facts surrounding that issue. Additionally, sections and rules of law implicated, dates of relevance and Assessment Year if provided. Ensure to include all the information mentioned in the issue, such as the court decision on this issue and the related grounds. Also Ensure to add all of the relevant facts or factual matter related to provided Issue while preparing digest, and do maintain a relationship or reasoning which relates the facts mentioned in provided court order while preparing Digest. Refrain from revealing any information that is not explicitly stated in the court order and avoid providing conflicting details. Additionally, do not incorporate any information that is not included in the CONTEXT INFORMATION. This approach ensures clarity and thoroughness in enhancing comprehension of the document\\'s central aspects.Refrain from revealing any information that is not explicitly stated in the court order and avoid providing conflicting details. Additionally, do not incorporate any information that is not included in the CONTEXT INFORMATION.<|eot_id|><|start_header_id|>user<|end_header_id|>\\n\\nIssue: The primary legal issue addressed by the court was the interpretation and application of the amended Section 15 of the Protection of Children from Sexual Offences (POCSO) Act, 2012, as modified by the Protection of Children from Sexual Offences (Amendment) Act, 2019. The amendment specifically added the term \"possession\" to make the section more stringent, thereby making both the storage and possession of child pornographic material punishable when done with any specified intention. The court held that the inclusion of \"possession\" indicates the legislature\\'s intent to deter the dissemination and use of child pornography more effectively.\\n\\n THE PROVIDED Court Order: Judgment\\nJ.B. Pardiwala, J.:\\nFor the convenience of exposition, this judgment is divided into the\\nfollowing parts: -\\nINDEX*\\nA. FACTUAL MATRIX........................................................................... 4\\nB. IMPUGNED ORDER....................................................................... 10\\nC. SUBMISSIONS OF THE PARTIES................................................ 16\\ni. Submissions on behalf of the Appellants............................. 16\\nii. Submissions on behalf of the National Commission for\\nProtection of Child Rights (NCPCR).................................... 18\\niii. Submissions on behalf of the respondent no. 1 / the Sole\\nAccused................................................................................... 20\\niv. Submissions on behalf of the respondent nos. 2 & 3 / the\\nState......................................................................................... 22\\nD. ISSUES FOR DETERMINATION.................................................... 24\\nE. ANALYSIS........................................................................................ 25\\ni. Relevant Statutory Scheme and Provisions....................... 25\\na. Legislative History and Scheme of the POCSO................ 25\\nb. Relevant Provisions of the IT Act....................................... 38\\nii. Scope of Section 15 of the POCSO and Section 67B of\\nthe IT Act................................................................................. 40\\na. Contradictory Views of different High Courts on the subject.. 40\\nb. Three distinct offences punishable under Section 15 of\\nthe POCSO.......................................................................... 55\\nI. Concept of an Inchoate Crime – The ‘Actus Reus’\\nand ‘Mens Rea’ required under Section 15................. 60\\nII. Concept of ‘Possession’, ‘Constructive Possession’\\nand ‘Immediate Control’ under Section 15 of the\\nPOCSO........................................................................ 78\\nc. Pornographic Material must prima facie appear to involve a\\nChild................................................................................... 86\\nd. Scope of Section 67B of the IT Act.................................... 95\\n* Ed. Note: Pagination as per the original Judgment.\\niii. Presumption of Culpable Mental State under Section 30\\nof the POCSO.......................................................................... 108\\na. Concept of Statutory Presumption and Principle of\\nFoundational Facts............................................................ 110\\nb. Foundational Facts required under Section 15 of the\\nPOCSO............................................................................... 126\\nc. Whether the Presumption under Section 30 of the POCSO\\ncan be resorted to in a Quashing Proceeding?................ 130\\niv. Whether the case at hand was one fit for the High Court\\nto quash?................................................................................ 141\\na. Plea of Ignorance of Law: Ignorance of Law viz-a-viz\\nIncognizance of Law.......................................................... 147\\nv. Summary of our conclusion.................................................. 161\\nF. FEW MEANINGFUL SUGGESTIONS............................................. 167\\ni. The Lingering Impact of Child Pornography on the\\nVictimization & Abuse of Children....................................... 167\\na. Obligation to report under Section(s) 19 & 20 respectively of\\nthe POCSO and Role of the Society and all Stakeholders... 180\\nii. Suggestions to the Union of India and to the courts......... 195\\nG. FINAL ORDER................................................................................. 198\\n1. Since the issues raised in both the captioned appeals are same and\\nthe challenge is also to a self-same judgment and order passed by\\nthe High Court those were taken up for hearing analogously and are\\nbeing disposed of by this common judgment and order.\\n2. The present appeals arise out of the final judgment and order\\npassed by the High Court of Judicature at Madras dated 11.01.2024\\nin Criminal Original Petition (Crl. O.P.) No. 37 of 2024 (“Impugned\\nOrder”) filed by the respondent no. 1 (accused) herein under Section\\n482 of the Code of Criminal Procedure, 1973 (for short, the “Cr.P.C.”)\\nby which the High Court allowed the petition and thereby quashed\\nthe chargesheet dated 19.09.2023 filed for the offences punishable\\nunder Section 67B of the Information Technology Act, 2000 (for short,\\nthe “IT Act”) and Section 15(1) of the Protection of Children from\\nSexual Offences Act, 2012 (for short, the “POCSO”) arising out of\\nthe FIR No. 03 of 2020, P.S. Ambattur, Chennai. As a consequence,\\nthe criminal proceedings in Special Sessions Case No. 170 of 2023\\nstood terminated.\\n3. It may be necessary to clarify that the appellant no. 1 herein, ‘Just\\nRights for Children Alliance’ is a collation comprising of five different\\nNGOs that work in unison against child trafficking, sexual exploitation\\nand other allied causes. Whereas the appellant no. 2 is a child rights\\norganization working towards protecting children from exploitation and\\none of the partner NGOs to the aforesaid collation. The appellants\\nherein were not a party to the proceedings before the High Court.\\nHowever, having regard to the serious issue of public importance\\ninvolved in the matter they sought leave of this Court to challenge\\nthe impugned judgment of the High Court. The respondent nos. 2 & 3\\nare the State of Tamil Nadu and the Inspector of Police, All-Women’s\\nPolice Station Ambattur, Chennai, respectively.\\nA. FACTUAL MATRIX\\n4. On 29.01.2020, the All-Women’s Police Station Ambattur, Chennai,\\nTamil Nadu i.e., the respondent no. 3 herein, received a letter from\\nthe Additional Deputy Commissioner of Police (Crime against women\\nand children Branch) wherein it was mentioned that as per the Cyber\\nTipline Report of the National Crimes Record Bureau (NCRB), the\\nrespondent no. 1 herein is an active consumer of pornography and\\nhas allegedly downloaded pornographic material involving children\\nin his mobile phone.\\n5. Accordingly, in view of the aforesaid letter an FIR was registered\\nagainst the respondent no. 1 herein on the very same day i.e.,\\n29.01.2020 at the All-Women’s Police Station Ambattur, Chennai,\\nTamil Nadu as Crime No. 03 of 2020 for the offence punishable\\nunder Section(s) 67B of the IT Act and 14(1) of the POCSO. The\\nrelevant portion of the FIR reads as under: -\\n“Today on 29.01.2020 at 12.00 noon, I, the Inspector of\\nW28, All Women Police Station was on duty, received\\nletter RC. No. 03/ADC CWC/West/Camp/2020 dated\\n28.01.2020 from Thirumathi S. Megalina, Additional Deputy\\nCommissioner of Police, Prevention of Crimes against\\nWomen and Children Division, Chennai, West Zone.\\nOn perusal of the same, 4 References were mentioned\\ntherein viz.\\nRef: 1. DO.Lr.No.05/ADGP-CWC/NCMEC/2020\\n2. C. No.30/COP/CO/2020\\n3. R.C. No. 228 VIII/DC CWC/Genl/2020 (CTR\\nNo. 49303278)\\n4. RC No. 68 /Japu – ii/NCMEC/2020\\nAs per the notice issued in CTR No. 49303278 by National\\nCrime Record Bureau, it is seen that Harris, resident of\\nDoor No.2, 1st Main Road, VPC Nagar, Kallikuppam,\\nAmbattur, Mobile No. 99406 87836, has for the past\\nmore than two years, been watching child pornographic\\nfilms. Details have also been obtained with regard to child\\npornographic films which were made by using children who\\nhave been exploited, children who have gone missing,\\nand by collecting information from centres which deal with\\nmissing children, and details have been provided with\\nregard to the persons who have downloaded such child\\npornographic films. When those notices were perused, it\\nwas seen that the above said person had downloaded those\\nfilms through Old Site ID-KALLI/OLD/ Chm ID-CHM2307,\\nwith a view to indulge in sexual activities, and these films\\nwere made at the address ‘Gopalsamy, No.2, Gangai\\nAmman Kovil 3rd Main Road, Kallikuppam, Ambattur’ by\\nexploiting children in this area. Since this bad activity is\\na crime against good social order, it was directed to take\\nappropriate action against the said person, and therefore,\\nCrime No. 03/2020 U/S 67B IT ACT r/w 14(1) POCSO Act\\n2012 was registered, and the original FIR has been sent\\nto the concerned Court of learned Judicial Magistrate,\\nand copies have been sent to the concerned superior\\nofficers of police without any delay, and investigation has\\nbeen taken up.\\n13. Action Taken: Since the above information reveals\\ncommission of offence(s) u/s as mentioned at Item No. 2,\\nregistered the case and took up the investigation.\\nFIR read over to the complainant/Informant, admitted to be\\ncorrectly recorded and a copy given to the Complainant/\\nInformant free of cost.”\\n6. During the course of the investigation, the mobile phone belonging\\nto the respondent no. 1 was seized and sent to the Forensic Science\\nLaboratory for analysis. The respondent no. 1 was also questioned\\nwhether he had ever viewed any pornographic content, to which the\\nrespondent no. 1 admitted that he used to regularly view pornography\\nwhile he was in college.\\n7. As per the Computer Forensic Analysis Report dated 22.08.2020 it\\nwas found that the mobile phone of the respondent no. 1 contained\\ntwo video files relating to child pornography depicting two underage\\nboys involved in sexual activity with an adult woman. The Computer\\nForensic Analysis Report further stated that more than hundred other\\npornographic video files were downloaded and stored in the said\\nmobile phone. The relevant portion of the said Computer Forensic\\nAnalysis Report reads as under: -\\n“COMPUTER FORENSIC ANALYSIS REPORT\\nReceived from : The Sessions Judge, Mahalir\\nNeethi Mandram, (Fast Track\\nMahila Court) Tiruvallur.\\nCrime No. & P.S. : 03/2020 of Ambattur AWPS\\nOrganization Report No. : CF/52/2020\\nCase received Date : 28.02.2020\\nCase received through : WHC 43450, Tmt. Poornima\\nSeals status : Correct & Intact\\nNature of crime : 67(B) IT Act and 14(1) of\\nPOCSO Act 2012\\nTools used : UFED 4 PC.\\nReport date : 22.08.2020\\nHead of the Division : A. Visalakshi, M.Sc, PGDCA\\nExaminer : S. Hemalatha, M.Sc., (FS),\\nM.Sc., (CS)\\nRECEIVED DEVICE DESCRIPTION\\nOne (1) sealed cloth-lined paper parcel marked, “PI No.\\n5/2020. Cr. No. 3/2020, Ambattur AWPS …” containing\\nthe following item:\\nMarked Name of Details of the Item Packing /\\nas the Item Labelling\\nreceived details\\n1 Mobile Make: MOTO\\nphone Model: XT 1804\\nIMEI1: 356477088126073 Kept in a\\nIMEI2: 356477088126081 plastic box\\nmarked,\\nAirtel 4G 128K “PI No:\\nSIM 1 ICCID: 05/2020”.\\n8991000902533662473U\\nStrontium 16 GB\\nMemory Inbuilt\\nCard\\nBattery\\nObjective\\nThe above item was examined with a view to find if there is\\nany facility of viewing video files using YouTube application\\nand the details. And also to find if any media files pertaining\\nto pornography were found accessed/downloaded/saved.\\nEXAMINATION\\nMobile Phone : [MOTO]\\nThe internal memory of the mobile phone was acquired\\nusing file system extraction and examined using the\\nforensic software tool “UFED 4 PC”. The retrieved details\\nsuch as contacts, call logs, SMS messages and media files\\nare generated as a report and the report (in pdf) is copied\\non to a Compact Disc marked as “CF 52/20”. Selected\\npages from the report are given as Annexure-I. Some of\\nthe findings from the report are as follows: - [...]\\n[...] Above findings indicated that the mobile phone\\nwas found to be equipped with the facility of viewing\\nvideos through YouTube Application.\\n4. (a) Video files pertaining to pornography (more than 100\\nNos.) were found downloaded and stored in different paths,\\nthe details of the same are given as Annexure – II. [...]\\n(b) Some of the vide files pertaining to pornographic\\nnature were found stored under the path “Motorola\\nGSM_XT1806 MotoG5SPlus.zip/sdcard/ProgramData/\\nAndroid/Language/.fr/Videos/wat up pono”. [...]\\n(c) Under the same path two video files which could be\\naccounted for Child Pornography content were found\\nstored. In the videos boys (under-teen) were found involved\\nin sexual activity with a adult woman/girl. The details of\\nthe same are pasted below: -\\nS. No. File Info Additional File Info\\n1. Name: VID-20190614-WA0006. Size (bytes): 11256288\\nmp4\\nModified:\\nPath: Motorola GSM_XT1806 6/14/2019\\nMotoG5SPlus.zip/sdcard/ 15:44 (UTC +5:30)\\nProgramData/Android/Language/.\\nfr/Videos/wat up pono/ VID-\\n20190614-WA0006.mp4\\n2. Name: Unmayal sollungal Ennodu Size (bytes): 20467994\\nsellungal with Vadivel Balaji in AIE\\n4-8-2012 – Youtube.3GP\\nModified:\\n9/5/2016\\nPath: Media/Internal shared 23:12 (UTC +5:30)\\nstorage/trending/adhu idu/Unmayal\\nsollungal Ennodu sellungal with\\nVadivel Balaji in AIE 4-8-2012 –\\nYoutube.3GP\\n[...]\\nMemory Card: [Strontium 16 GB]\\nThe memory card was acquired and examined using the\\nforensic software tool “UFED 4 PC”. The retrieved details\\nsuch as document, image and video files are generated as\\na report and the report (in pdf) is copied on to a Compact\\nDisc marked as “CF 52/20”. The full report is given as\\nAnnexure-III.\\nOn perusing the medial files, multiple video snapshot\\nimages and video files were found related to pornography.\\nThe representative samples of the same are copied onto\\nthe CD mentioned earlier under a specified folder. [...]”\\n8. Upon completion of the investigation, chargesheet dated 19.09.2023\\nwas filed against the respondent no. 1 for the offences punishable\\nunder Section(s) 67B of the IT Act and 15(1) of the POCSO\\nrespectively. It may not be out of place to state at this stage, that\\nalthough the FIR was registered for the offence punishable under\\nSection 14(1) of the POCSO yet in light of the materials collected\\nin the course of the investigation and the findings recorded in the\\nComputer Forensic Analysis Report, the chargesheet was ultimately\\nfiled for the offence punishable under Section 15(1) of the POCSO.\\nThe relevant portion reads as under: -\\n“Final Report\\nBefore the Hon’ble Mahila Fast Track Mahila Court,\\nTiruvallur\\nPolice Final Report under 173(i) W28 Ambattur All Women\\nPolice Station Crim no- 3/2020 U/s 67(B) IT ACT & 14 (1)\\nof POCSO ACT 2012 @67 (B) IT ACT 15(1) of POCSO\\nACT 2012. [...]\\nNature of the case\\nMrs. Megallina, Additional Deputy Commissioner of Police,\\nWomen and Child Crime Branch, Chennai, West Zone\\nLETTER RC.NO. 03/ADC CWC/West/Camp/2020 Dated:\\n28.01.2020 in that mentioned Ref: 1. Do. Lr. No. 05/\\nADGP- CWC/ camp/ NCMEC/ 2020, 2. C.No.30/ COP/ CO/\\n2020, 3. R.CNO. 228 VIII/ DC CWC/ Genl/ 2020 (CTR No.\\n49303278), 4. RC.No. 68/ japu- ii/ NCMEC/ 2020 as per\\nthe detail, Haris residing at 1st Main Road, Door No.03,\\nVPC Nagar, Kallikuppam, Ambattur has reported to NCRB\\n(National Crime Record Bureau) that he had seen child\\npornography on his mobile phone number 99406 87836\\nfor more than two years at CTR No. 49303278 has been\\nobtained and a report on child exploitation and missing\\npersons and details of those who have downloaded child\\npornography against children banned by the data collection\\nsystem has been obtained. Aforesaid person OLD Size\\nID- KALLI 4/OLD Chm Id- CHM2307 Downloaded from the\\naddress No.2 Gopalsamy, 3rd Main Road, Gangaiyamman\\nTemple, Ampathur, Kallikuppam, with the malicious\\nintention of viewing children’s pornographic films for sexual\\npurposes. As this evil act is considered to be a crime of\\ndisturbance of social morals, after being instructed to\\ntake appropriate action against the said person, the All\\nWomen Police Station registered a case in CRIME NO.\\n03/20 U/ S 67B IT ACT r/ w 14(1) POCSO Act 2012 and\\nthe copy of the same was sent to the concerned court\\nand the copies to the higher police officers without delay\\nfor investigation. [...]\\nIn the investigation conducted so far, crime scene no. 2,\\nVPC Nagar to Main Road Kallikuppam Ambattur, Chennai is\\nwithin the jurisdiction of Ambattur All Women Police Station.\\nOn 28.01.2000 Additional Deputy Commissioner, Women\\nand Child Prevention Division, Chennai West Zone gone\\nthrough the case received from (NCMEC) According to\\nthe National Center for Exploited Children in this case\\naccused Harish AGE 24/S/o. Santhanam No. 2 VPC Nagar\\nFirst Main Road Kallikuppam Ampathur Chennai has been\\nusing his phone number ( 99406 87836) for more than two\\nyears from his mobile phone number OLD Size ID- KALLI\\n4/OLD Chm Id- CHM2307 Downloaded from the address\\nNo.2 Gopalsamy, 3rd Main Road, Gangaiyamman Temple,\\nAmpathur, Kallikuppam, with the malicious intention of\\nviewing children’s pornographic films for sexual purposes\\nAs this evil act is considered to be a crime of disturbance\\nof social morals, as per CTR NO 49303278 a report of\\nthe crime has been received by NCRB.\\nTherefore, the accused in this case is considered to\\nhave committed an offense of disturbing public morals\\nand therefore has committed a cognizable offense under\\nSection 67 (B) IT ACT & 15 (1) of the POCSO Act 2012. [...]”\\nB. IMPUGNED ORDER\\n9. Aggrieved by the aforesaid, the respondent no. 1 went before the\\nHigh Court of Judicature at Madras by way of a quashing petition\\nbeing the Criminal Original Petition (Crl. O.P.) No. 37 of 2024 for\\nthe purposes of getting the aforesaid chargesheet and the criminal\\nproceedings arising therefrom quashed.\\n10. The impugned judgment of the High Court is in three-parts. In other\\nwords, the High Court quashed the criminal proceedings essentially\\non three grounds: -\\n(i) First, the High Court was of the view that to constitute an offence\\nunder Section 14(1) of POCSO, a child must have been used by\\nthe person accused for pornographic purposes. It observed that\\nalthough the two videos depicting children engaged in a sexual\\nactivity were found to have been downloaded and stored in the\\nmobile phone belonging to the respondent no. 1, and assuming\\nthat the accused had watched the same yet the same would\\nnot constitute an offence under Section 14(1) of the POCSO.\\nThe relevant observations read as under: -\\n“9. To make out an offence under Section 14(1) of\\nProtection of Child from Sexual Offences Act, 2012, a\\nchild or children must have been used for pornography\\npurposes. This would mean that the accused person\\nshould have used the child for pornographic purposes.\\nEven assuming that the accused person had watched\\nchild pornography video, that strictly will not fall within\\nthe scope of Section 14(1) of Protection of Child from\\nSexual Offences Act, 2012. Since he has not used\\na child or children for pornographic purposes, at the\\nbest, it can only be construed as a moral decay on\\nthe part of the accused person.”\\n(ii) Secondly, the High Court held that, to constitute an offence\\nunder Section 67B of the IT Act, the person accused must\\nhave published, transmitted or created material depicting\\nchildren in sexually explicit act or conduct. It held that although\\nthe respondent no. 1 had admitted that he was addicted to\\nwatching pornography, yet mere watching or downloading of\\nchild pornography without any transmission or publication of the\\nsame does not fall within the purview of Section 67B of the IT\\nAct. The relevant portion reads as under: -\\n“6. This Court enquired the petitioner and he stated\\nthat his date of birth is 13.11.1995 and that he has an\\nelder brother. After a lot of persuasion, the petitioner\\nadmitted that during his teens, he had the habit of\\nwatching pornography. However, the petitioner made\\nit clear that he had never watched child pornography.\\nThat apart, he also stated that he had never attempted\\nto publish or transmit any of the pornographic\\nmaterials to others. He had merely downloaded the\\nsame and he had watched pornography in privacy.\\nxxx xxx xxx\\n10. In order to constitute an offence under Section\\n67-B of Information Technology Act, 2000, the\\naccused person must have published, transmitted,\\ncreated material depicting children in sexual explicit\\nact or conduct. A careful reading of this provision\\ndoes not make watching a child pornography, per\\nse, an offence under Section 67-B of Information\\nTechnology Act, 2000. Even though Section 67-B of\\nInformation Technology Act, 2000, has been widely\\nworded, it does not cover a case where a person has\\nmerely downloaded in his electronic gadget, a child\\npornography and he has watched the same without\\ndoing anything more.”\\n(iii) Lastly, the High Court in light of its aforesaid discussion and\\nby placing reliance on Section 292 of the Indian Penal Code,\\n1860 (for short, the “IPC”) took the view that although the\\npornographic content was found to have been downloaded\\nand stored in the mobile phone of the respondent no. 1 yet in\\nthe absence of any material to show that the respondent no. 1\\nhad transmitted or published the same, no offence whatsoever\\ncould be said to have been made out either under the POCSO,\\nIT Act or the IPC and thus quashed the criminal proceedings.\\nThe relevant observations read as under: -\\n“8. This Court had the advantage of going through\\nthe entire CD file. The mobile phone that was seized\\nfrom the petitioner did contain pornographic materials.\\nHowever, for the purposes of this case, only two\\nvideos were identified as child pornography. Those\\ntwo videos contain boys (under teen) involved in\\nsexual activity with an adult woman/girl. Admittedly,\\nthose two videos were downloaded and available in\\nthe mobile phone belonging to the petitioner and it\\nwas neither published nor transmitted to others and\\nit was within the private domain of the petitioner.\\nxxx xxx xxx\\n11. The Kerala High Court had an occasion to deal\\nwith the scope of Section 292 IPC. That was a case\\nwhere a person was caught watching porn videos\\nand a First Information Report came to be registered\\nagainst him. While dealing with this issue, the Kerala\\nHigh Court held that, watching an obscene photo or\\nobscene video by a person by itself will not constitute\\nan offence under Section 292 IPC. This is in view of\\nthe fact that this act is done by the concerned person\\nin privacy without affecting or influencing anyone else.\\nThe moment the accused person tries to circulate or\\ndistribute or publicly exhibits obscene photos or videos,\\nthen the ingredients of the offence starts kicking in.\\n11. Thus, the High Court vide its impugned judgment and order dated\\n11.01.2024 allowed the petition and thereby quashed the criminal\\nproceedings in Spl. S.C. No. 170 of 2023 on the ground that no offence\\ncould be said to have been made out against the respondent no. 1\\neither under Section 14(1) of the POCSO or Section 67B of the IT\\nAct. The operative portion of the Impugned Order reads as under: -\\n“12. In the considered view of this Court, the materials\\nthat have been placed before this Court does not make\\nout an offence against the petitioner under Section 67-B\\nof Information Technology Act, 2000 and Section 14(1) of\\nProtection of Child from Sexual Offences Act, 2012.\\nxxx xxx xxx\\n18. In the light of the above discussion, the continuation of\\nthe proceedings against the petitioner will amount to abuse\\nof process of Court. That apart, it will be a stumbling block\\nfor the petitioner’s career in future. Therefore, this Court\\nis inclined to quash the proceedings in Spl.S.C.No.170\\nof 2023 on the file of the Sessions Judge, Mahila Neethi\\nMandram (Fast Track Court), Tiruvallur District.\\nAccordingly, this Criminal Original Petition stands allowed\\nand the proceedings in Spl.S.C.No.170 of 2023 on the file\\nof the Sessions Judge, Mahila Neethi Mandram (Fast Track\\nCourt), Tiruvallur District, is hereby quashed. Consequently,\\nconnected criminal miscellaneous petition is closed.”\\n(Emphasis supplied)\\n12. From the aforesaid it could be said that the High Court laid down\\nthree propositions of law which are as follows: -\\ni. Mere possession or storage of any pornographic material is\\nnot an offence under the POCSO. We are mindful of the fact\\nthat, whilst endorsing the aforesaid proposition of law, the High\\nCourt in its impugned Order either consciously did not deem it\\nnecessary to refer to Section 15 of the POCSO or inadvertently\\nfailed to refer to Section 15 of the POCSO. Nevertheless, in\\neither case that may be, the aforesaid proposition of law found\\nfavour with the High Court.\\nii. Section 67B of the IT Act only makes the act of transmission,\\npublication or creation of material depicting children in sexually\\nexplicit manner an offence. Mere watching or downloading of\\nchild pornography in private domain is not punishable under\\nthe same.\\niii. In the absence of any material to indicate any transmission or\\npublication of pornographic content involving child, no offence\\ncould be said to have been committed under the POCSO or\\nthe IT Act, and the criminal proceedings would be liable to be\\nquashed. In other words, to attract the provisions of the POCSO\\nor the IT Act it is not sufficient to merely establish storage\\nor possession of child pornography and that transmission or\\npublication of the same is also required to be established. In\\nthe absence of the same the criminal proceedings are liable\\nto be quashed.\\n13. In such circumstances referred to above, the appellants being\\naggrieved with the Impugned Order passed by the High Court have\\ncome up before this Court with the present appeal.\\nC. SUBMISSIONS OF THE PARTIES\\ni. Submissions on behalf of the Appellants.\\n14. Mr. H.S. Phoolka, the learned Senior Counsel appearing for the\\nappellants submitted that the interpretation of the relevant provisions\\nof POCSO by the High Court for the purpose of holding that mere\\nstorage or possession of any child pornographic material does not\\namount to an offence, poses a significant threat to the well-being of\\nchildren and may result in proliferation of child pornography, posing\\na significant threat to the very social fabric of the society at large.\\nIn support of his submissions, Mr. Phoolka relied on the Convention\\non Cybercrime and the United Nations Convention on the Rights of\\nthe Child, 1989.\\n15. He further submitted that the chargesheet filed by the investigating\\nagency specifically records that, as per the information received\\nfrom the National Commission for Missing and Exploited Children,\\nUSA (NC-MEC), the accused had been watching child pornographic\\nvideos for the past two years.\\n16. He further contended that the High Court erroneously proceeded\\nunder Section 14(1) of the POCSO, which deals with the use of\\nchildren for pornographic purposes, without giving due consideration\\nto Section 15(1) of the Act.\\n17. He further submitted that Section 15(1) explicitly penalizes the\\ndownloading and failure to delete child pornography. In the present\\ncase, the respondent’s stance that he had received two files containing\\nchild pornography via WhatsApp is falsified by the NC-MEC report.\\nFurthermore, there is nothing on record to substantiate that the\\nvideos were received on WhatsApp.\\n18. It was further argued that the High Court committed a serious error\\nin quashing the criminal proceedings without addressing itself on\\nSection 15 of the POCSO. He submitted that the impugned judgment\\nposes a significant threat to child welfare and is contrary to several\\nnational and international commitments.\\n19. He further submitted that the High Court also failed to distinguish\\nbetween adult pornography and child pornography, as Sections\\n67 and 67A of the IT Act deal with adult pornography, while\\nSection 67B was specifically introduced in 2009 to provide more\\nstringent punishment for collecting, downloading, or watching child\\npornographic material.\\n20. He further submitted that in view of Section 30 of the POCSO the\\nHigh Court was legally obliged to presume the existence of a culpable\\nmental state on the part of the accused for having committed any\\noffence under the Act that requires such a mental state.\\n21. In the last, Mr. Phoolka submitted that a conjoint reading of Section\\n67B of the IT Act, Section 15, and Section 30 of the POCSO leaves no\\nmanner of doubt as regards the culpability of persons in possession\\nof child pornography.\\nii. Submissions on behalf of the National Commission for\\nProtection of Child Rights (NCPCR).\\n22. Ms. Swarupama Chaturvedi, the learned Senior Counsel appearing\\nfor the National Commission for Protection of Child Rights (NCPCR),\\nsubmitted that there was a serious lapse on the part of the State in\\nfailing to register the FIR for the offence punishable under Section\\n15 of the POCSO, 2012, as the possession of pornographic material\\ninvolving a child in any form by itself is an offence under Section\\n15(1) of the Act. It was also argued that the State as a Prosecuting\\nagency failed in its duty to bring it to the notice of the High Court\\nthat chargesheet was ultimately filed for the offence under Section\\n15(1) of the POCSO & not Section 14.\\n23. She further submitted that the accused had downloaded pornographic\\nmaterial involving a child onto his mobile phone, retained possession\\nof it, and failed to take any steps to delete the same for two years,\\nas mandated under Section 19 of the POCSO, 2012.\\n24. She contended that the High Court failed to appreciate the mandate\\nof Section 30, which raises a presumption of a culpable mental\\nstate on the part of the accused for any offence under the Act that\\nnecessitates such a mental state. The provision, therefore, shifts\\nthe burden of proving the absence of a culpable mental state onto\\nthe accused.\\n25. She would further submit that Section 19 of the POCSO imposes\\nmandatory reporting of an offence under the Act if there was an\\napprehension that such offence is likely to be committed or knowledge\\nthat such an offence has been committed. It was pointed out that\\nthe failure to discharge this obligation by itself is punishable under\\nSection 21 of the POCSO. She pointed out that the social media\\nplatforms claim to report such instances to the National Center for\\nMissing and Exploited Children (NCMEC), a US-based NGO, which\\nthen reports them to the National Crime Records Bureau (NCRB).\\nHowever, Section 19 mandates reporting such cases to the Special\\nJuvenile Police Unit (SJPU) or the Special Police. Therefore, reporting\\nto an NGO cannot absolve the social media platforms of its liability\\nunder Section 21 of the POCSO.\\n26. In the last, it was submitted that the issue as regards the plight of\\nminors involved or used in child pornography is a matter of serious\\nconcern for one and all. She prayed for issuance of appropriate\\ndirections. She submitted that in an age when children require\\ninternet access for educational purposes, it has become imperative\\nto provide them with a safe online environment in accordance with\\nArticle 12 of the United Nations Convention on the Rights of the\\nChild (UNCRC).\\niii. Submissions on behalf of the respondent no. 1 / the Sole\\nAccused.\\n27. Mr. Prashant S. Kenjale, the learned Counsel appearing for the\\nrespondent no. 1 / the accused, submitted that the FIR was lodged\\nfor the offence under Section 14(1) of the POCSO and Section 67B\\nof the IT Act, and thus, no error not to speak of any error of law\\ncould be said to have been committed by the High Court in passing\\nthe impugned order.\\n28. He further submitted that the date of the receipt of the videos\\nrecovered from the mobile phone of the respondent no. 1 phone is\\n14.06.2019, at which point the 2019 amendment to Section 15 was\\nnot yet in force.\\n29. He further contended that the two files found from the Respondent’s\\nphone were named (a.) VID-20190614-WA005.mp4 and (b.) VID-\\n20190823-WA0020.mp4. The use of “WA” in the file names indicates\\nthat they were automatically downloaded by WhatsApp, which\\nhas an auto-download feature, as shown in a research study. He\\nwould submit that in such circumstances, the said videos had been\\nautomatically downloaded onto his phone and that the respondent\\nno. 1 was unaware of their existence. He argued that the forensic\\nevidence clearly indicates both the creation and modification date as\\n14.06.2019, thereby indicating that the files were never accessed.\\n30. He further submitted that the mere possession of the aforesaid videos\\ndoes not constitute an offence under Section 15(1) of the POCSO,\\nas the respondent never had any intention to share or distribute\\nthem. He also argued that even if it is assumed that the respondent\\nno. 1 had watched the said videos once and then failed to delete\\nit, he cannot be charged under Section 15(1) of the POCSO, as\\nhe was unaware of its presence due to the government’s failure to\\npublicize the law.\\n31. He submitted that ignorance of law on the part of the respondent\\nno. 1 was accompanied by a bona fide belief, and as such it would\\nnot constitute an offence under Section(s) 15 of the POCSO and\\n67B of the IT Act. In support of this argument, he placed reliance\\non the decisions of this Court in Chandi Kumar Das Karmarkar v.\\nAbanidhar Roy, reported in AIR 1965 SC 585, and Motilal Padampat\\nSugar Mills Co. Ltd. v. State of U.P., reported in (1979) 2 SCC 409.\\niv. Submissions on behalf of the respondent nos. 2 & 3 / the\\nState.\\n32. Mr. D. Kumanan, the learned Counsel appearing for the State,\\nsubmitted that the High Court, whilst passing the Impugned Order\\nproceeded on an erroneous footing that an offence under Section\\n14 of the POCSO had been alleged against the accused, even-\\nthough both the chargesheet as-well as the quashing petition clearly\\nmentioned that the indictment against the accused was under Section\\n15(1) of the POCSO.\\n33. He further submitted that the High Court in its Impugned Order\\nfailed to look into Section 67B of the IT Act. The High Court whilst\\nquashing the criminal proceedings neither discussed nor gave any\\ndue consideration to Section 67B, eventhough chargesheet had\\nbeen filed for an offence under it.\\n34. It was submitted that both Section 15 of the POCSO and Section 67B\\nof the IT Act had been enacted with the salutary object of curtailing\\nchild abuse by penalizing any form of use of child pornography,\\nincluding watching of such pornographic content in order to tackle\\nthe larger problem of creation and dissemination of such material\\nby the perpetrators.\\n35. He submitted that more than hundred pornographic videos were\\nfound stored in the mobile phone of the respondent no. 1 / accused\\nherein. Furthermore, the accused had himself admitted before the\\nHigh Court that he along with his friends would regularly watch such\\npornographic material. In such circumstances it was argued that the\\naccused had stored such material in his phone with the intention of\\nsharing it with his friends.\\n36. It was further submitted that the marginal note of Section 15 of\\nthe POCSO i.e. “Punishment for storage of pornographic material\\ninvolving child” is self-explanatory and that sub-section (1) of the\\nsaid provision punishes the storage or possession of any such\\npornographic material when done with an intention to share or transmit\\nit. Reliance was placed on Section 30 of the POCSO to argue that\\nthe said provision specifically provides for presumption of a culpable\\nmental state on part of the accused for any offence under the Act\\nwhich requires such mental state, and as such the onus was on\\nthe accused to prove that he had no intention to share the material\\nthat was found stored in his phone, which was also overlooked by\\nthe High Court.\\n37. In the last, it was submitted that once the chargesheet and the other\\nmaterials on record prima-facie disclosed the commission of an\\noffence, more particularly the pornographic videos that were found\\nstored in the mobile phone of the accused, it was not proper for the\\nHigh Court to exercise its inherent powers under Section 482 of the\\nCr.P.C to quash the criminal proceedings.\\nD. ISSUES FOR DETERMINATION\\n38. Having heard the learned counsel appearing for the parties and\\nhaving gone through the materials on record, the following questions\\nof law fall for our consideration: -\\nI. What is the scope of Section 15 of the POCSO? In other words,\\nwhat is the underlying distinction between sub-section(s) (1),\\n(2) and (3) respectively of the POCSO?\\nII. Whether, mere viewing, possessing or storing of any child\\npornographic material is punishable under the POCSO?\\nIII. What is the true scope of Section 67B of the IT Act?\\nIV. What is the scope of Section 30 of the POCSO? In, other\\nwords, what are the foundational facts necessary for invoking\\nthe statutory presumption of culpable mental state in respect\\nof Section 15 of the POCSO?\\nV. Whether, the statutory presumption contained in Section 30 of\\nthe POCSO can be invoked only at the stage of trial by the\\nSpecial Court alone established under the POCSO? In other\\nwords, whether it is permissible for the High Court in a quashing\\npetition filed under Section 482 of the Cr.P.C. to resort to the\\nstatutory presumption of culpable mental state contained in\\nSection 30 of the POCSO?\\nE. ANALYSIS\\ni. Relevant Statutory Scheme and Provisions.\\na. Legislative History and Scheme of the POCSO.\\n39. Before adverting to the rival submissions canvassed on either side,\\nit would be apposite to first look into the statutory scheme and refer\\nto the relevant provisions of the POCSO.\\n40. As the long title, ‘Protection of Children from Sexual Offences Act,\\n2012’ suggests, the POCSO was enacted by the Parliament to\\naddress the urgent need for a comprehensive law to protect children\\nfrom sexual abuse and exploitation.\\n41. Sexual exploitation of children is a pervasive and deeply rooted issue\\nthat has plagued the societies worldwide and has been a matter of\\nserious concern in India. Prior to the enactment of the POCSO, India\\nlacked a specific legal framework dedicated to dealing with sexual\\noffenses against children. While the provisions related to sexual\\noffenses existed in the IPC, they were not adequately tailored to\\naddress the unique vulnerabilities and the needs of children.\\n42. The inadequacy of the existing laws to effectively deal and combat\\nwith the sexual abuse of children was starkly evident. The IPC, though\\nequipped to handle sexual offences, did not explicitly recognize the\\nvarious forms of sexual abuse that children might face. Under the\\nIPC there was no distinction between an adult and a child victim\\nfor the purposes of the offences punishable under the Code nor did\\nit account for the specific psychological and developmental needs\\nof such child victims. Moreover, the procedural laws were not child-\\nfriendly, often resulting in secondary victimization during the legal\\nprocess. The increasing incidence of child sexual abuse in India and\\nthe growing awareness of the long-term psychological impact on the\\nvictims underscored the need for a dedicated law. The POCSO was\\nintroduced to fill this gap and provide a robust legal mechanism to\\nsafeguard children from sexual crimes and protect them from offences\\nof sexual assault, sexual harassment and pornography.\\n43. The Statement of Objects and Reasons for the enactment of the\\nPOCSO makes it abundantly clear that since the sexual offences\\nagainst children were not adequately addressed by the existing\\nlaws and a large number of such offences were neither specifically\\nprovided for nor were they adequately penalized, the POCSO has\\nbeen enacted to protect the children from the offences of sexual\\nassault, sexual harassment and pornography and to provide for\\nestablishment of Special Courts for trial of such offences and for\\nmatters connected therewith and incidental thereto.\\n44. It further states that the POCSO is a ‘self-contained comprehensive\\nlegislation’ for the purpose of enforcing the rights of all children to\\nsafety, security and protection from sexual abuse and exploitation\\ncountered through commensurate penalties as an effective deterrence\\nfor sexual offences and pornography and has been enacted keeping\\nin mind Articles 15 and 39 of the Constitution respectively and\\nthe United Nations Convention on the Rights of the Children. The\\nStatement of Objects and Reasons of the POCSO reads as under: -\\n“STATEMENT OF OBJECTS AND REASONS\\nArticle 15 of the Constitution, inter alia, confers upon\\nthe State powers to make special provision for children.\\nFurther, Article 39, inter alia, provides that the State shall in\\nparticular direct its policy towards securing that the tender\\nage of children are not abused and their childhood and\\nyouth are protected against exploitation and they are given\\nfacilities to develop in a healthy manner and in conditions\\nof freedom and dignity.\\nThe United Nations Convention on Rights of Children,\\nratified by India on 11th December,1992, requires the State\\nParties to undertake all appropriate National, By-lateral\\nand Multi lateral measures to prevent (a) the inducement\\nor coercion of a child to engage in any unlawful sexual\\nactivity; (b) the exploitative use of children in prostitution or\\nother unlawful sexual practices; and (c) the exploitative use\\nof children in pornographic performances and materials.\\nThe data collected by the National Crime Records Bureau\\nshows that there has been increase in cases of sexual\\noffences against children. This is corroborated by the ‘study\\non child abuse: India 2007’ conducted by the Ministry of\\nWomen and Child Department. Moreover, sexual offences\\nagainst children are not adequately addressed by the\\nextent laws. A large number of such offences are neither\\nspecifically provided for nor are they adequately penalized.\\nThe interests of the child, both as a victim as well as a\\nwitness, need to be protected. It is felt that offences against\\nchildren need to be defined explicitly and countered through\\ncommensurate penalties as an effective deterrence.\\nIt is, therefore, proposed to enact a self-contained\\ncomprehensive legislation inter-alia to provide for protection\\nof children from the sexual offences and pornography\\nwith due regard for safeguarding the interest and well\\nbeing of the child at every stage of the Judicial process,\\nincorporating child friendly procedures for reporting,\\nrecording of evidence, investigation and trial of offences\\nand provision for establishment of Special Courts for\\nspeedy trial of such offences.\\n(Emphasis supplied)\\n45. The primary legislative intent behind the enactment of the POCSO\\nwas to create a comprehensive legal framework that would not\\nonly punish offenders but also provide a child-friendly system for\\nthe recording of evidence, investigation, and trial of offenses. The\\nPOCSO was designed to cover all forms of sexual abuse against\\nchildren, including sexual harassment, child pornography, and\\naggravated sexual assault, among others. It aimed to ensure the\\nsafety and dignity of child victims during the legal process, with\\nspecific provisions that mandate in-camera trials, the presence of a\\ntrusted adult during the proceedings, and the prohibition of aggressive\\nquestioning of child victims.\\n46. The POCSO is a manifestation of the unique scheme formed by\\nArticle(s) 15 and 39 respectively of the Constitution and the obligation\\ncast by the United Nations Convention on Rights of Children that\\nwas ratified by India. Article 15 more particularly sub-article (3) read\\nwith Article 39(f) of the Constitution i) enables the State to make\\nspecial provisions for children AND ii) at the same time obligates\\nthe State to direct its policy towards ensuring that the tender and\\nvulnerable age of children is not exploited or abused and to secure\\na dignified and healthy childhood and youth, free from any moral or\\nmaterial abandonment or exploitation. The UN Convention on Rights\\nof Children prescribes a set of standards that have to be ensured\\nby all State parties including India to secure the best interest of the\\nchild and to specifically undertake preventive measures against any\\nform of exploitation of children such as prostitution, unlawful sexual\\nactivity or pornographic performances and depictions. The POCSO is\\na legislative manifestation towards realization of these constitutional\\nprovisions, by providing a specialized framework to combat and\\nprevent any and all forms of sexual abuse and exploitation as stated\\nin its long Preamble. The relevant portion of the long Preamble of\\nthe POCSO reads as under: -\\n“An Act to protect children from offences of sexual assault,\\nsexual harassment and pornography and provide for\\nestablishment of Special Courts for trial of such offences\\nand for matters connected therewith or incidental thereto.\\nWhereas clause (3) of article 15 of the Constitution, inter\\nalia, empowers the State to make special provisions for\\nchildren;\\nAnd whereas, the Government of India has acceded on\\nthe 11th December, 1992 to the Convention on the Rights\\nof the Child, adopted by the General Assembly of the\\nUnited Nations, which has prescribed a set of standards\\nto be followed by all State parties in securing the best\\ninterests of the child;\\nAnd whereas it is necessary for the proper development of\\nthe child that his or her right to privacy and confidentiality\\nbe protected and respected by every person by all means\\nand through all stages of a judicial process involving the\\nchild;\\nAnd whereas it is imperative that the law operates in a\\nmanner that the best interest and well being of the child\\nare regarded as being of paramount importance at every\\nstage, to ensure the healthy physical, emotional, intellectual\\nand social development of the child;\\nAnd whereas the State parties to the Convention on\\nthe Rights of the Child are required to undertake all\\nappropriate national, bilateral and multilateral measures\\nto prevent –\\n(a) the inducement or coercion of a child to engage in\\nany unlawful sexual activity;\\n(b) the exploitative use of children in prostitution or other\\nunlawful sexual practices;\\n(c) the exploitative use of children in pornographic\\nperformances and materials;\\nAnd whereas sexual exploitation and sexual abuse of\\nchildren are heinous crimes and need to be effectively\\naddressed.”\\n47. Section 2(1) sub-clause (d) of the POCSO defines the term “child”\\nto mean any person below the age of eighteen years. Thus, the\\ndefinition of the term “child” used under the POCSO is denuded of\\nany gender i.e., the term is both gender neutral and gender fluid and\\nas such will include any person who is below the age of 18-years.\\nThe relevant provision reads as under: -\\n“2. Definitions. –\\n(1) In this Act, unless the context otherwise requires, –\\n(d) “child” means any person below the age of eighteen\\nyears;”\\n48. Section 2(1)(da) defines the term “child pornography” to mean and\\ninclude any visual depiction of a child involved in any sexually explicit\\nconduct such as photograph, video, image generated digitally or by\\na computer which is indistinguishable from an actual child i.e., any\\nself-generated image of an actual child or any other image that has\\nbeen created, adapted or modified, that appears to depict a child.\\nThe relevant provision reads as under: -\\n“2. Definitions. –\\n(1) In this Act, unless the context otherwise requires, –\\n(da) “child pornography” means any visual depiction of\\nsexually explicit conduct involving a child which include\\nphotograph, video, digital or computer generated image\\nindistinguishable from an actual child and image created,\\nadapted, or modified, but appear to depict a child;”\\n49. Section 15 of the POCSO delineates and provides when the storage\\nor possession of pornographic material involving a child shall be a\\npunishable offence under the POCSO and further prescribes the\\npunishment for such storage or possession of pornographic material\\ninvolving a child. The relevant provision reads as under: -\\n“15. Punishment for storage of pornographic material\\ninvolving child. –\\n(1) Any person, who stores or possesses pornographic\\nmaterial in any form involving a child, but fails to delete\\nor destroy or report the same to the designated authority,\\nas may be prescribed, with an intention to share or\\ntransmit child pornography, shall be liable to fine not less\\nthan five thousand rupees and in the event of second or\\nsubsequent offence, with fine which shall not be less than\\nten thousand rupees.\\n(2) Any person, who stores or possesses pornographic\\nmaterial in any form involving a child for transmitting or\\npropagating or displaying or distributing in any manner\\nat any time except for the purpose of reporting, as may\\nbe prescribed, or for use as evidence in court, shall be\\npunished with imprisonment of either description which\\nmay extend to three years, or with fine, or with both.\\n(3) Any person, who stores or possesses pornographic\\nmaterial in any form involving a child for commercial\\npurpose shall be punished on the first conviction with\\nimprisonment of either description which shall not be less\\nthan three years which may extend to five years, or with\\nfine, or with both and in the event of second or subsequent\\nconviction, with imprisonment of either description which\\nshall not be less than five years which may extend to\\nseven years and shall also be liable to fine.”\\n50. It would be worthwhile to note that Section 15 of the POCSO had\\nundergone a significant change by virtue of the Protection of Children\\nfrom Sexual Offences (Amendment) Act, 2019 (for short, the “2019\\nAmendment Act”), whereby several key changes were introduced.\\nWe shall discuss the said provision viz-à-viz the unamended provision\\nof Section 15 along with the object and purpose behind the 2019\\nAmendment Act in more detail in the latter part of this judgment.\\n51. Section 30 of the POCSO provides for the presumption of culpable\\nmental state and provides that where any offence under the POCSO\\nrequires a culpable mental state on the part of the accused, the\\nexistence of such mental state on the part of the accused shall be\\npresumed by the Special Court, and that it shall be open for the\\naccused to rebut this presumption. In other words, the accused can\\nprove that he had no such mental state with respect to any offence\\nunder the Act. The relevant provision reads as under: -\\n“30. Presumption of culpable mental state. –\\n(1) In any prosecution for any offence under this Act\\nwhich requires a culpable mental state on the part of the\\naccused, the Special Court shall presume the existence\\nof such mental state but it shall be a defence for the\\naccused to prove the fact that he had no such mental\\nstate with respect to the act charged as an offence in\\nthat prosecution.\\n(2) For the purposes of this section, a fact is said to\\nbe proved only when the Special Court believes it to\\nexist beyond reasonable doubt and not merely when its\\nexistence is established by a preponderance of probability.\\nExplanation. – In this section, “culpable mental state”\\nincludes intention, motive, knowledge of a fact and the\\nbelief in, or reason to believe, a fact.”\\n52. This Court in its decision in Independent Thought v. Union of India\\n& Anr. reported in 2017 INSC 1030 held that the preamble to the\\nPOCSO recognizes and mandates that the Act and its provisions\\nought to operate and be interpreted in a manner that would be in the\\nbest interest and well-being of the child. It should i) ensure that the\\nsexual exploitation and abuse of children are addressed effectively\\nand ii) induce a healthy physical, emotional, intellectual and social\\ndevelopment of the child. The relevant observations read as under: -\\n“42. [...] The Preamble to the POCSO Act also recognizes\\nthat it is imperative that the law should operate “in a\\nmanner that the best interest and well being of the\\nchild are regarded as being of paramount importance at\\nevery stage, to ensure the healthy, physical, emotional,\\nintellectual and social development of the child”. Finally,\\nthe Preamble also provides that “sexual exploitation and\\nsexual abuse of children are heinous crimes and need to\\nbe effectively addressed”. [...]”\\n(Emphasis supplied)\\n53. In Attorney General for India v. Satish reported in 2021 INSC 762\\nthis Court had the occasion to examine the entire legislative scheme\\nof the POCSO. It held that each provision of the POCSO should be\\nconstrued viz-a-viz the other provisions of the Act and with reference to\\nthe context or background with which the legislation was enacted, so\\nas to make the Act and its provisions more meaningful and effective.\\nThis Court further emphasized that, while construing the provisions\\nof the POCSO, the impact of sexual assault and exploitation on the\\nchildren should not be ignored and further the courts should avoid\\na narrow or pedantic interpretation that would the defeat the statute;\\nrather, where the intention of the legislature cannot be given effect\\nto or cannot be realized, a meaningful construction of the statute\\nshould be adopted to bring about a more effective result. The relevant\\nobservations read as under: -\\n“33. [...] As per the rule of construction contained in\\nthe maxim “Ut Res Magis Valeat Quam Pereat”, the\\nconstruction of a rule should give effect to the rule rather\\nthan destroying it. Any narrow and pedantic interpretation\\nof the provision which would defeat the object of the\\nprovision, cannot be accepted. It is also needless to say\\nthat where the intention of the Legislature cannot be given\\neffect to, the courts would accept the bolder construction\\nfor the purpose of bringing about an effective result. [...]\\nxxx xxx xxx\\n37. [...] However, it is equally settled legal position that the\\nclauses of a statute should be construed with reference to\\nthe context vis-a-vis the other provisions so as to make a\\nconsistent enactment of the whole Statute relating to the\\nsubject matter. The Court can not be oblivious to the fact\\nthat the impact of traumatic sexual assault committed on\\nchildren of tender age could endure during their whole\\nlife, and may also have an adverse effect on their mental\\nstate. The suffering of the victims in certain cases may be\\nimmeasurable. Therefore, considering the objects of the\\nPOCSO Act, its provisions, more particularly pertaining\\nto the sexual assault, sexual harassment etc. have to be\\nconstrued vis-a-vis the other provisions, so as to make the\\nobjects of the Act more meaningful and effective.”\\n(Emphasis supplied)\\n54. Justice S. Ravindra Bhat in his concurring opinion in Attorney General\\nfor India (supra) further observed that the POCSO and its nuanced\\nprovisions were designed keeping in mind the need to protect the\\nautonomy and dignity of children. It was enacted to criminalize those\\nacts and behaviour that have the propensity to harass, discomfit or\\ndemean minors, and as such it is the duty of the courts to ensure\\nthat the provisions of the POCSO are not interpreted in a manner\\nthat would undermine its purpose or the pressing needs of the times.\\nThe relevant observations read as under: -\\n“11. The limitations in law in dealing with acts that undermined\\nthe dignity and autonomy of women and children, ranging\\nfrom behaviour that is now termed “stalking” to pornography,\\nor physical contact, and associated acts, which were not\\nthe subject matter of any penal law, were recognized\\nand appropriate legislative measures adopted, in other\\ncountries. These have been alluded to in Trivedi, J’s\\njudgment, in detail. These laws contain nuanced provisions\\ncriminalizing behaviour that involve unwanted physical\\ncontact of different types and hues, have the propensity to\\nharass and discomfit women and minors (including minors\\nof either sex), or demean them.\\nxxx xxx xxx\\n33. In the end, I cannot resist quoting Benjamin Cardozo\\nthat “the great tides and currents which engulf the rest of\\nmen do not turn aside in their course and pass the judges\\nby.” It is, therefore, no part of any judge’s duty to strain\\nthe plain words of a statute, beyond recognition and to\\nthe point of its destruction, thereby denying the cry of the\\ntimes that children desperately need the assurance of a\\nlaw designed to protect their autonomy and dignity, as\\nPOCSO does.”\\n(Emphasis supplied)\\n55. Similarly in Eera through Dr. Manjula Krippendorf v. State (Govt. of\\nNCT of Delhi) & Anr. reported in 2017 INSC 658, this Court observed\\nthat the POCSO had been brought with the purpose of protecting\\nthe children from sexual exploitation and harassment. It had been\\ndesigned to secure the well-being and the best interests of the child\\nwith the protection of the child’s dignity being the backbone of the\\nlegislation. The dignity, protection and interest form the bedrock of\\nthe POCSO. The relevant observations read as under: -\\n“18. The purpose of referring to the Statement of Objects\\nand Reasons and the Preamble of the POCSO Act is to\\nappreciate that the very purpose of bringing a legislation\\nof the present nature is to protect the children from the\\nsexual assault, harassment and exploitation, and to\\nsecure the best interest of the child. On an avid and\\ndiligent discernment of the preamble, it is manifest that\\nit recognizes the necessity of the right to privacy and\\nconfidentiality of a child to be protected and respected\\nby every person by all means and through all stages of a\\njudicial process involving the child. Best interest and well\\nbeing are regarded as being of paramount importance at\\nevery stage to ensure the healthy physical, emotional,\\nintellectual and social development of the child. There\\nis also a stipulation that sexual exploitation and sexual\\nabuse are heinous offences and need to be effectively\\naddressed. The statement of objects and reasons provides\\nregard being had to the constitutional mandate, to direct\\nits policy towards securing that the tender age of children\\nis not abused and their childhood is protected against\\nexploitation and they are given facilities to develop in\\na healthy manner and in conditions of freedom and\\ndignity. There is also a mention which is quite significant\\nthat interest of the child, both as a victim as well as a\\nwitness, needs to be protected. The stress is on providing\\nchild-friendly procedure. Dignity of the child has been\\nlaid immense emphasis in the scheme of legislation.\\nProtection and interest occupy the seminal place in the\\ntext of the POCSO Act.\\nxxx xxx xxx\\n63. [...] The POCSO Act, as I have indicated earlier,\\ncomprehensively deals with various facets that are likely\\nto offend the physical identity and mental condition of a\\nchild. The legislature has dealt with sexual assault, sexual\\nharassment and abuse with due regard to safeguard the\\ninterest and well being of the children at every stage\\nof judicial proceeding in an extremely detailed manner.\\nThe procedure is child friendly and the atmosphere as\\ncommanded by the provisions of the POSCO Act has to\\nbe congenial. The protection of the dignity of the child is\\nthe spine of the legislation. [...]”\\n(Emphasis supplied)\\n56. In Nawabuddin v. State of Uttarakhand reported in 2022 INSC\\n162 this Court held that any act of sexual assault, exploitation or\\nharassment of the children should be dealt with in a stringent manner\\nand that no leniency should be shown when dealing with an offence\\nunder the POCSO in view of the object that is sought to be achieved\\nby the Act. The relevant observations read as under: -\\n“10. Keeping in mind the aforesaid objects and to achieve\\nwhat has been provided under Article 15 and 39 of the\\nConstitution to protect children from the offences of\\nsexual assault, sexual harassment, the POCSO Act, 2012\\nhas been enacted. Any act of sexual assault or sexual\\nharassment to the children should be viewed very seriously\\nand all such offences of sexual assault, sexual harassment\\non the children have to be dealt with in a stringent manner\\nand no leniency should be shown to a person who has\\ncommitted the offence under the POCSO Act. By awarding\\na suitable punishment commensurate with the act of sexual\\nassault, sexual harassment, a message must be conveyed\\nto the society at large that, if anybody commits any offence\\nunder the POCSO Act of sexual assault, sexual harassment\\nor use of children for pornographic purposes they shall\\nbe punished suitably and no leniency shall be shown to\\nthem. Cases of sexual assault or sexual harassment on\\nthe children are instances of perverse lust for sex where\\neven innocent children are not spared in pursuit of such\\ndebased sexual pleasure.”\\n(Emphasis supplied)\\nb. Relevant Provisions of the IT Act.\\n57. For better and effective adjudication of the issues involved in the\\ncase at hand, it would be apposite to refer to the IT Act which also\\ncontains several provisions, more particularly Section(s) 67, 67A and\\n67B respectively, that penalize the use, transmission and publication\\nof obscene materials including child pornography. These provisions\\ntogether encompass and collectively form the umbrella scheme of\\ncomprehensive penal provisions contained in the IT Act in this regard.\\n58. Section 67 of the IT Act is the principal provision that criminalizes the\\npublication or transmission of “obscene material” in any electronic\\nform and constitutes an offence. Section 67A of the IT Act, is a\\nmore aggravated offence, prescribing enhanced punishment than\\nthe preceding provision. It does so by further amplifying the scope\\nof ‘obscene material’ by stipulating that any obscene material that\\ncontains or depicts any sexually explicit act or conduct, when\\npublished or transmitted shall be punishable under the said provision.\\n59. Section 67B of the IT Act specifically deals with child pornographic\\nmaterials. It provides for an even more severe form of offence by\\nbringing within its ambit those obscene materials in any electronic\\nform that depict a child in any sexually explicit act or conduct and\\nby further expanding the scope of ‘actus reus’ which is punishable\\nunder the provision to include not just publication or transmission\\nbut also the browsing, creation, collection, online facilitation or\\nenticement of children into any sexual act or conduct etc. The said\\nprovision reads as under: -\\n“67B. Punishment for publishing or transmitting of\\nmaterial depicting children in sexually explicit act,\\netc., in electronic form. — Whoever —\\n(a) publishes or transmits or causes to be published or\\ntransmitted material in any electronic form which depicts\\nchildren engaged in sexually explicit act or conduct; or\\n(b) creates text or digital images, collects, seeks, browses,\\ndownloads, advertises, promotes, exchanges or distributes\\nmaterial in any electronic form depicting children in obscene\\nor indecent or sexually explicit manner; or\\n(c) cultivates, entices or induces children to online\\nrelationship with one or more children for and on sexually\\nexplicit act or in a manner that may offend a reasonable\\nadult on the computer resources; or\\n(d) facilitates abusing children online; or\\n(e) records in any electronic form own abuse or that of\\nothers pertaining to sexually explicit act with children,\\nshall be punished on first conviction with imprisonment\\nof either description for a term which may extend to five\\nyears and with a fine which may extend to ten lakh rupees\\nand in the event of second or subsequent conviction with\\nimprisonment of either description for a term which may\\nextend to seven years and also with fine which may extend\\nto ten lakh rupees:\\nProvided that provisions of Section 67, Section 67-A\\nand this section does not extend to any book, pamphlet,\\npaper, writing, drawing, painting, representation or figure\\nin electronic form—\\n(i) the publication of which is proved to be justified as being\\nfor the public good on the ground that such book, pamphlet,\\npaper, writing, drawing, painting, representation or figure\\nis in the interest of science, literature, art or learning or\\nother objects of general concern; or\\n(ii) which is kept or used for bona fide heritage or religious\\npurposes.\\nExplanation. — For the purpose of this section, “children”\\nmeans a person who has not completed the age of 18\\nyears.”\\nii. Scope of Section 15 of the POCSO and Section 67B of\\nthe IT Act.\\n60. In the case at hand, we are concerned with the interpretation of Section\\n15 of the POCSO and Section 67B of the IT Act, more particularly\\nthe scope of these two provisions and what would constitute an\\noffence under each of them. In other words, what exactly has been\\nmade punishable under Section(s) 15 of the POCSO and 67B of\\nthe IT Act respectively and what are the necessary ingredients or\\nelements to establish or make out an offence under it.\\na. Contradictory Views of different High Courts on the subject.\\n61. Before proceeding with the analysis of the aforesaid two provisions, it\\nwould be appropriate to refer to the decisions of various High Courts\\nand the cleavage of opinion that have been expressed as regards the\\nscope of Section 15 of the POCSO and Section 67B of the IT Act.\\n62. In Nupur Ghatge v. State of Madhya Pradesh (MCRC No. 52596\\nof 2020), the accused therein was alleged to have uploaded child\\npornographic videos and photographs on his social media account,\\nand thus, a case was registered against him under Section 67B of\\nthe IT Act. The Gwalior Bench of the Madhya Pradesh High Court\\nheld that Section 67B penalizes various forms of acts including the\\nact of watching or transmitting any child pornographic material in\\nelectronic form. It further held that any defence of the accused as to\\nthe absence of any involvement in transmission or sharing of such\\nmaterial or the mental state of the accused cannot be looked into at\\nthe stage of quashing under Section 482 of the Cr.P.C. The relevant\\nobservations read as under: -\\n“From the whats-app chats filed by the applicant, it appears\\nthat the applicant himself was involved in porn activities,\\ntherefore, the provision of Section 67B of the Act, 2000\\nwould be applicable as Section 67-B of the Act, 2000 also\\nincludes records in any electronic form own abuse or that\\nof others pertaining to sexually explicit act with children.\\nxxx xxx xxx\\nThe burden is on the applicant to prove his defence which\\ncannot be decided by this Court in exercise of powers\\nunder Section 482 of CrPC.”\\n63. In P.G. Sam Infant Jones v. State represented by Inspector\\nof Police reported in 2021 SCC OnLine Mad 2241 the accused\\ntherein was alleged to have browsed, downloaded and transmitted\\nchild pornographic material through his e-mail and social media\\naccount. Accordingly, a case was registered against him for the\\noffences under Section 15(1) of POCSO and Section 67B of the IT\\nAct, whereupon the accused therein preferred an anticipatory bail\\napplication before the Madurai Bench of the Madras High Court.\\nThe Madras High Court observed that while viewing of pornography\\nin private domain may not be an offence in view of an individual’s\\nright to expression and privacy, child pornography falls outside the\\nambit of such individual rights and stands on a different footing. It\\nheld that Section 67B penalizes various kinds of acts pertaining to\\nchild pornography including the act of viewing such material. The\\nrelevant observations read as under: -\\n3.The case of the prosecution is that on 27.06.2020 at\\n17.38:51 hours, the petitioner browsed, downloaded and\\ntransmitted child pornographic material by using Airtel Sim\\nbearing No.9787973370 through his e-mail and Facebook\\nAccount.\\nxxx xxx xxx\\n5. Viewing pornography privately will not constitute an\\noffence. Offence is an act that is forbidden by law and\\nmade punishable. That is the definition found in Section\\n40 of IPC. As on date, there is no provision prohibiting\\nsuch private acts. There are some who even elevate it as\\nfalling within one’s right to free expression and privacy.\\nBut child pornography falls outside this circle of freedom.\\nSection 67-B of the Information Technology Act, 2000\\npenalises every kind of act pertaining to child pornography.\\n[...] Therefore, even viewing child pornography constitutes\\nan offence.\\n(Emphasis supplied)\\n64. In Ajin Surendran v. State of Kerala & Anr. reported in 2022 KER\\n7207 child pornographic videos were found stored in the mobile\\nphone of the accused therein. The High Court of Kerala at Ernakulam\\nobserved that Section 15 of POCSO gets attracted when any person\\nstores or possesses pornographic material in any form involving a\\nchild, with an intention to share or transmit it, whereas Section 67B\\nof the IT Act gets attracted when a person browses or downloads\\nany such material in any electronic form. Accordingly, it held that in\\nview of the videos that were found stored in the accused’s mobile\\nphone, prima-facie both of the aforesaid provisions are said to be\\nsquarely attracted, and thus the power under Section 482 cannot\\nbe invoked for quashing the criminal proceedings. The relevant\\nobservations read as under: -\\n“3. I have gone through the first information statement as\\nwell as the final report. It would show that the mobile phone\\nbelongs to the petitioner and the sim card was examined\\nand it was found that in the memory card, pornographic\\nvideo of children were stored. Section 15 of POCSO Act\\ngets attracted when any person stores or possesses\\npornographic material in any form involving a child,\\nwith an intention to share or transmit child pornography.\\nSection 67B(b) of the IT Act gets attracted when a person\\namong other things, browses or downloads material in any\\nelectronic form depicting children in obscene or indecent\\nor sexually explicit manner. Thus, both the sections are\\nsquarely attracted. When prima facie case is made out,\\npower under Section 482 cannot be invoked.”\\n(Emphasis supplied)\\n65. In Manuel Benny v. State of Kerala reported in 2022 KER 9730 it\\nwas found that the accused person therein had downloaded and stored\\npornographic videos depicting children in a sexually explicit manner\\nin his mobile phone from a messaging app; ‘Telegram’ for private\\nviewing. Accordingly, a case was registered against the accused\\ntherein under Section 15 of the POCSO and Section 67B of the IT\\nAct. When the final report came to be filed, the offence under Section\\n15 of the POCSO was dropped, and chargesheet was filed only for\\nthe offence under Section 67B of the IT Act. The accused preferred\\na quashing petition before the High Court of Kerala at Ernakulam on\\nthe ground that even if the materials in the chargesheet were taken\\nat their face value, no ingredients were made out to constitute the\\noffence under Section 67B of the IT Act. A learned Single Judge of\\nthe High Court whilst quashing the criminal proceedings held that\\nin order to attract the offence under Section 67B of the IT Act, the\\npornographic material in question must be voluntarily downloaded.\\nIt held that there should be an intention on the part of the accused\\nto download any pornographic content in order to view it so as to\\nconstitute an offence under Section 67B of the IT Act. The learned\\nSingle Judge further observed that as per the FSL report, the child\\npornographic videos had been accessed through the messaging app\\n‘Telegram’ wherein there is a possibility of automatic download of\\nvideos. Since there was no material to show that the accused therein\\nhad voluntarily downloaded or browsed the pornographic material in\\nquestion, no prima facie offence had been made out under Section\\n67B of the IT Act, and thus the High Court quashed the criminal\\nproceedings. The relevant observations read as under: -\\n“5. A perusal of the final report would show that the only\\nallegation against the petitioner is that he downloaded and\\nenjoyed material depicting children in obscene, indecent\\nand sexually explicit manner from the application called\\n‘Telegram’. In order to attract the offence under Section 67B\\nof the IT Act, the videos or material has to be voluntarily\\ndownloaded into any device. In other words, there should\\nbe intention on the part of the petitioner to download the\\nmaterial in order to view it. The definite case of the petitioner\\nis that he did not download any offensive material. Even in\\nAnnexure A3 FSL report it is seen that the path of those\\nimages is from Android backup and the child pornographic\\nvideos were accessed through ‘Telegram’. The learned\\nAdditional DGP submitted that the contents transmitted\\nin the ‘Telegram’ can be automatically downloaded in the\\nmobile phone by default. Hence, it cannot be said that\\nthe petitioner has intentionally downloaded the material,\\nconsidering the features of the ‘Telegram’ App.\\nSince there is no material to show that the petitioner has\\nbrowsed or downloaded child pornographic material, the\\noffence under Section 67B of the IT Act is not attracted.\\nHence, no purpose will be served in proceedings with\\nthe matter further. Accordingly, the Crl.M.C is allowed. All\\nfurther proceedings pursuant to Annexure A2 final report\\nin Crime No.531/2020 of Melukavu Police Station now\\npending as C.C.No.257/2021 on the files of the Judicial\\nMagistrate of the First Class, Erattupetta stands hereby\\nquashed.”\\n(Emphasis supplied)\\n66. In Lakshya v. State of Maharashtra & Anr. (Criminal Writ Petition\\nNo. 479 of 2022), the accused therein had viewed and stored a child\\npornographic video in his mobile, which he subsequently showed\\nto his other friends and co-accused therein. On the basis of the\\naforesaid, a case was registered against the accused persons under\\nSection(s) 15(1) and (3) of the POCSO along with Section 67B of the\\nIT Act. The accused preferred a discharge application which came to\\nbe rejected by the Trial Court whereafter the accused therein went\\nin appeal before the High Court of Judicature at Bombay, Nagpur\\nBench. The learned Single Judge of the High Court dismissed the\\nappeal and upheld the rejection of the discharge application by the\\nTrial Court. The High Court held that merely because the accused\\ntherein was not the creator of the pornographic material in question\\nit cannot be said that no offence had been made out. It held that the\\nact of the accused to store and forward the pornographic material and\\nthe failure on his part to delete or report the same would squarely\\nfall within the ambit of Section(s) 15(1) and (2) of the POCSO and\\nSection 67B of the IT Act. However, the High Court chose not to\\nadvert to the offence under Section 15(3) of the POCSO that was\\ncontained in the chargesheet as a prima facie case had already been\\nestablished against the accused therein for the other offences with\\nwhich they were charged. The relevant observation reads as under: -\\n“8. With the assistance of the learned Advocate for the\\naccused and the learned APP for the State, I have gone\\nthrough the provisions of Section 67-B of the I. T. Act\\nand Section 15 of the POCSO Act. The main allegation\\nagainst the accused is that they stored, forwarded and\\nshared with each other porn video. Even if it is assumed\\nfor the sake of argument that they are not creators of the\\nporn video, in my view, the benefit of discharge cannot\\nbe granted to them. [...]\\n9. In my view, perusal of Section 15 of the POCSO Act in\\nentirety would show that the act of the accused persons to\\nstore, forward and possess pornographic material involving\\na child is squarely covered under Section 15(1) and (2) of\\nthe POCSO Act. They failed to delete or destroy or report\\nthe same to the designated authority. As per the case of\\nthe prosecution, they stored, possessed and circulated the\\nsaid porn video. Therefore, in my view, at this stage, it is\\nvery difficult for the accused to come out of the tentacles\\nof Section 15(1) and (2) of the POCSO Act.\\n10. Section 67-B of the I.T. Act provides a punishment for\\npublishing or transmitting the material depicting children\\nin Sexually explicit act, etc., in an electronic form. If the\\nbasic ingredient of Section 67-B, prima facie, are applied\\nto the facts of the case on hand, it would show beyond\\ndoubt that the act of the accused is squarely covered within\\nthe ambit of Section 67-B of the I. T. Act. In my view, in\\nthe teeth of the allegations against the accused and the\\nmaterial collected during the course of investigation and\\ncompiled in the charge-sheet, it would be very difficult to\\naccept the contention of the accused persons. It is true\\nthat the applicants are young. They are students. They\\nare from reputed family. However, while deciding the\\ndischarge application this could not be the consideration. If\\nthis submission is accepted on this ground then this would\\nbe nothing short of showing misplaced sympathy to the\\npersons who are prima facie accused of the commission\\nof offence.”\\n(Emphasis supplied)\\n67. In Shantheeshlal T. v. State of Kerala reported in 2024 KER 35968,\\nduring investigation certain pornographic videos involving a child\\nhad been recovered from the device of the accused thereunder.\\nAccordingly, chargesheet was submitted against the accused therein\\nfor the offences punishable under Section(s) 15(1) of the POCSO\\nand 67B of the IT Act. The accused thereunder preferred a quashing\\npetition before the High Court of Kerala at Ernakulam, wherein the\\nlearned Single Judge quashed the aforesaid chargesheet and the\\ncriminal proceedings taking the view as under: -\\n(i) First, the learned Single Judge held that in order to attract\\nthe provision of Section 15(1) of the POCSO there must be\\na storage or possession of child pornographic material and\\nfurther such material should be shown to have been shared\\nor transmitted by the person accused. Mere possession or\\nstorage of pornographic material by itself is not an offence\\nunder Section 15(1) of the POCSO unless it is shown that the\\naccused person had indeed shared or transmitted such material.\\nIn other words, to constitute an offence under Section 15(1)\\nthere must be an actual act of transmission or sharing of the\\npornographic material depicting a child in a sexually explicit act\\nor conduct that was found to be stored or in possession of the\\naccused. The relevant observation reads as under: -\\n“9. Reading the provision, it is emphatically clear that storing\\nor possessing pornographic materials in any form involving\\na child and failure to delete or destroy or report the same\\nto the designated authority, as may be prescribed, with an\\nintention to share or transmit child pornography, shall be\\nan offence. So mere storing or possessing pornographic\\nmaterial is not an offence under Section 15(1) of POCSO\\nAct, if the said storing or possession is without any\\nintention to share or transmit the same. Therefore, mere\\nstoring or possessing pornographic materials by itself is\\nnot an offence. Thus, in order to attract an offence under\\nSection 15(1) of the POCSO Act, the stored or possessed\\npornographic materials should be shared or transmitted.\\nIn the instant case, there is no material available to hold\\nthat the accused either shared or transmitted pornographic\\nmaterials, though storing of the same was detected.\\nTherefore, the offence under Section 15(1) of the POCSO\\nAct is not made out in the instant case.”\\n(Emphasis supplied)\\n(ii) Secondly, it observed that, even for the purposes of Section\\n67B of the IT Act there must be some material to show that the\\naccused person had either browsed, downloaded, published,\\ntransmitted or created any material in electronic form depicting\\na child in a sexually explicit act or conduct. To constitute an\\noffence under Section 67B of the IT Act the accused person\\nmust have intentionally either downloaded, browsed, recorded\\nor transmitted a pornographic material involving a child. In the\\nabsence of any material to show or establish specific intention\\non the part of the accused to share or transmit the pornographic\\nmaterial found, no offence could be said to have been made out\\nunder Section 67B of the IT Act. Any accidental or automatic\\ndownload of such material will not fall within the purview of\\nthe said provision. The relevant observations read as under: -\\n“11. Publishing, transmitting or causing any material in\\nelectronic form which depicts children engaged in sexually\\nexplicit act or conduct or creation of text or digital images\\netc. are the ingredients under Section 67B of the IT Act also.\\nxxx xxx xxx\\n13. Therefore, going by the decision, automatic or\\naccidental downloading of children engaged in sexually\\nexplicit act or conduct is not an offence under Section 67B,\\nonce the specific intention to do so is not established, by\\nthe materials which form part of the prosecution records.\\n14. In the present case, the materials collected during\\ninvestigation would show that some pornographic\\nmessages, which would depict children engaged in\\nsexually explicit act or conduct were found in the devise\\nof the accused. But there are no materials to show that\\nthe petitioner intentionally downloaded or browsed or\\nrecorded the same. More particularly there are no materials\\nto show that the petitioner had either shared, transmitted\\nor published the same in any manner.\\n15. Thus, the materials available do not suggest the\\ningredients to find prima facie, commission of offence\\nunder Section 67B of the IT Act.”\\n(Emphasis supplied)\\nAs besides the recovery of the pornographic material from the device\\nof the accused there was nothing to show that he had either shared\\nor transmitted or intentionally downloaded the same in the first place.\\nIn such circumstances, the learned Single Judge held that no prima\\nfacie offence had been made out either under Section(s) 15(1) of\\nthe POCSO or 67B of the IT Act and thus, proceeded to quash the\\ncriminal proceedings.\\n68. Similarly, in Akash Vijay v. State of Kerala reported in 2024 KER\\n42626, the Kerala High Court placing reliance on the decision of\\nShantheeshlal T (supra) held that mere storage or possession of\\nany pornographic material involving a child will not constitute an\\noffence under Section(s) 15 of the POCSO or 67B of the IT Act in\\nthe absence of any material to show that the accused person either\\nintentionally downloaded or browsed the said material or that he\\nshared or transmitted the same. The relevant observations read as\\nunder: -\\n“6. On perusal of the prosecution records, no materials\\ncollected during investigation to show that the petitioner\\nintentionally downloaded or browsed or recorded the\\nsame and there are no materials available to show that\\nthe petitioner had either shared, transmitted or published\\nthe video, in any manner. The allegation is confined to\\nthat of presence of porn video in the mobile phone of the\\naccused alone.\\nxxx xxx xxx\\n8. Reading the facts of this case, the same is similar\\nto the facts dealt in Shantheeshlal T.’s case (supra).\\nTherefore, applying the same ratio, this Crl.M.C. is liable\\nto be allowed.”\\n(Emphasis supplied)\\n69. In Akhil Johny v. State of Kerala reported in 2024 KER 53767,\\nthe learned Single Judge of the Kerala High Court held that where\\nthe allegations are limited only to the presence of pornographic\\nmaterial involving a child in the mobile phone or hard disk of the\\naccused, no offence could be said to have been made out under\\nSection(s) 15 of the POCSO or 67B of the IT Act and as such the\\ncriminal proceedings would be liable to be quashed. The relevant\\nobservations read as under: -\\n“6. On perusal of the prosecution records, no materials collected during\\ninvestigation to show that the petitioner intentionally downloaded or\\nbrowsed or recorded the same and there are no materials available\\nto show that the petitioner had either shared, transmitted or published\\nthe video, in any manner. The allegation is confined to that of presence\\nof porn video in the mobile phone of the accused alone.\\nxxx xxx xxx\\n8. Reading the facts of this case, the same is similar to the facts\\ndealt in Shantheeshlal T.’s case (supra). Therefore, applying the\\nsame ratio, this Crl.M.C. is liable to be allowed.”\\n(Emphasis supplied)\\n70. In Inayathulla N (1) v. State reported in 2024 KHC 26513, the\\naccused therein was charged for browsing a website and viewing\\npornographic materials involving a child. Accordingly, a case was\\nregistered against him under Section(s) 67B of the IT Act. A learned\\nSingle Judge of the High Court of Karnataka held that the soul and\\nessence of Section 67B lies in the act of publication or transmission\\nof any material depicting a child in any sexually explicit conduct,\\nand that mere browsing or watching of such material would not\\nattract the aforesaid provision. It further held that in such cases\\neven investigation should not be permitted to be continued and\\nthus, proceeded to quash the criminal proceedings. The relevant\\nobservations read as under: -\\n“7. [...] Section 67B of the IT Act punishes those persons\\nwho would publish, transmit the material depicting children\\nin sexually explicit acts in electronic form. The soul of the\\nprovision is publishing or transmitting of material depicting\\nchildren in sexually explicit act.\\n8. The allegation against the petitioner is that he has\\nwatched a pornographic website. This, in the considered\\nview of the Court, would not become publishing or\\ntransmitting of material, as is necessary under Section 67B\\nof the IT Act. At best, as contended, the petitioner could\\nbe a porn addict, who has watched pornographic material.\\nNothing beyond this, is alleged against the petitioner. If the\\nfacts are pitted against the ingredients necessary to drive\\nhome Section 67B of the IT Act, what would unmistakably\\nemerge is, further proceedings cannot be permitted to\\nbe continued, as it would become an abuse of process\\nof law. [...]\\n9. The Apex Court in the afore laid postulates holds that\\neven if the facts that forms the complaint is accepted as\\ntrue, it would not make out any offence. In such cases,\\neven investigation should not be permitted to be continued.\\nTherefore, the impugned proceedings cannot be permitted\\nto be continued, as it does not make out an offence under\\nSection 67B of the IT Act.”\\n(Emphasis supplied)\\n71. We are conscious of the fact that the aforesaid decision of Inayathulla\\nN (1) (supra) was subsequently taken in review by the learned Single\\nJudge of the Karnataka High Court under the nomenclature “recall”\\nupon realising that Section 67B of the IT Act had been misinterpreted\\nmore particularly the failure to advert to sub-section (b) of the said\\nprovision which criminalizes the browsing of child pornographic sites.\\nConsequently, in Inayathulla N (2) v. State reported in 2024 KHC\\n28204 the learned Single Judge set aside its earlier order in Inayathulla\\nN (1) (supra) by observing that although Section 67B sub-section (a)\\nof the IT Act may not apply in the absence of any transmission or\\npublication of any child pornography, yet sub-section (b) of the said\\nprovision would indeed be applicable where the allegations involve\\nbrowsing or viewing of any child pornographic material. It is relevant\\nto note that although the court was apprised of the fact that even\\nSection 15 of the POCSO was being contemplated to be added in\\nthe chargesheet, yet the High Court in view of the limited question\\nbefore it did not deem it necessary to go into the applicability of the\\nsaid provision at that stage. The relevant observations read as under: -\\n“5. This Court accepting the facts had allowed the petition\\nin terms of its order dated 10-07-2024. [...] After release\\nof the order, the State appears to have noticed the short\\nassistance rendered by it, as also the fact that the cyber\\ntipline/2nd respondent was not heard in the matter. The\\nfurther fact is that the State has filed an application before\\nthe Court to bring in Section 15 of the Protection of Children\\nfrom Sexual Offices Act, 2012 (‘POCSO Act’ for short). [...]\\nBy a separate order passed on 19-07-2024, the I.A. filed\\nby the State stood answered and the order dated 10-07-\\n2024, by accepting the reasons indicated in the affidavit\\nwas recalled and the matter was restored to file.\\nxxx xxx xxx\\n8. [...] The reliance placed by the petitioner is on Section\\n67B(a) of the Act which was relied on and proceedings\\nquashed. What becomes applicable to the case at hand\\nis Section 67B(b). Section 67B(b) open up prosecution\\nagainst a person who creates text or digital images,\\ncollects, seeks, browses, downloads, advertises, promotes,\\nexchanges or distributes material in any electronic form\\ndepicting children in obscene or indecent or sexually explicit\\nmanner. It is not in dispute that the petitioner, in the case\\nat hand, has browsed child pornographic material for about\\n50 minutes. Browsing child pornographic material makes\\nit an offence under Section 67B(b) of the Act.”\\n(Emphasis supplied)\\n72. Thus, it appears from the aforesaid that there are divergent views\\nexpressed by different High Courts of the country as regards the\\ningredients necessary to constitute an offence under Section 15 of\\nthe POCSO and Section 67B of the IT Act. The Kerala High Court\\nhas taken the view that mere possession or viewing of pornographic\\nmaterial involving a child will not fall within the ambit of Section 15 of\\nthe POCSO, rather what the provision criminalizes is the actual act\\nof transmission or sharing of the said material. It has held that where\\nthe allegations are confined only to the possession of pornographic\\nmaterial and there is nothing to indicate the actual transmission of\\nthe same, the criminal proceedings shall be liable to be quashed.\\nWhereas, the Bombay High Court appears to have taken the view\\nthat under Section 15(1) of the POCSO, what is penalized is the\\nstorage of child pornography and resultant failure to delete or report\\nthe same while under Section 15(2), it is the storage and consequent\\ntransmission of child pornography. Similarly, with respect to Section\\n67B, both the Karnataka High Court and the Kerala High Court\\nhave held that what is criminalized is the intentional browsing or\\ntransmission of child pornography, and not the mere possession of\\nsuch material.\\nb. Three distinct offences punishable under Section 15 of\\nthe POCSO.\\n73. Prior to the 2019 Amendment Act, Section 15 of the POCSO as\\noriginally enacted, stipulated that any person who stores any\\npornographic material involving a child for commercial purposes shall\\nbe punishable under the said provision. Thus, under the erstwhile\\nSection 15 of the POCSO only one act was criminalized; in other\\nwords, only the storage of child pornography for a commercial\\npurpose was made a punishable offence. Storage of such material\\nfor any other purpose was outside the scope and purview of the\\nsaid provision. The said provision as it then stood, reads as under: -\\n“15. Punishment for storage of pornographic material\\ninvolving child. –\\nAny person, who stores, for commercial purposes any\\npornographic material in any form involving a child shall\\nbe punished with imprisonment of either description which\\nmay extent to three years or with fine or with both.”\\n74. Over a period of time, the legislature realized that despite the\\nenactment of POCSO, there had been an increase rather than a\\ndecline in the number of cases pertaining to child sexual abuse.\\nThe legislature noted that some of the provisions of the POCSO\\nwere not proving to be effective in addressing the various forms of\\nsexual degradation, abuse and exploitation of children in the country.\\nThe Protection of Children from Sexual Offences (Amendment) Act,\\n2019 earmarked a significant step by the legislature in response\\nto the aforesaid problem, by introducing several new offences and\\nfurther making the existing offences more stringent with enhanced\\npunishments, as a form of deterrence to sexual predators and to\\ncombat the sexual exploitation of children in order to safeguard a\\nsecure and dignified environment for them. The Statement of Objects\\nand Reasons of the 2019 Amendment Act read as under: -\\n“STATEMENT OF OBJECTS AND REASONS\\n“1. The Protection of Children from Sexual Offences Act,\\n2012 (the said Act) has been enacted to protect children\\nfrom offences of sexual assault, sexual harassment and\\npornography and provide for establishment of Special\\nCourts for trial of such offences and for matters connected\\ntherewith or incidental thereto.\\n2. The said Act is gender neutral and regards the best\\ninterests and welfare of the child as a matter of paramount\\nimportance at every stage so as to ensure the healthy\\nphysical, emotional, intellectual and social development\\nof the child.\\n3. However, in the recent past incidences of child sexual\\nabuse cases demonstrating the inhumane mind-set of\\nthe abusers, who have been barbaric in their approach\\ntowards young victims, is rising in the country. Children are\\nbecoming easy prey because of their tender age, physical\\nvulnerabilities and inexperience of life and society. The\\nunequal balance of power leading to the gruesome act\\nmay also detriment the mind of the child to believe that\\nmight is right and reported studies establish that children\\nwho have been victims of sexual violence in their childhood\\nbecome more abusive later in their life. The report of the\\nNational Crime Records Bureau for the year 2016 indicate\\nincrease in the number of cases registered under the said\\nAct from 44.7 per cent. in 2013 over 2012 and 178.6 per\\ncent. in 2014 over 2013 and no decline in the number of\\ncases thereafter.\\n4. The Supreme Court, in the matter of Machhi Singh vs.\\nState of Punjab [1983 (3) SCC 470], held that when the\\ncommunity feels that for the sake of self-preservation the\\nkiller has to be killed, the community may well withdraw\\nthe protection by sanctioning the death penalty. But the\\ncommunity will not do so in every case. It may do so in\\nrarest of rare cases when its collective conscience is so\\nshocked that it will expect the holders of the judicial power\\ncentre to inflict death penalty irrespective of their personal\\nopinion as regards desirability or otherwise of retaining\\ndeath penalty. The same analogy has been reiterated by\\nthe Supreme Court in the matter of Devender Pal Singh\\nvs. State (NCT of Delhi)[AIR 2002 SC 1661] wherein it was\\nheld that when the collective conscience of the community\\nis so shocked, the court must award death sentence.\\n5. In the above backdrop, as there is a strong need to take\\nstringent measures to deter the rising trend of child sex\\nabuse in the country, the proposed amendments to the\\nsaid Act make provisions for enhancement of punishments\\nfor various offences so as to deter the perpetrators and\\nensure safety, security and dignified childhood for a child.\\nIt also empowers the Central Government to make rules\\nfor the manner of deleting or destroying or reporting about\\npornographic material in any form involving a child to the\\ndesignated authority.\\n6. The Protection of Children from Sexual Offences\\n(Amendment) Bill, 2019, for the aforementioned purpose,\\nwhich was introduced and pending consideration and\\npassing in the Lok Sabha, lapsed on the dissolution of the\\nSixteenth Lok Sabha. Hence, the present Bill.\\n7. The Bill seeks to achieve the above objectives. NEW\\nDELHI; The 12th July, 2019.”\\n(Emphasis supplied)\\n75. Pursuant to the aforesaid 2019 Amendment Act, a slew of amendments\\nwere brought within the POCSO, which inter alia included i) the\\ninsertion of Section 2(da) by which “child pornography” came to be\\ndefined under the Act AND ii) the amendment of Section 15 of the\\nAct whereby now three distinct offences are made punishable under\\nthe said provision. Again, at the cost of repetition, the amended\\nSection 15 of the POCSO is reproduced hereunder: -\\n“15. Punishment for storage of pornographic material\\ninvolving child. –\\n(1) Any person, who stores or possesses pornographic\\nmaterial in any form involving a child, but fails to delete\\nor destroy or report the same to the designated authority,\\nas may be prescribed, with an intention to share or\\ntransmit child pornography, shall be liable to fine not less\\nthan five thousand rupees and in the event of second or\\nsubsequent offence, with fine which shall not be less than\\nten thousand rupees.\\n(2) Any person, who stores or possesses pornographic\\nmaterial in any form involving a child for transmitting or\\npropagating or displaying or distributing in any manner\\nat any time except for the purpose of reporting, as may\\nbe prescribed, or for use as evidence in court, shall be\\npunished with imprisonment of either description which\\nmay extend to three years, or with fine, or with both.\\n(3) Any person, who stores or possesses pornographic\\nmaterial in any form involving a child for commercial\\npurpose shall be punished on the first conviction with\\nimprisonment of either description which shall not be less\\nthan three years which may extend to five years, or with\\nfine, or with both and in the event of second or subsequent\\nconviction, with imprisonment of either description which\\nshall not be less than five years which may extend to\\nseven years and shall also be liable to fine.”\\n(Emphasis supplied)\\n76. A bare perusal of the aforesaid provision makes it abundantly clear\\nthat Section 15 of the POCSO is in three parts. The legislature by\\nvirtue of the 2019 Amendment Act has now made three different forms\\nof storage or possession of child pornography a punishable offence\\nunder the said provision, unlike the erstwhile provision, which had\\ncriminalized only one form of storage of child pornography.\\n77. Section 15 sub-section (1) of the POCSO now provides that any\\nperson who either stores or possesses any pornographic material\\ninvolving a child and fails to either delete, destroy or report the same\\nwith the intention to share or transmit such material, shall be liable to\\nfine of not less than rupees five thousand for the first offence, and a\\nfine of not less than rupees ten thousand for any subsequent offence.\\n78. On the other hand, Section 15 sub-section (2) of the POCSO provides\\nthat any person who either stores or possesses any pornographic\\nmaterial involving a child for transmitting, displaying, propagating, or\\ndistributing the same in any manner except for either reporting it or\\nfor using it as evidence shall be punishable with either imprisonment\\nextending upto three-years or with fine or both.\\n79. Whereas, Section 15 sub-section (3) of the POCSO stipulates that\\nany person who either stores or possesses any pornographic material\\ninvolving a child for commercial purpose shall be punishable with\\nimprisonment of not less than three-years, which may extend upto\\nfive-years, or with fine, or both for the first offence, and for any\\nsubsequent offence, he shall be punishable with imprisonment not\\nless than five-years, that may extend upto seven-years and along\\nwith fine.\\nI. Concept of an Inchoate Crime – The ‘Actus Reus’ and ‘Mens\\nRea’ required under Section 15.\\n80. Before proceeding further to discuss the scope of Section 15 of\\nthe POCSO and the ingredients necessary to constitute an offence\\nthereunder, it would be apposite to first understand the true purpose\\nand the nature of the said penal provision.\\n81. A plain reading of Section 15 of the POCSO and the marginal note\\nappended thereto would reveal that the common theme permeating\\nacross sub-section(s) (1), (2) and (3) respectively is that there is\\nno requirement whatsoever for an actual transmission of any child\\npornographic material in order to fall within the ambit of the said\\nprovision. What is sought to be penalized under Section 15 of the\\nPOCSO is the storage or possession of any child pornographic\\nmaterial when done with a particular intention or purpose as stipulated\\nin sub-section(s) (1), (2) or (3), as the case may be. Thus, the bare\\ntextual reading of the said provision makes it clear that it is the\\nintention which is being punished and not the commission of any\\ncriminal act in the traditional sense. This in the criminal jurisprudence\\nis known as an ‘Inchoate Crime’ or ‘Inchoate Offence’.\\n82. Inchoate crimes are defined as criminal acts that are committed in\\npreparation for a further offence. The term “inchoate” itself means\\n“undeveloped” or “incomplete.”\\n83. The Doctrine of Inchoate Crimes is a cornerstone of criminal\\njurisprudence. It is aimed at addressing the legal culpability of those\\nwho engage in a conduct that is preparatory to the commission of\\nany substantive offence. Inchoate crimes, are often referred to and\\ndescribed as an incomplete or preliminary offence, that capture the\\nessence of criminal intent and the preparatory actions that precede\\nthe commission of a criminal act. It underscores the principle that\\nthe law does not merely respond to offences already committed but\\nalso intervenes when a crime is in the process of being committed,\\nthus thereby protecting public order and safety. Inchoate crimes\\nrepresent a critical aspect of criminal law, embodying the legal\\nsystem’s proactive and deterrent approach to crime itself.\\n84. The primary rationale for the existence of inchoate crimes within\\nthe legal framework is the prevention of harm by intervening at an\\nearly stage i.e before the potential damage is caused. It recognizes\\nthat though certain actions do not result in an offence, nonetheless\\nthose actions pose a sufficient threat to society to warrant legal\\nintervention. The jurisprudence surrounding inchoate crimes has\\nevolved as a balance struck between i) the need for early intervention\\non the one hand with ii) the cardinal principle of criminal law that\\nno one should be punished merely for their thoughts or intentions\\non the other, by criminalizing only those actions of an individual\\nthat demonstrate a clear movement towards the commission of a\\ncriminal offense. It is deeply rooted in the preventive or deterrent\\nnature or approach of a particular law by criminalizing those conduct,\\nactions or intentions that pose a significant risk of harm. An inchoate\\noffence requires towing a delicate balance between the need for\\nprevention of potential threat to the society and the risk of undoing\\nthe sacrosanct fundamental principle of ‘actus non facit reum nisi\\nmens sit rea’ in order to ensure that the law remains a powerful tool\\nin the maintenance of public order. This inherent tension between\\nrespecting the autonomy of an individual’s thought and state of\\nmind with the societal interest and safety is often balanced and\\nresolved by carefully shaping and defining the point at which any\\nparticular action or preparatory step becomes sufficiently proximate\\nto the commission of an offence. In other words, the law would only\\nintervene at the point where an individual has acquired the means\\nto commit a further offence, and will not punish the mere thought of\\ncommitting an offence in the absence of any overt steps towards the\\nsame. Thus, the critical or central component of any inchoate crime\\nis the preliminary or preparatory actus reus that sufficiently reflects\\nthe essence or existence of a criminal intent.\\n85. Offence pertaining to the possession of any contraband is a prime\\nexample and one of the facets of an inchoate crime, as they involve\\nthe possession of items that are prohibited by law due to their\\ninherent dangerousness or their use in the commission of further\\ncriminal offences. The criminalization of possession as an inchoate\\ncrime is predicated on the idea that possession is not an innocuous\\nact but a preparatory step towards more significant criminal conduct.\\nThis is because, first, it allows intervention at an early stage, before\\nthe contraband can be used to cause harm. Secondly, it acts as\\na deterrent by penalizing individuals who engage in activities that\\nare likely to lead to more serious offenses. Thirdly, it reflects the\\nsocietal interest in preventing the accumulation and availability of\\ndangerous items that have no legitimate purpose except for the further\\nperpetuation of a more severe offence and harm to society at large.\\n86. The POCSO as outlined in its Statement of Object and Reasons was\\nspecifically designed to provide commensurate penalties to serve\\nas a deterrent against the sexual abuse and exploitation of children.\\nAdditionally, the Statement of Objects and Reasons accompanying\\nthe 2019 Amendment Act which inter-alia amended Section 15 of\\nthe Act to provide for three distinct offences punishable under it,\\nexplicitly emphasizes that the said amendments had been introduced\\nin order to implement stringent measures aimed at addressing and\\ndeterring the alarming increase in child sexual abuse. The plain\\nreading of sub-section(s) (1), (2) and (3) respectively of Section 15\\nof the POCSO along with the marginal note appended to it which\\nreads “Punishment for storage of pornographic material involving\\nchild” indicates, that the said provision punishes only the storage of\\npornographic material involving a child when done with a specific\\nintent prescribed thereunder and that there is no requirement for\\nany actual transmission. It is trite to say that, in the absence of any\\ninherent conflict or contradiction between the marginal note and\\nthe substantive parts of a particular provision, the marginal note\\nmay be used to aid in the interpretation of the provision. Thus, the\\naforesaid leaves no manner of doubt in the mind of this Court, that\\nthe provision of Section 15 of the POCSO is in the nature and form of\\nan inchoate offence which penalizes the mere storage or possession\\nof any pornographic material involving a child when stored with a\\nspecific intent prescribed thereunder, without requiring any actual\\ntransmission, dissemination etc.\\n87. Under Section 15 sub-section (1), where a person either stores or\\npossesses any child pornography and does not delete or report the\\nsame, in order to share or transmit the same, he will be liable under\\nthe said provision. The use of the words “with an intention to share\\nor transmit child pornography ” in the said provision makes it clear\\nthat no actual sharing or transmission is required to occur, rather\\nwhat is required is only the intention to share or transmit because of\\nwhich the said material was neither deleted, destroyed, or reported.\\nIn other words, the actus reus that is penalized under Section 15\\nsub-section (1) is the failure to delete, destroy or report any child\\npornography that was stored or in possession of any person with\\nan intention to share or transmit the same. Had the intent of the\\nlegislature been otherwise, it would have clearly used the words\\n“transmits” or “shares” instead.\\n88. Similarly, Section 15 sub-section (2) penalizes the storage or\\npossession of any child pornographic material when done for the\\npurpose of either transmitting, propagating, displaying or distributing\\nthe same in any manner. The use of the words “for transmitting or\\npropagating or displaying or distributing in any manner at any time”\\nclearly suggests that again no actual act of transmission, propagation,\\ndisplay or distribution is required to take place. Had the intent of\\nthe legislature been otherwise, it would have explicitly stated “any\\nperson, who stores or possesses pornographic material in any form\\ninvolving a child and transmits or propagates or displays or distributes\\nin any manner at any time”. The use of the words “for transmitting or\\npropagating or displaying or distributing in any manner” in Section\\n15 sub-section (2) makes it crystal clear that the said provision\\ndeals with two kinds of actus reus being (I) first, the storage or\\npossession of a pornographic material involving a child when done\\nwith an intention to either transmit it or to propagate it or to display\\nor distribute it though no actual transmission, propagation, display\\nor distribution might have occurred OR (II) secondly, the storage or\\npossession of a pornographic material involving a child which was\\nactually transmitted, propagated, displayed or distributed in any form\\nor manner. In other words, the actus reus that is required under\\nSection 15 sub-section (2) is that a pornographic material involving\\na child must be found to have been stored or in possession with\\nan intention to either transmit it or to propagate it or to display or\\ndistribute it or the same must have been transmitted, propagated,\\ndisplayed or distributed in any form or manner.\\n89. The underlying difference in the actus reus under Section 15 sub-\\nsection(s) (1) and (2) is that in the former the storage or possession\\nof any such material is due to the omission to delete, destroy or report\\nthe same whereas in the latter, the storage or possession of any\\nsuch material is in order to facilitate the transmission, propagation,\\ndisplay or distribution of the same. To further put the distinction into\\nperspective, the actus reus under sub-section (1) must be such\\nthat indicates that the child pornographic material found in storage\\nor possession was only due to an omission to delete or destroy.\\nWhereas under sub-section (2) it must be shown that such material\\nhad been stored or in possession for a reason more than just mere\\nomission i.e., for the reason of transmitting, propagating, displaying\\nor distributing the same. The use of the words “any manner ” in sub-\\nsection (2) makes it clear that apart from the storage or possession\\nof such pornographic material, there must be something more to\\nshow either (I) the actual transmission, propagation, display or\\ndistribution of such material OR (II) the facilitation of any transmission,\\npropagation, display or distribution of such material, such as any form\\nof preparation or setup done that would enable that person to transmit\\nit or to display it. Thus, Section 15 sub-section (2) of the POCSO\\nwould cover both the actual transmission, propagation, display or\\ndistribution of any child pornography as-well as the facilitation of any\\nof the abovementioned acts.\\n90. On the other hand, the mens rea which is required to constitute\\nan offence under Section 15(1) is the intent to share or transmit\\na pornographic material involving a child, and the said intention is\\nto be gathered or gauged from the actus reus itself i.e., by culling\\nout the manner in which there was an omission to delete, destroy\\nor report such a material or the reason behind the same. This is\\nevinced from the construction of the expression “but fails to delete\\nor destroy or report the same to the designated authority, as may be\\nprescribed, with an intention to share or transmit child pornography”\\nwhich makes it clear that the scope of discerning the intent to share\\nor transmit has been both limited AND tied to only the omission to\\ndelete, destroy or report i.e., the actus reus. The expression “with an\\nintention to share or transmit ” cannot be singled out and construed\\ndevoid of its context. Thus, it is the manner in which along with the\\nattending circumstances attributable to the failure to delete, destroy\\nor report that must sufficiently be indicative of the intent to share or\\ntransmit any material.\\n91. In Section 15 sub-section (1) of the POCSO the legislature by\\nqualifying and linking the expression “intent to share or transmit ” to\\nthe omission to delete, destroy or report, has in its wisdom made the\\nintention or mens rea under the said provision a matter of inference,\\nto be ascertained from the actus reus itself. The degree of probability\\nfor inferring such intention would largely depend upon the manner in\\nwhich the actus reus i.e., how the omission took place. It is for the\\ncourts to ascertain whether the manner in which the material was\\nfound in storage or possession, the attending circumstances to the\\nomission and the conduct of the person accused sufficiently refutes\\nor displaces the inference of an intention to share or transmit or not.\\n92. The underlying reason behind tying the inference of intention to the\\nomission alone is because the legislature was alive to the practical\\ndifficulty that exists in establishing an intention to share or transmit\\nany child pornographic material from just the mere possession of\\nsuch material. In offences pertaining to or involving the possession of\\nany contraband, it is too uphill a task for the courts to peer through\\nand look into the mind of the person accused and then cull out the\\nintention of that person behind possessing or storing such material.\\nThus, in such cases instead of directly establishing the intention from\\nthe mental state of the person accused, it is established indirectly by\\ninferring it from the manner in which the contraband was found to have\\nbeen stored or in possession. Here again due to the infeasibility or\\ndifficulty in cogently establishing an inference of intention often due to\\nthe lack of any material and the very private and clandestine nature\\nof the offence, the courts instead try to look for some material or\\ncircumstances that might displace the inference of such an intention,\\nand wherever there is nothing to show the same, the courts may\\nwithout hesitation proceed to infer the existence of such an intention.\\n93. Whereas, under Section 15 sub-section (2) the mens rea is to be\\ngathered from the manner in which the pornographic material was\\nfound to be stored or in possession and any other material apart from\\nsuch possession or storage that would be indicative of any facilitation\\nor actual transmission, propagation, display or distribution of such\\nmaterial. Thus, wherever in addition to the storage or possession of\\nany child pornographic material, there exists any material or attending\\ncircumstances that would either show or indicate the facilitation or\\nactual commission of any of the acts enumerated in Section 15 sub-\\nsection (2) of the POCSO, the said provision would get attracted in\\nplace of Section 15 sub-section (1). We say so because, the presence\\nof such additional material may demonstrate that the intention of\\nthe person accused has gone beyond the contours of Section 15\\nsub-section (1). It evinces a more significant manifestation of the\\nintention of the person accused, which moved from what is required\\nin sub-section (1) to a much higher degree of intention that is required\\nunder sub-section (2). In other words, the existence of such additional\\nmaterial strengthens the inference of that intention which is required\\nand made punishable under Section 15 sub-section (2).\\n94. Section 15 sub-section (3) penalizes the storage or possession of any\\nchild pornographic material when done for any commercial purpose.\\nThe term ‘commercial purpose’ refers to and encompasses any\\nactivity or transaction that is carried out or undertaken as a means\\nof any commercial enterprise i.e., with the object or intention of any\\ngain, irrespective of whether it was in monetary terms or not. Thus,\\nto constitute an offence under this provision, the requirement is that\\nthe storage or possession of any child pornography must be in lieu of\\nany monetary gain or for receiving any other valuable consideration.\\nAgain, the words “any commercial purpose” indicate that the storage\\nor possession must be with an intention to generate or acquire\\nany monetary gain or any other form of valuable consideration,\\nirrespective and regardless of whether such monetary gain or\\nvaluable consideration is actually generated or acquired. Thus, it\\nis immaterial whether any monetary gain or any other benefit was\\nactually realized or not. To establish an offence under Section 15 sub-\\nsection (3), besides the storage or possession of the pornographic\\nmaterial involving a child, there must be some additional material\\nor attending circumstances that may sufficiently indicate that the\\nsaid storage or possession was done with the intent of any form of\\ngain or benefit. As soon as there is any material to indicate that the\\nstorage or possession of any child pornographic material was done\\nin lieu or in expectation of some form of gain or benefit, it would\\nconstitute an offence under Section 15 sub-section (3) of the POCSO\\nnotwithstanding whether such gain was actually realized.\\n95. Thus, while Section 15 sub-section (1) requires the existence of the\\nrequisite mens rea or intention due to which the child pornographic\\nmaterial was not deleted, destroyed or reported, Section 15 sub-\\nsection (2) requires the existence of the requisite mens rea or\\nintention which propelled or led the person accused to not only\\nstore or possess the said material but also to take some additional\\nsteps towards either the actual transmission, propagation, display\\nor distribution or the facilitation of the same. In contrast, Section\\n15 sub-section (3) requires the existence of the requisite mens rea\\nor intention due to which the person accused not only stored or\\npossessed the child pornographic material but also compelled him\\nto take some additional steps either for any gain or benefit or in lieu\\nor expectation of some form of gain or benefit.\\n96. For the sake of clarity, it would be apposite to give few illustrations\\nas a guiding example to further demonstrate the fine but pertinent\\ndistinction that exists between sub-section (1), (2) and (3) of Section\\n15 of the POCSO.\\n97. For illustration; say certain child pornographic material was found\\nstored in the personal mobile phone of ‘A’ and the same was neither\\ndeleted, destroyed nor reported. Here though there is possession\\nor storage of child pornographic material but since there is nothing\\nto show any facilitation of transmission, propagation, display or\\ndistribution of the said material, this would attract the provision of\\nSection 15(1). At the same time, since the material in question was\\nfound in the personal mobile of ‘A’ the same is indicative that the\\nomission to either delete, destroy or report in all likelihood was due\\nto the intent to share or transmit. Here the manner in which the\\nomission has occurred is sufficiently indicative of the intent to share\\nor transmit, as there is nothing apart to show that the omission was\\nattributable to any other reason but the intent to share or transmit,\\nand thus it would constitute an offence under Section 15(1) of the\\nPOCSO.\\n98. Conversely, say for example certain child pornographic material was\\nfound stored in a broken mobile phone of ‘A’ and the said material had\\nnever been deleted, destroyed or reported. Now again, there is nothing\\nto show that there was either any actual transmission, propagation,\\ndisplay or distribution nor anything to show that something apart\\nfrom and in addition to the storage or possession had been done\\nby ‘A’ for facilitation of the transmission, propagation, display or\\ndistribution of such material. This would again attract the provision\\nof Section 15(1) instead of 15(2) of the POCSO. However, since the\\nmaterial was found in a broken phone, it is likely that the failure to\\ndelete, destroy or report the same was attributable to the inability\\nof ‘A’ to operate the broken mobile rather than the intent to share or\\ntransmit, thus, no offence would be made out under Section 15(1)\\nof the POCSO. This is because, the manner in which the omission\\nhas occurred is not sufficiently indicative of the intent to share or\\ntransmit. Thus, no offence could be said to have been constituted\\nunder Section 15 sub-section (1) of the POCSO.\\n99. Take for instance, certain child pornographic material was found\\nstored in the mobile phone of ‘A’ but this time, the said material had\\nfound its way in the device due to an automatic download of media\\nof which ‘A’ had no knowledge whatsoever. Here although there is\\npossession or storage of such material, yet the omission to delete,\\ndestroy or report is clearly shown and established by ‘A’ that it was\\ndue to lack of knowledge about the existence of such material on\\nhis parts. Here the manner in which the omission has occurred is\\nnot sufficiently indicative of the intent to share or transmit, thus no\\noffence could be said to have been made out under Section 15(1)\\nof the POCSO.\\n100. Take a case where certain child pornographic material was found\\nstored in the mobile phone of ‘A’ but this time in addition to the\\naforesaid material few chats were also recovered wherein ‘A’ told\\nhis friend ‘B’ that he had some child pornographic material which\\nhe could share with him. Here, since there is additional material to\\nshow that ‘A’ had taken some overt steps in order to propagate the\\nsaid material, he would be liable under Section 15(2) of the POCSO.\\n101. For another illustration, say for example, again certain child\\npornographic material was found stored in the mobile phone of ‘A’\\nbut this time ‘A’ creates a chat group consisting of several of his\\nfriends, and sends a message therein stating that he has some\\nchild pornographic material which he would forward on the group.\\nHere, since there is additional material to show that ‘A’ had taken\\nsome overt steps in order to distribute the said material, he would\\nbe liable under Section 15(2) of the POCSO.\\n102. Conversely, say ‘A’ who has certain child pornographic material in\\nhis phone, again creates a group consisting of several of his friends,\\nbut this time he sends a message stating that he has some child\\npornographic material which he would send in exchange of some\\namount of money. Here, since there is additional material to show\\nthat ‘A’ had taken some overt steps in respect of the said material\\nfor some monetary gain, he would now be liable under Section 15(3)\\nof the POCSO instead.\\n103. We may at the cost of repetition clarify that there may be situations\\nwhere the possession or storage of the pornographic material is found\\nto be in a such a manner that the same by itself would be indicative\\nof an intention to either transmit, display, propagate or distribute such\\nmaterial or that it was done in lieu or expectation of any gain. In\\nsuch cases the storage or possession of child pornographic material\\nitself would sufficiently be indicative of the requisite intention either\\nunder Section 15 sub-section(s) (2) or (3) as the case may be, and\\nthere would be no requirement to adduce any additional material\\nas long as the manner of storage or possession of such material or\\nthe attending circumstances itself is sufficiently indicative of such\\nintention.\\n104. For illustration; say certain child pornographic material was found\\nstored in five to six television devices in a hotel run by ‘A’. Here,\\nbecause the pornographic material has been found to be stored in\\nmultiple devices that too at a place which has easy access for the\\npublic, the same would be indicative that the ‘A’ was using the hotel\\nand the television devices therein as a means for facilitating display\\nof such pornographic material, and thus, would be punishable under\\nSection 15 sub-section (2) of the POCSO.\\n105. For another illustration say again certain child pornographic material\\nwere found stored in five to six television devices in a hotel run by\\n‘A’, but this time some price was mentioned onto the pornographic\\nmaterial itself. Here, because some amount of money was found to\\nbe mentioned on the material itself and the said material was stored\\nin a place with easy public access, the same would be indicative\\nthat the ‘A’ was using the hotel and the television devices therein\\nas a means for facilitating display of such pornographic material in\\nlieu of monetary gain, thus, would be punishable under Section 15\\nsub-section (3) of the POCSO.\\n106. The aforesaid illustrations have been provided only as a guiding\\nexample to highlight the distinction between sub-section(s) (1), (2)\\nand (3) of Section 15 of the POCSO. These illustrations should not\\nbe mechanically applied or construed by any court in any proceeding\\nwhile dealing with any matter involving Section 15 of the POCSO\\ndevoid of the context in which these illustrations have been given and\\nwithout applying its mind as to whether the necessary ingredients\\nhave been established or not in the individual facts and circumstances\\nof the matter. Any matter involving Section 15 sub-section (1), (2) or\\n(3) of the POCSO, must be dealt with independent of the illustrations\\nnarrated above and stricto-sensu in accordance with only the ratio\\nof this decision.\\n107. Lastly, we must also caution the police and the courts to be\\nmindful of the fact that wherever in a given case a particular\\nsub-section of Section 15 is found to be applicable, the other\\ntwo remaining sub-sections of the said provision will cease to be\\napplicable. Section 15 sub-section(s) (1), (2) and (3) respectively\\nof the POCSO are independent and distinct offences. The three\\noffences cannot coexist simultaneously in the same set of facts.\\nThey are distinct from each other and are not intertwined that they\\ncannot survive without each other. This is because, the underlying\\ndistinction between Section 15 sub-section(s) (1), (2) and (3)\\nrespectively lies in the different degree of culpable mens rea that\\nis required under each of the three provisions. The inception of\\nthe requisite culpable mens rea begins and takes shape from the\\nintention specified under sub-section (1), then gradually continues\\nto transform into the intention stipulated under sub-section (2) and\\nfinally culminates into the intention prescribed under sub-section\\n(3). Under Section 15 sub-section (1) of the POCSO, the requisite\\nintention therein is still in fieri i.e., in process of developing and\\nculminating into either the intention under sub-section(s) (2) or\\n(3). Whenever, the said intention ultimately crystalizes into the\\nintention either under sub-section(s) (2) or (3), the other provisions\\nwould automatically become inapplicable.\\n108. Yet one another important aspect, that the police and the courts\\nshould be mindful of is that while examining any matter involving the\\nstorage or possession of any child pornography, it finds that particular\\nsub-section of Section 15 is not attracted, it must not jump to the\\nconclusion that no offence at all is made out under Section 15 of\\nthe POCSO. The police at the time of investigation and the courts\\nat the time of taking cognizance, should keep this aforesaid aspect\\nin mind. In other words, both should try to ascertain that if offence\\nis not made out in one particular sub-section, whether the same is\\nmade out in the other two sub-sections or not.\\nII. Concept of ‘Possession’, ‘Constructive Possession’ and\\n‘Immediate Control’ under Section 15 of the POCSO.\\n109. During the course of hearing, our attention was also drawn to a\\nrecent news article that reported how on social media, links to view\\nchild pornography were being circulated and sold for anywhere\\nbetween Rs. 40 to Rs. 5,000. The news report indicates, how social\\nmedia platforms are rife with child sexual abuse, and gave certain\\ninsight about the modus operandi of the distribution of such material\\non these platforms. It explained how the sellers and distributors of\\nchild pornographic material rather than sharing any downloads to\\nsuch material, would ingeniously only share links to such material\\ninstead in lieu of money, so as to circumvent the penal provisions of\\nthe POCSO and IT Act, which criminalized only the storage of such\\nmaterial. By indefinitely forwarding links, they completely bypass\\nthe requirement of first storing such material onto any device, and\\nsimilarly those who view such material also only use the links, without\\never downloading such material onto their device.\\n110. As earlier mentioned, prior to the 2019 Amendment Act, Section 15 of\\nthe POCSO only criminalized the storage of any child pornographic\\nmaterial for any commercial purpose. Thereafter, the legislature in\\nview of the increasing number of child sexual abuse cases, amended\\nSection 15 of the POCSO, to recognize and criminalize three distinct\\nforms or manner of storage of child pornographic material, as has\\nbeen discussed in the preceding parts of this judgment.\\n111. One another subtle but significant change that was made to all three\\nsub-sections of Section 15 was the inclusion of the word “possession”\\nin addition to storage, which was earlier not there in the erstwhile\\nprovision of Section 15 of the POCSO.\\n112. Thus, while the word “possession” was originally absent in the\\nunamended Section 15 of the POCSO, the legislature in its wisdom,\\nspecifically added the said word in the amended Section 15, whereby\\nnow both the storage or the possession of any child pornographic\\nmaterial would be liable to be punished when done with any of the\\nspecified intention thereunder.\\n113. We believe that the change referred to above was not made\\ninadvertently or lightly, but rather was done specifically with the\\nintention of making the provisions of Section 15 of the POCSO\\nmore stringent to effectively deter the dissemination and use of\\nchild pornography.\\n114. An important aspect of the jurisprudence on possession as an\\ninchoate crime is the doctrine of constructive possession. Constructive\\npossession extends the concept of possession beyond physical\\ncontrol to situations where an individual has the power and intention\\nto control the contraband, even if it is not in their immediate physical\\npossession. This doctrine is particularly relevant in cases where\\ncontraband is found in a location that is not directly under the physical\\ncontrol of the accused, but where the accused has access to and\\ncontrol over the area where the contraband is found.\\n115. In U.S. v. Tucker reported in 150 F. Supp. 2d 1263 (D. Utah. 2001),\\nthe U.S. District Court, Utah, explained and elaborated on the doctrine\\nof constructive possession. In the said case, the defendant therein\\nused to routinely view child pornography, but he never used to keep\\nit stored in his computer, and would often delete any such material\\nand its traces from its computer after he was finished viewing them.\\nWhen charged with the offence of possession of child pornographic\\nmaterial, he challenged the same, contending that since no material\\nhad been stored in his disk, he cannot be said to be in possession\\nof any child pornography. The court held that wherever a person\\nexercises some form or manner of immediate control over any\\nparticular material, both tangible or intangible, such material would be\\nsaid to be in his constructive possession. It observed that the control\\nof a person over such material can be ascertained by seeing whether\\nhe could manipulate, alter, modify or destroy such material or not,\\nif the answer to any of the above is in an affirmative, such material\\nwould be deemed to be in his conscious or constructive possession.\\n116. Similarly in U.S. v. Romm reported in 455 F. 3d. 990 (9th Cir., 2006),\\nthe defendant therein admitted to viewing images of child pornography\\non the Internet. He would save them to disk, view them for about 5\\nminutes, then delete them. The Court held that a person can be said\\nto possess child pornography even without downloading or storing\\nit, if he or she seeks it out and exercises dominion or control over it.\\nIt observed that this dominion or control may be evident by factors\\nsuch as when viewing the images on the screen, did the person have\\nthe ability to print them, save them, forward them or delete them.\\nIf he did, then he can be said to have knowingly exercised custody\\nor control over those images and thus, consequently in possession\\nof the same.\\n117. Thus, for establishing constructive possession both the power to\\ncontrol the material in question and the knowledge of exercise of\\nsuch control are required. The doctrine of constructive possession,\\nis a crucial development in the criminal jurisprudence, especially\\npertaining to inchoate crimes where possession is sought to be\\npunished, as it ensures that no person can evade liability by simply\\ndistancing themselves from the physical possession of contraband\\nwhile retaining the ability to control it.\\n118. We are of the considered view, that wherever a person indulges in\\nany activity such as viewing, distributing or displaying etc. pertaining\\nto any child pornographic material without actually possessing or\\nstoring it in any device or in any form or manner, such act would still\\ntantamount to ‘possession’ in terms of Section 15 of the POCSO,\\nif he exercised an invariable degree of control over such material,\\napplying the aforesaid doctrine of constructive possession.\\n119. Say for instance, ‘A’ routinely watches child pornography over the\\ninternet, but never downloads or stores the same in his mobile. Here\\n‘A’ would still be said to be in possession of such material, as while\\nwatching he exercises a considerable degree of control over such\\nmaterial including but not limited to sharing, deleting, enlarging such\\nmaterial, changing the volume etc. Furthermore, since he himself on\\nhis own volition is viewing such material, he is said to have knowledge\\nof having control over such material.\\n120. Conversely, say ‘A’ is sent an unknown link by ‘B’, which upon\\nclicking opened a child pornographic video on the phone of ‘A’. Here\\nalthough ‘A’ at the time of opening the link had control over the said\\nlink, yet he cannot be said to have a knowledge of that control over\\nsuch material as he at that relevant point of time was unaware as\\nto what would open from the said link; thus ‘A’ cannot be said to\\nbe in possession. We say so, because, ‘A’ had no information as\\nto what the link pertained to, in order to have knowledge of control\\nover such material, a person requires reasonable information such\\nas what is involved in the material in question, what is the purpose\\nof such material, etc. Without such information no person can decide\\nwhether he wants to view it, or delete it or further forward it i.e., he\\ncannot effectively exercise the control that he has, without a certain\\ndegree of knowledge.\\n121. However, in the aforementioned illustration, if ‘A’ rather than closing\\nthe link in a reasonable time, continues to view such material he\\nwould be deemed to be in possession of such material. This is\\nbecause, after a reasonable window of time, he would be said to\\nhave sufficient information about such material to have knowledge\\nfor the effective exercise of his control over such material.\\n122. Thus, we are of the considered view that any form of intangible\\nor constructive possession of any child pornographic material will\\nalso amount to “possession” under Section 15 of the POCSO in\\nterms of the Doctrine of Constructive Possession. There is no\\nrequirement of a physical or tangible “storage” or “possession” of\\nsuch material in Section 15 of the POCSO. We may clarify with a\\nview to obviate any confusion that, where any child pornographic\\nmaterial is in the constructive possession of an accused, there\\nthe failure or omission to report the same would constitute the\\nrequisite actus-reus for the purposes of Section 15 sub-section\\n(1) of POCSO.\\n123. For instance, say, ‘A’ is sent an unknown link by ‘B’, which upon\\nclicking opened a child pornographic video on the phone of ‘A’. Now\\nif ‘A’ immediately closes the link, although once the link is closed\\n‘A’ is no longer in constructive possession of the child pornography,\\nthis by itself does not mean that ‘A’ has destroyed or deleted the\\nsaid material by merely closing the link. ‘A’ will only be absolved of\\nany liability if he after closing the link further reports the same to the\\nspecified authorities. Thus, when it comes to constructive possession\\nof an accused, it is the failure or omission to report that constitutes\\nthe requisite actus-reus for the purposes of Section 15 sub-section\\n(1) of POCSO.\\n124. At this juncture we may also address ourselves on another pertinent\\naspect for constituting an offence under Section 15 of the POCSO.\\nThe term ‘storage’ and ‘possession’ that has been used in the said\\nprovision does not require that such ‘storage’ or ‘possession’ must\\ncontinue to be there at the time of registration of an FIR or any\\ncriminal proceeding. The provision of Section 15 is not fixated any\\nparticularly time-frame. What is simpliciter required to constitute\\nan offence under Section 15 of the POCSO is the establishment\\nof ‘storage’ or ‘possession’ of any child pornographic material with\\nthe specified intention under sub-section(s) (1), (2) or (3), at any\\nrelevant point of time. Even, if the said ‘storage’ or ‘possession’\\nno longer exists at the time of registration of the FIR, nonetheless\\nan offence can be made out under Section 15 if it is established\\nthat the person accused had ‘stored’ or ‘possessed’ of any child\\npornographic material with the specified intention at any particular\\npoint of time even if it is anterior in time. We say so because, any\\nother view aside from the above, in our opinion would lead to a\\nchilling effect with drastic consequences, whereby the provisions of\\nthe POCSO may be defeated by a devious person. If for instance,\\na person immediately after storing and watching child pornography\\nin his mobile phone deletes the same before an FIR could be\\nregistered, could it be said that the said person is not liable under\\nSection 15, because at the time of registration of the FIR, such\\nmaterial no longer existed on the device of the person accused?\\nThe answer to the aforesaid, must be an emphatic “no”. Thus, we\\nclarify that there is no requirement under Section 15 of the POCSO\\nthat ‘storage’ or ‘possession’ must continue to exist at the time of\\ninitiation of the criminal proceeding, and no such requirement can\\nbe read into the said provision. An offence can be made out under\\nSection 15 if it is established that the person accused had ‘stored’\\nor ‘possessed’ of any child pornographic material with the specified\\nintention at any particular point of time even if it was before such\\ninitiation or registration of criminal proceedings.\\nc. Pornographic Material must prima facie appear to involve\\na Child.\\n125. At this stage, we may explain one another crucial aspect concerning\\nSection 15 of the POCSO, more particularly the criteria for determining\\nwhether the material in question involves or depicts a ‘child’, or in other\\nwords whether such material can be considered a ‘child pornography’\\nor not. The determination of whether the individual involved is a ‘child’\\nor not, in terms of the POCSO is a crucial foundational element for\\nconstituting various offences under the Act.\\n126. Section 2(1)(d) of the POCSO stipulates that the term ‘child’ means\\nand refers to any person who is below the age of eighteen years.\\nThus, under the POCSO more particularly Section 2(1)(d) an objective\\ncriterion has been prescribed by the legislature for determining\\nwhether a person is a ‘child’ or not for the purposes of any offence\\nunder the Act. The said criteria is based on the age of the individual\\nin question, and involves ascertaining and establishing whether he\\nor she is under eighteen years of age, if so, such person would be\\nconsidered a ‘child’ for the purposes of any offence in respect of\\nsuch child that is punishable under the POCSO.\\n127. Earlier under the POCSO, there was no specific definition of ‘child\\npornography’. Thus, under the erstwhile Section 15 of the POCSO,\\nthere was only one criteria for ascertaining whether the material in\\nquestion can be regarded as ‘child pornography’ or not, which was\\nby establishing that the material depicts or involves a person who\\nis under the age of eighteen years.\\n128. It was only with the enactment of the aforesaid 2019 Amendment\\nAct, whereby the term “child pornography” was specifically defined\\nunder the POCSO by way of insertion of Section 2(1)(da) in the\\nAct. At the cost of repetition, Section 2(1)(da) of the POCSO is\\nreproduced below: -\\n“2. Definitions. –\\n(1) In this Act, unless the context otherwise requires, –\\n(da) “child pornography” means any visual depiction of\\nsexually explicit conduct involving a child which include\\nphotograph, video, digital or computer generated image\\nindistinguishable from an actual child and image created,\\nadapted, or modified, but appear to depict a child;”\\n129. A plain reading of the above would indicate that the term “child\\npornography” means any visual depiction of a child involved in any\\nsexually explicit conduct. It further explains that the expression ‘visual\\ndepiction’ means and includes the following: -\\ni. A photograph or video, which may be either in actual or any\\nelectronic form.\\nii. An image generated digitally or by a computer which is\\nindistinguishable from an actual child i.e., any self-generated\\nimage which appears to depict a lifelike child indistinguishable\\nfrom an actual child, and will not include any artistic or cartoon\\nbased depiction.\\niii. Any other image (including any video-based imagery) that has\\nbeen created, adapted or modified.\\nThe above list of material mentioned is inclusive in nature i.e., the\\ndifferent types, form and manner of visual depiction that has been\\nenumerated therein is not exhaustive in any manner. In the last, the\\nsaid provision, more particularly the words “but appear to depict a\\nchild ” lays down the test or criteria for ascertaining, whether any of\\nthe above mentioned visual depiction is a ‘child pornography’ or not,\\nby prescribing a prima facie subjective satisfaction that the material\\nappears to depict a child.\\n130. The use of the comma before the words “but appear to depict a child ”\\nis significant. The legislature has used the aforesaid comma both\\nas a disjunctive and a conjunctive to the words preceding it. It has\\nbeen used as a disjunctive to stress, that the subjective criteria that\\nthe material in question appears to depict a child is not inextricably\\nlinked or limited to just one category of visual depictions i.e., the\\nlast category being “image created, adapted, or modified ”. At the\\nsame time, it has been used as a conjunctive in relation to all types\\nof visual depictions that have been illustrated in the said provision,\\nto clearly indicate, that this subjective criterion applies to the entire\\nprovision i.e., to all types of visual depictions mentioned therein or\\nin other words to ‘child pornography’.\\n131. Thus, any visual depiction of a sexually explicit act which any\\nordinary person of a prudent mind would reasonably believe to\\nprima facie depict a child or appear to involve a child, would be\\ndeemed as ‘child pornography’ for the purposes of the POCSO.\\nTherefore, for any offence under the POCSO that relates to child\\npornographic material, such as Section 15, the courts would only\\nbe required to form a prima facie subjective satisfaction that the\\nmaterial appears to depict a child from the perspective of any\\nordinary prudent person. Such satisfaction may be arrived at from\\nany authoritative and definitive opinion such as through a forensic\\nscience laboratory (FSL) report of such material or from any expert\\nopinion on the material in question, or by the assessment of such\\nmaterial by the courts themselves, depending on the peculiar facts\\nand circumstances of each case.\\n132. This aforesaid test or criteria of ‘subjective satisfaction’ is not a\\nsuperfluous or imaginary creation of the legislature, but a well-founded\\ntest, that exists in various other countries. In this regard, reference\\nmay be made to the decision of the Court of Appeal of England &\\nWales in Regina v. Michael Land reported in [1997] EWCA Crim\\nJ1010-15 wherein the court was dealing with an offence of possession\\nof indecent photographs of children for the purpose of distribution\\nunder Section 1(1)(c) of the Protection of Children Act 1978. There\\nthe question arose whether the individual in the aforesaid photographs\\nwas under sixteen years of age or not. The court observed that often\\nthere lies an inherent difficulty in making any positive identification of\\nthe person in question, so as to establish their age conclusively. It\\nheld that, thus in such situations, the question whether such person is\\na child or not would have to be ascertained as a matter of inference\\nfrom the facts and the material in question, without any need for a\\nformal proof of the same. The court further rejected the contention\\nthat in the absence of any paediatric or other expert evidence, no\\nsuch inference can be drawn. It observed that such fact-based\\nquestions of age can be assessed by the judge or the jury as the\\ncase may be by use of their critical faculties and senses such as\\ntheir eyes, supplemented with their own judgement and experience.\\n133. In John Leadbetter v. Her Majesty’s Advocate reported in [2020]\\nHCJAC 51, the High Court of Justiciary, Scottland held that no expert\\nwitness is required for proof of age of any person depicted in an\\nobscene material in question. It further held that, such proof of age\\nmay be established by any witness or a person who demonstrates\\na certain extent of skill or knowledge in determination of the age on\\nthe basis of a wide range of evidence that may be available.\\n134. In United States v. Katz reported in 178 F.3rd 368 (5th Cir. 1999),\\nit was held by the U.S. Court of Appeals, Fifth Circuit, Louisiana,\\nthat the threshold question whether the age of any person in a child\\npornography may be determined by a ‘lay’ jury without the assistance\\nof expert testimony where there is no conflict of opinion as to the age.\\nHowever, it observed that where the individual in question appears\\nto have reached puberty, there expert testimony or opinion as to\\nproof of age would be necessary.\\n135. In Commonwealth v. Robert reported in (829 A.2d. 127), the Superior\\nCourt of Pennsylvania observed that proof of age, like proof of any\\nmaterial fact, can be accomplished by the use of either direct or\\ncircumstantial evidence, or both. It held that the proof necessary to\\nsatisfy the element of age in a dissemination or possession of child\\npornography case is not limited to expert opinion testimony.\\n136. What is discernible from the aforesaid is that, although, in the few\\ndecisions referred to by us, there is a difference of opinion as to\\nwhether an expert’s testimony or determination is necessary or not\\nfor the proof of age of an individual depicted in any pornographic\\nmaterial, yet in all of the aforementioned decisions it has been\\nconsistently held that the criteria for such determination is only the\\nsubjective satisfaction.\\n137. The test or criteria of ‘subjective satisfaction’ is in view of the\\npractical difficulty that exists in conclusively establishing the age\\nof an individual in any pornographic material through any objective\\nmeans or criteria. This is owed to the fact that often, it is next to\\nimpossible to establish the identity of the victim, then to trace the\\nwhereabouts of such person, and then objectively determine their\\nage. If such a criterion is adopted, then most of the cases pertaining\\nto the possession of any child pornographic material would fail at the\\nthreshold, due to want of any means or information for conclusively\\nproving the age of the victim.\\n138. The aforesaid aspect may be looked at from one another angle.\\nAny mandate of an objective determination of the age by conclusive\\nmeans, could possibly result in absurd consequences. For instance,\\nsay a pornographic material involves an under-teen child who by\\nvirtue of his built on the face of it appears to be a child, yet such\\nmaterial will not be considered child pornographic material in the eyes\\nof law, unless an objective determination of the exact age of such\\nchild is carried out in a conclusive manner. In the absence of any\\nsuch determination, the prosecution of possession of such material\\nwould have to fail, merely due to technicalities and the inflexible\\ncharacter of the criteria or test for determining the age.\\n139. The aforesaid provision of Section 2(1)(da) of the POCSO holds\\nsignificant importance, as the legislature whilst giving teeth to the\\nexisting provision of Section 15 of the Act, and making three distinct\\noffences punishable under it through the 2019 Amendment Act, also\\nconsciously defined the term ‘child pornography’ under the POCSO\\nthrough the very same amendment. It indicates the legislature’s\\nintention of construing both these provisions together as a whole;\\nneither Section 15 of the POCSO nor Section 2(1)(da) can be\\ninterpreted or invoked in isolation from the other.\\n140. The legislature through Section 2(1)(da) of the POCSO, made a\\nconscious departure from the already existing objective criterion of\\ndetermination of age in terms of Section 2(1)(d) which is generally\\napplicable to the POCSO, as it was alive to aforementioned inherent\\ndifficulty that is posed by such criteria. The legislature was well aware,\\nthat if the proof of age in offences pertaining to child pornography\\nsuch as under Section 15 of the POCSO would also have to be\\nassessed by the existing objective test, it would lead to a very\\nchilling effect, whereby the entire Section 15 of the POCSO could\\nbe rendered unworkable merely on account of a hyper-technical\\napproach as to determination of age, thereby defeating the very\\nobject of the POCSO.\\n141. The aforesaid aspect may also be looked at from one more angle.\\nSection 2(1)(da) of the POCSO was inserted by the legislature with\\ntwo-fold purpose in mind. While one of the purpose of Section 2(1)\\n(da) of the POCSO, was to explicitly define and delineate what\\ntype of visual depictions would be considered ‘child pornography’ to\\nremove any ambiguity that existed earlier, the real purpose behind\\ninsertion of the said provision was to mitigate the tendency of the\\ncourts to refer and apply the objective criteria of age determination\\nprescribed under Section 2(1)(d) of the POCSO, even when dealing\\nwith matters involving child pornography. Which is why the legislature\\nin addition to explaining the contour of visual depiction in Section 2(1)\\n(da) of the POCSO, also specifically added the words “but appear\\nto depict a child ” in the end.\\n142. If the courts while dealing with any matter involving child pornography,\\ncontinue to refer and rely on Section 2(1)(d) of the POCSO, then\\nthe same will frustrate the intention behind Section 2(1)(da) more\\nparticularly the words “but appear to depict a child ” in the statute\\nbook, thereby render that portion of the aforesaid provision otiose\\nand nugatory.\\n143. The true purport of Section 2(1)(da) of the POCSO, is to ensure\\nthat for offences pertaining to child pornography, it is Section 2(1)\\n(da) that is given due regard and not Section 2(1)(d). Thus, in any\\noffence pertaining to child pornography the definition of ‘child’ in\\nSection 2(1)(d) would pale in comparison to the definition of ‘child\\npornography’ under Section 2(1)(da) of the POCSO. As such, the\\ncourt while dealing with an offence under Section 15 of the POCSO,\\nmust be mindful of the fact, that it is Section 2(1)(da) of the POCSO,\\nwhich has to be referred to and relied upon and not Section 2(1)(d).\\nIn other words, it is the definition of ‘child pornography’ which is of\\nrelevance while considering whether Section 15 of the POCSO can\\nbe invoked or not.\\nd. Scope of Section 67B of the IT Act.\\n144. The IT Act was originally enacted with the object of providing a\\nlegal framework for inter-alia recognizing electronic records &\\ndigital signatures, facilitating electronic commerce, and providing\\na legal sanctity to e-contracts. While the IT Act did include certain\\nprovisions to penalize cybercrimes, they were rudimentary and did\\nnot comprehensively address issues like creation and facilitation of\\nsexual abuse of children, the online publication, transmission and\\ndistribution of child pornography or the sexual inducement, enticement\\nand exploitation of children over the internet.\\n145. The aforesaid was due to the fact that, the IT Act prior to the\\nInformation Technology (Amendment) Act, 2008 (for short, the ‘2008\\nAmendment Act’), criminalized only one act being the publication or\\ntransmission of obscene material, under Section 67. The IT Act made\\nno distinction between the publication or transmission of an ‘obscene\\nmaterial’ from the publication or transmission of an obscene material\\ninvolving any sexually explicit act or conduct i.e., pornographic\\nmaterial or for that matter child pornographic material. More glaringly,\\nthere was no difference in either publication or transmission of such\\nmaterial from the distribution, facilitation and consumption of such\\nmaterial over the internet. The IT Act also did not recognize other\\nforms of sexual abuse and exploitation of children over the internet\\nas a punishable offence such as enticement of children into any\\nsexual act.\\n146. Over a period of time, as the age of internet evolved, the inadequacies\\nof the IT Act became apparent, primarily due to more and more\\nchildren using the internet and a corresponding increase in number\\nof cyber-crimes being committed against them. Thus, there was a\\nneed for a more robust legal framework particularly for the protection\\nof vulnerable population like children over the internet.\\n147. The 50th Report of the Standing Committee on Information Technology\\non the ‘Information Technology (Amendment) Bill, 2007’ noted that\\nalthough a new provision in the form of Section 67A had been\\nproposed for specifically criminalizing publication or transmission\\nof pornographic material with enhanced punishment, yet there was\\nno specific provision pertaining to child pornography. The Standing\\nCommittee, rejected the response of the Department of Information\\nTechnology that the provision of Section 67A in general would also\\ninclude child pornography, and instead recommended that a specific\\nprovision for child pornography be incorporated, in order to not just\\ncriminalize the publication and transmission of child pornography with\\nan enhanced punishment but also to tackle and criminalize other\\nrelated forms of child sexual abuse such as, online enticement of\\nchildren into sexual acts, distribution of child pornography and the\\nfacilitation or creation of such material. The relevant recommendations\\nread as under: -\\n“6. The Information Technology Act, 2000 was enacted\\nkeeping in view technology directions and scenario as\\nit existed at that point of time. As the technology has a\\nhabit of reinventing itself into cheaper and more cost-\\neffective options, it becomes imperative to give a fresh\\nlook to any technology driven law from time to time.\\nMoreover, due to overall increase in e-commerce, growth\\nin outsourcing business, new forms of transactions, new\\nmeans of identification, consumers concern, promotion\\nof e-governance and other information technology\\napplications, technology neutrality from its present\\n‘technology specific’ form in consonance with development\\nall over the world, security practices and procedures for\\nprotection of Critical Information infrastructure, emergence\\nof new forms of computer misuse like child pornography,\\nvideo voyeurism, identity theft and e-commerce frauds like\\nphishing and online theft, rationalization of punishment\\nin respect of offences with reference to the Indian Penal\\ncode, a need was felt to review the Indian Information\\nTechnology Act, 2000”\\nxxx xxx xxx\\n(iii) Child Pornography\\n118. Clause 31 proposes to insert Section 67 A whereby\\npunishment has been provided for publishing or\\ntransmitting of material containing sexually explicit act in\\nelectronic form.\\n119. In the above context, a non-official witness as well as\\nthe CBI have been of the view that the proposed Section\\nshould be recast to include ‘child pornography’ also and\\nspecific provisions should be incorporated in this Section\\nto criminalize child pornography in tune with the laws\\nprevailing in advanced democracies of the world as well\\nas Article 9 of the Council of Europe Convention on Cyber\\nCrimes which states as under: -\\n“Each Party shall adopt such legislative and\\nother measures as may be necessary to\\nestablish as criminal offences under its domestic\\nlaw, when committed intentionally and without\\nright, the following conduct: (a) producing child\\npornography for the purpose of its distribution\\nthrough a computer system; (b) offering or\\nmaking available child pornography through a\\ncomputer system; (c) distributing or transmitting\\nchild pornography through a computer system;\\n(d) procuring child pornography through a\\ncomputer system for oneself or for another\\nperson; (e) possessing child pornography in a\\ncomputer system or on a computer-data storage\\nmedium.\\n2. For the purpose of paragraph 1 above,\\nthe term “child pornography” shall include\\npornographic material that visually depicts:\\n(a) a minor engaged in sexually explicit\\nconduct;\\n(b) a person appearing to be a minor engaged\\nin sexually explicit conduct;\\n(c) realistic images representing a minor\\nengaged in sexually explicit conduct.\\n3. For the purpose of paragraph 2 above, the\\nterm “minor” shall include all persons under 18\\nyears of age. A Party may, however, require a\\nlower age-limit, which shall be not less than\\n16 years.\\n4. Each Party may reserve the right not to\\napply, in whole or in part, paragraphs 1, sub-\\nparagraphs d. and e, and 2, sub-paragraphs\\nb. and c\\n120. When the Committee desired to hear the views of\\nthe Department of Information Technology in incorporating\\nan express provision on defining child pornography as\\nsuggested by the Expert Committee, it was replied that a\\nnew Section 67A related to punishment for publishing or\\ntransmitting of material containing sexually explicit acts\\nhas been proposed as per which stringent provision has\\nbeen made relating to pornography in general and would\\nalso automatically cover child pornography.\\n121. On the issue of criminalising child pornography and\\nmaking penal provision towards that, the Department\\nstated that, the advice/ assistance in the Commission of\\nCrime (Pornography) through offering advice on information\\nregarding the websites for facilitating any possession or\\ndownloading illegal content might be considered an offence.\\n122. The Department of Information Technology also\\nagreed to a suggestion that the pre-offence grooming\\ni.e. the initial actions taken by the offender to prepare the\\nchild for sexual relationships through online enticement\\nand distributing or showing pornography to a child should\\nalso be made a criminal offence.\\nRECOMMENDATIONS / OBSERVATIONS\\nxxx xxx xxx\\nChild Pornography\\n24. The Committee note that Clause 31 of the Bill intends\\nto insert a new Section 67A which provides for stringent\\npunishment for publishing or transmitting of material\\ncontaining sexually explicit acts in electronic form. But\\nthe Committee are concerned to find that the term ‘child\\npornography’ has nowhere been mentioned in the proposed\\nSection. The Department’s argument that the Section\\nwhile covering ‘pornography’ will automatically cover child\\npornography does not convince the Committee as there\\nshould be no scope for assumption or presumption when\\nfresh amendments are being proposed. The Committee,\\ntherefore, impress upon the Department to include the\\nterm ‘child pornography’ in the proposed Section 67A\\nin view of its growing menace. They also desire that\\nspecific provisions should be incorporated in this Section\\nto criminalise child pornography in tune with the laws\\nprevailing in the advanced Countries and Article 9 of the\\nCouncil of Europe Convention on Cyber Crimes. In view of\\nthe several manifestations of sexual abuse of the children\\nand its loathsome ramifications, the Committee desire that\\nthe act of grooming the child for sexual relationship through\\nonline enticement or distributing/showing pornography or\\nthrough any other online means should also be made a\\ncriminal offence and a suitable provision be made in this\\nregard in the proposed Section 67A.”\\n(Emphasis supplied)\\n148. From the aforesaid, it can be seen that the Standing Committee\\nwhilst making its recommendation, underscored that no useful\\npurpose would be served if the publication or transmission of any\\nchild pornography is punished all the same as any other pornographic\\nmaterial. It highlighted, that while the IT Act had originally been\\nenacted keeping in mind the requirements that existed then, yet now\\nwith the march of the age of internet, it has become imperative to\\nundertake a fresh approach to the provisions of the IT Act particularly\\nthose relating to cyber-crime in light of the new emerging forms\\nof misuse of the internet. It opined that, merely criminalizing the\\npublication or transmission of child pornography will not be sufficient,\\nand that other various forms of online sexual abuse and exploitation\\nalso need to be recognized and adequately punished, on par with\\nthe laws prevailing in various other countries.\\n149. It was in the aforesaid backdrop that the legislature by virtue of the\\nInformation Technology (Amendment) Act, 2008 inter-alia amended\\nSection 67 of the IT Act and introduced Section 67A along with Section\\n67B. This was for the first time, that a specific provision had been\\nmade, to recognize and protect the vulnerable and tender age of\\nchildren by criminalizing various forms of online sexual degradation,\\nabuse and exploitation with enhanced punishment. At the cost of\\nrepetition, Section 67B of the IT Act is being reproduced below: -\\n“67-B. Punishment for publishing or transmitting of\\nmaterial depicting children in sexually explicit act,\\netc., in electronic form. — Whoever —\\n(a) publishes or transmits or causes to be published or\\ntransmitted material in any electronic form which depicts\\nchildren engaged in sexually explicit act or conduct; or\\n(b) creates text or digital images, collects, seeks, browses,\\ndownloads, advertises, promotes, exchanges or distributes\\nmaterial in any electronic form depicting children in obscene\\nor indecent or sexually explicit manner; or\\n(c) cultivates, entices or induces children to online\\nrelationship with one or more children for and on sexually\\nexplicit act or in a manner that may offend a reasonable\\nadult on the computer resources; or\\n(d) facilitates abusing children online; or\\n(e) records in any electronic form own abuse or that of\\nothers pertaining to sexually explicit act with children,\\nshall be punished on first conviction with imprisonment\\nof either description for a term which may extend to five\\nyears and with a fine which may extend to ten lakh rupees\\nand in the event of second or subsequent conviction with\\nimprisonment of either description for a term which may\\nextend to seven years and also with fine which may extend\\nto ten lakh rupees:\\nProvided that provisions of Section 67, Section 67-A\\nand this section does not extend to any book, pamphlet,\\npaper, writing, drawing, painting, representation or figure\\nin electronic form—\\n(i) the publication of which is proved to be justified as being\\nfor the public good on the ground that such book, pamphlet,\\npaper, writing, drawing, painting, representation or figure\\nis in the interest of science, literature, art or learning or\\nother objects of general concern; or\\n(ii) which is kept or used for bona fide heritage or religious\\npurposes.\\nExplanation. — For the purpose of this section, “children”\\nmeans a person who has not completed the age of 18\\nyears.”\\n150. A conjoint reading of Section(s) 67 and 67A viz-a-viz 67B would\\nreveal that unlike the former which penalizes only the publication\\nor transmission of any obscene material or pornographic material,\\nthe scope and ambit of Section 67B is much wider inasmuch as it\\nrecognizes and penalizes five different forms / categories of actus\\nreus, being: -\\n(i) Section 67B sub-section (a): -\\na. Section 67B sub-section (a) of the IT Act pertains to\\nthe dissemination of child pornography and penalizes\\nthe publication or transmission of any material involving\\na child in any sexually explicit act or conduct, and the\\ndirect or indirect involvement in aiding or facilitating the\\ndissemination of such material.\\nb. In order, to constitute an offence under this provision,\\nthere must be an actual publication or transmission of any\\nchild pornographic material, though the said publication or\\ntransmission may be done either by the accused himself or\\nbe caused through someone else at the instance or behest\\nof the accused. In other, words Section 67B sub-section\\n(a) punishes any person who is involved in a process, in\\nany manner that leads to the publication or transmission\\nof any child pornographic material.\\nc. Thus, twin-conditions as prescribed under Section 67B(a)\\nof the IT Act, need to be satisfied in order to constitute an\\noffence: - (I) the actual publication or transmission of any\\nchild pornographic material AND (II) the involvement of\\nthe accused in such publication or transmission process\\nin any manner.\\n(ii) Section 67B sub-section (b): -\\na. It penalizes the creation of any text or image-based\\ncontent in any electronic form, that depict children in any\\nobscene or indecent or sexually explicit manner. It further\\npenalizes the collection, solicitation, browsing i.e., online\\nviewing, or downloading of such material. Thus, even the\\nmere viewing of any child pornographic material that is\\nstored in a mobile phone would tantamount to ‘browsing’\\nof such material in electronic form. Lastly, it also penalizes\\nthe advertising, promotion, exchange or distribution of any\\nsuch material. Here again, what is punishable is only the\\nactual commission of any of the above-mentioned acts.\\nb. The scope of Section 67B sub-section (b), is more\\nexpansive than the preceding sub-section because, (i)\\nfirst, the term ‘material’ here includes any electronic\\ncontent depicting children in sexually explicit acts as well\\nas in obscene or indecent contexts, and (ii) secondly, the\\nactus reus encompasses not just the act of disseminating\\nbut also the acts of creating, propagating, or engaging\\nwith or using such material.\\nc. In other words, Section 67B sub-section (b) penalizes the\\nactual commission of any of the following: -\\ni. the act of producing or creating any text or digital\\nimage based electronic material (incl. videos) that\\ndepict children in any obscene, indecent or sexually\\nexplicit manner;\\nii. the act of engaging or using such material by way of\\ncollecting, browsing, accessing, downloading, saving,\\nseeking, actively searching such material from any\\ncomputer resource, and;\\niii. the act of facilitating or propagating the circulation\\nor dissemination of such material by advertising,\\npromoting, exchanging or sharing, distributing or\\noffering for sale such material from any computer\\nresource on the internet.\\n(iii) Section 67B sub-section (c): -\\na. Section 67B sub-section (c) of the IT Act penalizes the act\\nof any person to induce or entice a child to participate or\\nindulge in any sexually explicit act or any other act that\\nwould offend any adult of reasonable mind, using any\\ncomputer resource.\\nb. In order to constitute an offence under the said provision,\\nwhat is required is only the actual commission of an act of\\ninducement or enticement in any manner by the accused\\nalone, and there is no requirement that such enticement\\nor inducement must have resulted in the child indulging\\nin any sexually explicit or any other offensive act.\\nc. Thus, even where the accused merely attempts to entice\\na child to indulge in any such act, through a computer\\nresource, he would be liable under this provision,\\nirrespective of whether the child also indulges in such act\\nor not. Furthermore, such enticement or inducement may\\nbe for having the child either indulge in any sexually or\\noffensive act with the accused himself or with any other\\nperson at the instance or persuasion of the accused.\\nd. In other words, what is penalized under Section 67B\\nsub-section (c) is the act of enticing or inducing a child to\\nindulge in any sexually explicit offensive act or behaviour.\\n(iv) Section 67B sub-section (d): -\\na. Section 67B sub-section (d) penalizes any form or manner\\nof facilitation of abuse of children, online i.e., it penalizes\\nany form of degradation, exploitation, or abuse of children\\non any online platform. The actus reus punishable under\\nthe said provision is the doing, aiding or abetting of any act,\\neither directly or indirectly that would facilitate or enable\\nthe abuse of children online in any indecent, lascivious\\nor prurient manner.\\nb. It is pertinent to note, that under Section 67B sub-section\\n(d) there is no requirement that the act in question must\\nhave been done only with an intention to facilitate the abuse\\nof children online. What is rather required to constitute an\\noffence under the said provision is that the act must be such\\nwhich likely would facilitate the abuse of children online.\\nc. In other words, what is penalized is any act that has the\\npropensity or likelihood to aid, enable or support the online\\nabuse of children in any obscene, indecent, or lewd fashion.\\n(v) Section 67B sub-section (e): -\\na. Section 67B sub-section (e) of the IT Act penalizes the act\\nof recording through video or any other electronic means,\\nthe participation of any sexually explicit act with or in the\\npresence of any child. The actus reus required is the use\\nof any video or any other electronic means to record any\\nsexually explicit act being done either by the accused\\nhimself or by anyone else in the presence of a child.\\nb. It must be borne in mind, that the sexually explicit act itself\\nneed not be done in the actual presence of the child, rather\\nwhat is required is that the child was made privy to such\\nsexually explicit act, and the same was recorded by the\\naccused in any electronic form. Say for instance, that in\\nthe presence of a child, a pornographic video is played,\\nand the same is then recorded by the accused. Here since,\\nthe recording includes a child being subjected to a sexually\\nexplicit act in the form a pornographic video, an offence\\nwould be constituted under the said provision, even though\\nno such act was done in the actual presence of the child.\\nc. In other words, what is penalized under Section 67B sub-\\nsection (e) is the act of exposing or subjecting a child to\\nany sexually explicit act by anyone, and recording the\\nsame in any electronic form.\\n151. From the aforesaid, it is clear that Section 67B of the IT Act is a\\ncomprehensive provision designed to address and penalize the\\nvarious electronic forms of exploitation and abuse of children\\nonline. It not only punishes the electronic dissemination of child\\npornographic material, but also the creation, possession, propagation\\nand consumption of such material as-well as the different types of\\ndirect and indirect acts of online sexual denigration and exploitation\\nof the vulnerable age of children.\\n152. This Court in Sharat Babu Digumarti v. Govt. of NCT of Delhi\\nreported in (2017) 2 SCC 18 held that Chapter XI of the IT Act, more\\nparticularly Section(s) 67 through 67B are a complete code in itself\\nwhen it comes to offences relating to electronic forms of obscene and\\npornographic material. The relevant observations read as under: -\\n“31. Having noted the provisions, it has to be recapitulated\\nthat Section 67 clearly stipulates punishment for publishing,\\ntransmitting obscene materials in electronic form. The said\\nprovision read with Sections 67-A and 67-B is a complete\\ncode relating to the offences that are covered under the\\nIT Act. [...]”\\n(Emphasis supplied)\\n153. Thus, Section(s) 67, 67A and 67B of the IT Act being a complete code,\\nought to be interpreted in a purposive manner that suppresses the\\nmischief and advances the remedy and ensures that the legislative\\nintent of penalizing the various forms of cyber-offences relating to\\nchildren and the use of obscene / pornographic material through\\nelectronic means is not defeated by a narrow construction of these\\nprovisions.\\niii. The Presumption of Culpable Mental State under Section\\n30 of the POCSO.\\n154. As discussed earlier, the POCSO is a special legislation that was\\nspecifically enacted to punish aggravated forms of offences related\\nto sexual abuse and exploitation of children as well as including\\nthe well-being of the children. Its nuanced provisions have been\\ndeliberately designed to provide stringent measures in order to\\nsecure the dignity protection and interest of children. It was in this\\nbackdrop, that the legislature in its wisdom specifically provided for\\ncertain statutory presumptions as regards commission of certain\\nspecified offences as-well as presumption of the existence of a\\nculpable mental state on the part of the person accused so as to\\nensure that the legislation is effective in addressing the increasing\\nnumber of child sexual abuse cases.\\n155. The provisions pertaining to statutory presumptions under the POCSO\\nare contained in Section(s) 29 and 30 which provide for presumption\\nas to certain offences and presumption of culpable mental state\\nrespectively. In the case at hand we are concerned with Section 30\\nof the POCSO which at the cost of repetition is being reproduced\\nhereunder: -\\n“30. Presumption of culpable mental state. –\\n(1) In any prosecution for any offence under this Act\\nwhich requires a culpable mental state on the part of the\\naccused, the Special Court shall presume the existence of\\nsuch mental state but it shall be a defence for the accused\\nto prove the fact that he had no such mental state with\\nrespect to the act charged as an offence in that prosecution.\\n(2) For the purposes of this section, a fact is said to\\nbe proved only when the Special Court believes it to\\nexist beyond reasonable doubt and not merely when its\\nexistence is established by a preponderance of probability.\\nExplanation. – In this section, “culpable mental state”\\nincludes intention, motive, knowledge of a fact and the\\nbelief in, or reason to believe, a fact.”\\n156. Section 30, sub-section (1) provides that where any offence under the\\nPOCSO requires a culpable mental state on the part of the accused,\\nthe Special Court shall presume the existence of such mental state.\\nIt further provides that the accused may as a defence prove that\\nhe had no such mental state with respect to any act being sought\\nto be punished under the Act. Thus, Section 30(1), makes it clear\\nthat the presumption of culpable mental state applies to any offence\\nunder the said Act that requires such mental state, and the use of\\nthe word “shall” makes it mandatory for the Special Court to presume\\nthe existence of such mental state. However, the said provision also\\nclarifies that, although the said presumption is mandatory yet it is\\nrebuttable inasmuch as the person accused is permitted to prove any\\nfact to establish the contrary i.e., to show that no such mental state\\nexisted on his part. Section 30 sub-section (2) further explains the\\nmanner and the circumstances under which the said presumption\\ncan be rebutted, insofar as it stipulates that in order to prove any\\nfact to show that no such mental state existed, the person accused\\nhas to prove the same beyond a reasonable doubt and not on a\\nmere preponderance of probability. Thus, the standard prescribed\\nfor rebutting the said statutory presumption of culpable mental state\\nis beyond a reasonable doubt. Lastly, the Explanation appended to\\nthe said provision provides that ‘culpable mental state’ shall include\\nintention, motive, knowledge of a fact and the belief in, or the reason\\nto believe a fact.\\na. Concept of Statutory Presumption and Principle of\\nFoundational Facts.\\n157. In Attorney General (supra) this Court while considering the aforesaid\\nSection(s) 29 and 30 of the POCSO observed that the same had\\nbeen specifically incorporated by the legislature in view of the serious\\nnature of the offences punishable under the POCSO and the object\\nbehind the enactment of the said legislation. Furthermore, this Court\\nin view of the importance of the aforesaid provisions, held that any\\noffence under the Act pertaining to sexual, assault, harassment etc.,\\nought to be construed viz-a-viz the other provision (sic Section(s) 29\\nand 30) of the POCSO. The relevant observations read as under: -\\n“36. It may also be pertinent to note that having regard to\\nthe seriousness of the offences under the POCSO Act, the\\nLegislature has incorporated certain statutory presumptions.\\nSection 29 permits the Special Court to presume, when\\na person is prosecuted for committing or abetting or\\nattempting to commit any offence under Section 3, 5, 7\\nand Section 9 of the Act, that such person has committed\\nor abetted or attempted to commit the offence, as the case\\nmay be, unless the contrary is proved. Similarly, Section\\n30 thereof permits the Special Court to presume for any\\noffence under the Act which requires a culpable mental\\nstate on the part of the accused, the existence of such\\nmental state. Of course, the accused can take a defence\\nand prove the fact that he had no such mental state with\\nrespect to the act charged as an offence in that prosecution.\\nIt may further be noted that though as per sub section (2)\\nof Section 30, for the purposes of the said section, a fact is\\nsaid to be proved only when the Special Court believes it\\nto exist beyond reasonable doubt and not merely when its\\nexistence is established by a preponderance of probability,\\nthe Explanation to Section 30 clarifies that “culpable mental\\nstate” includes intention, motive, knowledge of a fact and\\nthe belief in, or reason to believe, a fact. Thus, on the\\nconjoint reading of Section 7, 11, 29 and 30, there remains\\nno shadow of doubt that though as per the Explanation\\nto Section 11, “sexual intent” would be a question of fact,\\nthe Special Court, when it believes the existence of a fact\\nbeyond reasonable doubt, can raise a presumption under\\nSection 30 as regards the existence of “culpable mental\\nstate” on the part of the accused.\\n37. This takes the Court to the next argument of Mr. Luthra\\nthat there being an ambiguity, due to lack of definition of\\nthe expressions - “sexual intent”, “any other act”, “touching”\\nand “physical contact”, used in Section 7, coupled with\\nthe presumptions under Sections 29 and 30 of the Act,\\nthe reverse burden of proof on the accused would make\\nit difficult for him to prove his innocence and, therefore,\\nthe POCSO Act must be strictly interpreted. In the opinion\\nof the Court, there cannot be any disagreement with the\\nsaid submission of Mr. Luthra. In fact it has been laid\\ndown by this Court in catena of decisions that the Penal\\nStatute enacting an offence or imposing a penalty has to\\nbe strictly construed. A beneficial reference of the decisions\\nin the case of Sakshi v. Union of India reported in (2004)\\n5 SCC 518, in the case of R. Kalyani v. Janak C. Mehta\\nreported in (2009) 1 SCC 516 and in the case of State of\\nPunjab v. Gurmeet Singh, (2014) 9 SCC 632 be made in\\nthis regard. However, it is equally settled legal position that\\nthe clauses of a statute should be construed with reference\\nto the context vis-a-vis the other provisions so as to make\\na consistent enactment of the whole Statute relating to\\nthe subject matter. The Court can not be oblivious to the\\nfact that the impact of traumatic sexual assault committed\\non children of tender age could endure during their whole\\nlife, and may also have an adverse effect on their mental\\nstate. The suffering of the victims in certain cases may be\\nimmeasurable. Therefore, considering the objects of the\\nPOCSO Act, its provisions, more particularly pertaining\\nto the sexual assault, sexual harassment etc. have to be\\nconstrued vis-a-vis the other provisions, so as to make the\\nobjects of the Act more meaningful and effective.”\\n(Emphasis supplied)\\n158. The statutory presumption of culpable mental state is neither a concept\\nwhich is alien to the law nor is it something which is exclusive to the\\nPOCSO alone. In fact, there are several legislations which also contain\\nsimilar provisions relating to the statutory presumption of culpable\\nmental state, such as Section 35 of the Narcotic Drugs and Psychotropic\\nSubstances Act, 1985 (for short, the “NDPS Act”), Section 138A of the\\nCustoms Act, 1962 (for short, the “Customs Act”), Section 278E of\\nthe Income Tax Act, 1961 (for short, the “Act, 1961”) to name a few.\\nSince all of the aforesaid provisions are pari materia with Section 30\\nof the POCSO, it would be apposite to refer to the various decisions\\nof this Court interpreting these analogous provisions.\\n159. In Bhanabhai Khalpabhai v. Collector of Customs reported in\\n1994 Supp. (2) SCC 143, this Court whilst examining the scope of\\nSection 138A of the Customs Act which relates to presumption of\\nculpable mental state observed that the said statutory presumption\\nhad been incorporated by the legislature in view of the difficulty\\nthat the prosecution often faces in proving every link in respect of\\ncommission of certain offences by way of direct evidence. It further\\nobserved that such statutory presumption is an exception to the\\ngeneral criminal jurisprudence that the onus never shifts on the\\naccused and he has only to raise a doubt in the mind of the court,\\nin respect of the correctness of the prosecution version. The relevant\\nobservation reads as under: -\\n“9. In the facts and circumstances of the case, it can also\\nbe held that the appellant was concerned with the specified\\ngoods in connection with ‘fraudulent evasion or attempt\\nat evasion’ of duty chargeable on the specified goods. It\\nis well known, that it is very difficult for the prosecution,\\nto prove every link, in respect of the commission of the\\noffence under the Act by direct evidence. The whole\\nprocess of smuggling, for evading payment of custom duty\\nconsists of different links. The links aid and abate each\\nother, sometimes through a remote control. That is why,\\nParliament has introduced Section 138-A in the Act. [...]\\nThe provision relates only to burden and nature of proof\\nat the trial, as such it was applicable in the present case.\\nIn view of the aforesaid section, a presumption has to be\\ndrawn, in respect of existence of the alleged mental state.\\nAn option has been given to the accused to prove by way\\nof defence the fact, that he did not have any such mental\\nstate with respect to the act charged which is an offence.\\nIt can be said that the provision aforesaid is an exception\\nto the general criminal jurisprudence that onus never\\nshifts on the accused and he has only to raise a doubt\\nin the mind of the court, in respect of the correctness of\\nthe prosecution version. It is different from Sections 106\\nand 114 of the Evidence Act. In view of Section 138-A,\\nonce a presumption is raised about a culpable mental\\nstate on the part of the accused, that he had stored the\\nsilver ingots, to export them outside the country evading\\npayment of custom duties, the accused has to prove as\\na defence that no such mental state with respect to the\\nact charged, did exist. [...]”\\n(Emphasis supplied)\\n160. In another decision of this Court in Devchand Kalyan Tandel v.\\nState of Gujarat reported in (1996) 6 SCC 255, it was reiterated\\nthat the statutory presumption engrafted in Section 138A of the\\nCustoms Act was out of necessity in view of the growing number\\nof cases pertaining to evasion of duty or prohibitions or other alike\\neconomic offences and the inherent difficulty of the prosecution\\nin establishing ingredients of such offences. It held that, once the\\nrecovery of prohibited goods from the accused person has been duly\\nestablished by the prosecution, the statutory presumption would arise.\\nIt further held, that the question in such cases would be whether in the\\nproved facts and circumstances, could the recourse of the statutory\\npresumption be taken. The relevant observations read as under: -\\n“10. [...] It is no doubt true that in a charge for violation of\\nthe provisions of Section 135(1)(a) it is required for the\\nprosecution to establish that the accused have fraudulently\\nevaded or attempted to evade any duty chargeable on\\nthe goods or have violated the prohibition imposed under\\nthe Act in respect of the goods. But if the prosecution\\nestablishes the aforesaid facts then there is no necessity\\nof attracting the statutory presumption under Section 138-A\\nand without such presumption an accused can be convicted\\nunder Section 135(1)(a). But the legislature having found\\nit difficult to establish the necessary ingredients of such\\nevasion of duty or prohibitions and the economic offences\\nhaving grown in proportion beyond the control, came\\nforward with the presumption available under Section 138-A\\nof the Act. The main object of Section 138 A is to raise a\\npresumption as to the culpable mental state on the part\\nof the accused when he is prosecuted in a court of law.\\nIn other words, if a recovery is made from the accused\\nof any prohibited goods within the notified area then the\\nstatutory presumption would arise that he was knowingly\\nconcerned in the fraudulent evasion or attempted evasion of\\nany duty chargeable on the goods in question. In the case\\nof Bhanabhai Khalpabhai v. Collector of Customs [1994\\nSupp (2) SCC 143 : 1994 SCC (Cri) 882] this Court has\\nheld that in view of Section 138-A a presumption has to\\nbe drawn in respect of the existence of the alleged mental\\nstate. An option has been given to the accused to prove\\nby way of defence the fact, that he did not have any such\\nmental state with respect to the act charged which is an\\noffence. The question, therefore, arises as to whether in\\nthe proved facts and circumstances the courts below were\\njustified in taking recourse to the statutory presumption\\nunder Section 138-A of the Act. [...]\\n(Emphasis supplied)\\n161. In State of Punjab v. Baldev Singh reported in (1999) 6 SCC 172\\na Constitution Bench of this Court held that a presumption is an\\ninference of fact drawn from the facts which are known as proved\\nand as such the statutory presumption under Section 54 of NPDS Act\\nthat an accused has committed an offence under the Act will only get\\nattracted once the prosecution has established that the accused was\\nfound to be in possession of the contraband in a search conducted\\nin accordance with the procedure laid down in the Act. The relevant\\nobservations read as under: -\\n“54. Thus, even if it be assumed for the sake of argument\\nthat all the material seized during an illegal search may\\nbe admissible as relevant evidence in other proceedings,\\nthe illicit drug or psychotropic substance seized in an\\nillegal search cannot by itself be used as proof of unlawful\\nconscious possession of the contraband by the accused.\\nAn illegal search cannot also entitle the prosecution to\\nraise a presumption under Section 54 of the Act because\\npresumption is an inference of fact drawn from the facts\\nwhich are known as proved. A presumption under Section\\n54 of the Act can only be raised after the prosecution has\\nestablished that the accused was found to be in possession\\nof the contraband in a search conducted in accordance\\nwith the mandate of Section 50.”\\n(Emphasis supplied)\\n162. In Seema Silk Sarees v. Directorate of Enforcement reported in\\n(2008) 5 SCC 580, although the provision involved therein is not\\npari materia with Section 30 of the POCSO, yet the observations\\nmade by this Court are relevant to the issue involved in the case at\\nhand. Therein this Court whilst upholding the constitutional validity\\nof Section 18 of the Foreign Exchange Regulation Act, 1973 which\\ninter-alia provided for a statutory presumption of contravening the\\nprovisions of the said Act, held that such a statutory presumption\\nwould stand attracted once certain foundational facts are established\\nby the prosecution. The relevant observation read as under: -\\n“19. A legal provision does not become unconstitutional\\nonly because it provides for a reverse burden. The question\\nas regards burden of proof is procedural in nature. [...]\\n20. The presumption raised against the trader is a rebuttable\\none. Reverse burden as also statutory presumptions can be\\nraised in several statutes as, for example, the Negotiable\\nInstruments Act, Prevention of Corruption Act, TADA, etc.\\nPresumption is raised only when certain foundational facts\\nare established by the prosecution. The accused in such\\nan event would be entitled to show that he has not violated\\nthe provisions of the Act. [...]\\n(Emphasis supplied)\\n163. Similarly in Noor Aga v. State of Punjab & Anr. reported in (2008)\\n16 SCC 417, the constitutional validity of Section 35 of the NDPS Act\\nwas challenged which as aforestated provided for the presumption\\nof culpable mental state. This Court speaking through Justice S.B.\\nSinha (as he then was) whilst upholding the validity of the aforesaid\\nprovision observed that although the presumption of innocence being\\na human right cannot be thrown aside, yet the same would still be\\nsubject to exceptions. The court held that where a statute raises a\\npresumption with regard to the culpable mental state on the part of\\nthe accused and also places the burden of proof on the accused to\\nprove the contrary, the said presumption would be constitutionally\\nvalid and can be raised provided that the foundational facts pertaining\\nto the establishing the actus reus of the requisite offence has been\\nproved. It further held that despite such statutory presumption, the\\ninitial burden would always lie upon the prosecution to prove certain\\nfoundational facts clearly establishing the actus reus in respect of the\\noffence that is sought to be punished. It is only after the prosecution\\nhas proved the foundational facts, that the statutory presumption\\ngets attracted, whereafter the burden would shift onto the accused\\nto prove otherwise. In the last it also held that the extent of burden\\nto prove the foundational facts pertaining to the actus reus by the\\nprosecution would depend upon the seriousness of the offence. The\\nrelevant observations read as under: -\\n“35. A right to be presumed innocent, subject to the\\nestablishment of certain foundational facts and burden of\\nproof, to a certain extent, can be placed on an accused. It\\nmust be construed having regard to the other international\\nconventions and having regard to the fact that it has\\nbeen held to be constitutional. Thus, a statute may be\\nconstitutional but a prosecution thereunder may not be\\nheld to be one. Indisputably, civil liberties and rights of\\ncitizens must be upheld.\\nxxx xxx xxx\\n51. The Act specifically provides for the exceptions. It is\\na trite law that presumption of innocence being a human\\nright cannot be thrown aside, but it has to be applied\\nsubject to exceptions.\\nxxx xxx xxx\\n56. The provisions of the Act and the punishment prescribed\\ntherein being indisputably stringent flowing from elements\\nsuch as a heightened standard for bail, absence of any\\nprovision for remissions, specific provisions for grant of\\nminimum sentence, enabling provisions granting power to\\nthe court to impose fine of more than maximum punishment\\nof Rs 2,00,000 as also the presumption of guilt emerging\\nfrom possession of narcotic drugs and psychotropic\\nsubstances, the extent of burden to prove the foundational\\nfacts on the prosecution i.e. “proof beyond all reasonable\\ndoubt” would be more onerous. A heightened scrutiny\\ntest would be necessary to be invoked. It is so because\\nwhereas, on the one hand, the court must strive towards\\ngiving effect to the parliamentary object and intent in the\\nlight of the international conventions, but, on the other, it\\nis also necessary to uphold the individual human rights\\nand dignity as provided for under the UN Declaration of\\nHuman Rights by insisting upon scrupulous compliance\\nwith the provisions of the Act for the purpose of upholding\\nthe democratic values. It is necessary for giving effect to\\nthe concept of “wider civilisation”. The court must always\\nremind itself that it is a well-settled principle of criminal\\njurisprudence that more serious the offence, the stricter is\\nthe degree of proof. A higher degree of assurance, thus,\\nwould be necessary to convict an accused. [...]\\nxxx xxx xxx\\n58. Sections 35 and 54 of the Act, no doubt, raise\\npresumptions with regard to the culpable mental state on\\nthe part of the accused as also place the burden of proof\\nin this behalf on the accused; but a bare perusal of the\\nsaid provision would clearly show that presumption would\\noperate in the trial of the accused only in the event the\\ncircumstances contained therein are fully satisfied. An\\ninitial burden exists upon the prosecution and only when\\nit stands satisfied, would the legal burden shift. Even then,\\nthe standard of proof required for the accused to prove\\nhis innocence is not as high as that of the prosecution.\\nWhereas the standard of proof required to prove the guilt of\\nthe accused on the prosecution is “beyond all reasonable\\ndoubt” but it is “preponderance of probability” on the\\naccused. If the prosecution fails to prove the foundational\\nfacts so as to attract the rigours of Section 35 of the Act,\\nthe actus reus which is possession of contraband by the\\naccused cannot be said to have been established.\\n(Emphasis supplied)\\n164. In Bhola Singh v. State of Punjab reported in (2011) 11 SCC 653\\nthis Court while placing reliance on the decision in Noor Aga (supra)\\nreiterated that the statutory presumption envisaged in Section 35\\nof the NDPS Act will only come into play after the prosecution had\\ndischarged its initial burden to prove certain foundational facts.\\nIt observed that the applicability of such statutory presumption is\\ndependent upon the facts as spelt out by the prosecution, after which\\nthe burden would shift onto the accused to establish otherwise.\\nIt held that in the absence of any foundational facts pertaining to\\nthe alleged offence, no presumption can be drawn. The relevant\\nobservations read as under: -\\n“10. While dealing with the question of possession in terms\\nof Section 54 of the Act and the presumption raised under\\nSection 35, this Court in Noor Aga v. State of Punjab while\\nupholding the constitutional validity of Section 35 observed\\nthat as this section imposed a heavy reverse burden on\\nan accused, the condition for the applicability of this and\\nother related sections would have to be spelt out on facts\\nand it was only after the prosecution had discharged the\\ninitial burden to prove the foundational facts that Section\\n35 would come into play.\\n11. Applying the facts of the present case to the cited\\none, it is apparent that the initial burden to prove that\\nthe appellant had the knowledge that the vehicle he\\nowned was being used for transporting narcotics still\\nlay on the prosecution, as would be clear from the word\\n“knowingly”, and it was only after the evidence proved\\nbeyond reasonable doubt that he had the knowledge\\nwould the presumption under Section 35 arise. Section\\n35 also presupposes that the culpable mental state of an\\naccused has to be proved as a fact beyond reasonable\\ndoubt and not merely when its existence is established by\\na preponderance of probabilities. We are of the opinion that\\nin the absence of any evidence with regard to the mental\\nstate of the appellant no presumption under Section 35\\ncan be drawn. [...]”\\n(Emphasis supplied)\\n165. In Baldev Singh v. State of Haryana reported in (2015) 7 SCC\\n554 this Court held that the presumption of culpable mental state\\ncontained in Section 35 of the NDPS Act would come into play once\\nthe possession of the contraband in question by the accused has\\nbeen established by the prosecution, whereafter, the onus would be\\non the accused to rebut the said presumption. It further held, that\\nsuch presumption may be rebutted by the accused by either raising\\ndoubts in the prosecution’s case and the material relied upon it for\\nestablishing the possession or that it may adduce any other evidence\\nto rebut the same. In the last, it also held that where the prosecution\\nis unable to establish the possession or where the court has doubts\\nover the prosecution’s case, the said presumption would automatically\\nbe discharged. The relevant observations read as under: -\\n“12. [...] Once the physical possession of the contraband\\nby the accused has been proved, Section 35 of the NDPS\\nAct comes into play and the burden shifts on the appellant-\\naccused to prove that he was not in conscious possession\\nof the contraband. [...]The Explanation to sub-section (1)\\nof Section 35 expanding the meaning of “culpable mental\\nstate” provides that “culpable mental state” includes\\nintention, knowledge of a fact and believing or reason\\nto believe a fact. Sub-section (2) of Section 35 provides\\nthat for the purpose of Section 35, a fact is said to be\\nproved only when the court believes it to exist beyond a\\nreasonable doubt and not merely when its existence is\\nestablished by a preponderance of the probability. Once\\nthe possession of the contraband by the accused has been\\nestablished, it is for the accused to discharge the onus of\\nproof that he was not in conscious possession. Burden of\\nproof cast on the accused under Section 35 of the NDPS\\nAct can be discharged through different modes. One of\\nsuch modes is that the accused can rely on the materials\\navailable in the prosecution case raising doubts about the\\nprosecution case. The accused may also adduce other\\nevidence when he is called upon to enter on his defence.\\nIf the circumstances appearing in the prosecution case\\ngive reasonable assurance to the court that the accused\\ncould not have had the knowledge of the required intention,\\nthe burden cast on him under Section 35 of the NDPS\\nAct would stand discharged even if the accused had not\\nadduced any other evidence of his own when he is called\\nupon to enter on his defence.”\\n(Emphasis supplied)\\n166. What can be discerned from the above is that the idea behind\\nproviding for a statutory presumption of culpable mental state is\\nin view of the exigency posed by the difficulty that often exists in\\nestablishing certain types of offences such as inchoate offences\\ndue to its clandestine nature. Such presumptions are in essence\\nan exception to the cardinal principle of criminal jurisprudence that\\nthe act does not make a person guilty unless the mind is also guilty.\\n167. Traditionally, it is the prosecution who bears the burden of proving\\nevery element in a particular offence, including the accused’s mental\\nstate, beyond a reasonable doubt. In order to establish the commission\\nof any offence, the prosecution must stand on its own legs i.e., the\\nonus lies on the prosecution to prove beyond reasonable doubt not\\njust the wrongful act but also the wrongful intention of the person in\\ndoing such an act. However, in certain offences particularly economic\\noffences or inchoate offences like possession of child pornography\\nwhere apart from the actus reus there exists no other material to depict\\nor demonstrate the mens rea, it is too difficult for the prosecution to\\nlook into the mind of the accused to cull out with certainty what his\\nintention was or could have been for doing a particular act let alone\\ncogently establish the same beyond a reasonable doubt. Due to the\\nelusive and concealed nature of such offences there is often little\\nto no direct evidence available to establish what was in fact in the\\nmind of the accused at the time when the particular act in question\\noccurred or that the said act was done only with a particular intention.\\n168. It is in such scenarios, the legislature consciously provides for a\\nstatutory presumption of a culpable mental state to overcome the\\naforesaid hurdles and assist the prosecution to prove its case. This\\npresumption of a culpable mental state is neither a conclusive proof\\nof guilt for any particular offence nor does it completely replace\\nor absolve the prosecution of its burden of proof and should not\\nbe understood as such, but rather it is a potent tool to assist the\\nprosecution in discharging its initial burden and establishing its\\ncase. It seeks to bridge the evidentiary gap that exists between the\\nactus reus and the mens rea in complex clandestine offences which\\notherwise cannot be proved through conventional means.\\n169. One good reason for providing such statutory presumptions in\\ndifferent legislations is owed to the fact that at times having regard\\nto the peculiar case the prosecution may find it extremely difficult to\\nknow the mind of the accused so as to establish his intention and\\nmental state. In contrast, the accused may not have to face the same\\ndegree of difficulty because he is fully aware of his mental state and\\ncan explain his intentions on the basis of his conduct or actions.\\n170. However, since the courts were in seisin of the harshness of such\\npresumptions and the inherent danger they pose – particularly in\\nblurring the line between the presumption of a culpable mental\\nstate and the presumption of the guilt itself and thereby undoing or\\ncompromising the fairness of such criminal proceeding, this Court\\nfor the first time in Baldev Singh (supra) sowed the seeds for a test\\nto ascertain as to when such presumption can be safely attracted\\nwhich was later more fully evolved in Noor Aga (supra) wherein a\\nbrightline test was laid down in the form of the ‘Rule or Principle of\\nFoundational Facts’.\\n171. This ‘Rule or Principle of Foundational Facts’ simpliciter lays down that\\nbefore the statutory presumption of culpable mental state could be\\nvalidly invoked, the prosecution must first establish certain foundational\\nfacts. These foundational facts typically involve or correspond to\\nproving those facts or elements that cogently establish the actus reus\\nrequired for the offence alleged by the prosecution. It is only after\\nsuch foundational facts have been proved beyond a reasonable doubt\\nthat the prosecution may take recourse of the statutory presumption\\nprovided by the legislature. The rationale behind the same is two-fold.\\nFirst, in the absence of any actus reus there is no possible way to\\nascertain the corresponding mens rea that is required to be established.\\nThis is because it is the actus reus which demarcates or delineates\\nthe mens rea which is to be looked for and established. Without an\\nactus reus of any form there arises no question of establishing and\\nconsequently presuming the mens rea, in view of the fundamental\\nprinciple of criminal jurisprudence, that no one should be punished for\\ntheir thoughts or intention alone unless accompanied by some form\\nof act. Secondly, and more importantly it ensures that the statutory\\npresumption does not overreach or take the place of proof of guilt\\nunder the guise of ‘presumption of culpable mental state’.\\n172. It would be too much to shift the entire onus onto the accused and to\\nthen ask him to prove a negative fact. Thus, any statutory presumption\\nwould operate only after the prosecution first lays the foundational\\nfacts necessary for the offences that have been alleged beyond a\\nreasonable doubt. This is because a negative cannot be proved in\\nthe initial threshold, in order to prove a contrary fact, the fact whose\\nopposite is sought to be established must be proposed first. Thus,\\nin law it is trite that the initial burden always lies on the prosecution.\\nThis why, the establishment of foundational facts by the prosecution\\nis a prerequisite for triggering the statutory presumption for shifting\\nthe onus on the accused to prove the contrary. It is a delicate\\nbalance struck between the practical need for such presumption in\\nlaw and the cardinal principles of criminal jurisprudence to ensure\\nthat the presumption does not cross or transgress the fine line\\nthat demarcates presumption of ‘culpable mental state’ from the\\n‘presumption of guilt’ itself.\\n173. Since a negative cannot be proved, an accused cannot be asked\\nto disprove his guilt even before the foundational allegations with\\nsupporting material thereof are placed and duly established by the\\nprosecution before the court. Unless the prosecution is able to prove\\nfoundational facts in the context of the allegations made against the\\naccused under any specific provision of the POCSO as the case\\nmay be, the statutory presumption of culpable mental state under\\nSection 30 of the POCSO will not come into the picture.\\n174. Even if the prosecution establishes such foundational facts and the\\npresumption is raised against the accused, he can rebut the same\\neither by discrediting prosecution’s case as improbable or absurd or\\nthe accused could lead evidence to prove his defence, in order to\\nrebut the presumption, however the said presumption under Section\\n30 of the POCSO will be said to have been rebutted only where\\nthe accused by way of his defence establishes a fact contrary to\\nthe presumption and proves the same beyond a reasonable doubt.\\nb. Foundational Facts required under Section 15 of the POCSO.\\n175. Now coming to Section 15 of the POCSO, as discussed earlier, the\\nfoundational facts ordinarily pertain to the actus reus required under a\\nparticular offence. However, given the fact that Section 15 penalizes\\nthree distinct and varying degrees of intention and having regard to\\nthe mutually exclusive nature of each of the three offences provided\\nthereunder, the mere storage or possession of a child pornographic\\nmaterial cannot become the foundational facts or basis for attracting\\nall three of the said offences all the same.\\n176. As discussed by us in the foregoing parts of this judgment, while on a\\nplain reading Section 15 sub-section(s) (1), (2) and (3) it might appear\\nthat all require the same actus reus i.e., the storage or possession\\nof the child pornographic material, however, such an interpretation\\nis flawed as a closer examination of each of the sub-section would\\nreveal that there exists a very fine but pertinent distinction in the\\nactus reus which is required to constitute an offence under Section\\n15 sub-section(s) (1), (2) or (3) of the POCSO.\\n177. Thus, for the purpose of Section 15 sub-section (1), the necessary\\nfoundational facts which the prosecution would first have to establish\\nbefore it can be allowed to validly raise the statutory presumption of\\nculpable mental state would simpliciter be the storage or possession\\nof any child pornographic material and that the person accused had\\nfailed to delete, destroy or report the same. Once, the aforesaid is\\nclearly established by the prosecution, a presumption would be raised\\nin terms of Section 30 of the POCSO that the person accused had\\nthe knowledge of the child pornographic material that was found to\\nbe stored or possessed by him and that he had the intent to share\\nor transmit the same due to which he failed to delete, destroy or\\nreport it.\\n178. Whereas when it comes to Section 15 sub-section (2), since the\\nactus reus required to constitute an offence thereunder requires\\nthe storage or possession of any pornographic material involving\\na child along with any additional mater to show either the actual\\ntransmission, propagation, display or distribution of any such material\\nor the facilitation of any of the abovementioned acts. Thus, in order\\nto invoke the statutory presumption of culpable mental state as\\ncontained in Section 30 of the POCSO, the prosecution would be\\nrequired to first establish not just the storage or possession of any\\nchild pornographic material, but also any other material to indicate\\nany actual transmission, propagation, display or distribution of any\\nsuch material or any form of an overt act such as preparation or\\nsetup done for the facilitation of the transmission, propagation,\\ndisplay or distribution of such material, whereafter, the statutory\\npresumption would stand attracted, and it shall be presumed by\\nthe courts that the said act was done with the intent of transmitting,\\ndisplaying, propagating or distributing such material and that the\\nsaid act(s) had not been done for the purpose of either reporting\\nor for use as evidence. We clarify that, though wherever any actual\\ntransmission, propagation, display or distribution of such material\\ntakes place, the offence under Section 15 sub-section (2) would be\\nconstituted, thereby seemingly not requiring any further to be proved.\\nHowever, due to the two exceptions carved out in sub-section (2)\\nnamely that transmission, propagation, display or distribution of child\\npornographic material when done for either reporting the same or\\nfor use as evidence, the statutory presumption in such scenario will\\nstill continue to serve a useful purpose by aiding the prosecution\\nin reinforcing that any of the abovementioned acts had not been\\ndone with the intention of either reporting the same or for using it\\nas evidence, unless the contrary is proven.\\n179. Lastly, for the purpose of Section 15 sub-section (3) of the POCSO,\\nthe actus reus required therein is the storage or possession of any\\nchild pornographic material and any other material to indicate that\\nsuch storage or possession was done in lieu or in expectation of some\\nform of gain or benefit. Thus, where the prosecution established the\\nstorage or possession of such material and further shows anything\\nelse that might indicate that the same had been done for some\\nform of gain or benefit or the expectation of some gain or benefit,\\nthe foundational facts would be said to have been proved, and the\\nstatutory presumption envisaged under Section 30 of the POCSO\\ncan be validly raised. Then the onus would lie on the accused to\\nprove that the storage or possession of such material had not been\\ndone with intention of any commercial purpose.\\nc. Whether the Presumption under Section 30 of the POCSO\\ncan be resorted to in a Quashing Proceeding?\\n180. The last aspect which remains to be examined is whether the said\\nstatutory presumption of culpable mental state provided in Section\\n30 of the POCSO can be resorted to in a quashing proceeding by\\nthe High Courts in exercise of their inherent powers under Section\\n482 of the Cr.P.C. (corresponding Section 530 of the Bhartiya Nagrik\\nSuraksha Sanhita, 2023, for short, the “BNSS”). In other words, at\\nwhat stage can the aforesaid said statutory presumption be invoked\\nat. Before proceeding with the analysis of the said aspect, it would\\nbe appropriate to refer to a few decisions of this Court on this issue.\\n181. In State of M.P. v. Harsh Gupta reported in (1998) 8 SCC 630, this\\nCourt held that the statutory presumption contained in Section 69\\nof the Indian Forest Act, 1927 could not have been ignored by the\\nHigh Court in deciding the quashing petition under Section 482 of\\nthe Cr.P.C. The relevant observations read as under: -\\n“3. It is rather surprising that at a stage when the only\\nquestion to be considered was whether the complaint and\\nits accompaniments disclosed any or all of the offences\\nalleged against the respondent, the learned Judge not\\nonly went into a detailed discussion about his defence but\\nrecorded a conclusive finding that he was not guilty of the\\noffences alleged against him. More surprising is that the\\nlearned Judge ignored the provisions of Section 69 of the\\nAct which expressly raises a statutory presumption against\\na person arraigned that the forest produce recovered from\\nhim was a property of the Government, until the contrary\\nis proved; and needless to say, the question of proof of\\nthe contrary can be answered after evidence is led.\\n4. For the foregoing discussion, we allow this appeal, set\\naside the impugned judgment and direct the Magistrate\\nto proceed with the case in accordance with law, without\\nin any way being influenced by any of the observations\\nmade by the High Court in the impugned order.”\\n(Emphasis supplied)\\n182. This Court in Prakash Nath Khanna v. CIT reported in (2004) 9\\nSCC 686 examined the scope of Section 278E of the Act, 1961.\\nIt held that where there is a statutory presumption as regards the\\nexistence of a culpable mental state on the part of the accused in\\nrespect of any offence alleged, any defence in respect of the absence\\nof such mental state can only be pleaded in the trial. It further held\\nthat in such scenario, it will not be open for the High Court to delve\\ninto the aspect of the absence of such mental state in a quashing\\nproceeding. The relevant observations read as under: -\\n“23. There is a statutory presumption prescribed in Section\\n278-E. The court has to presume the existence of culpable\\nmental state, and absence of such mental state can be\\npleaded by an accused as a defence in respect to the act\\ncharged as an offence in the prosecution. Therefore, the\\nfactual aspects highlighted by the appellants were rightly\\nnot dealt with by the High Court. This is a matter for trial.\\nIt is certainly open to the appellants to plead absence of\\nculpable mental state when the matter is taken up for trial.”\\n(Emphasis supplied)\\n183. In another decision of this Court in R. Kalyani v. Janak C. Mehta\\n& Ors. reported in (2009) 1 SCC 516 although the issue therein did\\nnot pertain to the applicability of any statutory presumption, yet the\\nobservations made therein are significant. This Court held that the\\nHigh Court in a quashing petition in exercise of its inherent jurisdiction\\ncannot go into the aspect of either the existence or absence of any\\nmens rea or actus reus for a particular offence to pass an order in\\nfavour of the accused. The relevant observations read as under: -\\n“15. Propositions of law which emerge from the said\\ndecisions are:\\n(1) The High Court ordinarily would not exercise its inherent\\njurisdiction to quash a criminal proceeding and, in particular,\\na first information report unless the allegations contained\\ntherein, even if given face value and taken to be correct\\nin their entirety, disclosed no cognizable offence.\\n(2) For the said purpose the Court, save and except in\\nvery exceptional circumstances, would not look to any\\ndocument relied upon by the defence.\\n(3) Such a power should be exercised very sparingly. If\\nthe allegations made in the FIR disclose commission of\\nan offence, the Court shall not go beyond the same and\\npass an order in favour of the accused to hold absence\\nof any mens rea or actus reus.\\n(4) If the allegation discloses a civil dispute, the same\\nby itself may not be a ground to hold that the criminal\\nproceedings should not be allowed to continue.”\\n(Emphasis supplied)\\n184. In a recent decision of this Court in Rathis Babu Unnikrishnan v.\\nThe State (Govt. of NCT of Delhi) & Anr. reported in 2022 INSC\\n480 it was held that when there is a statutory presumption, it would\\nnot be judicious of the quashing court to carry out a detailed enquiry\\non the facts alleged before first permitting the trial court to evaluate\\nthe evidence. It further observed that where a accused moves the\\ncourt for quashing even before the commencement of trial, the High\\nCourts in such cases should be slow and circumspect in prematurely\\nextinguishing by discarding the legal presumption all together. The\\nrelevant observation reads as under: -\\n“11. The legal presumption of the cheque having been\\nissued in the discharge of liability must also receive due\\nweightage. In a situation where the accused moves Court\\nfor quashing even before trial has commenced, the Court’s\\napproach should be careful enough to not to prematurely\\nextinguish the case by disregarding the legal presumption\\nwhich supports the complaint.\\nxxx xxx xxx\\n13. Bearing in mind the principles for exercise of jurisdiction\\nin a proceeding for quashing, let us now turn to the materials\\nin this case. On careful reading of the complaint and the\\norder passed by the Magistrate, what is discernible is that\\na possible view is taken that the cheques drawn were, in\\ndischarge of a debt for purchase of shares. In any case,\\nwhen there is legal presumption, it would not be judicious\\nfor the quashing Court to carry out a detailed enquiry on\\nthe facts alleged, without first permitting the trial Court to\\nevaluate the evidence of the parties. The quashing Court\\nshould not take upon itself, the burden of separating the\\nwheat from the chaff where facts are contested. To say\\nit differently, the quashing proceedings must not become\\nan expedition into the merits of factual dispute, so as to\\nconclusively vindicate either the complainant or the defence.\\nxxx xxx xxx\\n16. The proposition of law as set out above makes it\\nabundantly clear that the Court should be slow to grant\\nthe relief of quashing a complaint at a pre-trial stage,\\nwhen the factual controversy is in the realm of possibility\\nparticularly because of the legal presumption, as in this\\nmatter. What is also of note is that the factual defence\\nwithout having to adduce any evidence need to be of an\\nunimpeachable quality, so as to altogether disprove the\\nallegations made in the complaint.\\n17. The consequences of scuttling the criminal process at\\na pre-trial stage can be grave and irreparable. Quashing\\nproceedings at preliminary stages will result in finality\\nwithout the parties having had an opportunity to adduce\\nevidence and the consequence then is that the proper\\nforum i.e., the trial Court is ousted from weighing the\\nmaterial evidence. If this is allowed, the accused may be\\ngiven an un-merited advantage in the criminal process.\\nAlso because of the legal presumption, when the cheque\\nand the signature are not disputed by the appellant, the\\nbalance of convenience at this stage is in favour of the\\ncomplainant/prosecution, as the accused will have due\\nopportunity to adduce defence evidence during the trial,\\nto rebut the presumption.”\\n(Emphasis supplied)\\n185. From the above exposition of law, it is clear that there is no bar for\\nthe High Court to invoke the statutory presumption at the stage of\\ndeciding the quashing petition in respect to any offence to which such\\na presumption is applicable. Rather, any failure to give due weightage\\nto the same, may result in dire consequences such as premature\\nquashing of the criminal proceeding or allowing the accused to\\ncompletely bypass the statutory presumption which otherwise would\\nhave been applicable in the trial. In light of our earlier discussion\\nand without again referring to a plethora of decisions in this regard,\\nit is clear how the statutory presumption plays a vital role when it\\ncomes to offences such as those under the POCSO.\\n186. This Court in Attorney General (supra) specifically held that\\nconsidering the objects of POCSO, its provisions, more particularly,\\npertaining to sexual assault etc should be construed viz-a-viz the other\\nprovisions of the Act more meaningful and effective. Any selective\\nreference to a particular provision in complete ignorance of the\\nother provision would result in a mutilation of the entire scheme and\\npurport of the legislation and thereby defeat the purpose with which\\nit was enacted. The High Courts as a matter of choice should not\\nshy away from referring to the statutory presumption that has been\\nincorporated in the Act, whilst deciding a quashing petition. The High\\nCourts must not deal with a particular offence under any enactment\\ndevoid or in disregard of the rest of the statutory framework, it must\\nrecognize and refer to the legislation in toto.\\n187. Otherwise, it would give an undue advantage to an accused by\\nallowing him to mischievously prefer a quashing petition before the\\ntrial commences and completely bypass the statutory presumption\\nprovided by the legislature and walk right away from the criminal\\nproceedings, thereby setting the entire legislation at naught. It is\\nimperative for the courts to discourage any such attempts on part of\\nthe accused to short circuit the statutory provisions and procedure\\nlaid in a particular Act and evade trial entirely. In such situations, the\\nstatutory presumption becomes all the more important to effectively\\nensure that criminal process is not manipulated by any devious\\naccused.\\n188. As has been held in Prakash Nath Khanna (supra) and Rathis\\nBabu Unnikrishnan (supra), any defence of the accused for the\\npurpose of rebutting the said statutory presumption should ordinarily\\nbe left to the trial court to be looked into at-least when it comes to\\nquashing petitions. Though, in certain exceptional circumstances,\\nthe High Court may entertain such defence to quash the criminal\\nproceedings where it appears from the facts itself that the allegations\\nthemselves are completely false and bogus and by no stretch of\\nimagination said to be established. But in doing so, the High Court\\nmust be slow and circumspect & must exercise some restraint. The\\nstatutory presumption may be ignored only where no foundational\\nfacts have been established from the material on record.\\n189. Once the foundational facts are prima facie established from the\\nmaterials on record, it would be improper for the High Court in a\\nquashing petition to conduct an intricate evidentiary inquiry into the\\nfacts and ascertain whether the requisite mental elements are present\\nor not. All these aspects should be left to be decided by the trial\\ncourt which is the appropriate forum for the evaluation of the same,\\nespecially where the statutory presumption has been attracted prima\\nfacie from the material on record.\\n190. When the High Court quashes any criminal proceedings without\\nconsidering the legal effect of the statutory presumption, it effectively\\nscuttles the process of trial and thereby denies the parties the\\nopportunity to adduce appropriate evidence and the right to a fair\\ntrial. This would not only defeat the very case of the prosecution\\nbut would also thwart the very object of a particular legislation and\\nthereby undermine the public confidence in the criminal justice system.\\n191. We are conscious of the fact that in Noor Aga (supra) this Court had\\nheld that the statutory presumption under Section 35 of the NDPS\\nAct would only operate in the trial of the accused. However, a close\\nreading of the said decision would reveal that this Court in Noor Aga\\n(supra) only went so far as to say that before a statutory presumption\\ncould be invoked, the foundational facts must have been established\\nby the prosecution. We may at the cost of repetition again reproduce\\nthe relevant observations of Noor Aga (supra) in this regard: -\\n“58. Sections 35 and 54 of the Act, no doubt, raise\\npresumptions with regard to the culpable mental state on\\nthe part of the accused as also place the burden of proof\\nin this behalf on the accused; but a bare perusal of the\\nsaid provision would clearly show that presumption would\\noperate in the trial of the accused only in the event the\\ncircumstances contained therein are fully satisfied. An\\ninitial burden exists upon the prosecution and only when\\nit stands satisfied, would the legal burden shift. Even then,\\nthe standard of proof required for the accused to prove\\nhis innocence is not as high as that of the prosecution.\\nWhereas the standard of proof required to prove the guilt of\\nthe accused on the prosecution is “beyond all reasonable\\ndoubt” but it is “preponderance of probability” on the\\naccused. If the prosecution fails to prove the foundational\\nfacts so as to attract the rigours of Section 35 of the Act,\\nthe actus reus which is possession of contraband by the\\naccused cannot be said to have been established.\\n(Emphasis supplied)\\n192. What has been conveyed by this Court in so many words in\\nthe aforesaid paragraph of Noor Aga (supra) is that despite the\\nstatutory presumption of culpable mental state, the initial burden\\nto establish the foundational facts will still lie on the prosecution.\\nThis Court by no stretch of imagination could be said to have held\\nthat the statutory presumption of culpable mental state would only\\nbe applicable in trial. Even otherwise, since the decision of Noor\\nAga (supra) arose from a criminal appeal against conviction, this\\nCourt by no extent had the occasion to examine the applicability\\nof the statutory presumption to proceedings other than the trial and\\nappeal thereof.\\n193. We are also in seisin of the fact that Section 30 sub-section (1)\\nspecifically provides that “the Special Court shall presume the\\nexistence of such mental state”. Similarly, Section 30 sub-section\\n(2) also uses the words “Special Court”. However, this in no manner\\ncan be construed to hold that it is the Special Court alone which has\\nbeen vested with the power to raise the presumption under Section\\n30 of the POCSO. We say so, because: -\\n(i) First, the use of the words “the Special Court shall presume\\nthe existence of such mental state” in sub-section (1) and other\\nmention of Special Courts in the provision is only explanatory\\nin nature inasmuch as the legislature has used the said word\\nto only explain how such presumption would ordinarily operate\\nin a trial. It by no stretch can be understood as a bar on the\\napplicability of such presumption to other proceedings, as the\\nsaid provision does not in any manner delineate or lay down\\nthe scope of such presumption and rather only elucidates the\\nnature of the presumption (i.e., presumption of culpable mental\\nstate), the manner in which it would operate (i.e., applicable\\nto any offence under the POCSO which requires any culpable\\nmental state) and the standard of proof required to prove\\nanything contrary (i.e., beyond a reasonable doubt). By no\\nmeans it could be said that the legislature by the use of the\\nwords “Special Court” in Section 30 of the POCSO intended\\nto curtail the application of the said statutory provision only in\\ntrial. Any such interpretation would completely render the other\\npenal provisions meaningless, wherever the accused at the\\nearlier stages moves for a quashing petition.\\n(ii) Secondly, the statutory presumption under Section 30 of the\\nPOCSO operates or gets attracted not by virtue of the court\\nbefore which the matter happens to be at, but by the offence\\nitself, for which the legislature specifically provides such\\npresumption in the first place. Since, the presumption in essence\\nis in respect of mens rea required for any offence under the\\nPOCSO, this presumption is inextricably linked to the offence\\nalone and not the power conferred upon a particular court.\\nThis is evinced by Section 30 sub-section (1), more particularly\\nthe expression “In any prosecution for any offence under this\\nAct which requires a culpable mental state on the part of the\\naccused”. Furthermore, the aforesaid expression is of wide\\nimport and the words “prosecution for any offence under this Act”\\noccurring therein would subsume and include any proceeding\\nin respect of an offence under the POCSO would.\\n(iii) Thirdly, even otherwise, the mere usage of words “Special\\nCourt” in the said provision can by no extent defeat or override\\nthe inherent powers that have been vested in the High Court\\nby virtue of Section(s) 482 and 530 of the Cr.P.C. and BNSS,\\nrespectively.\\nAs such, the statutory presumption envisaged under Section 30 of\\nthe POCSO is applicable and can be invoked in any proceeding\\nwhich involves an offence under the said Act that requires a culpable\\nmental state, irrespective of the court where such proceeding is\\ntaking place.\\n194. It is a settled position of law that a statute is an edict of the legislature,\\nthe elementary principle of interpreting or construing a statute is\\nto gather the mens or sententia legis i.e., the true intention of the\\nlegislature. It is trite saying that while interpreting a statute, the\\ncourts should strive to ascertain the intention of the Legislature\\nenacting it, and it is the duty of the Courts to accept an interpretation\\nor construction which promotes the object of the legislation and\\nprevents its possible abuse. Thus, we are of the considered view\\nthat any other interpretation of the provisions of the POCSO and of\\nthe various issues that have been discussed by us in the foregoing\\nparagraphs, would frustrate the very avowed and salutary object of\\nthe POCSO and its provisions.\\niv. Whether the case at hand was one fit for the High Court\\nto quash?\\n195. The undisputed facts are that, during investigation two videos\\ndepicting children involved in a sexual activity were recovered from\\nthe mobile phone of the respondent no. 1. As per the FSL Report,\\nthe aforesaid two videos were last modified in the memory of the\\naccused person’s phone on 05.09.2016 and 14.06.2019 respectively.\\nThe respondent no. 1 himself admitted before the High Court as\\nrecorded in the impugned order that he was addicted to watching\\npornography. In what circumstances such statement come to be\\nrecorded by the High court is a mystery. Although, the FIR dated\\n29.01.2020 alleged offences under Section(s) 14(1) of the POCSO\\nand 67B of the IT Act, yet in the chargesheet, the aforesaid offence\\nunder Section 14(1) of the POCSO was substituted and instead\\noffence under Section 15(1) of the POCSO was alleged to have\\nbeen committed.\\n196. The High Court in its Impugned Order whilst quashing the criminal\\nproceedings arising out of the aforesaid chargesheet dated\\n19.09.2023 completely failed to advert to the actual charge that was\\nalleged therein more particularly Section 15 sub-section (1) of the\\nPOCSO. Instead, the High Court appears to have just relied upon\\nthe FIR and premised its findings on Section 14 of the POCSO,\\neven though the said offence had been dropped in the chargesheet.\\nThus, there appears to be a serious lapse on part of the High Court\\nin failing to advert to Section 15 of the POCSO especially when the\\nchargesheet had already been filed at the time of passing of the\\nImpugned Order. It is no longer res-integra that once the investigation\\nis over and chargesheet is filed, the FIR pales into insignificance. The\\ncourt, thereafter, owes a duty to look into all the materials collected\\nby the investigating agency in the form of chargesheet.\\n197. It is no longer res-integra, that the High Court in exercise of its inherent\\npowers under Section(s) 482 of the Cr.P.C. or 530 of the BNSS as\\nthe case must not conduct a mini trial or go into the truthfulness\\nof the allegations while dealing with a quashing petition. The High\\nCourt may be justified in quashing the chargesheet if it appears to it\\nthat continuance of criminal proceedings would be nothing but gross\\nabuse of the process of law.\\n198. In R.P. Kapur v. State of Punjab reported in AIR 1960 SC 866, this\\nCourt summarised some categories of cases where inherent power\\ncan, and should be exercised to quash the proceedings: -\\n(i) where it manifestly appears that there is a legal bar\\nagainst the institution or continuance e.g. want of\\nsanction;\\n(ii) where the allegations in the first information report\\nor complaint taken at its face value and accepted in\\ntheir entirety do not constitute the offence alleged;\\n(iii) where the allegations constitute an offence, but there\\nis no legal evidence adduced or the evidence adduced\\nclearly or manifestly fails to prove the charge.\\n199. This Court in State of Haryana v. Bhajan Lal reported in 1992 AIR\\nSC 604 held that the power of quashing must be used very sparingly\\nand with circumspection. It must only be used in the rarest of the\\nrare cases. While laying down the principles relating to quashing of\\ncriminal proceedings, this Court held that while examining a complaint\\nor FIR, the quashing of which is sought, the Court cannot embark\\nupon an enquiry as to the reliability or genuineness or otherwise of\\nthe allegations made in the FIR or in the complaint. The relevant\\nobservations read as under: -\\n“102. In the backdrop of the interpretation of the various\\nrelevant provisions of the Code under Chapter XIV and of\\nthe principles of law enunciated by this Court in a series\\nof decisions relating to the exercise of the extraordinary\\npower under Article 226 or the inherent powers under\\nSection 482 of the Code which we have extracted and\\nreproduced above, we give the following categories of\\ncases by way of illustration wherein such power could be\\nexercised either to prevent abuse of the process of any\\ncourt or otherwise to secure the ends of justice, though it\\nmay not be possible to lay down any precise, clearly defined\\nand sufficiently channelised and inflexible guidelines or\\nrigid formulae and to give an exhaustive list of myriad\\nkinds of cases wherein such power should be exercised.\\n(1) Where the allegations made in the first information\\nreport or the complaint, even if they are taken at their\\nface value and accepted in their entirety do not prima\\nfacie constitute any offence or make out a case against\\nthe accused.\\n(2) Where the allegations in the first information report\\nand other materials, if any, accompanying the FIR do not\\ndisclose a cognizable offence, justifying an investigation\\nby police officers under Section 156(1) of the Code except\\nunder an order of a Magistrate within the purview of Section\\n155(2) of the Code.\\n(3) Where the uncontroverted allegations made in the FIR\\nor complaint and the evidence collected in support of the\\nsame do not disclose the commission of any offence and\\nmake out a case against the accused.\\n(4) Where, the allegations in the FIR do not constitute a\\ncognizable offence but constitute only a non-cognizable\\noffence, no investigation is permitted by a police officer\\nwithout an order of a Magistrate as contemplated under\\nSection 155(2) of the Code.\\n(5) Where the allegations made in the FIR or complaint\\nare so absurd and inherently improbable on the basis of\\nwhich no prudent person can ever reach a just conclusion\\nthat there is sufficient ground for proceeding against the\\naccused.\\n(6) Where there is an express legal bar engrafted in any\\nof the provisions of the Code or the concerned Act (under\\nwhich a criminal proceeding is instituted) to the institution\\nand continuance of the proceedings and/or where there\\nis a specific provision in the Code or the concerned Act,\\nproviding efficacious redress for the grievance of the\\naggrieved party.\\n(7) Where a criminal proceeding is manifestly attended\\nwith mala fide and/or where the proceeding is maliciously\\ninstituted with an ulterior motive for wreaking vengeance\\non the accused and with a view to spite him due to private\\nand personal grudge.”\\n200. In S.M. Datta v. State of Gujarat reported in (2001) 7 SCC 659\\nthis Court again cautioned that criminal proceedings ought not to be\\nscuttled at the initial stage. Quashing of a complaint or FIR should\\nrather be an exception and a rarity than an ordinary rule. This Court\\nalso held that if a perusal of the first information report leads to\\ndisclosure of an offence even broadly, law courts are barred from\\nusurping the jurisdiction of the police, since the two organs of the\\nState operate in two specific spheres of activities and one ought not\\nto tread over the other sphere.\\n201. In view of the aforesaid consistent line of decisions of this Court, the\\nHigh Court in our considered view could be said to have committed\\nan egregious error by quashing the criminal proceedings without even\\nproperly perusing the chargesheet and the other material on record.\\n202. The High Court should neither be picky nor remain oblivious in\\ndeciding which provision to advert to while considering a quashing\\npetition. When dealing with a quashing petition, there lies a duty\\non the High Court to properly apply its mind to all the material on\\nrecord. The least which is expected of High Court in such situation\\nis to carefully go through the allegations contained in the FIR and\\nthe charge-sheet, and to ascertain (i) whether, the offences alleged\\ntherein could be said to have been prima facie established from the\\nmaterial on record? or (ii) whether, apart from the offences alleged in\\nthe FIR or the charge-sheet, there is possibility of any other offence\\nprima facie being made out? The High Court in exercise of its inherent\\npowers, may be justified in quashing the criminal proceedings only\\nwhere, neither any offence as alleged in the FIR or charge-sheet\\nis disclosed nor any other offence is prima facie made out, and the\\ncontinuance of the proceedings may be found to amount to abuse\\nof process of law.\\n203. In the case at hand, there is no dispute by either side that, the two\\nvideos infact depicted children in a sexual activity. It is also not the\\ncase of the respondent no. 1 that the said videos were not recovered\\nfrom his mobile phone. In such circumstances, the child pornographic\\nmaterial that was recovered from the personal mobile phone of the\\naccused which was regularly in use by him, prima facie establishes\\nthe storage or possession of child pornographic material at his hand.\\nFurther, since the aforesaid child pornographic material was found\\nto have been stored in the said personal mobile phone since 2016\\nand 2019, prima facie it could be said there was a failure on the part\\nof the respondent no.1 to delete, destroy or report such material.\\n204. It was also sought to be contended on behalf of the respondent\\nno. 1 that the 2019 Amendment Act whereby and whereunder, the\\nthree distinct offences pertaining to the storage or possession of\\nchild pornography were made punishable under Section 15 of the\\nPOCSO came into force with effect from 16.09.2019. Whereas the\\nboth the videos in question had been allegedly stored in the device\\nbefore the 2019 Amendment Act came into force. Since, the present\\nSection 15(1) of the POCSO was not in operation at the relevant\\ntime when the videos were allegedly stored, the respondent no. 1\\ncannot be punished under the said provision which did not exist at\\nthe time of storage of such video.\\n205. However, we are not impressed with the aforesaid submission. What\\nis sought to be punished under Section 15 is not the time when such\\nmaterial was stored or came to be possessed but rather the storage\\nor possession itself, which may be continuous, wherein the relevant\\npoint of time of such storage or possession for constituting any offence\\nunder the POCSO more particularly Section 15 would be reckoned\\nfrom the date of registration of the FIR. In the present case, it is not\\nin dispute that when 2019 Amendment came into force and later when\\nthe FIR was registered, the aforesaid two videos were still stored in\\nthe mobile phone of the respondent no. 1. In such circumstances,\\nSection 15 sub-section (1) could be said to be prima facie attracted.\\na. Plea of Ignorance of Law: Ignorance of Law viz-a-viz\\nIncognizance of Law.\\n206. At this juncture, we may address yet another submission that was\\ncanvassed on behalf of the accused as regards the plea of bona-\\nfide ignorance of law. It was contended that the accused was not\\naware of the fact that storing of child-pornography was a punishable\\noffence under Section 15 of POCSO and that the child pornographic\\nmaterial which was found stored in his mobile phone was due to his\\nunawareness of the law accompanied by a bona-fide belief that such\\nstorage was not an offence, and as such he ought not to be held\\nliable. In this regard, reliance has been placed on two decisions of\\nthis Court in Chandi Kumar Das Karmarkar (supra) and Motilal\\nPadampat Sugar Mills (supra).\\n207. In Chandi Kumar Das Karmarkar (supra), the facts of the case are\\nas follows; there was a civil dispute inter-alia between the accused\\npersons therein and the complainant as regards the ownership of a\\nwater tank where fishes had been reared. The complainant therein\\nhad acquired possession of the said tank on the strength of an ex-\\nparte decree against the accused persons. Eventually, that ex-parte\\ndecree was set-aside, however the final decision on the title was\\nstill pending. Although no application for restitution was preferred yet\\nthe accused, due to a bona-fide ignorance of law, was under the\\nimpression that he had regained possession of the said tank and\\nagain started catching fishes in the tank. The complainant lodged an\\nFIR against the accused persons inter-alia alleging theft of fish from\\nhis tank. The accused therein in his defence pleaded ignorance of\\nlaw stating that he was unaware that, the said tank and the fishes in\\nthat expanse of water under the law continued to be deemed to be\\nthe property of the complainant in the absence of any restitution or\\nthat the possession of the water reservoir had not reverted back to\\nhim. He further pleaded that; he was under a bona-fide belief that he\\nhad a right of possession of the said tank by virtue of the ex-parte\\ndecree being set-aside. This Court held that any claim of right due\\nto a bona-fide ignorance of law, if reasonable will not constitute an\\nact of theft. It further explained that a claim to such right means one\\nwhich is not a false pretence but a fair pretence, and not a complete\\nabsence of claim but a bona-fide claim, however weak. The relevant\\nobservations read as under: -\\n“6. The offence of theft consists in the dishonest taking of\\nany moveable property out of the possession of another\\nwith his consent. Dishonest intention exists when the\\nperson so taking the property intends to cause wrongful\\ngain to himself or wrongful loss to the other. This intention\\nis known as animus furandi and without it the offence of\\ntheft is not complete. Fish in their free state are regarded\\nas ferae naturae but they are said to be in the possession\\nof a person who has possession of any expanse of water\\nsuch as a tank, where they live but from where they\\ncannot escape. Fishes are also regarded as being in the\\npossession of a person who owns an exclusive right to\\ncatch them in a particular spot known as a fishery but only\\nwithin that spot. There can thus be theft of fish from a tank\\nwhich belongs to another and is in his possession, if the\\noffender catches them without the consent of the owner\\nand without any bona fide claim of right.\\n7. Now the ordinary rule that mens rea may exist even with an\\nhonest ignorance of law is sometimes not sufficient for theft.\\nA claim of right in good faith, if reasonable saves the act of\\ntaking from being theft and where such a plea is raised by\\nthe accused it is mainly a question of fact whether such belief\\nexists or not. This court in Criminal Appeal No. 31 of 1961\\n(Suvvari Sanyasi Apparao v. Boddepalli Lakhminarayana\\ndecided on October 5, 1961 observed as follows:\\n“It is settled law that where a bona fide claim\\nof right exists, it can be a good defence to a\\nprosecution for theft. An act does not amount\\nto theft, unless there be not only no legal right\\nbut no appearance or colour of a legal right.”\\n8. By the expression “colour of a legal right” is meant\\nnot a false pretence but a fair pretence, not a complete\\nabsence of claim put a bona-fide claim, however weak.\\nThis Court observed in the same case that the law was\\nstated in 2 East P.C. 659 to be:\\n“If there be in the prisoner any fair pretence of\\nproperty or right, or if it be brought into doubt\\nat all, the court will direct an acquittal.”\\nand reffered to 1 Hale P.C. 509 that “the best evidence is\\nthat the goods were taken quite openly”. The law stated by\\nEast and Hale has always been the law on the subject of\\ntheft in India and numerous cases decided by Indian Courts\\nare to be found in which these principles have been applied.\\nNiyogi, J. in his judgment also referred to some of the\\ndecisions of the Calcutta High Court and we find ourselves\\nin particular agreement with the following statement of the\\nlaw in Hamid Ali Bepari v. Emperor :\\n“It is not theft if a person, acting under a\\nmistaken notion of law and; believing that certain\\nproperty is his and that he has the right to take\\nthe same … removes such property from the\\npossession of another.”\\n(Emphasis supplied)\\n208. In Motilal Padampat Sugar Mills (supra) the State Government\\ntherein had framed a policy for grant of sales tax exemption to new\\nindustrial units in the State. On the basis of the said policy, the\\nappellant therein set-up an industrial unit and approached the State\\nGovernment for claiming the exemption. The State Government\\ninformed him that he would be granted only partial concession in sales\\ntax, to which the appellant was agreeable. However, subsequently,\\nthe State having second thoughts, rescinded the concession which\\nwas being granted to the appellant. Aggrieved by which the appellant\\npreferred a writ petition claiming exemption from sale tax as per the\\npolicy. However, the State Government in response submitted that\\nthe appellant therein by accepting a partial concession on sales tax\\nhad waived its right to claim full exemption. This Court rejecting the\\nsaid plea of waiver and estoppel held that, the appellant therein\\nwas unaware about the policy and the extent of the exemption in\\nsales tax under the law. Thus, the appellant due to the ignorance\\nof law had a bona-fide belief that the policy only provided for a\\npartial concession rather than a complete exemption. This Court\\nobserved that it cannot be presumed that the appellant was fully\\ninformed about the policy and that he had waived or abandoned his\\nright with full knowledge of the said policy. It further observed that\\noften the maxim “ignorantia juris non excusat” i.e., “ignorance of the\\nlaw is no excuse” is often misconstrued to mean that everyone is\\npresumed to know the law. Accordingly, this Court rejecting the plea\\nof promissory estoppel held that due to the ignorance of law on the\\npart of the appellant, it cannot be said that he had full knowledge\\nof its right to exemption so as to waive or abandon the same. The\\nrelevant observations read as under: -\\n“6. [...] The claim of the appellant to exemption could be\\nsustained only on the doctrine of promissory estoppel\\nand this doctrine could not be said to be so well defined\\nin its scope and ambit and so free from uncertainty in\\nits application that we should be compelled to hold that\\nthe appellant must have had knowledge of its right to\\nexemption on the basis of promissory estoppel at the time\\nwhen it addressed the letter dated June 25, 1970. In fact,\\nin the petition as originally filed, the right to claim total\\nexemption from Sales Tax was not based on the plea of\\npromissory estoppel which was introduced only by way of\\namendment. Moreover, it must be remembered that there\\nis no presumption that every person knows the law. It is\\noften said that everyone is presumed to know the law, but\\nthat is not a correct statement : there is no such maxim\\nknown to the law. Over a hundred and thirty years ago,\\nMaule, J., pointed out in Martindale v. Falkner:\\n“There is no presumption in this country that\\nevery person knows the law : it would be contrary\\nto common sense and reason if it were so.”\\nScrutton, L.J., also once said:\\n“It is impossible to know all the statutory law, and\\nnot very possible to know all the common law.”\\nBut it was Lord Atkin who, as in so many other spheres,\\nput the point in its proper context when he said\\nin Evans v. Bartlam\\n“… the fact is that there is not and never has\\nbeen a presumption that every one knows the\\nlaw. There is the rule that ignorance of the law\\ndoes not excuse, a maxim of very different scope\\nand application.”\\nIt is, therefore, not possible to presume, in the absence of\\nany material placed before the Court, that the. appellant had\\nfull knowledge of its right to exemption so as to warrant an\\ninference that the appellant waived such right by addressing\\nthe letter dated June 25, 1970. We accordingly reject the\\nplea of waiver raised on behalf of the State Government.\\n(Emphasis supplied)\\n209. Thus, from the aforesaid, we are of the considered view that the\\nreliance on the part of the accused on the two decisions of this Court\\nin Chandi Kumar Das Karmarkar (supra) and Motilal Padampat\\nSugar Mills (supra) is completely misplaced. In Chandi Kumar Das\\nKarmarkar (supra) the question before this Court was whether the\\naccused therein due to the ignorance of law could be said to have\\na bona-fide belief of a right or claim to possession of the fish tank\\nor in other words whether a plea of ignorance is a valid defence to\\nany acts done pursuant to a bona-fide belief of existence of a right\\nunder the mistaken notion of law. Whereas in Motilal Padampat\\nSugar Mills (supra) the issue for consideration before this Court\\nwas whether the appellant therein due to the ignorance of law could\\nbe said to have wilfully waived his right, or in other words whether\\na plea of ignorance is a valid defence to any promissory estoppel\\nto a right.\\n210. Thus, both the aforesaid decisions in Chandi Kumar Das Karmarkar\\n(supra) Motilal Padampat Sugar Mills (supra) are not applicable.\\nWe say so, because this Court in the aforesaid decisions has only\\ngone so far as to say that a plea of ignorance of law can be used as\\na valid defence for either showing that the purported act was done or\\nnot done (as the case may be) due to a consequent bona-fide belief\\nas to the existence of such a right or claim. In other words, a plea\\nof ignorance of law can be a valid defence if it consequently gives\\nrise to a legitimate and bona-fide mistake of fact as to the existence\\n(or non-existence) of a particular right or claim.\\n211. This may be better understood through a four-prong test wherein for\\na valid defence, there must exist (1) an ignorance or unawareness\\nof any law and (2) such ignorance or unawareness must give rise\\nto a corresponding reasonable and legitimate right or claim (3) the\\nexistence of such right or claim must be believed bonafide and (4)\\nthe purported act sought to be punished must take place on the\\nstrength of such right or claim. It is only when all the four of the above\\nconditions are fulfilled, that the person would be entitled to take a\\nplea of ignorance of law as a defence from incurring any liability.\\n212. As held in Chandi Kumar Das Karmarkar (supra) a plea of ignorance\\nof law is a valid defence only to the acts said to have been done on\\nthe basis of a right or a claim, the existence of which was bona-fidely\\nbelieved or entertained on the basis of ignorance of law or mistaken\\nnotion of law. Thus, for a plea of ignorance of law, the ignorance\\nor mistake of law must be such which legitimately gives rise to a\\nbona-fide belief of the existence of a right or a claim, and the said\\nperson commits any act on the strength of such right or claim. This\\nis fortified from the following observation “A claim of right in good\\nfaith, if reasonable saves the act [...] where such a plea is raised”\\nin paragraph 7 of Chandi Kumar Das Karmarkar (supra). Thus, a\\nplea of ignorance of law is only valid for the defence of a bona-fide\\nclaim of right and any acts done thereunder. As such, where a person\\ncommits any act on the assertion of a right, the existence of which\\nwas bona-fidely believed due to a mistaken notion of law, such person\\nwill not be liable due to the honest but mistaken factum of such right\\nor claim stemming from or accompanied by ignorance of law.\\n213. Similarly, in Motilal Padampat Sugar Mills (supra) this Court only\\nheld that a plea of ignorance of law may be a valid defence for bona-\\nfidely believing the existence of a wrong or incorrect right i.e., the\\nright to only a partial concession of sale tax exemption. Accordingly,\\nthis Court held that where a person due to ignorance of law was\\nnot fully informed about a particular right, there can be no waiver\\nof such right unless it is shown that such person was indeed aware\\nof the said right.\\n214. Thus, the aforesaid decisions of this Court in Chandi Kumar Das\\nKarmarkar (supra) Motilal Padampat Sugar Mills (supra) are\\ndistinguishable for the simple reason that storage or possession of\\nchild pornographic material cannot be equated or traced to any right or\\nassertion even if it was a mistaken one. Even if a person is unaware\\nthat the possession or storage of such material is punishable, it by\\nno stretch can be considered to give rise to any right or assertion as\\nthere exists no such right to either store or possess such material,\\nand thus it is not a valid defence. We say so because, no person\\nof an ordinary prudent mind with the same degree of oblivion or\\nunawareness as to the law, more particularly Section 15 of POCSO\\ncould as a natural corollary be led to a belief of existence of a right\\nto store or possess any child pornographic material. The ignorance\\nor unawareness must have a reasonable nexus with the right or\\nassertion claimed i.e., the ignorance or unawareness must be such\\nwhich could legitimately and reasonably give rise to a corresponding\\nright or claim the and the existence of which must be bona-fidely\\nbelieved. Otherwise, anyone could make a bald or blanket claim of\\nhaving a bonafide belief of any right to wriggle out of any liability\\narising out of its actions on the touchstone of unawareness of any\\nparticular law. Thus, even if the accused was unaware about Section\\n15 of POCSO, this by itself does not give rise to a corresponding\\nlegitimate or reasonable ground to believe that there was any right\\nto store or possess child pornographic material. As such the four-\\nprong test is not fulfilled and the defence of ignorance of law by the\\naccused must fail.\\n215. Even otherwise, one must be mindful to the fact that such a plea\\nis not a statutory defence with any legal backing, but rather a by-\\nproduct of the doctrine of equity. Whether such a defence is to be\\naccepted or not, largely depends upon the extant of equity in the\\npeculiar facts and circumstances of each individual cases. It is an\\nequally settled cannon of law that equity cannot supplant the law,\\nequity has to follow the law if the law is clear and unambiguous.\\n216. This Court in National Spot Exchange Ltd. v. Anil Kohli,\\nResolution Professional for Dunar Foods Ltd. reported in (2022)\\n11 SCC 761 after referring to a catena of its other judgments, had\\nheld that where the law is clear the consequence thereof must follow.\\nThe High Court has no option but to implement the law. The relevant\\nobservations made in it are being reproduced below: -\\n“15.1. In Mishri Lal [BSNL v. Mishri Lal, (2011) 14 SCC\\n739 : (2014) 1 SCC (L&S) 387], it is observed that the\\nlaw prevails over equity if there is a conflict. It is observed\\nfurther that equity can only supplement the law and not\\nsupplant it.\\n15.2. In Raghunath Rai Bareja [Raghunath Rai Bareja v.\\nPunjab National Bank, (2007) 2 SCC 230] , in paras 30\\nto 37, this Court observed and held as under : (SCC pp.\\n242-43)\\n“30. Thus, in Madamanchi Ramappa v. Muthaluru\\nBojjappa [AIR 1963 SC 1633] (vide para 12) this\\nCourt observed: (AIR p. 1637)\\n‘12. … [W]hat is administered in Courts is justice\\naccording to law, and considerations of fair\\nplay and equity however important they may\\nbe, must yield to clear and express provisions\\nof the law.’\\n31. In Council for Indian School Certificate Examination\\nv. Isha Mittal [(2000) 7 SCC 521] (vide para 4) this\\nCourt observed: (SCC p. 522)\\n‘4. … Considerations of equity cannot prevail\\nand do not permit a High Court to pass an order\\ncontrary to the law.’\\n32. Similarly, in P.M. Latha v. State of Kerala [(2003)\\n3 SCC 541 : 2003 SCC (L&S) 339] (vide para 13)\\nthis Court observed: (SCC p. 546)\\n‘13. Equity and law are twin brothers and law\\nshould be applied and interpreted equitably but\\nequity cannot override written or settled law.’\\n33. In Laxminarayan R. Bhattad v. State of\\nMaharashtra [(2003) 5 SCC 413] (vide para 73) this\\nCourt observed: (SCC p. 436)\\n‘73. It is now well settled that when there is\\na conflict between law and equity the former\\nshall prevail.’\\n34. Similarly, in Nasiruddin v. Sita Ram Agarwal\\n[(2003) 2 SCC 577] (vide para 35) this Court observed:\\n(SCC p. 588)\\n‘35. In a case where the statutory provision\\nis plain and unambiguous, the court shall\\nnot interpret the same in a different manner,\\nonly because of harsh consequences arising\\ntherefrom.’\\n35. Similarly, in E. Palanisamy v. Palanisamy [(2003)\\n1 SCC 123] (vide para 5) this Court observed: (SCC\\np. 127)\\n‘5. Equitable considerations have no place where\\nthe statute contained express provisions.’\\n36. In India House v. Kishan N. Lalwani [(2003) 9 SCC\\n393] (vide para 7) this Court held that: (SCC p. 398)\\n‘7. … The period of limitation statutorily\\nprescribed has to be strictly adhered to and\\ncannot be relaxed or departed from for equitable\\nconsiderations.’…”\\n(Emphasis supplied)\\n217. Unawareness or incognizance of law should not be conflated with\\nignorance of law. This Court in Motilal Padampat Sugar Mills\\n(supra) duly acknowledged that a plea of unawareness of law is\\nfundamentally different in scope and application from the rule that\\nignorance of the law does not excuse anyone. The former as explained\\nabove, is a byproduct of the doctrine of equity whereas the latter is\\na cardinal rule of criminal jurisprudence and no person can claim to\\nbe absolved of any criminal offence or liability on a plea of ignorance\\nof law. Thus, where something is specifically made punishable under\\nthe law, then in such cases the law would prevail over equity, and\\nno plea of ignorance of law can be taken as a defence to absolve\\nor dilute any liability arising out of such punishable offences. Thus,\\neven if all four preconditions are satisfied, the courts are not bound\\nto accept such a plea, if it is in negation or derogation of any law\\nor the idea of justice.\\n218. Equity modifies the applicable law or ensures its suitability to address\\nthe particular circumstances before a court to produce justice. The\\nmodification of general rules to the circumstances of the case is\\nguided by equity, not in derogation or negation of positive law, but\\nin addition to it. It supplements positive law but does not supplant\\nit. In a second sense however, where positive law is silent as to\\nthe applicable legal principles, equity assumes a primary role as\\nthe source of law itself. Equity steps in to fill the gaps that exist in\\npositive law. Thus, where no positive law is discernible, courts turn\\nto equity as a source of the applicable law. However, where positive\\nlaw exists, equity will always yield to it. [See M. Siddiq v. Mahant\\nSuresh Das, reported in 2020 1 SCC 1]\\n219. It was further contended by the respondent no. 1 that although the\\nsaid child pornographic material was found stored in his mobile phone,\\nyet he had no knowledge of the same. He would submit that, the\\naforesaid videos that were found stored in his mobile as revealed by\\nthe FSL Report had been automatically downloaded into his mobile\\nphone without his knowledge or volition.\\n220. Even, assuming that the respondent no. 1 did not actually store\\nthe aforesaid two videos in his mobile phone, and that he had no\\nknowledge of the existence of those videos, nonetheless, the aforesaid\\naspect cannot be looked into by us at the stage of quashing, more\\nparticularly while deciding whether a prima-facie case is said to be\\nmade out. Even otherwise, since the material on record adduced by\\nthe prosecution clearly establishes the possession or storage of child\\npornographic material and the failure on the part of the respondent\\nno. 1 in deleting, destroying or reporting the same, the foundational\\nfacts necessary to invoke the statutory presumption of culpable\\nmental state could be said to have been prima facie established.\\n221. In view of the statutory presumption of culpable mental state being\\nattracted, any defence of the respondent no. 1 such as the absence\\nof knowledge or intention would be a matter of trial. Absence of\\nculpable mental state has to be established before the trial court by\\nleading cogent evidence in that regard. Such defences should not\\nbe looked into by us at this stage. All that should be ascertained is\\nwhether a prima facie case is said to have been made out.\\nv. Summary of our conclusion\\n222. We summarize our final conclusion as under: -\\n(I) Section 15 of the POCSO provides for three distinct offences\\nthat penalize either the storage or the possession of any child\\npornographic material when done with any particular intention\\nspecified under sub-section(s) (1), (2) or (3) respectively. It is\\nin the nature and form of an inchoate offence which penalizes\\nthe mere storage or possession of any pornographic material\\ninvolving a child when done with a specific intent prescribed\\nthereunder, without requiring any actual transmission,\\ndissemination etc.\\n(II) Sub-section (1) of Section 15 penalizes the failure to delete,\\ndestroy or report any child pornographic material that has\\nbeen found to be stored or in possession of any person with\\nan intention to share or transmit the same. The mens-rea or\\nthe intention required under this provision is to be gathered\\nfrom the actus reus itself i.e., it must be determined from the\\nmanner in which such material is stored or possessed and the\\ncircumstances in which the same was not deleted, destroyed\\nor reported. To constitute an offence under this provision the\\ncircumstances must sufficiently indicate the intention on the\\npart of the accused to share or transmit such material.\\n(III) Section 15 sub-section (2) penalizes both the actual\\ntransmission, propagation, display or distribution of any\\nchild pornography as-well as the facilitation of any of the\\nabovementioned acts. To constitute an offence under Section\\n15 sub-section (2) apart from the storage or possession of\\nsuch pornographic material, there must be something more\\nto show i.e., either (I) the actual transmission, propagation,\\ndisplay or distribution of such material OR (II) the facilitation\\nof any transmission, propagation, display or distribution of\\nsuch material, such as any form of preparation or setup done\\nthat would enable that person to transmit it or to display it.\\nThe mens rea is to be gathered from the manner in which the\\npornographic material was found to be stored or in possession\\nand any other material apart from such possession or storage\\nthat is indicative of any facilitation or actual transmission,\\npropagation, display or distribution of such material.\\n(IV) Section 15 sub-section (3) penalizes the storage or possession\\nof any child pornographic material when done for any\\ncommercial purpose. To establish an offence under Section\\n15 sub-section (3), besides the storage or possession of the\\npornographic material involving a child, there must be some\\nadditional material or attending circumstances that may\\nsufficiently indicate that the said storage or possession was\\ndone with the intent to derive any gain or benefit. To constitute\\nan offence under sub-section (3) there is no requirement to\\nestablish that such gain or benefit had been actually realized.\\n(V) Sub-section(s) (1), (2) and (3) respectively of Section 15\\nconstitute independent and distinct offences. The three offences\\ncannot coexist simultaneously in the same set of facts. They\\nare distinct from each other and are not intertwined. This is\\nbecause, the underlying distinction between the three sub-\\nsections of Section 15 lies in the varying degree of culpable\\nmens rea that is required under each of the three provisions.\\n(VI) The police as well as the courts while examining any matter\\ninvolving the storage or possession of any child pornography,\\nfinds that a particular sub-section of Section 15 is not attracted,\\nthen it must not jump to the conclusion that no offence at all\\nis made out under Section 15 of the POCSO. If the offence\\ndoes not fall within one particular sub-section of Section 15,\\nthen it must try to ascertain whether the same falls within the\\nother sub-sections or not.\\n(VII) Any act of viewing, distributing or displaying etc., of any child\\npornographic material by a person over the internet without\\nany actual or physical possession or storage of such material\\nin any device or in any form or manner would also amount to\\n‘possession’ in terms of Section 15 of the POCSO, provided the\\nsaid person exercised an invariable degree of control over such\\nmaterial, by virtue of the doctrine of constructive possession.\\n(VIII) Any visual depiction of a sexually explicit act which any\\nordinary person of a prudent mind would reasonably believe\\nto prima facie depict a child or appear to involve a child, would\\nbe deemed as ‘child pornography’ and the courts are only\\nrequired to form a prima facie opinion to arrive at the subjective\\nsatisfaction that the material appears to depict a child from\\nthe perspective of any ordinary prudent person for any offence\\nunder the POCSO that relates to child pornographic material,\\nsuch as Section 15. Such satisfaction may be arrived at from\\nany authoritative opinion like a forensic science laboratory\\n(FSL) report of such material or opinion of any expert on the\\nmaterial in question, or by the assessment of such material\\nby the courts themselves.\\n(IX) Section 67B of the IT Act is a comprehensive provision\\ndesigned to address and penalize the various electronic forms\\nof exploitation and abuse of children online. It not only punishes\\nthe electronic dissemination of child pornographic material, but\\nalso the creation, possession, propagation and consumption\\nof such material as-well as the different types of direct and\\nindirect acts of online sexual denigration and exploitation of\\nthe vulnerable age of children. Section(s) 67, 67A and 67B\\nrespectively of the IT Act being a complete code, ought to be\\ninterpreted in a purposive manner that suppresses the mischief\\nand advances the remedy and ensures that the legislative intent\\nof penalizing the various forms of cyber-offences relating to\\nchildren and the use of obscene / pornographic material through\\nelectronic means is not defeated by a narrow construction of\\nthese provisions.\\n(X) The statutory presumption of culpable mental state on the\\npart of the accused as envisaged under Section 30 of the\\nPOCSO can be made applicable provided the prosecution is\\nable to establish the foundational facts necessary to constitute\\na particular offence under the POCSO that may have been\\nalleged against the accused. Such presumption can be\\nrebutted by the accused either by discrediting the prosecution’s\\ncase or by leading evidence to prove the contrary, beyond a\\nreasonable doubt.\\n(XI) The foundational facts necessary for the purpose of invoking the\\nstatutory presumption of culpable mental state for an offence\\nunder Section 15 of POCSO are as follows: -\\n(a) For the purpose of sub-section (1), the necessary\\nfoundational facts that the prosecution may have to\\nfirst establish is the storage or possession of any child\\npornographic material and that the person accused had\\nfailed to delete, destroy or report the same.\\n(b) In order to invoke the statutory presumption of culpable\\nmental state for an offence under sub-section (2) the\\nprosecution would be required to first establish the storage\\nor possession of any child pornographic material, and also\\nany other fact to indicate either the actual transmission,\\npropagation, display or distribution of any such material\\nor any form of an overt act such as preparation or setup\\ndone for the facilitation of the transmission, propagation,\\ndisplay or distribution of such material, whereafter it shall\\nbe presumed by the court that the said act was done\\nwith the intent of transmitting, displaying, propagating\\nor distributing such material and that the said act(s) had\\nnot been done for the purpose of either reporting or for\\nuse as evidence.\\n(c) For the purpose of sub-section (3) the prosecution must\\nestablish the storage or possession of such material and\\nfurther prove any fact that might indicate that the same\\nhad been done to derive some form of gain or benefit or\\nthe expectation of some gain or benefit.\\n(XII) The statutory presumption of culpable mental under Section 30\\nof POCSO can be made applicable in a quashing proceeding\\npertaining to any offence under the POCSO.\\nF. FEW MEANINGFUL SUGGESTIONS.\\n223. Before, we close this matter, we must address ourselves on a very\\nimportant aspect, as regards the need to effectively address the\\ngrowing number of dissemination and use of child pornography.\\ni. The Lingering Impact of Child Pornography on the\\nVictimization & Abuse of Children.\\n224. A child’s victimization begins with the sexual act, continues through\\nits recording, and perpetuates as photographs and videos that float\\nthrough cyberspace, freely accessible to anyone who has the ability\\nto surf the internet.1 Child sexual exploitation is one of the most\\nheinous crimes imaginable, and the offence of Child Pornography is\\nequally as heinous, if not more, as in the latter the victimization and\\nexploitation of the child does not end with the initial act of abuse.2\\nThe creation or dissemination of such pornographic material further\\nextends and compounds the harm infinitely and at a far larger scale.3\\nIt in essence turns the singular incident of an abuse into a ripple\\nof trauma inducing acts where the rights and dignity of the child is\\ncontinuously violated each time such material is viewed or shared.\\nThis is why it is imperative that we collectively as a society address\\nthis issue with the utmost seriousness.\\n225. The impact of such continuous victimization is profound. Any act\\nof sexual abuse inherently inflicts lasting physical and emotional\\ntrauma on the child. However, the dissemination of this act of abuse\\nthrough pornographic material further accentuates and deepens the\\ntrauma into a psychological scar. The knowledge that their abuse is\\nbeing watched by countless strangers, sometimes years after the\\nactual event, exacerbates the psychological wounds on top of the\\ntrauma that was already induced by the act in the first place.4 This\\nperpetuating violation deprives the victim of any remaining hope or\\nchance to heal, recover from the abuse and find closure. 5\\n226. One must also be mindful of the fact that the term “child pornography”\\nis a misnomer that fails to capture the full extent of the crime. It is\\nimportant to recognize that each case of what is traditionally termed\\n1 Eva J. Klain, Heather J Davies, Molly A. Hicks Et. Al., Child Pornography: The Criminal Justice-System\\nResponse, 8 (Penn State University Press, 2001).\\n2 Philip Jenkins, Beyond Tolerance: Child Pornography on the Internet (New York University Press, 2003)\\n3 Burgess, Ann W. & C.R. Hartman, Child Abuse Aspects of Child Pornography, 7 Psychiatric annals, 248\\n(1987).\\n4 Audrey Rogers, The Dignity Harm of Child Pornography – From Producers to Possessors, in Carissa\\nByrne Hessick (Eds.), Refining Child Pornography Law – Crime, Language and Social Consequences\\n(University of Michigan Press, 2016).\\n5 Tali Gal, Child Victims and Restorative Justice – A Needs Rights Model, 17 (Oxford University Press,\\n2011)\\n“child pornography” involves the actual abuse of a child. The use\\nof the term “child pornography” can lead to a trivialization of the\\ncrime, as pornography is often seen as a consensual act between\\nadults. It undermines the victimization because the term suggests\\na correlation to pornography — conduct that may be legal, whose\\nsubject is voluntarily participating in, and whose subject is capable\\nof consenting to the conduct.6\\n227. The term “child sexual exploitation and abuse material” or “CSEAM”\\nmore accurately reflects the reality that these images and videos\\nare not merely pornographic but are records of incidents, where a\\nchild has either been sexually exploited and abused or where any\\nabuse of children has been portrayed through any self-generated\\nvisual depiction.7\\n228. The term “child sexual exploitation and abuse material” (CSEAM)\\nrightly places the emphasis on the exploitation and abuse of the\\nchild, highlighting the criminal nature of the act and the need for a\\nserious and robust response. We are conscious that in the preceding\\nparts of this judgment, we have used the term “child pornography”,\\nhowever the same has been done only for the purposes of giving a\\nbetter understanding of the nuances involved in the present matter.\\nWe further forbid the courts from using the term “child pornography”\\nand instead the term “child sexual exploitation and abuse material”\\n(CSEAM) should be used in judicial orders and judgements of all\\ncourts across the country.\\n229. Although, there exists a tangible difference between the act of viewing\\nCSEAM and the act of engaging in sexual abuse of children, yet the\\nlatter desire is always inherent in the former.8 Both the use of CSEAM\\nand the act of child sexual abuse share a common, malevolent intent:\\n6 Jonah R. Rimmer, Child Sexual Exploitation, (Oxford Research Encyclopaedia Criminology, 2024).\\n7 Mary Graw Leary, The Language of Child Sexual Abuse and Exploitation, in Carissa Byrne Hessick\\n(Eds.), Refining Child Pornography Law – Crime, Language and Social Consequences (University of\\nMichigan Press, 2016); see also, Danijela Frangež, Anton Toni Klančnik, Mojca Žagar Karer Et. Al.,\\nThe Importance of Terminology Related to Child Sexual Exploitation, 66(4) Rev. za. Krim. Kriminol. 291\\n(2015); see also, Kathryn C. Seigfried Spellar & Virginia Soldino, Child Sexual Exploitation: Introduction to\\na Global Problem, in Thomas J. Holt & Adam M. Bossler (Eds.), The Palgrave Handbook of International\\nCybercrime and Cyberdeviance, (Palgrave Macmillian, Cham, 2020)\\n8 Vaughn I. Rickert & Owen Ryan, Is the Internet the Source?, 40 J. Adolesc. Health 104 (2007); see also,\\nDr. Ethel Quayle, Assessment issues with young people who engage in problematic sexual behaviour\\nthrough the Internet, in M.C. Calder (Ed.), New Developments with young people who sexually abuse\\n(Russel House Publishing, Lyme Regis, UK, 2007).\\nthe exploitation and degradation of a child for the sexual gratification\\nof the abuser. The production of child sexual exploitative material\\nis inherently linked to the act of sexual abuse. In both cases, the\\nintent is clear: to sexually exploit and harm a child. The creation of\\nsuch material is not a passive act but a deliberate one, where the\\nabuser intentionally engages in the exploitation of a child, knowing\\nfull well the harm it causes.9\\n230. This intent is what makes these crimes particularly heinous. The abuser\\nis not only violating the child’s body but is also reducing them to an\\nobject for their own gratification, with little regard for the child’s dignity\\nor well-being. This dehumanization is evident in the production and\\ndistribution of CSEAM, where the child is treated not as a person but\\nas a commodity to be consumed. Those who consume such material\\nmay develop an increased desire to engage in further acts of child\\nexploitation. The viewing of CSEAM can desensitize individuals to\\nthe horrors of child abuse, leading them to seek out more extreme\\nforms of exploitation or even to commit acts of abuse themselves.10\\n231. Moreover, the demand for such material will always incubate a\\ncorresponding production and distribution of CSEAM.11 Abusers may\\nbe motivated to create and distribute these materials to satisfy the\\ndemand, leading to the abuse of more children.12 This cycle of abuse\\nand exploitation underscores the need for stringent measures to\\nnot only punish those who create and distribute CSEAM but also to\\ndeter potential consumers and reduce the demand for such material.\\n232. Child sexual exploitative material is deeply degrading to the dignity of\\nchildren. It reduces them to objects of sexual gratification, stripping\\nthem of their humanity and violating their fundamental rights. Children\\nare entitled to grow up in an environment that respects their dignity\\nand protects them from harm. However, CSEAM violates this right\\nin the most egregious manner possible.\\n9 Matthew L Long, Laurence A. Alison & Michelle A McManus, Child pornography and likelihood of contact\\nabuse: a comparison between contact child sexual offenders and noncontact offenders, 25(4) sex abuse,\\n370 (2013).\\n10 Dr. Ethel Quayle Et. Al., The role of sexual images in online and offline sexual behaviour with minors,\\n17(6) Curr. Psychiatry Rep. 1 (2019).\\n11 Melissa Hamilton, The Child Pornography Crusade and Its Net- Widening Effect, 33 Cardozo L. Rev.\\n1694 (2012).\\n12 Esposito & Lesli C., Regulating the Internet: The Battle Against Child Pornography, 30 Casew. Res. J.\\nInt’l. L. 5 (1998).\\n233. The existence and circulation of CSEAM are affronts to the dignity of\\nall children, not just the victims depicted in the material. It perpetuates\\na culture in which children are seen as objects to be exploited,\\nrather than as individuals with their own rights and agency. This\\ndehumanization is particularly dangerous because it can lead to a\\nbroader societal acceptance of child exploitation, further endangering\\nthe safety and well-being of children.13\\n234. Given the severity and far-reaching consequences of child sexual\\nexploitation, there is a clear legal and moral imperative to take\\nstrong action against those who produce, distribute, and consume\\nCSEAM. This includes not only criminal penalties for those involved\\nin CSEAM but also preventative measures, such as education and\\nawareness campaigns. Laws must be robust and strictly enforced\\nto ensure that perpetrators are brought to justice and that children\\nare protected from further harm. The courts ought to be loathe in\\nshowing any form of leniency in such matters.14\\n235. The impact of CSEAM on its victims is devastating and far-reaching,\\naffecting their mental, emotional, and social well-being. Victims of\\nsuch heinous exploitation often endure profound psychological trauma\\nthat can manifest as depression, anxiety, and post-traumatic stress\\ndisorder (PTSD).15 The relentless reminder that images and videos\\nof their abuse are circulating online can lead to a persistent sense\\nof victimization and helplessness, further exacerbating feelings\\nof shame, guilt, and worthlessness. This awareness can make it\\nhighly challenging for victims to move forward, as the fear of being\\nrecognized and judged by others remains ever-present.16\\n236. In our society, where social stigma and notions of honour and shame\\nare deeply entrenched, the social repercussions for victims are\\nparticularly severe. Many victims face intense social stigmatization\\nand isolation, finding it difficult to form and maintain healthy\\n13 Jason S. Carrol Et Al., Generation XXX, Pornography Acceptance and Use Among Emerging Adults, 23\\nJ. Adolescent Res. 6 (2008).\\n14 Clare McGlynn & Dr. Hannah Bows, Possessing Extreme Pornography: policing, prosecutions and the\\nneed for reform, 83(6) J. Crim. Law., 473 (2019).\\n15 Dr. Ethel Quayle, Lars Loof and Tink Palmer, Child Pornography and Sexual Exploitation of Children\\nOnline, 64 (ECPAT International, 2008).\\n16 See, Michael C. Seto, Kailey Roche, Nicole C Rodrigues Et. Al., Evaluating Child Sexual Abuse\\nPerpetration Prevention Efforts: A Systematic Review, 33 J. Child Sex. Abus. 22 (2024).\\nrelationships due to trust issues and trauma-related challenges. The\\nstigma attached to being a victim of CSEAM can create significant\\nbarriers in social interactions, causing victims to withdraw and feel\\nalienated from their communities. The continuous re-victimization\\nthrough the sharing and viewing of these materials perpetuates the\\nvictims’ suffering. Each instance of someone viewing or distributing\\nthe material represents a new violation, making it harder for victims\\nto heal. This ongoing trauma can severely impact their self-esteem\\nand self-worth, leading to long-term emotional and psychological\\ndamage. Furthermore, the impact extends to their education and\\nemployment opportunities. Many victims struggle to concentrate\\non their studies or work due to the overwhelming emotional burden\\nthey carry. This can lead to academic underachievement, difficulty in\\nsecuring employment, and economic hardships, compounding their\\nsense of insecurity and instability.17\\n237. Providing compassionate and comprehensive support is crucial to\\nhelp victims heal and reclaim their lives. Therapeutic interventions,\\nincluding trauma-informed counselling and support groups, can offer a\\nsafe space for victims to process their experiences and begin to heal.\\nLegal and social support services are also essential to help victims\\nnavigate the complexities of their situation and rebuild their lives.\\n238. In India, the misconceptions about sex education are widespread\\nand contribute to its limited implementation and effectiveness. Many\\npeople, including parents and educators, hold conservative views\\nthat discussing sex is inappropriate, immoral, or embarrassing. This\\nsocietal stigma creates a reluctance to talk openly about sexual\\nhealth, leading to a significant knowledge gap among adolescents.\\n239. One prevalent misconception is that sex education encourages\\npromiscuity and irresponsible behaviour among youth. Critics often\\nargue that providing information about sexual health and contraception\\nwill lead to increased sexual activity among teenagers. However,\\nresearch has shown that comprehensive sex education actually\\ndelays the onset of sexual activity and promotes safer practices\\namong those who are sexually active.18\\n17 Paul G. Cassel, James Marsh & Jeremy M. Christiansen, The Case for Full Restitution for Child\\nPornography Victims, 82 Geo. Wash. L. Rev. 61 (2013).\\n18 Padminin Iyer & Peter Aggleton, Seventy years of sex education – A Critical Review, 74(1) Health Educ.\\n240. Another common belief is that sex education is a Western concept\\nthat does not align with traditional Indian values. This view has led to\\nresistance from various state governments, resulting in bans on sex\\neducation in schools in some states. This type of opposition hinders\\nthe implementation of comprehensive and effective sexual health\\nprograms, leaving many adolescents without accurate information.\\nThis is what causes teenagers and young adults to turn to the\\ninternet, where they have access to unmonitored and unfiltered\\ninformation, which is often misleading and can plant the seed for\\nunhealthy sexual behaviours.\\n241. Additionally, there is a misconception that sex education only\\ncovers biological aspects of reproduction. Effective sex education\\nencompasses a wide range of topics, including consent, healthy\\nrelationships, gender equality, and respect for diversity. Addressing\\nthese topics is crucial for reducing sexual violence and promoting\\ngender equity.\\n242. Despite some of these challenges, there are successful sex education\\nprograms in India, such as the Udaan program in Jharkhand.\\nThis program’s success highlights the importance of community\\ninvolvement, transparency, and government support in overcoming\\nresistance and creating a supportive environment for sex education.19\\n243. Positive age-appropriate sex education plays a critical role in\\npreventing youth from engaging in harmful sexual behaviours,\\nincluding the distribution, and viewing of CSEAM.20 Positive sex\\neducation focuses on providing accurate, age-appropriate information\\nabout sexuality, consent, and respectful relationships. Research\\nindicates that comprehensive sex education can significantly reduce\\nrisky sexual behaviours, increase knowledge, enable healthy decision-\\nmaking, reduce misinformation, delay sexual debut, decrease the\\nnumber of sexual partners, and increase contraceptive use. The\\nresearch done in India has shown the need for comprehensive sex\\neducation programs. A study of over 900 adolescents in Maharashtra\\nJ. 3 (2015).\\n19 See, the Udaan Adolescent Education Program by the Centre for Catalyzing Change in Jharkhand in\\nIndia.\\n20 Cortney Lollar, Child Pornography and the Restitution Revolution, 103 J. crim. l. & criminology 343\\n(2013).\\nfound that students not exposed to scientific literature on reproductive\\nand sexual health were more likely to initiate sex early.21\\n244. Furthermore, positive sex education promotes healthy attitudes\\ntowards sexuality and relationships, which can counteract the\\ndistorted perceptions often associated with the consumption of child\\npornography. It can also help foster greater empathy and respect for\\nothers, reducing the likelihood of engaging in exploitative behaviours.\\nComprehensive sex education programs also teach youth about the\\nimportance of consent and the legal implications of sexual activities,\\nhelping them understand the severe consequences of viewing and\\ndistributing child pornography.\\n245. It is of paramount importance that we begin to address misconceptions\\naround sexual health, and promoting a comprehensive understanding\\nof sex education’s benefits is essential for improving sexual health\\noutcomes and reducing the incidence of sexual crimes in India. This\\nis especially crucial given India’s growing population.\\n246. Section 43 of the POCSO obligates the Central Government and\\nthe State Government to undertake measures and ensure that the\\nprovisions of the said Act are given wide publicity through media\\nincluding the television, radio and the print media at regular intervals\\nto make the general public, children as well as their parents and\\nguardians aware of the legislation. It further requires the appropriate\\ngovernment to also impart proper training at tegular intervals to all\\ngovernment offices such as police on the implementation of the\\nprovisions of this Act. The relevant provision reads as under: -\\n“43. Public awareness about Act.—\\nThe Central Government and every State Government,\\nshall take all measures to ensure that—\\n(a) the provisions of this Act are given wide publicity\\nthrough media including the television, radio and the\\nprint media at regular intervals to make the general\\npublic, children as well as their parents and guardians\\naware of the provisions of this Act;\\n21 Jagdish Khubchandani, Jeffrey Clark & Raman Kumar, Beyond Controversies: Sexuality Education for\\nAdolescents in India, 3(3) J. Family med. Prim. care. 175 (2014).\\n(b) the officers of the Central Government and the State\\nGovernments and other concerned persons (including\\nthe police officers) are imparted periodic training on\\nthe matters relating to the implementation of the\\nprovisions of the Act.”\\n247. Section 44 of the POCSO on the other hand obligates the National\\nCommission for Protection of Child Rights and the State Commission\\nfor Protection of Child Rights constituted under the Act to regularly\\nmonitor and assist in the implementation of the provisions of this\\nAct. The relevant provision reads as under: -\\n“44. Monitoring of implementation of Act.—\\n(1) The National Commission for Protection of Child Rights\\nconstituted under section 3, or as the case may be, the\\nState Commission for Protection of Child Rights constituted\\nunder section 17, of the Commissions for Protection of\\nChild Rights Act, 2005 (4 of 2006) shall, in addition to the\\nfunctions assigned to them under that Act, also monitor\\nthe implementation of the provisions of this Act in such\\nmanner as may be prescribed.\\n(2) The National Commission or, as the case may be, the\\nState Commission, referred to in sub-section (1), shall,\\nwhile inquiring into any matter relating to any offence\\nunder this Act, have the same powers as are vested in\\nit under the Commissions for Protection of Child Rights\\nAct, 2005 (4 of 2006).\\n(3) The National Commission or, as the case may be, the\\nState Commission, referred to in sub-section (1), shall,\\nalso include, its activities under this section, in the annual\\nreport referred to in section 16 of the Commissions for\\nProtection of Child Rights Act, 2005 (4 of 2006).”\\n248. We are of the considered view that the obligation of the appropriate\\ngovernment and the commission under Section(s) 43 and 44 of the\\nPOCSO respectively, does not end at just spreading awareness\\nabout the provisions of the POCSO. Since, one of the salutary and\\navowed object of the POCSO was the deterrence of offences of\\nchild sexual abuse and exploitation, thus, as a natural corollary, the\\nobligation of the appropriate government and the commission under\\nthe aforesaid provisions will also entail imparting of sex education\\nand awareness amongst the general public, children as well as\\ntheir parents and guardians, particularly in schools and places of\\neducation. The steps and efforts of the appropriate government and\\nthe commission towards the compliance of Section(s) 43 and 44 must\\ngo beyond just the textual wording of the said provisions and ought\\nto earnestly take into account the pragmatic necessities for curtailing\\nthe issue of child abuse, exploitation and addiction to pornography.\\n249. Ultimately, it is our collective responsibility to ensure that victims of\\nchild pornography receive the care, support, and justice they deserve.\\nBy fostering a compassionate and understanding society, we can\\nhelp them find their path to recovery and regain a sense of safety,\\ndignity, and hope. This includes changing societal attitudes towards\\nvictims, improving legal frameworks to protect them, and ensuring\\nthat perpetrators are held accountable.\\na. Obligation to report under Section(s) 19 & 20 respectively\\nof the POCSO and Role of the Society and all Stakeholders.\\n250. Section 19 read with 20 & 21 of the POCSO is one such step towards\\nrecognizing this collective responsibility of the society in curtailing\\nthe issue of abuse and exploitation of children. Section 19 places an\\nobligation on any person who has an apprehension that an offence\\nunder POCSO is likely to be committed or has knowledge that such\\nan offence has been committed, to report and provide information\\nabout the same to the Special Juvenile Police Unit or the local police.\\nSection 19 further delineates the process and procedure in which\\nsuch information or report has to be recorded by the authorities,\\nand the course of action to be adopted. Section 20 extends such\\nobligation to any and all personnel of media, hotels, hospitals, clubs or\\nstudios etc., to mandatorily report and provide information about any\\nmaterial or object which is sexually exploitative of a child (including\\npornographic, sexually-related or making obscene representation of\\na child or children) through the use of any medium to the authorities\\nmentioned above. Any failure to do so, either in terms of Section 19\\nor 21 of POCSO shall be liable to be punished with imprisonment\\nupto 6-months or fine or both. Further, any failure on the part of any\\nemployer or supervisor in reporting the commission of any offence\\nor its apprehension in respect of a subordinate under his control, will\\nalso be liable to be punished with imprisonment which may extend\\nto 1-year and also fine. The relevant provisions read as under: -\\n“19. Reporting of offences.—\\n(1) Notwithstanding anything contained in the Code of\\nCriminal Procedure, 1973 (2 of1974) any person (including\\nthe child), who has apprehension that an offence under\\nthis Act is likely to be committed or has knowledge that\\nsuch an offence has been committed, he shall provide\\nsuch information to,—\\n(a) the Special Juvenile Police Unit; or\\n(b) the local police.\\n(2) Every report given under sub-section (1) shall be —\\n(a) ascribed an entry number and recorded in writing;\\n(b) be read over to the informant;\\n(c) shall be entered in a book to be kept by the Police Unit.\\n(3) Where the report under sub-section (1) is given by a\\nchild, the same shall be recorded under sub-section (2) in\\na simple language so that the child understands contents\\nbeing recorded.\\n(4) In case contents are being recorded in the language\\nnot understood by the child or wherever it is deemed\\nnecessary, a translator or an interpreter, having such\\nqualifications, experience and on payment of such fees\\nas may be prescribed, shall be provided to the child if he\\nfails to understand the same.\\n(5) Where the Special Juvenile Police Unit or local police is\\nsatisfied that the child against whom an offence has been\\ncommitted is in need of care and protection, then, it shall,\\nafter recording the reasons in writing, make immediate\\narrangement to give him such care and protection including\\nadmitting the child into shelter home or to the nearest\\nhospital within twenty-four hours of the report, as may\\nbe prescribed.\\n(6) The Special Juvenile Police Unit or local police shall,\\nwithout unnecessary delay but within a period of twenty-four\\nhours, report the matter to the Child Welfare Committee\\nand the Special Court or where no Special Court has been\\ndesignated, to the Court of Session, including need of the\\nchild for care and protection and steps taken in this regard.\\n(7) No person shall incur any liability, whether civil or\\ncriminal, for giving the information in good faith for the\\npurpose of sub-section (1).\\n20. Obligation of media, studio and photographic\\nfacilities to report cases.—\\nAny personnel of the media or hotel or lodge or hospital or\\nclub or studio or photographic facilities, by whatever name\\ncalled, irrespective of the number of persons employed\\ntherein, shall, on coming across any material or object which\\nis sexually exploitative of the child (including pornographic,\\nsexually-related or making obscene representation of a\\nchild or children) through the use of any medium, shall\\nprovide such information to the Special Juvenile Police\\nUnit, or to the local police, as the case may be.\\n21. Punishment for failure to report or record a case.—\\n(1) Any person, who fails to report the commission of an\\noffence under sub-section (1) of section 19 or section\\n20 or who fails to record such offence under sub-section\\n(2) of section 19 shall be punished with imprisonment of\\neither description which may extend to six months or with\\nfine or with both.\\n(2) Any person, being in-charge of any company or an\\ninstitution (by whatever name called) who fails to report\\nthe commission of an offence under sub-section (1) of\\nsection 19 in respect of a subordinate under his control,\\nshall be punished with imprisonment for a term which may\\nextend to one year and with fine.\\n(3) The provisions of sub-section (1) shall not apply to a\\nchild under this Act.”\\n251. Thus, it is evident that, to achieve the avowed purpose, a legal\\nobligation has been imposed under the POCSO Act on any person\\nto report an offence to the relevant authorities specified therein if they\\nhave knowledge that an offence under the Act has been committed.\\nThis obligation also extends to individuals who have reason to believe\\nthat an offence under the Act is likely to be committed. In addition\\nto imposing this legal duty under Section 19, the legislature being\\nin seisin of the paramount importance in collectively addressing the\\nproblems of child abuse and exploitation, deemed it expedient to make\\nthe failure to discharge this obligation punishable under Section 21\\nof the Act. Such provisions have been inserted with a view to ensure\\nstrict compliance of the provisions under the POCSO and thereby to\\nensure that the tender age of children is not being abused and their\\nchildhood and youth is protected against exploitation.\\n252. In Shankar Kisanrao Khade v. State of Maharashtra, reported in\\n(2013) 5 SCC 546, this Court expressing its anguish over the large\\nnumber of cases of abuse and exploitation of children, held that such\\nissues must be collectively dealt by all stakeholders in a child-centric\\nmanner by applying the best interest of child standard, since best\\ninterest of the child is paramount and not the interest of perpetrator\\nof the crime. It further inter-alia laid down the manner in which all\\npersons in charge of the schools/educational institutions, special\\nhomes, children homes, shelter homes, hostels, remand homes,\\njails, etc. or wherever children are housed have to comply with the\\nobligation(s) envisaged under Section(s) 19 & 21 of the POCSO.\\nThe relevant observations read as under: -\\n“72. I may also point out that, in large numbers of cases,\\nchildren are abused by persons known to them or who\\nhave influence over them. Criminal courts in this country\\nare galore with cases where children are abused by\\nadults addicted to alcohol, drugs, depression, marital\\ndiscord, etc. Preventive aspects have seldom been given\\nimportance or taken care of. Penal laws focus more on\\nsituations after commission of offences like violence,\\nabuse, exploitation of the children. Witnesses of many such\\nheinous crimes often keep mum taking shelter on factors\\nlike social stigma, community pressure, and difficulties of\\nnavigating the criminal justice system, total dependency on\\nthe perpetrator emotionally and economically and so on.\\nSome adult members of family including parents choose\\nnot to report such crimes to the police on the plea that it\\nwas for the sake of protecting the child from social stigma\\nand it would also do more harm to the victim. Further,\\nthey also take shelter pointing out that in such situations\\nsome of the close family members having known such\\nincidents would not extend medical help to the child to\\nkeep the same confidential and so on, least bothered about\\nthe emotional, psychological and physical harm done to\\nthe child. Sexual abuse can be in any form like sexually\\nmolesting or assaulting a child or allowing a child to be\\nsexually molested or assaulted or encouraging, inducing\\nor forcing the child to be used for the sexual gratification\\nof another person, using a child or deliberately exposing\\na child to sexual activities or pornography or procuring or\\nallowing a child to be procured for commercial exploitation\\nand so on.\\n73. In my view, whenever we deal with an issue of child\\nabuse, we must apply the best interest of child standard,\\nsince best interest of the child is paramount and not the\\ninterest of perpetrator of the crime. Our approach must\\nbe child-centric. Complaints received from any quarter, of\\ncourse, have to be kept confidential without casting any\\nstigma on the child and the family members. But, if the\\ntormentor is the family member himself, he shall not go\\nscot-free. Proper and sufficient safeguards also have to\\nbe given to the persons who come forward to report such\\nincidents to the police or to the Juvenile Justice Board.\\n74. The conduct of the police for not registering a case\\nunder Section 377 IPC against the accused, the agony\\nundergone by a child of 11 years with moderate intellectual\\ndisability, non-reporting of offence of rape committed on her,\\nafter having witnessed the incident either to the local police\\nor to the Juvenile Justice Board compel us to give certain\\ndirections for compliance in future which, in my view, are\\nnecessary to protect our children from such sexual abuses.\\nThis Court as parens patriae has a duty to do so because\\nthe Court has guardianship over minor children, especially\\nwith regard to the children having intellectual disability, since\\nthey are suffering from legal disability. Prompt reporting of\\nthe crime in this case could have perhaps, saved the life\\nof a minor child of moderate intellectual disability.\\nxxx xxx xxx\\n76. Considering the entire facts and circumstances of the\\ncase, I am inclined to convert death sentence awarded to\\nthe accused to rigorous imprisonment for life and that all\\nthe sentences awarded will run consecutively.\\n77. In my opinion, the case in hand calls for issuing\\nthe following directions to various stakeholders for due\\ncompliance:\\n77.1. The persons in charge of the schools/educational\\ninstitutions, special homes, children homes, shelter homes,\\nhostels, remand homes, jails, etc. or wherever children are\\nhoused, if they come across instances of sexual abuse or\\nassault on a minor child which they believe to have been\\ncommitted or come to know that they are being sexually\\nmolested or assaulted are directed to report those facts\\nkeeping upmost secrecy to the nearest Special Juvenile\\nPolice Unit (SJPU) or local police, and they, depending\\nupon the gravity of the complaint and its genuineness,\\ntake appropriate follow-up action casting no stigma to the\\nchild or to the family members.\\n77.2. Media personnel, persons in charge of hotels,\\nlodges, hospitals, clubs, studios and photograph facilities\\nhave to duly comply with the provision of Section 20 of\\nAct 32 of 2012 and provide information to the SJPU, or\\nlocal police. Media has to strictly comply with Section 23\\nof the Act as well.\\n77.3. Children with intellectual disability are more vulnerable\\nto physical, sexual and emotional abuse. Institutions which\\nhouse them or persons in care and protection, if come\\nacross any act of sexual abuse, have a duty to bring to the\\nnotice of the Juvenile Justice Board/SJPU or local police\\nand they in turn be in touch with the competent authority\\nand take appropriate action.\\n77.4. Further, it is made clear that if the perpetrator of the\\ncrime is a family member himself, then utmost care be\\ntaken and further action be taken in consultation with the\\nmother or other female members of the family of the child,\\nbearing in mind the fact that best interest of the child is\\nof paramount consideration.\\n77.5. If hospitals, whether government or privately-owned\\nor medical institutions where children are being treated\\ncome to know that children admitted are subjected to\\nsexual abuse, the same will immediately be reported to\\nthe nearest Juvenile Justice Board/SJPU and the Juvenile\\nJustice Board, in consultation with SJPU, should take\\nappropriate steps in accordance with the law safeguarding\\nthe interest of the child.\\n77.6. The non-reporting of the crime by anybody, after\\nhaving come to know that a minor child below the age of\\n18 years was subjected to any sexual assault, is a serious\\ncrime and by not reporting they are screening the offenders\\nfrom legal punishment and hence be held liable under the\\nordinary criminal law and prompt action be taken against\\nthem, in accordance with law.\\n77.7. Complaints, if any, received by Ncpcr, Scpcr, Child\\nWelfare Committee (CWC) and Child Helpline, NGOs or\\nwomen’s organisations, etc., they may take further follow-\\nup action in consultation with the nearest Juvenile Justice\\nBoard, SJPU or local police in accordance with law.\\n77.8. The Central Government and the State Governments\\nare directed to constitute SJPUs in all the districts, if not\\nalready constituted and they have to take prompt and\\neffective action in consultation with the Juvenile Justice\\nBoard to take care of the child and protect the child and\\nalso take appropriate steps against the perpetrator of the\\ncrime.\\n77.9. The Central Government and every State Government\\nshould take all measures as provided under Section 43 of\\nAct 32 of 2012 to give wide publicity to the provisions of\\nthe Act through media including television, radio and print\\nmedia, at regular intervals, to make the general public,\\nchildren as well as their parents and guardians, aware of\\nthe provisions of the Act.”\\n253. This Court in its decision in State of Maharashtra & Anr. v. Maroti\\nreported in (2023) 4 SCC 298 examined and explained the true\\npurport of the obligations envisaged under Section(s) 19 & 21 of\\nthe POCSO. It held that prompt and proper reporting of offences\\nunder the POCSO is the bedrock of the obligations that have been\\ncast under the said provisions, and any other view would defeat the\\nvery purpose and object of the Act. It further observed that merely\\nbecause the failure to discharge the obligation under Section(s) 19\\n& 21 is punishable with imprisonment for a short duration, does not\\nmean that such an offence is not to be taken seriously. Accordingly,\\nit held that strict compliance of such provisions must be ensured to\\nprotect the tender age and youth of children against exploitation.\\nThe relevant observations read as under: -\\n“11. To achieve the avowed purpose, a legal obligation for\\nreporting of offence under the POCSO Act is cast upon\\non a person to inform the relevant authorities specified\\nthereunder when he/she has knowledge that an offence\\nunder the Act had been committed. Such obligation is also\\nbestowed on person who has apprehension that an offence\\nunder this Act is likely to be committed. Besides casting\\nsuch a legal obligation under Section 19, the Legislature\\nthought it expedient to make failure to discharge the\\nobligation thereunder as punishable, under Section 21\\nthereof. True that under Section 21 (1), failure to report the\\ncommission of an offence under Sub Section 1 of Section\\n19 or Section 20 or failure to report such offence under\\nSub Section 2 of Section 19 has been made punishable\\nwith imprisonment of either description which may extend\\nto six months or with fine or with both. Sub section 2 of\\nSection 21 provides that any person who being in-charge\\nof any company or an institution (by whatever name called)\\nwho fails to report the commission of an offence under\\nSub-Section 1 of Section 19 in respect of a subordinate\\nunder his control, shall be punishable with imprisonment\\nwith a term which may extend to one year or with fine.\\nCertainly, such provisions are included in with a view\\nto ensure strict compliance of the provisions under the\\nPOCSO Act and thereby to ensure that the tender age\\nof children is not being abused and their childhood and\\nyouth is protected against exploitation.\\n12. Looking at the penal provisions referred above, making\\nfailure to discharge the obligation under Section 19 (1)\\npunishable only with imprisonment for a short duration\\nviz., six months, one may think that it is not an offence to\\nbe taken seriously. However, according to us that by itself\\nis not the test of seriousness or otherwise of an offence\\nof failure to discharge the legal obligation under Section\\n19, punishable under Section 21 of POCSO Act. We are\\nfortified in our view, by the decisions of a three Judge\\nBench of this Court in Vijay Madanlal Choudhary & Ors. v.\\nUnion of India & Ors. and a two Judge-Bench in Shankar\\nKisanrao Khade v. State of Maharashtra.\\nxxx xxx xxx\\n14. [...] the length of punishment is not only the indicator\\nof the gravity of offence and it is to be judged by a totality\\nof factors, especially keeping in mind the background in\\nwhich the offence came to be recognized by the Legislature\\nin the specific international context. In this context, it is\\nalso relevant to note that the United Nations Convention\\non Rights of Children, which was ratified by India on\\n11.12.1992, requires the State parties to undertake all\\nappropriate national, bilateral and multilateral measures\\nto prevent the inducement or coercion of child to engage\\nin any unlawful sexual activity, the exploitative use of\\nchildren in prostitution or other unlawful sexual practices\\netc. Articles 3 (2) and 34 of the Convention have placed\\na specific duty on the State to protect the child from all\\nforms of sexual exploitation and abuse.\\n15. Prompt and proper reporting of the commission of\\noffence under the POCSO Act is of utmost importance and\\nwe have no hesitation to state that its failure on coming\\nto know about the commission of any offence thereunder\\nwould defeat the very purpose and object of the Act. We say\\nso taking into account the various provisions thereunder.\\nMedical examination of the victim as also the accused\\nwould give many important clues in a case that falls under\\nthe POCSO Act. [...] We refer to the aforesaid provisions\\nonly to stress upon the fact that a prompt reporting of the\\ncommission of an offence under POCSO Act would enable\\nimmediate examination of the victim concerned and at the\\nsame time, if it was committed by an unknown person, it\\nwould also enable the investigating agency to commence\\ninvestigation without wasting time and ultimately to secure\\nthe arrest and medical examination of the culprit. There\\ncan be no two views that in relation to sexual offences\\nmedical evidence has much corroborative value.”\\n(Emphasis supplied)\\n254. The role of “intermediaries” as defined under Section 2(w) of the IT\\nAct in checking the proliferation of child pornography is significant.\\nSection 79 of the IT Act, 2000 which relates to due diligence that is to\\nbe observed by an intermediary, provides an exemption from liability\\nto such intermediaries in certain cases if they are in compliance with\\nthe due-diligence requirements prescribed under the said provision,\\nmore particularly sub-section (3)(b), this is known as the “safe harbour”\\nprotection or provision. “Safe Harbour” protection means that an\\nintermediary will not be held liable for any third-party information,\\ndata, or communication link made available or hosted by him. As per\\nsub-section (2), in order to avail such protection, the intermediary\\nforemost must not in any manner be involved in either initiating the\\ntransmission, or the receipt or the modification of the third-party\\ndata or information in question, and further is required to observe\\ndue diligence while discharging his duties under the IT Act and to\\nalso observe such other guidelines as the Central Government may\\nprescribe in his behalf. Sub-section (3) (b) of the above-mentioned\\nprovision stipulates that if an intermediary receives actual knowledge\\nor is notified by the appropriate government or its agency that any\\ninformation, data, or communication link residing in or connected to\\na computer resource controlled by the intermediary is being used\\nto commit an unlawful act, the intermediary must expeditiously\\nremove or disable access to that material on that resource without\\ncompromising the evidence in any manner. It further states that\\nthe protection under Section 79 lapses and does not apply if the\\nintermediary has conspired or abetted or aided or induced, whether\\nby threats or promise or otherwise in the commission of the unlawful\\nact, or if upon receiving “actual knowledge”, or if the intermediary\\nfails to expeditiously remove or disable access to that material on\\nthat resource without vitiating the evidence in any manner on being\\nnotified by the appropriate Government or its agency that any\\ninformation, data or communication link residing in or connected to\\na computer resource controlled by the intermediary is being used\\nto commit the unlawful act. The relevant provision reads as under: -\\n“79. Exemption from liability of intermediary in certain\\ncases.—\\n(1) Notwithstanding anything contained in any law for the\\ntime being in force but subject to the provisions of sub-\\nsections (2) and (3), an intermediary shall not be liable\\nfor any third-party information, data, or communication link\\nmade available or hosted by him.\\n(2) The provisions of sub-section (1) shall apply if—\\n(a) the function of the intermediary is limited to\\nproviding access to a communication system over\\nwhich information made available by third parties\\nis transmitted or temporarily stored or hosted; or\\n(b) the intermediary does not—\\n(i) initiate the transmission;\\n(ii) select the receiver of the transmission; and\\n(iii) select or modify the information contained\\nin the transmission;\\n(c) the intermediary observes due diligence while\\ndischarging his duties under this Act and also\\nobserves such other guidelines as the Central\\nGovernment may prescribe in this behalf.\\n(3) The provisions of sub-section (1) shall not apply if—\\n(a) the intermediary has conspired or abetted or\\naided or induced, whether by threats or promise\\nor otherwise in the commission of the unlawful act;\\n(b) upon receiving actual knowledge, or on being\\nnotified by the appropriate Government or its\\nagency that any information, data or communication\\nlink residing in or connected to a computer\\nresource controlled by the intermediary is being\\nused to commit the unlawful act, the intermediary\\nfails to expeditiously remove or disable access to\\nthat material on that resource without vitiating the\\nevidence in any manner.\\nExplanation.—For the purposes of this section, the\\nexpression ‘third-party information’ means any information\\ndealt with by an intermediary in his capacity as an\\nintermediary.”\\n255. Rule 11 of the Protection of Children from Sexual Offences Rules,\\n2020 (for short, the “POCSO Rules”), places an obligation on the\\nintermediaries to not only report offences under POCSO but also to\\nhand over the necessary material including the source from which\\nsuch material may have originated to the Special Juvenile Police Unit\\nor the local police, or the cyber-crime portal. As per a MOU between\\nthe National Crime Records Bureau (NCRB) under the Ministry of\\nHome Affairs (MHA) and the National Centre for Missing & Exploited\\nChildren (NCMEC), a US based NGO, all social media intermediaries\\nare required to report cases of child abuse and exploitation to the\\nNCMEC, which in turn reports these cases to the NCRB and the\\nNCRB forwards this to the concerned State authorities in India\\nthrough the national cybercrime reporting portal.\\n256. It has been brought to the notice of this Court that social media\\nintermediaries do not report such cases of child abuse and exploitation\\nto the local authorities specified under POCSO and rather only comply\\nwith the requirements stipulated in the MOU. In view of the salutary\\nobject and the mandatory character of the provisions of Sections 19\\nand 20 of the POCSO read with Rule 11 of the POCSO Rules, we are\\nof the considered view, that an intermediary cannot claim exemption\\nfrom the liability under Section 79 of the IT Act for any third-party\\ninformation, data, or communication link made available or hosted by\\nit, unless due diligence is conducted by it and compliance is made\\nof these provisions of the POCSO. We are also of the view that\\nsuch due diligence includes not only removal of child pornographic\\ncontent but also making an immediate report of such content to the\\nconcerned police units in the manner specified under the POCSO\\nAct and the Rules thereunder.\\n257. Section 42A of the POCSO provides that the Act shall be in addition\\nto and not in derogation of the provisions of any other law and further\\nprovides that it shall have overriding effect on the provisions of any\\nsuch law to the extent of the inconsistency. The relevant provision\\nreads as under: -\\n“42A. Act not in derogation of any other law.—\\nThe provisions of this Act shall be in addition to and not\\nin derogation of the provisions of any other law for the\\ntime being in force and, in case of any inconsistency,\\nthe provisions of this Act shall have overriding effect\\non the provisions of any such law to the extent of the\\ninconsistency.”\\n258. In view of the overriding effect of the POCSO Act and the rules\\nthereunder, merely because an intermediary is in compliance of\\nthe requirements specified under Section 79 of the IT Act, will not\\nabsolve it of any liability under the POCSO, unless it duly complies\\nwith the requirements and procedure set out under it, particularly\\nSection 20 of POCSO Act and Rule 11 of the POCSO Rules. It is\\na settled position of law, that when a statute describes or requires\\na thing to be done in a particular manner; it should be done in that\\nmanner or not at all. Thus, social media intermediaries in addition to\\nreporting the commission or the likely apprehension of commission\\nof any offence under POCSO to the National Centre for Missing &\\nExploited Children (NCMEC) is also obligated to report the same to\\nauthorities specified under Section 19 of POCSO i.e., the Special\\nJuvenile Police Unit (SJPU) or the local police.\\n259. We endorse the view and the directions issued by this Court in\\nShankar Kisanrao Khade (supra) and are of the considered view\\nthat a meaningful effect to the provisions of the POCSO can only\\nbe given if such directions are complied with to the letter and spirit.\\nWe further caution the courts to refrain from showing any form of\\nleniency or leeway in offences under Section 21 of the POCSO,\\nparticularly to schools/educational institutions, special homes,\\nchildren’s homes, shelter homes, hostels, remand homes, jails, etc.\\nwho failed to discharge their obligation of reporting the commission\\nor the apprehension of commission of any offence or instance of\\nchild abuse or exploitation under the POCSO. Section(s) 19, 20 and\\n21 of the POCSO are mandatory in nature, and there can be no\\ndilution of the salutary object and purport of these provisions. Merely\\nbecause Section 21 prescribes a lesser threshold of punishment,\\nthe same in no way derogates or detracts from the gravity or\\nseverity of the offence which has been sought to be punished as\\nheld in Maroti (supra). It is a settled position of law that the length\\nof punishment is not the only indicator of the gravity of the offence\\nand it is to be judged by a totality of factors, especially keeping in\\nmind the background in which the offence came to be recognized\\nby the legislature in the specific international context i.e., the United\\nNations Convention on Rights of Children, particularly Article(s) 3(2)\\nand 34 of the said Convention.\\nii. Suggestions to the Union of India and to the courts.\\n260. We propose to suggest the following to the Union of India in its\\nMinistry of Women and Child Development: -\\n(i) The Parliament should seriously consider to bring about an\\namendment to the POCSO for the purpose of substituting the\\nterm “child pornography” that with “child sexual exploitation\\nand abuse material” (CSEAM) with a view to reflect more\\naccurately on the reality of such offences. The Union of India,\\nin the meantime may consider to bring about the suggested\\namendment to the POCSO by way of an ordinance.\\n(ii) We put the courts to notice that the term “child pornography”\\nshall not be used in any judicial order or judgment, and instead\\nthe term “child sexual exploitation and abuse material” (CSEAM)\\nshould be endorsed.\\n(iii) Implementing comprehensive sex education programs that\\ninclude information about the legal and ethical ramifications of\\nchild pornography can help deter potential offenders. These\\nprograms should address common misconceptions and provide\\nyoung people with a clear understanding of consent and the\\nimpact of exploitation.\\n(iv) Providing support services to the victims and rehabilitation\\nprograms for the offenders is essential. These services should\\ninclude psychological counselling, therapeutic interventions,\\nand educational support to address the underlying issues and\\npromote healthy development. For those already involved in\\nviewing or distributing child pornography, CBT has proven\\neffective in addressing the cognitive distortions that fuel such\\nbehaviour. Therapy programs should focus on developing\\nempathy, understanding the harm caused to victims, and altering\\nproblematic thought patterns.\\n(v) Raising awareness about the realities of child sexual exploitative\\nmaterial and its consequences through public campaigns can\\nhelp reduce its prevalence. These campaigns should aim to\\ndestigmatize reporting and encourage community vigilance.\\n(vi) Identifying at-risk individuals early and implementing intervention\\nstrategies for youth with problematic sexual behaviours (PSB)\\ninvolves several steps and requires a coordinated effort among\\nvarious stakeholders, including educators, healthcare providers,\\nlaw enforcement, and child welfare services. Educators,\\nhealthcare professionals, and law enforcement officers should be\\nimparted training to identify signs of PSB. Awareness programs\\ncan help these professionals recognize early warning signs and\\nunderstand how to respond appropriately.\\n(vii) Schools can also play a crucial role in early identification and\\nintervention. Implementing school-based programs that educate\\nstudents about healthy relationships, consent, and appropriate\\nbehaviour can help prevent PSB.\\n(viii) To give meaningful effect to the above suggestions and work\\nout the necessary modalities, the Union of India may consider\\nconstituting an Expert Committee tasked with devising a\\ncomprehensive program or mechanism for health and sex\\neducation, as well as raising awareness about the POCSO\\namong children across the country from an early age, for\\nensuring a robust and well-informed approach to child protection,\\neducation, and sexual well-being.\\n(ix) We urge the Parliament to consider amending Section 15\\nsub-section (1) of POCSO so as to make it more convenient\\nfor the general public to report by way of an online portal, any\\ninstance of storage or possession of CSEAM to the specified\\nauthorities for the purpose of the said provision.\\nG. FINAL ORDER\\n261. For all the foregoing reasons, we have reached the conclusion\\nthat the High Court committed an egregious error in passing the\\nimpugned judgment. We are left with no other option but to set aside\\nthe impugned judgment and order passed by the High Court, and\\nrestore the criminal proceedings in Spl. S.C. No. 170 of 2023 to the\\ncourt of Sessions Judge, Mahila Neethi Mandram (Fast Track Court),\\nTiruvallur District. We accordingly pass such order.\\n262. We direct the Registry to send one copy each of this judgment to the\\nPrincipal Secretary, Ministry of Law & Justice, Union of India and to\\nthe Principal Secretary, Ministry of Women and Child Development,\\nUnion of India, for undertaking appropriate course of action.\\n263. Pending application(s) if any, also stand disposed of.\\nResult of the Case: Appeals disposed of.\\n†Headnotes prepared by: Divya Pandey<|eot_id|><|start_header_id|>assistant<|end_header_id|>\\n\\nProtection of Children from Sexual Offences Act, 2012 – s.15 – Protection of Children from Sexual Offences (Amendment) Act, 2019 – ‘Possession’ added to make s.15 more stringent to deter the dissemination and use of child pornography: Held: Word “possession” was originally absent in the unamended Section 15 and the legislature specifically added it in the amended Section 15 – Hence, now both the storage or the possession of any child pornographic material would be liable to be punished when done with any of the specified intention thereunder.[Para 112]<|eot_id|>'"
            ],
            "application/vnd.google.colaboratory.intrinsic+json": {
              "type": "string"
            }
          },
          "metadata": {},
          "execution_count": 10
        }
      ]
    },
    {
      "cell_type": "code",
      "execution_count": null,
      "metadata": {
        "colab": {
          "base_uri": "https://localhost:8080/",
          "height": 81,
          "referenced_widgets": [
            "dd9e90f2c16541e8a72c6771c4685b9a",
            "a326b2e89f1c46f28cd166afc7490e2b",
            "eb855a0fcb554a8eb245351b3593623d",
            "bd71b6cb29e147ab9b10d1b85908c413",
            "b1b0a4e3f00043b0a0eb7a053815a4a5",
            "58ce4633471c438db6e103a1ca3806a0",
            "cf1b769b7a744b5f8bccf6798566582f",
            "1c0c2835705f41089de4caea98127c04",
            "e2d886444f0047fa9e2245b9773ced9e",
            "c03b9410af384397849ef63b62f2c689",
            "098bd8ace574423da763eb0eae1d3bb6",
            "d08e764aa8b94e7f9e1c727b53980abe",
            "e62f6eb58a744d38b837e47d8a16db67",
            "bcf8e36d938a4d959c31ea4ff3c8d4cf",
            "ae2464c1cbc442a383de7577d2986116",
            "9a8f1b8079fe478ebf0b16096cb224f5",
            "e4bf3f8e63bb4c01bbe821d438445d91",
            "d7e0024b98a94a9fa12dc4154ff2b2fc",
            "cc0bd79ca9e847fba88aafe2d612ffe4",
            "76e2e47c93e541ff820bcbab9264381d",
            "4b41aa65c6894e918b04709f8e9270d2",
            "cdae06929214464ea25e343f17b4a843"
          ]
        },
        "id": "oPXzJZzHEgXe",
        "outputId": "dd1c72fa-39ea-48a2-9ed2-c263a4549b91"
      },
      "outputs": [
        {
          "data": {
            "application/vnd.jupyter.widget-view+json": {
              "model_id": "dd9e90f2c16541e8a72c6771c4685b9a",
              "version_major": 2,
              "version_minor": 0
            },
            "text/plain": [
              "Standardizing format:   0%|          | 0/100000 [00:00<?, ? examples/s]"
            ]
          },
          "metadata": {},
          "output_type": "display_data"
        },
        {
          "data": {
            "application/vnd.jupyter.widget-view+json": {
              "model_id": "d08e764aa8b94e7f9e1c727b53980abe",
              "version_major": 2,
              "version_minor": 0
            },
            "text/plain": [
              "Map:   0%|          | 0/100000 [00:00<?, ? examples/s]"
            ]
          },
          "metadata": {},
          "output_type": "display_data"
        }
      ],
      "source": [
        "# from unsloth.chat_templates import standardize_sharegpt\n",
        "# dataset = standardize_sharegpt(dataset)\n",
        "# dataset = dataset.map(formatting_prompts_func, batched = True,)"
      ]
    },
    {
      "cell_type": "markdown",
      "metadata": {
        "id": "ndDUB23CGAC5"
      },
      "source": [
        "We look at how the conversations are structured for item 5:"
      ]
    },
    {
      "cell_type": "code",
      "execution_count": null,
      "metadata": {
        "colab": {
          "base_uri": "https://localhost:8080/"
        },
        "id": "gGFzmplrEy9I",
        "outputId": "9f3f66fc-8649-40c8-829c-db3f11f88728"
      },
      "outputs": [
        {
          "data": {
            "text/plain": [
              "[{'content': 'How do astronomers determine the original wavelength of light emitted by a celestial body at rest, which is necessary for measuring its speed using the Doppler effect?',\n",
              "  'role': 'user'},\n",
              " {'content': 'Astronomers make use of the unique spectral fingerprints of elements found in stars. These elements emit and absorb light at specific, known wavelengths, forming an absorption spectrum. By analyzing the light received from distant stars and comparing it to the laboratory-measured spectra of these elements, astronomers can identify the shifts in these wavelengths due to the Doppler effect. The observed shift tells them the extent to which the light has been redshifted or blueshifted, thereby allowing them to calculate the speed of the star along the line of sight relative to Earth.',\n",
              "  'role': 'assistant'}]"
            ]
          },
          "execution_count": 6,
          "metadata": {},
          "output_type": "execute_result"
        }
      ],
      "source": [
        "dataset[5][\"conversations\"]"
      ]
    },
    {
      "cell_type": "markdown",
      "metadata": {
        "id": "GfzTdMtvGE6w"
      },
      "source": [
        "And we see how the chat template transformed these conversations.\n",
        "\n",
        "**[Notice]** Llama 3.1 Instruct's default chat template default adds `\"Cutting Knowledge Date: December 2023\\nToday Date: 26 July 2024\"`, so do not be alarmed!"
      ]
    },
    {
      "cell_type": "code",
      "execution_count": 12,
      "metadata": {
        "id": "vhXv0xFMGNKE"
      },
      "outputs": [],
      "source": [
        "from datasets import Dataset\n",
        "\n",
        "hf_dataset = Dataset.from_list(dataset)"
      ]
    },
    {
      "cell_type": "markdown",
      "metadata": {
        "id": "idAEIeSQ3xdS"
      },
      "source": [
        "<a name=\"Train\"></a>\n",
        "### Train the model\n",
        "Now let's use Huggingface TRL's `SFTTrainer`! More docs here: [TRL SFT docs](https://huggingface.co/docs/trl/sft_trainer). We do 60 steps to speed things up, but you can set `num_train_epochs=1` for a full run, and turn off `max_steps=None`. We also support TRL's `DPOTrainer`!"
      ]
    },
    {
      "cell_type": "code",
      "execution_count": null,
      "metadata": {
        "id": "95_Nn-89DhsL"
      },
      "outputs": [],
      "source": [
        "from trl import SFTConfig, SFTTrainer\n",
        "from transformers import DataCollatorForSeq2Seq\n",
        "trainer = SFTTrainer(\n",
        "    model = model,\n",
        "    tokenizer = tokenizer,\n",
        "    train_dataset = hf_dataset,\n",
        "    dataset_text_field = \"text\",\n",
        "    max_seq_length = max_seq_length,\n",
        "    data_collator = DataCollatorForSeq2Seq(tokenizer = tokenizer),\n",
        "    packing = False, # Can make training 5x faster for short sequences.\n",
        "    args = SFTConfig(\n",
        "        per_device_train_batch_size = 2,\n",
        "        gradient_accumulation_steps = 4,\n",
        "        warmup_steps = 5,\n",
        "        num_train_epochs = 3, # Set this for 1 full training run.\n",
        "        #max_steps = 60,\n",
        "        learning_rate = 1e-4,\n",
        "        logging_steps = 1,\n",
        "        optim = \"adamw_8bit\",\n",
        "        weight_decay = 0.01,\n",
        "        lr_scheduler_type = \"linear\",\n",
        "        seed = 32,\n",
        "        output_dir = \"outputs\",\n",
        "        report_to = \"none\", # Use this for WandB etc\n",
        "    ),\n",
        ")"
      ]
    },
    {
      "cell_type": "markdown",
      "metadata": {
        "id": "C_sGp5XlG6dq"
      },
      "source": [
        "We also use Unsloth's `train_on_completions` method to only train on the assistant outputs and ignore the loss on the user's inputs."
      ]
    },
    {
      "cell_type": "code",
      "execution_count": 46,
      "metadata": {
        "colab": {
          "base_uri": "https://localhost:8080/",
          "height": 49,
          "referenced_widgets": [
            "3296a2ff4d04464a91e2e3473199b090",
            "3eefdb9362fc49a19347e0a2e3b84471",
            "521bf90d36d74afa860746619abcc663",
            "586244273b434e8889d97da73fcde15e",
            "2a205de8dda54fa7aa610aa06bb21ad1",
            "cba7b6c6e1ce428baabe3488146bd762",
            "347191a9714846a6a716b1e9eb8120c4",
            "196e026aabef4c0ba773c253e77e5df2",
            "01cfe8060bda454284a1e8508726ada7",
            "7906db566cc447ba896afe4a2a3090de",
            "b330d399dda04786b27f566a139227a8"
          ]
        },
        "id": "juQiExuBG5Bt",
        "outputId": "6f61ed96-f0bb-4b0a-9053-222fab209919"
      },
      "outputs": [
        {
          "output_type": "display_data",
          "data": {
            "text/plain": [
              "Map (num_proc=2):   0%|          | 0/403 [00:00<?, ? examples/s]"
            ],
            "application/vnd.jupyter.widget-view+json": {
              "version_major": 2,
              "version_minor": 0,
              "model_id": "3296a2ff4d04464a91e2e3473199b090"
            }
          },
          "metadata": {}
        }
      ],
      "source": [
        "from unsloth.chat_templates import train_on_responses_only\n",
        "trainer2 = train_on_responses_only(\n",
        "    trainer,\n",
        "    instruction_part = \"<|start_header_id|>user<|end_header_id|>\\n\\n\",\n",
        "    response_part = \"<|start_header_id|>assistant<|end_header_id|>\\n\\n\",\n",
        ")"
      ]
    },
    {
      "cell_type": "markdown",
      "metadata": {
        "id": "Dv1NBUozV78l"
      },
      "source": [
        "We verify masking is actually done:"
      ]
    },
    {
      "cell_type": "code",
      "execution_count": 76,
      "metadata": {
        "id": "LtsMVtlkUhja"
      },
      "outputs": [],
      "source": [
        "#tokenizer.decode(trainer2.train_dataset[5][\"input_ids\"])"
      ]
    },
    {
      "cell_type": "code",
      "execution_count": 77,
      "metadata": {
        "id": "_rD6fl8EUxnG"
      },
      "outputs": [],
      "source": [
        "# space = tokenizer(\" \", add_special_tokens = False).input_ids[0]\n",
        "# tokenizer.decode([space if x == -100 else x for x in trainer.train_dataset[5][\"labels\"]])"
      ]
    },
    {
      "cell_type": "markdown",
      "metadata": {
        "id": "3enWUM0jV-jV"
      },
      "source": [
        "We can see the System and Instruction prompts are successfully masked!"
      ]
    },
    {
      "cell_type": "code",
      "execution_count": 14,
      "metadata": {
        "colab": {
          "base_uri": "https://localhost:8080/"
        },
        "id": "2ejIt2xSNKKp",
        "outputId": "f7567a81-c261-4ff8-c7eb-5e0eae83c28c"
      },
      "outputs": [
        {
          "output_type": "stream",
          "name": "stdout",
          "text": [
            "GPU = Tesla T4. Max memory = 14.741 GB.\n",
            "6.883 GB of memory reserved.\n"
          ]
        }
      ],
      "source": [
        "# @title Show current memory stats\n",
        "gpu_stats = torch.cuda.get_device_properties(0)\n",
        "start_gpu_memory = round(torch.cuda.max_memory_reserved() / 1024 / 1024 / 1024, 3)\n",
        "max_memory = round(gpu_stats.total_memory / 1024 / 1024 / 1024, 3)\n",
        "print(f\"GPU = {gpu_stats.name}. Max memory = {max_memory} GB.\")\n",
        "print(f\"{start_gpu_memory} GB of memory reserved.\")"
      ]
    },
    {
      "cell_type": "code",
      "execution_count": null,
      "metadata": {
        "id": "yqxqAZ7KJ4oL"
      },
      "outputs": [],
      "source": [
        "\n",
        "import torch, gc\n",
        "gc.collect()\n",
        "torch.cuda.empty_cache()\n",
        "\n",
        "trainer_stats = trainer.train()"
      ]
    },
    {
      "cell_type": "code",
      "execution_count": null,
      "metadata": {
        "cellView": "form",
        "colab": {
          "base_uri": "https://localhost:8080/"
        },
        "id": "pCqnaKmlO1U9",
        "outputId": "fcbecf7f-b8a1-45d5-f415-eec2bdf96576"
      },
      "outputs": [
        {
          "name": "stdout",
          "output_type": "stream",
          "text": [
            "446.5262 seconds used for training.\n",
            "7.44 minutes used for training.\n",
            "Peak reserved memory = 6.531 GB.\n",
            "Peak reserved memory for training = 3.896 GB.\n",
            "Peak reserved memory % of max memory = 44.284 %.\n",
            "Peak reserved memory for training % of max memory = 26.417 %.\n"
          ]
        }
      ],
      "source": [
        "# @title Show final memory and time stats\n",
        "used_memory = round(torch.cuda.max_memory_reserved() / 1024 / 1024 / 1024, 3)\n",
        "used_memory_for_lora = round(used_memory - start_gpu_memory, 3)\n",
        "used_percentage = round(used_memory / max_memory * 100, 3)\n",
        "lora_percentage = round(used_memory_for_lora / max_memory * 100, 3)\n",
        "print(f\"{trainer_stats.metrics['train_runtime']} seconds used for training.\")\n",
        "print(\n",
        "    f\"{round(trainer_stats.metrics['train_runtime']/60, 2)} minutes used for training.\"\n",
        ")\n",
        "print(f\"Peak reserved memory = {used_memory} GB.\")\n",
        "print(f\"Peak reserved memory for training = {used_memory_for_lora} GB.\")\n",
        "print(f\"Peak reserved memory % of max memory = {used_percentage} %.\")\n",
        "print(f\"Peak reserved memory for training % of max memory = {lora_percentage} %.\")"
      ]
    },
    {
      "cell_type": "markdown",
      "metadata": {
        "id": "ekOmTR1hSNcr"
      },
      "source": [
        "<a name=\"Inference\"></a>\n",
        "### Inference\n",
        "Let's run the model! You can change the instruction and input - leave the output blank!\n",
        "\n",
        "\n",
        "\n",
        "We use `min_p = 0.1` and `temperature = 1.5`. Read this [Tweet](https://x.com/menhguin/status/1826132708508213629) for more information on why."
      ]
    },
    {
      "cell_type": "code",
      "execution_count": null,
      "metadata": {
        "colab": {
          "base_uri": "https://localhost:8080/"
        },
        "id": "kR3gIAX-SM2q",
        "outputId": "53188d07-ba68-420e-874b-1bace9929aa0"
      },
      "outputs": [
        {
          "name": "stderr",
          "output_type": "stream",
          "text": [
            "The attention mask is not set and cannot be inferred from input because pad token is same as eos token. As a consequence, you may observe unexpected behavior. Please pass your input's `attention_mask` to obtain reliable results.\n"
          ]
        },
        {
          "data": {
            "text/plain": [
              "['<|begin_of_text|><|start_header_id|>system<|end_header_id|>\\n\\nCutting Knowledge Date: December 2023\\nToday Date: 26 July 2024\\n\\n<|eot_id|><|start_header_id|>user<|end_header_id|>\\n\\nContinue the fibonnaci sequence: 1, 1, 2, 3, 5, 8,<|eot_id|><|start_header_id|>assistant<|end_header_id|>\\n\\nThe Fibonacci sequence is a series of numbers in which each number is the sum of the two preceding numbers. The sequence is: 1, 1, 2, 3, 5, 8, 13, 21, 34, 55, 89, 144.<|eot_id|>']"
            ]
          },
          "execution_count": 15,
          "metadata": {},
          "output_type": "execute_result"
        }
      ],
      "source": [
        "from unsloth.chat_templates import get_chat_template\n",
        "\n",
        "tokenizer = get_chat_template(\n",
        "    tokenizer,\n",
        "    chat_template = \"llama-3.1\",\n",
        ")\n",
        "FastLanguageModel.for_inference(model) # Enable native 2x faster inference\n",
        "\n",
        "messages = [\n",
        "    {\"role\": \"user\", \"content\": \"Continue the fibonnaci sequence: 1, 1, 2, 3, 5, 8,\"},\n",
        "]\n",
        "inputs = tokenizer.apply_chat_template(\n",
        "    messages,\n",
        "    tokenize = True,\n",
        "    add_generation_prompt = True, # Must add for generation\n",
        "    return_tensors = \"pt\",\n",
        ").to(\"cuda\")\n",
        "\n",
        "outputs = model.generate(input_ids = inputs, max_new_tokens = 64, use_cache = True,\n",
        "                         temperature = 1.5, min_p = 0.1)\n",
        "tokenizer.batch_decode(outputs)"
      ]
    },
    {
      "cell_type": "markdown",
      "metadata": {
        "id": "CrSvZObor0lY"
      },
      "source": [
        " You can also use a `TextStreamer` for continuous inference - so you can see the generation token by token, instead of waiting the whole time!"
      ]
    },
    {
      "cell_type": "code",
      "execution_count": null,
      "metadata": {
        "colab": {
          "base_uri": "https://localhost:8080/"
        },
        "id": "e2pEuRb1r2Vg",
        "outputId": "d4096dc5-c359-49c0-c08f-f8c890e414e5"
      },
      "outputs": [
        {
          "name": "stdout",
          "output_type": "stream",
          "text": [
            "The Fibonacci sequence is a series of numbers where each number is the sum of the two preceding numbers. \n",
            "\n",
            "The sequence you provided was: 1, 1, 2, 3, 5, 8, 13\n",
            "\n",
            "The next number in the sequence would be 21, which is 8 + 13. The sequence continues as: 21, 34, 55, 89, 144, 233.<|eot_id|>\n"
          ]
        }
      ],
      "source": [
        "FastLanguageModel.for_inference(model) # Enable native 2x faster inference\n",
        "\n",
        "messages = [\n",
        "    {\"role\": \"user\", \"content\": \"Continue the fibonnaci sequence: 1, 1, 2, 3, 5, 8,\"},\n",
        "]\n",
        "inputs = tokenizer.apply_chat_template(\n",
        "    messages,\n",
        "    tokenize = True,\n",
        "    add_generation_prompt = True, # Must add for generation\n",
        "    return_tensors = \"pt\",\n",
        ").to(\"cuda\")\n",
        "\n",
        "from transformers import TextStreamer\n",
        "text_streamer = TextStreamer(tokenizer, skip_prompt = True)\n",
        "_ = model.generate(input_ids = inputs, streamer = text_streamer, max_new_tokens = 128,\n",
        "                   use_cache = True, temperature = 1.5, min_p = 0.1)"
      ]
    },
    {
      "cell_type": "markdown",
      "metadata": {
        "id": "uMuVrWbjAzhc"
      },
      "source": [
        "<a name=\"Save\"></a>\n",
        "### Saving, loading finetuned models\n",
        "To save the final model as LoRA adapters, either use Huggingface's `push_to_hub` for an online save or `save_pretrained` for a local save.\n",
        "\n",
        "**[NOTE]** This ONLY saves the LoRA adapters, and not the full model. To save to 16bit or GGUF, scroll down!"
      ]
    },
    {
      "cell_type": "code",
      "execution_count": null,
      "metadata": {
        "colab": {
          "base_uri": "https://localhost:8080/"
        },
        "id": "upcOlWe7A1vc",
        "outputId": "c962e43a-2027-4a39-ea03-870b707a22d4"
      },
      "outputs": [
        {
          "data": {
            "text/plain": [
              "('lora_model/tokenizer_config.json',\n",
              " 'lora_model/special_tokens_map.json',\n",
              " 'lora_model/tokenizer.json')"
            ]
          },
          "execution_count": 17,
          "metadata": {},
          "output_type": "execute_result"
        }
      ],
      "source": [
        "model.save_pretrained(\"lora_model\")  # Local saving\n",
        "tokenizer.save_pretrained(\"lora_model\")\n",
        "# model.push_to_hub(\"your_name/lora_model\", token = \"...\") # Online saving\n",
        "# tokenizer.push_to_hub(\"your_name/lora_model\", token = \"...\") # Online saving"
      ]
    },
    {
      "cell_type": "markdown",
      "metadata": {
        "id": "AEEcJ4qfC7Lp"
      },
      "source": [
        "Now if you want to load the LoRA adapters we just saved for inference, set `False` to `True`:"
      ]
    },
    {
      "cell_type": "code",
      "execution_count": null,
      "metadata": {
        "colab": {
          "base_uri": "https://localhost:8080/"
        },
        "id": "MKX_XKs_BNZR",
        "outputId": "f22dbd75-ea37-48bb-9f75-4178aebe9353"
      },
      "outputs": [
        {
          "name": "stdout",
          "output_type": "stream",
          "text": [
            "The Eiffel Tower, located in the heart of Paris, stands tall among the city's historic and cultural landmarks. This iron structure, standing at an impressive 324 meters high, offers breathtaking views of the City of Light's iconic landscape. The Eiffel Tower was built for the 1889 World's Fair and has since become a symbol of French engineering and culture.<|eot_id|>\n"
          ]
        }
      ],
      "source": [
        "if False:\n",
        "    from unsloth import FastLanguageModel\n",
        "    model, tokenizer = FastLanguageModel.from_pretrained(\n",
        "        model_name = \"lora_model\", # YOUR MODEL YOU USED FOR TRAINING\n",
        "        max_seq_length = max_seq_length,\n",
        "        dtype = dtype,\n",
        "        load_in_4bit = load_in_4bit,\n",
        "    )\n",
        "    FastLanguageModel.for_inference(model) # Enable native 2x faster inference\n",
        "\n",
        "messages = [\n",
        "    {\"role\": \"user\", \"content\": \"Describe a tall tower in the capital of France.\"},\n",
        "]\n",
        "inputs = tokenizer.apply_chat_template(\n",
        "    messages,\n",
        "    tokenize = True,\n",
        "    add_generation_prompt = True, # Must add for generation\n",
        "    return_tensors = \"pt\",\n",
        ").to(\"cuda\")\n",
        "\n",
        "from transformers import TextStreamer\n",
        "text_streamer = TextStreamer(tokenizer, skip_prompt = True)\n",
        "_ = model.generate(input_ids = inputs, streamer = text_streamer, max_new_tokens = 128,\n",
        "                   use_cache = True, temperature = 1.5, min_p = 0.1)"
      ]
    },
    {
      "cell_type": "markdown",
      "metadata": {
        "id": "QQMjaNrjsU5_"
      },
      "source": [
        "You can also use Hugging Face's `AutoModelForPeftCausalLM`. Only use this if you do not have `unsloth` installed. It can be hopelessly slow, since `4bit` model downloading is not supported, and Unsloth's **inference is 2x faster**."
      ]
    },
    {
      "cell_type": "code",
      "execution_count": null,
      "metadata": {
        "id": "yFfaXG0WsQuE"
      },
      "outputs": [],
      "source": [
        "if False:\n",
        "    # I highly do NOT suggest - use Unsloth if possible\n",
        "    from peft import AutoPeftModelForCausalLM\n",
        "    from transformers import AutoTokenizer\n",
        "    model = AutoPeftModelForCausalLM.from_pretrained(\n",
        "        \"lora_model\", # YOUR MODEL YOU USED FOR TRAINING\n",
        "        load_in_4bit = load_in_4bit,\n",
        "    )\n",
        "    tokenizer = AutoTokenizer.from_pretrained(\"lora_model\")"
      ]
    },
    {
      "cell_type": "markdown",
      "metadata": {
        "id": "f422JgM9sdVT"
      },
      "source": [
        "### Saving to float16 for VLLM\n",
        "\n",
        "We also support saving to `float16` directly. Select `merged_16bit` for float16 or `merged_4bit` for int4. We also allow `lora` adapters as a fallback. Use `push_to_hub_merged` to upload to your Hugging Face account! You can go to https://huggingface.co/settings/tokens for your personal tokens."
      ]
    },
    {
      "cell_type": "code",
      "execution_count": null,
      "metadata": {
        "id": "iHjt_SMYsd3P"
      },
      "outputs": [],
      "source": [
        "# Merge to 16bit\n",
        "if False: model.save_pretrained_merged(\"model\", tokenizer, save_method = \"merged_16bit\",)\n",
        "if False: model.push_to_hub_merged(\"hf/model\", tokenizer, save_method = \"merged_16bit\", token = \"\")\n",
        "\n",
        "# Merge to 4bit\n",
        "if False: model.save_pretrained_merged(\"model\", tokenizer, save_method = \"merged_4bit\",)\n",
        "if False: model.push_to_hub_merged(\"hf/model\", tokenizer, save_method = \"merged_4bit\", token = \"\")\n",
        "\n",
        "# Just LoRA adapters\n",
        "if False:\n",
        "    model.save_pretrained(\"model\")\n",
        "    tokenizer.save_pretrained(\"model\")\n",
        "if False:\n",
        "    model.push_to_hub(\"hf/model\", token = \"\")\n",
        "    tokenizer.push_to_hub(\"hf/model\", token = \"\")\n"
      ]
    },
    {
      "cell_type": "markdown",
      "metadata": {
        "id": "TCv4vXHd61i7"
      },
      "source": [
        "### GGUF / llama.cpp Conversion\n",
        "To save to `GGUF` / `llama.cpp`, we support it natively now! We clone `llama.cpp` and we default save it to `q8_0`. We allow all methods like `q4_k_m`. Use `save_pretrained_gguf` for local saving and `push_to_hub_gguf` for uploading to HF.\n",
        "\n",
        "Some supported quant methods (full list on our [Wiki page](https://github.com/unslothai/unsloth/wiki#gguf-quantization-options)):\n",
        "* `q8_0` - Fast conversion. High resource use, but generally acceptable.\n",
        "* `q4_k_m` - Recommended. Uses Q6_K for half of the attention.wv and feed_forward.w2 tensors, else Q4_K.\n",
        "* `q5_k_m` - Recommended. Uses Q6_K for half of the attention.wv and feed_forward.w2 tensors, else Q5_K.\n",
        "\n",
        "[**NEW**] To finetune and auto export to Ollama, try our [Ollama notebook](https://colab.research.google.com/github/unslothai/notebooks/blob/main/nb/Llama3_(8B)-Ollama.ipynb)"
      ]
    },
    {
      "cell_type": "code",
      "execution_count": null,
      "metadata": {
        "id": "FqfebeAdT073"
      },
      "outputs": [],
      "source": [
        "# Save to 8bit Q8_0\n",
        "if False: model.save_pretrained_gguf(\"model\", tokenizer,)\n",
        "# Remember to go to https://huggingface.co/settings/tokens for a token!\n",
        "# And change hf to your username!\n",
        "if False: model.push_to_hub_gguf(\"hf/model\", tokenizer, token = \"\")\n",
        "\n",
        "# Save to 16bit GGUF\n",
        "if False: model.save_pretrained_gguf(\"model\", tokenizer, quantization_method = \"f16\")\n",
        "if False: model.push_to_hub_gguf(\"hf/model\", tokenizer, quantization_method = \"f16\", token = \"\")\n",
        "\n",
        "# Save to q4_k_m GGUF\n",
        "if False: model.save_pretrained_gguf(\"model\", tokenizer, quantization_method = \"q4_k_m\")\n",
        "if False: model.push_to_hub_gguf(\"hf/model\", tokenizer, quantization_method = \"q4_k_m\", token = \"\")\n",
        "\n",
        "# Save to multiple GGUF options - much faster if you want multiple!\n",
        "if False:\n",
        "    model.push_to_hub_gguf(\n",
        "        \"hf/model\", # Change hf to your username!\n",
        "        tokenizer,\n",
        "        quantization_method = [\"q4_k_m\", \"q8_0\", \"q5_k_m\",],\n",
        "        token = \"\", # Get a token at https://huggingface.co/settings/tokens\n",
        "    )"
      ]
    },
    {
      "cell_type": "markdown",
      "metadata": {
        "id": "8qZQkc4b9fM0"
      },
      "source": [
        "Now, use the `model-unsloth.gguf` file or `model-unsloth-Q4_K_M.gguf` file in llama.cpp or a UI based system like Jan or Open WebUI. You can install Jan [here](https://github.com/janhq/jan) and Open WebUI [here](https://github.com/open-webui/open-webui)\n",
        "\n",
        "And we're done! If you have any questions on Unsloth, we have a [Discord](https://discord.gg/unsloth) channel! If you find any bugs or want to keep updated with the latest LLM stuff, or need help, join projects etc, feel free to join our Discord!\n",
        "\n",
        "Some other links:\n",
        "1. Train your own reasoning model - Llama GRPO notebook [Free Colab](https://colab.research.google.com/github/unslothai/notebooks/blob/main/nb/Llama3.1_(8B)-GRPO.ipynb)\n",
        "2. Saving finetunes to Ollama. [Free notebook](https://colab.research.google.com/github/unslothai/notebooks/blob/main/nb/Llama3_(8B)-Ollama.ipynb)\n",
        "3. Llama 3.2 Vision finetuning - Radiography use case. [Free Colab](https://colab.research.google.com/github/unslothai/notebooks/blob/main/nb/Llama3.2_(11B)-Vision.ipynb)\n",
        "6. See notebooks for DPO, ORPO, Continued pretraining, conversational finetuning and more on our [documentation](https://docs.unsloth.ai/get-started/unsloth-notebooks)!\n",
        "\n",
        "<div class=\"align-center\">\n",
        "  <a href=\"https://unsloth.ai\"><img src=\"https://github.com/unslothai/unsloth/raw/main/images/unsloth%20new%20logo.png\" width=\"115\"></a>\n",
        "  <a href=\"https://discord.gg/unsloth\"><img src=\"https://github.com/unslothai/unsloth/raw/main/images/Discord.png\" width=\"145\"></a>\n",
        "  <a href=\"https://docs.unsloth.ai/\"><img src=\"https://github.com/unslothai/unsloth/blob/main/images/documentation%20green%20button.png?raw=true\" width=\"125\"></a>\n",
        "\n",
        "  Join Discord if you need help + ⭐️ <i>Star us on <a href=\"https://github.com/unslothai/unsloth\">Github</a> </i> ⭐️\n",
        "</div>\n"
      ]
    }
  ],
  "metadata": {
    "accelerator": "GPU",
    "colab": {
      "gpuType": "T4",
      "provenance": []
    },
    "kernelspec": {
      "display_name": "Python 3",
      "name": "python3"
    },
    "language_info": {
      "name": "python"
    },
    "widgets": {
      "application/vnd.jupyter.widget-state+json": {
        "098bd8ace574423da763eb0eae1d3bb6": {
          "model_module": "@jupyter-widgets/controls",
          "model_module_version": "1.5.0",
          "model_name": "DescriptionStyleModel",
          "state": {
            "_model_module": "@jupyter-widgets/controls",
            "_model_module_version": "1.5.0",
            "_model_name": "DescriptionStyleModel",
            "_view_count": null,
            "_view_module": "@jupyter-widgets/base",
            "_view_module_version": "1.2.0",
            "_view_name": "StyleView",
            "description_width": ""
          }
        },
        "1c0c2835705f41089de4caea98127c04": {
          "model_module": "@jupyter-widgets/base",
          "model_module_version": "1.2.0",
          "model_name": "LayoutModel",
          "state": {
            "_model_module": "@jupyter-widgets/base",
            "_model_module_version": "1.2.0",
            "_model_name": "LayoutModel",
            "_view_count": null,
            "_view_module": "@jupyter-widgets/base",
            "_view_module_version": "1.2.0",
            "_view_name": "LayoutView",
            "align_content": null,
            "align_items": null,
            "align_self": null,
            "border": null,
            "bottom": null,
            "display": null,
            "flex": null,
            "flex_flow": null,
            "grid_area": null,
            "grid_auto_columns": null,
            "grid_auto_flow": null,
            "grid_auto_rows": null,
            "grid_column": null,
            "grid_gap": null,
            "grid_row": null,
            "grid_template_areas": null,
            "grid_template_columns": null,
            "grid_template_rows": null,
            "height": null,
            "justify_content": null,
            "justify_items": null,
            "left": null,
            "margin": null,
            "max_height": null,
            "max_width": null,
            "min_height": null,
            "min_width": null,
            "object_fit": null,
            "object_position": null,
            "order": null,
            "overflow": null,
            "overflow_x": null,
            "overflow_y": null,
            "padding": null,
            "right": null,
            "top": null,
            "visibility": null,
            "width": null
          }
        },
        "4b41aa65c6894e918b04709f8e9270d2": {
          "model_module": "@jupyter-widgets/base",
          "model_module_version": "1.2.0",
          "model_name": "LayoutModel",
          "state": {
            "_model_module": "@jupyter-widgets/base",
            "_model_module_version": "1.2.0",
            "_model_name": "LayoutModel",
            "_view_count": null,
            "_view_module": "@jupyter-widgets/base",
            "_view_module_version": "1.2.0",
            "_view_name": "LayoutView",
            "align_content": null,
            "align_items": null,
            "align_self": null,
            "border": null,
            "bottom": null,
            "display": null,
            "flex": null,
            "flex_flow": null,
            "grid_area": null,
            "grid_auto_columns": null,
            "grid_auto_flow": null,
            "grid_auto_rows": null,
            "grid_column": null,
            "grid_gap": null,
            "grid_row": null,
            "grid_template_areas": null,
            "grid_template_columns": null,
            "grid_template_rows": null,
            "height": null,
            "justify_content": null,
            "justify_items": null,
            "left": null,
            "margin": null,
            "max_height": null,
            "max_width": null,
            "min_height": null,
            "min_width": null,
            "object_fit": null,
            "object_position": null,
            "order": null,
            "overflow": null,
            "overflow_x": null,
            "overflow_y": null,
            "padding": null,
            "right": null,
            "top": null,
            "visibility": null,
            "width": null
          }
        },
        "58ce4633471c438db6e103a1ca3806a0": {
          "model_module": "@jupyter-widgets/base",
          "model_module_version": "1.2.0",
          "model_name": "LayoutModel",
          "state": {
            "_model_module": "@jupyter-widgets/base",
            "_model_module_version": "1.2.0",
            "_model_name": "LayoutModel",
            "_view_count": null,
            "_view_module": "@jupyter-widgets/base",
            "_view_module_version": "1.2.0",
            "_view_name": "LayoutView",
            "align_content": null,
            "align_items": null,
            "align_self": null,
            "border": null,
            "bottom": null,
            "display": null,
            "flex": null,
            "flex_flow": null,
            "grid_area": null,
            "grid_auto_columns": null,
            "grid_auto_flow": null,
            "grid_auto_rows": null,
            "grid_column": null,
            "grid_gap": null,
            "grid_row": null,
            "grid_template_areas": null,
            "grid_template_columns": null,
            "grid_template_rows": null,
            "height": null,
            "justify_content": null,
            "justify_items": null,
            "left": null,
            "margin": null,
            "max_height": null,
            "max_width": null,
            "min_height": null,
            "min_width": null,
            "object_fit": null,
            "object_position": null,
            "order": null,
            "overflow": null,
            "overflow_x": null,
            "overflow_y": null,
            "padding": null,
            "right": null,
            "top": null,
            "visibility": null,
            "width": null
          }
        },
        "76e2e47c93e541ff820bcbab9264381d": {
          "model_module": "@jupyter-widgets/controls",
          "model_module_version": "1.5.0",
          "model_name": "ProgressStyleModel",
          "state": {
            "_model_module": "@jupyter-widgets/controls",
            "_model_module_version": "1.5.0",
            "_model_name": "ProgressStyleModel",
            "_view_count": null,
            "_view_module": "@jupyter-widgets/base",
            "_view_module_version": "1.2.0",
            "_view_name": "StyleView",
            "bar_color": null,
            "description_width": ""
          }
        },
        "9a8f1b8079fe478ebf0b16096cb224f5": {
          "model_module": "@jupyter-widgets/base",
          "model_module_version": "1.2.0",
          "model_name": "LayoutModel",
          "state": {
            "_model_module": "@jupyter-widgets/base",
            "_model_module_version": "1.2.0",
            "_model_name": "LayoutModel",
            "_view_count": null,
            "_view_module": "@jupyter-widgets/base",
            "_view_module_version": "1.2.0",
            "_view_name": "LayoutView",
            "align_content": null,
            "align_items": null,
            "align_self": null,
            "border": null,
            "bottom": null,
            "display": null,
            "flex": null,
            "flex_flow": null,
            "grid_area": null,
            "grid_auto_columns": null,
            "grid_auto_flow": null,
            "grid_auto_rows": null,
            "grid_column": null,
            "grid_gap": null,
            "grid_row": null,
            "grid_template_areas": null,
            "grid_template_columns": null,
            "grid_template_rows": null,
            "height": null,
            "justify_content": null,
            "justify_items": null,
            "left": null,
            "margin": null,
            "max_height": null,
            "max_width": null,
            "min_height": null,
            "min_width": null,
            "object_fit": null,
            "object_position": null,
            "order": null,
            "overflow": null,
            "overflow_x": null,
            "overflow_y": null,
            "padding": null,
            "right": null,
            "top": null,
            "visibility": null,
            "width": null
          }
        },
        "a326b2e89f1c46f28cd166afc7490e2b": {
          "model_module": "@jupyter-widgets/controls",
          "model_module_version": "1.5.0",
          "model_name": "HTMLModel",
          "state": {
            "_dom_classes": [],
            "_model_module": "@jupyter-widgets/controls",
            "_model_module_version": "1.5.0",
            "_model_name": "HTMLModel",
            "_view_count": null,
            "_view_module": "@jupyter-widgets/controls",
            "_view_module_version": "1.5.0",
            "_view_name": "HTMLView",
            "description": "",
            "description_tooltip": null,
            "layout": "IPY_MODEL_58ce4633471c438db6e103a1ca3806a0",
            "placeholder": "​",
            "style": "IPY_MODEL_cf1b769b7a744b5f8bccf6798566582f",
            "value": "Standardizing format: 100%"
          }
        },
        "ae2464c1cbc442a383de7577d2986116": {
          "model_module": "@jupyter-widgets/controls",
          "model_module_version": "1.5.0",
          "model_name": "HTMLModel",
          "state": {
            "_dom_classes": [],
            "_model_module": "@jupyter-widgets/controls",
            "_model_module_version": "1.5.0",
            "_model_name": "HTMLModel",
            "_view_count": null,
            "_view_module": "@jupyter-widgets/controls",
            "_view_module_version": "1.5.0",
            "_view_name": "HTMLView",
            "description": "",
            "description_tooltip": null,
            "layout": "IPY_MODEL_4b41aa65c6894e918b04709f8e9270d2",
            "placeholder": "​",
            "style": "IPY_MODEL_cdae06929214464ea25e343f17b4a843",
            "value": " 100000/100000 [00:20&lt;00:00, 7158.71 examples/s]"
          }
        },
        "b1b0a4e3f00043b0a0eb7a053815a4a5": {
          "model_module": "@jupyter-widgets/base",
          "model_module_version": "1.2.0",
          "model_name": "LayoutModel",
          "state": {
            "_model_module": "@jupyter-widgets/base",
            "_model_module_version": "1.2.0",
            "_model_name": "LayoutModel",
            "_view_count": null,
            "_view_module": "@jupyter-widgets/base",
            "_view_module_version": "1.2.0",
            "_view_name": "LayoutView",
            "align_content": null,
            "align_items": null,
            "align_self": null,
            "border": null,
            "bottom": null,
            "display": null,
            "flex": null,
            "flex_flow": null,
            "grid_area": null,
            "grid_auto_columns": null,
            "grid_auto_flow": null,
            "grid_auto_rows": null,
            "grid_column": null,
            "grid_gap": null,
            "grid_row": null,
            "grid_template_areas": null,
            "grid_template_columns": null,
            "grid_template_rows": null,
            "height": null,
            "justify_content": null,
            "justify_items": null,
            "left": null,
            "margin": null,
            "max_height": null,
            "max_width": null,
            "min_height": null,
            "min_width": null,
            "object_fit": null,
            "object_position": null,
            "order": null,
            "overflow": null,
            "overflow_x": null,
            "overflow_y": null,
            "padding": null,
            "right": null,
            "top": null,
            "visibility": null,
            "width": null
          }
        },
        "bcf8e36d938a4d959c31ea4ff3c8d4cf": {
          "model_module": "@jupyter-widgets/controls",
          "model_module_version": "1.5.0",
          "model_name": "FloatProgressModel",
          "state": {
            "_dom_classes": [],
            "_model_module": "@jupyter-widgets/controls",
            "_model_module_version": "1.5.0",
            "_model_name": "FloatProgressModel",
            "_view_count": null,
            "_view_module": "@jupyter-widgets/controls",
            "_view_module_version": "1.5.0",
            "_view_name": "ProgressView",
            "bar_style": "success",
            "description": "",
            "description_tooltip": null,
            "layout": "IPY_MODEL_cc0bd79ca9e847fba88aafe2d612ffe4",
            "max": 100000,
            "min": 0,
            "orientation": "horizontal",
            "style": "IPY_MODEL_76e2e47c93e541ff820bcbab9264381d",
            "value": 100000
          }
        },
        "bd71b6cb29e147ab9b10d1b85908c413": {
          "model_module": "@jupyter-widgets/controls",
          "model_module_version": "1.5.0",
          "model_name": "HTMLModel",
          "state": {
            "_dom_classes": [],
            "_model_module": "@jupyter-widgets/controls",
            "_model_module_version": "1.5.0",
            "_model_name": "HTMLModel",
            "_view_count": null,
            "_view_module": "@jupyter-widgets/controls",
            "_view_module_version": "1.5.0",
            "_view_name": "HTMLView",
            "description": "",
            "description_tooltip": null,
            "layout": "IPY_MODEL_c03b9410af384397849ef63b62f2c689",
            "placeholder": "​",
            "style": "IPY_MODEL_098bd8ace574423da763eb0eae1d3bb6",
            "value": " 100000/100000 [00:08&lt;00:00, 16117.89 examples/s]"
          }
        },
        "c03b9410af384397849ef63b62f2c689": {
          "model_module": "@jupyter-widgets/base",
          "model_module_version": "1.2.0",
          "model_name": "LayoutModel",
          "state": {
            "_model_module": "@jupyter-widgets/base",
            "_model_module_version": "1.2.0",
            "_model_name": "LayoutModel",
            "_view_count": null,
            "_view_module": "@jupyter-widgets/base",
            "_view_module_version": "1.2.0",
            "_view_name": "LayoutView",
            "align_content": null,
            "align_items": null,
            "align_self": null,
            "border": null,
            "bottom": null,
            "display": null,
            "flex": null,
            "flex_flow": null,
            "grid_area": null,
            "grid_auto_columns": null,
            "grid_auto_flow": null,
            "grid_auto_rows": null,
            "grid_column": null,
            "grid_gap": null,
            "grid_row": null,
            "grid_template_areas": null,
            "grid_template_columns": null,
            "grid_template_rows": null,
            "height": null,
            "justify_content": null,
            "justify_items": null,
            "left": null,
            "margin": null,
            "max_height": null,
            "max_width": null,
            "min_height": null,
            "min_width": null,
            "object_fit": null,
            "object_position": null,
            "order": null,
            "overflow": null,
            "overflow_x": null,
            "overflow_y": null,
            "padding": null,
            "right": null,
            "top": null,
            "visibility": null,
            "width": null
          }
        },
        "cc0bd79ca9e847fba88aafe2d612ffe4": {
          "model_module": "@jupyter-widgets/base",
          "model_module_version": "1.2.0",
          "model_name": "LayoutModel",
          "state": {
            "_model_module": "@jupyter-widgets/base",
            "_model_module_version": "1.2.0",
            "_model_name": "LayoutModel",
            "_view_count": null,
            "_view_module": "@jupyter-widgets/base",
            "_view_module_version": "1.2.0",
            "_view_name": "LayoutView",
            "align_content": null,
            "align_items": null,
            "align_self": null,
            "border": null,
            "bottom": null,
            "display": null,
            "flex": null,
            "flex_flow": null,
            "grid_area": null,
            "grid_auto_columns": null,
            "grid_auto_flow": null,
            "grid_auto_rows": null,
            "grid_column": null,
            "grid_gap": null,
            "grid_row": null,
            "grid_template_areas": null,
            "grid_template_columns": null,
            "grid_template_rows": null,
            "height": null,
            "justify_content": null,
            "justify_items": null,
            "left": null,
            "margin": null,
            "max_height": null,
            "max_width": null,
            "min_height": null,
            "min_width": null,
            "object_fit": null,
            "object_position": null,
            "order": null,
            "overflow": null,
            "overflow_x": null,
            "overflow_y": null,
            "padding": null,
            "right": null,
            "top": null,
            "visibility": null,
            "width": null
          }
        },
        "cdae06929214464ea25e343f17b4a843": {
          "model_module": "@jupyter-widgets/controls",
          "model_module_version": "1.5.0",
          "model_name": "DescriptionStyleModel",
          "state": {
            "_model_module": "@jupyter-widgets/controls",
            "_model_module_version": "1.5.0",
            "_model_name": "DescriptionStyleModel",
            "_view_count": null,
            "_view_module": "@jupyter-widgets/base",
            "_view_module_version": "1.2.0",
            "_view_name": "StyleView",
            "description_width": ""
          }
        },
        "cf1b769b7a744b5f8bccf6798566582f": {
          "model_module": "@jupyter-widgets/controls",
          "model_module_version": "1.5.0",
          "model_name": "DescriptionStyleModel",
          "state": {
            "_model_module": "@jupyter-widgets/controls",
            "_model_module_version": "1.5.0",
            "_model_name": "DescriptionStyleModel",
            "_view_count": null,
            "_view_module": "@jupyter-widgets/base",
            "_view_module_version": "1.2.0",
            "_view_name": "StyleView",
            "description_width": ""
          }
        },
        "d08e764aa8b94e7f9e1c727b53980abe": {
          "model_module": "@jupyter-widgets/controls",
          "model_module_version": "1.5.0",
          "model_name": "HBoxModel",
          "state": {
            "_dom_classes": [],
            "_model_module": "@jupyter-widgets/controls",
            "_model_module_version": "1.5.0",
            "_model_name": "HBoxModel",
            "_view_count": null,
            "_view_module": "@jupyter-widgets/controls",
            "_view_module_version": "1.5.0",
            "_view_name": "HBoxView",
            "box_style": "",
            "children": [
              "IPY_MODEL_e62f6eb58a744d38b837e47d8a16db67",
              "IPY_MODEL_bcf8e36d938a4d959c31ea4ff3c8d4cf",
              "IPY_MODEL_ae2464c1cbc442a383de7577d2986116"
            ],
            "layout": "IPY_MODEL_9a8f1b8079fe478ebf0b16096cb224f5"
          }
        },
        "d7e0024b98a94a9fa12dc4154ff2b2fc": {
          "model_module": "@jupyter-widgets/controls",
          "model_module_version": "1.5.0",
          "model_name": "DescriptionStyleModel",
          "state": {
            "_model_module": "@jupyter-widgets/controls",
            "_model_module_version": "1.5.0",
            "_model_name": "DescriptionStyleModel",
            "_view_count": null,
            "_view_module": "@jupyter-widgets/base",
            "_view_module_version": "1.2.0",
            "_view_name": "StyleView",
            "description_width": ""
          }
        },
        "dd9e90f2c16541e8a72c6771c4685b9a": {
          "model_module": "@jupyter-widgets/controls",
          "model_module_version": "1.5.0",
          "model_name": "HBoxModel",
          "state": {
            "_dom_classes": [],
            "_model_module": "@jupyter-widgets/controls",
            "_model_module_version": "1.5.0",
            "_model_name": "HBoxModel",
            "_view_count": null,
            "_view_module": "@jupyter-widgets/controls",
            "_view_module_version": "1.5.0",
            "_view_name": "HBoxView",
            "box_style": "",
            "children": [
              "IPY_MODEL_a326b2e89f1c46f28cd166afc7490e2b",
              "IPY_MODEL_eb855a0fcb554a8eb245351b3593623d",
              "IPY_MODEL_bd71b6cb29e147ab9b10d1b85908c413"
            ],
            "layout": "IPY_MODEL_b1b0a4e3f00043b0a0eb7a053815a4a5"
          }
        },
        "e2d886444f0047fa9e2245b9773ced9e": {
          "model_module": "@jupyter-widgets/controls",
          "model_module_version": "1.5.0",
          "model_name": "ProgressStyleModel",
          "state": {
            "_model_module": "@jupyter-widgets/controls",
            "_model_module_version": "1.5.0",
            "_model_name": "ProgressStyleModel",
            "_view_count": null,
            "_view_module": "@jupyter-widgets/base",
            "_view_module_version": "1.2.0",
            "_view_name": "StyleView",
            "bar_color": null,
            "description_width": ""
          }
        },
        "e4bf3f8e63bb4c01bbe821d438445d91": {
          "model_module": "@jupyter-widgets/base",
          "model_module_version": "1.2.0",
          "model_name": "LayoutModel",
          "state": {
            "_model_module": "@jupyter-widgets/base",
            "_model_module_version": "1.2.0",
            "_model_name": "LayoutModel",
            "_view_count": null,
            "_view_module": "@jupyter-widgets/base",
            "_view_module_version": "1.2.0",
            "_view_name": "LayoutView",
            "align_content": null,
            "align_items": null,
            "align_self": null,
            "border": null,
            "bottom": null,
            "display": null,
            "flex": null,
            "flex_flow": null,
            "grid_area": null,
            "grid_auto_columns": null,
            "grid_auto_flow": null,
            "grid_auto_rows": null,
            "grid_column": null,
            "grid_gap": null,
            "grid_row": null,
            "grid_template_areas": null,
            "grid_template_columns": null,
            "grid_template_rows": null,
            "height": null,
            "justify_content": null,
            "justify_items": null,
            "left": null,
            "margin": null,
            "max_height": null,
            "max_width": null,
            "min_height": null,
            "min_width": null,
            "object_fit": null,
            "object_position": null,
            "order": null,
            "overflow": null,
            "overflow_x": null,
            "overflow_y": null,
            "padding": null,
            "right": null,
            "top": null,
            "visibility": null,
            "width": null
          }
        },
        "e62f6eb58a744d38b837e47d8a16db67": {
          "model_module": "@jupyter-widgets/controls",
          "model_module_version": "1.5.0",
          "model_name": "HTMLModel",
          "state": {
            "_dom_classes": [],
            "_model_module": "@jupyter-widgets/controls",
            "_model_module_version": "1.5.0",
            "_model_name": "HTMLModel",
            "_view_count": null,
            "_view_module": "@jupyter-widgets/controls",
            "_view_module_version": "1.5.0",
            "_view_name": "HTMLView",
            "description": "",
            "description_tooltip": null,
            "layout": "IPY_MODEL_e4bf3f8e63bb4c01bbe821d438445d91",
            "placeholder": "​",
            "style": "IPY_MODEL_d7e0024b98a94a9fa12dc4154ff2b2fc",
            "value": "Map: 100%"
          }
        },
        "eb855a0fcb554a8eb245351b3593623d": {
          "model_module": "@jupyter-widgets/controls",
          "model_module_version": "1.5.0",
          "model_name": "FloatProgressModel",
          "state": {
            "_dom_classes": [],
            "_model_module": "@jupyter-widgets/controls",
            "_model_module_version": "1.5.0",
            "_model_name": "FloatProgressModel",
            "_view_count": null,
            "_view_module": "@jupyter-widgets/controls",
            "_view_module_version": "1.5.0",
            "_view_name": "ProgressView",
            "bar_style": "success",
            "description": "",
            "description_tooltip": null,
            "layout": "IPY_MODEL_1c0c2835705f41089de4caea98127c04",
            "max": 100000,
            "min": 0,
            "orientation": "horizontal",
            "style": "IPY_MODEL_e2d886444f0047fa9e2245b9773ced9e",
            "value": 100000
          }
        },
        "eba7814f8e134e2bbea8ceb41980a689": {
          "model_module": "@jupyter-widgets/controls",
          "model_name": "HBoxModel",
          "model_module_version": "1.5.0",
          "state": {
            "_dom_classes": [],
            "_model_module": "@jupyter-widgets/controls",
            "_model_module_version": "1.5.0",
            "_model_name": "HBoxModel",
            "_view_count": null,
            "_view_module": "@jupyter-widgets/controls",
            "_view_module_version": "1.5.0",
            "_view_name": "HBoxView",
            "box_style": "",
            "children": [
              "IPY_MODEL_ae32da990aaa4938a22cb8972a3325d9",
              "IPY_MODEL_c04a6de1dafb483192bf7fef866a9b6e",
              "IPY_MODEL_494159ff2fa3474b92cd7862bf97b822"
            ],
            "layout": "IPY_MODEL_f95b1988cc454081b6084c6e6e761cc9"
          }
        },
        "ae32da990aaa4938a22cb8972a3325d9": {
          "model_module": "@jupyter-widgets/controls",
          "model_name": "HTMLModel",
          "model_module_version": "1.5.0",
          "state": {
            "_dom_classes": [],
            "_model_module": "@jupyter-widgets/controls",
            "_model_module_version": "1.5.0",
            "_model_name": "HTMLModel",
            "_view_count": null,
            "_view_module": "@jupyter-widgets/controls",
            "_view_module_version": "1.5.0",
            "_view_name": "HTMLView",
            "description": "",
            "description_tooltip": null,
            "layout": "IPY_MODEL_30963cc9ff474419902655c49aa2ae81",
            "placeholder": "​",
            "style": "IPY_MODEL_4a5b75f59e77438c9675653a80cfb264",
            "value": "model.safetensors.index.json: "
          }
        },
        "c04a6de1dafb483192bf7fef866a9b6e": {
          "model_module": "@jupyter-widgets/controls",
          "model_name": "FloatProgressModel",
          "model_module_version": "1.5.0",
          "state": {
            "_dom_classes": [],
            "_model_module": "@jupyter-widgets/controls",
            "_model_module_version": "1.5.0",
            "_model_name": "FloatProgressModel",
            "_view_count": null,
            "_view_module": "@jupyter-widgets/controls",
            "_view_module_version": "1.5.0",
            "_view_name": "ProgressView",
            "bar_style": "success",
            "description": "",
            "description_tooltip": null,
            "layout": "IPY_MODEL_8ce3cd376b8244aeb4dab92dc1e9c00f",
            "max": 1,
            "min": 0,
            "orientation": "horizontal",
            "style": "IPY_MODEL_24e9eaae7b3846e7937fee758a420e12",
            "value": 1
          }
        },
        "494159ff2fa3474b92cd7862bf97b822": {
          "model_module": "@jupyter-widgets/controls",
          "model_name": "HTMLModel",
          "model_module_version": "1.5.0",
          "state": {
            "_dom_classes": [],
            "_model_module": "@jupyter-widgets/controls",
            "_model_module_version": "1.5.0",
            "_model_name": "HTMLModel",
            "_view_count": null,
            "_view_module": "@jupyter-widgets/controls",
            "_view_module_version": "1.5.0",
            "_view_name": "HTMLView",
            "description": "",
            "description_tooltip": null,
            "layout": "IPY_MODEL_a665c22aecdc455884153d6cc2872da8",
            "placeholder": "​",
            "style": "IPY_MODEL_e290d0aeed0442b1ad19af31be7ae0c7",
            "value": " 23.9k/? [00:00&lt;00:00, 592kB/s]"
          }
        },
        "f95b1988cc454081b6084c6e6e761cc9": {
          "model_module": "@jupyter-widgets/base",
          "model_name": "LayoutModel",
          "model_module_version": "1.2.0",
          "state": {
            "_model_module": "@jupyter-widgets/base",
            "_model_module_version": "1.2.0",
            "_model_name": "LayoutModel",
            "_view_count": null,
            "_view_module": "@jupyter-widgets/base",
            "_view_module_version": "1.2.0",
            "_view_name": "LayoutView",
            "align_content": null,
            "align_items": null,
            "align_self": null,
            "border": null,
            "bottom": null,
            "display": null,
            "flex": null,
            "flex_flow": null,
            "grid_area": null,
            "grid_auto_columns": null,
            "grid_auto_flow": null,
            "grid_auto_rows": null,
            "grid_column": null,
            "grid_gap": null,
            "grid_row": null,
            "grid_template_areas": null,
            "grid_template_columns": null,
            "grid_template_rows": null,
            "height": null,
            "justify_content": null,
            "justify_items": null,
            "left": null,
            "margin": null,
            "max_height": null,
            "max_width": null,
            "min_height": null,
            "min_width": null,
            "object_fit": null,
            "object_position": null,
            "order": null,
            "overflow": null,
            "overflow_x": null,
            "overflow_y": null,
            "padding": null,
            "right": null,
            "top": null,
            "visibility": null,
            "width": null
          }
        },
        "30963cc9ff474419902655c49aa2ae81": {
          "model_module": "@jupyter-widgets/base",
          "model_name": "LayoutModel",
          "model_module_version": "1.2.0",
          "state": {
            "_model_module": "@jupyter-widgets/base",
            "_model_module_version": "1.2.0",
            "_model_name": "LayoutModel",
            "_view_count": null,
            "_view_module": "@jupyter-widgets/base",
            "_view_module_version": "1.2.0",
            "_view_name": "LayoutView",
            "align_content": null,
            "align_items": null,
            "align_self": null,
            "border": null,
            "bottom": null,
            "display": null,
            "flex": null,
            "flex_flow": null,
            "grid_area": null,
            "grid_auto_columns": null,
            "grid_auto_flow": null,
            "grid_auto_rows": null,
            "grid_column": null,
            "grid_gap": null,
            "grid_row": null,
            "grid_template_areas": null,
            "grid_template_columns": null,
            "grid_template_rows": null,
            "height": null,
            "justify_content": null,
            "justify_items": null,
            "left": null,
            "margin": null,
            "max_height": null,
            "max_width": null,
            "min_height": null,
            "min_width": null,
            "object_fit": null,
            "object_position": null,
            "order": null,
            "overflow": null,
            "overflow_x": null,
            "overflow_y": null,
            "padding": null,
            "right": null,
            "top": null,
            "visibility": null,
            "width": null
          }
        },
        "4a5b75f59e77438c9675653a80cfb264": {
          "model_module": "@jupyter-widgets/controls",
          "model_name": "DescriptionStyleModel",
          "model_module_version": "1.5.0",
          "state": {
            "_model_module": "@jupyter-widgets/controls",
            "_model_module_version": "1.5.0",
            "_model_name": "DescriptionStyleModel",
            "_view_count": null,
            "_view_module": "@jupyter-widgets/base",
            "_view_module_version": "1.2.0",
            "_view_name": "StyleView",
            "description_width": ""
          }
        },
        "8ce3cd376b8244aeb4dab92dc1e9c00f": {
          "model_module": "@jupyter-widgets/base",
          "model_name": "LayoutModel",
          "model_module_version": "1.2.0",
          "state": {
            "_model_module": "@jupyter-widgets/base",
            "_model_module_version": "1.2.0",
            "_model_name": "LayoutModel",
            "_view_count": null,
            "_view_module": "@jupyter-widgets/base",
            "_view_module_version": "1.2.0",
            "_view_name": "LayoutView",
            "align_content": null,
            "align_items": null,
            "align_self": null,
            "border": null,
            "bottom": null,
            "display": null,
            "flex": null,
            "flex_flow": null,
            "grid_area": null,
            "grid_auto_columns": null,
            "grid_auto_flow": null,
            "grid_auto_rows": null,
            "grid_column": null,
            "grid_gap": null,
            "grid_row": null,
            "grid_template_areas": null,
            "grid_template_columns": null,
            "grid_template_rows": null,
            "height": null,
            "justify_content": null,
            "justify_items": null,
            "left": null,
            "margin": null,
            "max_height": null,
            "max_width": null,
            "min_height": null,
            "min_width": null,
            "object_fit": null,
            "object_position": null,
            "order": null,
            "overflow": null,
            "overflow_x": null,
            "overflow_y": null,
            "padding": null,
            "right": null,
            "top": null,
            "visibility": null,
            "width": "20px"
          }
        },
        "24e9eaae7b3846e7937fee758a420e12": {
          "model_module": "@jupyter-widgets/controls",
          "model_name": "ProgressStyleModel",
          "model_module_version": "1.5.0",
          "state": {
            "_model_module": "@jupyter-widgets/controls",
            "_model_module_version": "1.5.0",
            "_model_name": "ProgressStyleModel",
            "_view_count": null,
            "_view_module": "@jupyter-widgets/base",
            "_view_module_version": "1.2.0",
            "_view_name": "StyleView",
            "bar_color": null,
            "description_width": ""
          }
        },
        "a665c22aecdc455884153d6cc2872da8": {
          "model_module": "@jupyter-widgets/base",
          "model_name": "LayoutModel",
          "model_module_version": "1.2.0",
          "state": {
            "_model_module": "@jupyter-widgets/base",
            "_model_module_version": "1.2.0",
            "_model_name": "LayoutModel",
            "_view_count": null,
            "_view_module": "@jupyter-widgets/base",
            "_view_module_version": "1.2.0",
            "_view_name": "LayoutView",
            "align_content": null,
            "align_items": null,
            "align_self": null,
            "border": null,
            "bottom": null,
            "display": null,
            "flex": null,
            "flex_flow": null,
            "grid_area": null,
            "grid_auto_columns": null,
            "grid_auto_flow": null,
            "grid_auto_rows": null,
            "grid_column": null,
            "grid_gap": null,
            "grid_row": null,
            "grid_template_areas": null,
            "grid_template_columns": null,
            "grid_template_rows": null,
            "height": null,
            "justify_content": null,
            "justify_items": null,
            "left": null,
            "margin": null,
            "max_height": null,
            "max_width": null,
            "min_height": null,
            "min_width": null,
            "object_fit": null,
            "object_position": null,
            "order": null,
            "overflow": null,
            "overflow_x": null,
            "overflow_y": null,
            "padding": null,
            "right": null,
            "top": null,
            "visibility": null,
            "width": null
          }
        },
        "e290d0aeed0442b1ad19af31be7ae0c7": {
          "model_module": "@jupyter-widgets/controls",
          "model_name": "DescriptionStyleModel",
          "model_module_version": "1.5.0",
          "state": {
            "_model_module": "@jupyter-widgets/controls",
            "_model_module_version": "1.5.0",
            "_model_name": "DescriptionStyleModel",
            "_view_count": null,
            "_view_module": "@jupyter-widgets/base",
            "_view_module_version": "1.2.0",
            "_view_name": "StyleView",
            "description_width": ""
          }
        },
        "e9b9d2b1194947339860d3bb75d12c04": {
          "model_module": "@jupyter-widgets/controls",
          "model_name": "HBoxModel",
          "model_module_version": "1.5.0",
          "state": {
            "_dom_classes": [],
            "_model_module": "@jupyter-widgets/controls",
            "_model_module_version": "1.5.0",
            "_model_name": "HBoxModel",
            "_view_count": null,
            "_view_module": "@jupyter-widgets/controls",
            "_view_module_version": "1.5.0",
            "_view_name": "HBoxView",
            "box_style": "",
            "children": [
              "IPY_MODEL_a899f3b7bf84491db1f95b12796a1f14",
              "IPY_MODEL_c83ef4803ec84e0cb656539d49f0c089",
              "IPY_MODEL_b7b040f0899a433db38b8be1224cc1a3"
            ],
            "layout": "IPY_MODEL_fd858a637b6d4c8cb71700d806c24bdc"
          }
        },
        "a899f3b7bf84491db1f95b12796a1f14": {
          "model_module": "@jupyter-widgets/controls",
          "model_name": "HTMLModel",
          "model_module_version": "1.5.0",
          "state": {
            "_dom_classes": [],
            "_model_module": "@jupyter-widgets/controls",
            "_model_module_version": "1.5.0",
            "_model_name": "HTMLModel",
            "_view_count": null,
            "_view_module": "@jupyter-widgets/controls",
            "_view_module_version": "1.5.0",
            "_view_name": "HTMLView",
            "description": "",
            "description_tooltip": null,
            "layout": "IPY_MODEL_2b15b8f2b73040338898eafcbb60f50c",
            "placeholder": "​",
            "style": "IPY_MODEL_f5cfe984315f469c8f01674401066d50",
            "value": "model-00001-of-00004.safetensors: 100%"
          }
        },
        "c83ef4803ec84e0cb656539d49f0c089": {
          "model_module": "@jupyter-widgets/controls",
          "model_name": "FloatProgressModel",
          "model_module_version": "1.5.0",
          "state": {
            "_dom_classes": [],
            "_model_module": "@jupyter-widgets/controls",
            "_model_module_version": "1.5.0",
            "_model_name": "FloatProgressModel",
            "_view_count": null,
            "_view_module": "@jupyter-widgets/controls",
            "_view_module_version": "1.5.0",
            "_view_name": "ProgressView",
            "bar_style": "success",
            "description": "",
            "description_tooltip": null,
            "layout": "IPY_MODEL_fbfe1981b14648698f01f4e26ffc245b",
            "max": 4976698672,
            "min": 0,
            "orientation": "horizontal",
            "style": "IPY_MODEL_ccce067591da4394a0e0a5a97b54651d",
            "value": 4976698672
          }
        },
        "b7b040f0899a433db38b8be1224cc1a3": {
          "model_module": "@jupyter-widgets/controls",
          "model_name": "HTMLModel",
          "model_module_version": "1.5.0",
          "state": {
            "_dom_classes": [],
            "_model_module": "@jupyter-widgets/controls",
            "_model_module_version": "1.5.0",
            "_model_name": "HTMLModel",
            "_view_count": null,
            "_view_module": "@jupyter-widgets/controls",
            "_view_module_version": "1.5.0",
            "_view_name": "HTMLView",
            "description": "",
            "description_tooltip": null,
            "layout": "IPY_MODEL_149e9d81fc4d45528ad16ef667c0a16a",
            "placeholder": "​",
            "style": "IPY_MODEL_62bf38894ce94426a3108c9ebbef192c",
            "value": " 4.98G/4.98G [03:20&lt;00:00, 39.3MB/s]"
          }
        },
        "fd858a637b6d4c8cb71700d806c24bdc": {
          "model_module": "@jupyter-widgets/base",
          "model_name": "LayoutModel",
          "model_module_version": "1.2.0",
          "state": {
            "_model_module": "@jupyter-widgets/base",
            "_model_module_version": "1.2.0",
            "_model_name": "LayoutModel",
            "_view_count": null,
            "_view_module": "@jupyter-widgets/base",
            "_view_module_version": "1.2.0",
            "_view_name": "LayoutView",
            "align_content": null,
            "align_items": null,
            "align_self": null,
            "border": null,
            "bottom": null,
            "display": null,
            "flex": null,
            "flex_flow": null,
            "grid_area": null,
            "grid_auto_columns": null,
            "grid_auto_flow": null,
            "grid_auto_rows": null,
            "grid_column": null,
            "grid_gap": null,
            "grid_row": null,
            "grid_template_areas": null,
            "grid_template_columns": null,
            "grid_template_rows": null,
            "height": null,
            "justify_content": null,
            "justify_items": null,
            "left": null,
            "margin": null,
            "max_height": null,
            "max_width": null,
            "min_height": null,
            "min_width": null,
            "object_fit": null,
            "object_position": null,
            "order": null,
            "overflow": null,
            "overflow_x": null,
            "overflow_y": null,
            "padding": null,
            "right": null,
            "top": null,
            "visibility": null,
            "width": null
          }
        },
        "2b15b8f2b73040338898eafcbb60f50c": {
          "model_module": "@jupyter-widgets/base",
          "model_name": "LayoutModel",
          "model_module_version": "1.2.0",
          "state": {
            "_model_module": "@jupyter-widgets/base",
            "_model_module_version": "1.2.0",
            "_model_name": "LayoutModel",
            "_view_count": null,
            "_view_module": "@jupyter-widgets/base",
            "_view_module_version": "1.2.0",
            "_view_name": "LayoutView",
            "align_content": null,
            "align_items": null,
            "align_self": null,
            "border": null,
            "bottom": null,
            "display": null,
            "flex": null,
            "flex_flow": null,
            "grid_area": null,
            "grid_auto_columns": null,
            "grid_auto_flow": null,
            "grid_auto_rows": null,
            "grid_column": null,
            "grid_gap": null,
            "grid_row": null,
            "grid_template_areas": null,
            "grid_template_columns": null,
            "grid_template_rows": null,
            "height": null,
            "justify_content": null,
            "justify_items": null,
            "left": null,
            "margin": null,
            "max_height": null,
            "max_width": null,
            "min_height": null,
            "min_width": null,
            "object_fit": null,
            "object_position": null,
            "order": null,
            "overflow": null,
            "overflow_x": null,
            "overflow_y": null,
            "padding": null,
            "right": null,
            "top": null,
            "visibility": null,
            "width": null
          }
        },
        "f5cfe984315f469c8f01674401066d50": {
          "model_module": "@jupyter-widgets/controls",
          "model_name": "DescriptionStyleModel",
          "model_module_version": "1.5.0",
          "state": {
            "_model_module": "@jupyter-widgets/controls",
            "_model_module_version": "1.5.0",
            "_model_name": "DescriptionStyleModel",
            "_view_count": null,
            "_view_module": "@jupyter-widgets/base",
            "_view_module_version": "1.2.0",
            "_view_name": "StyleView",
            "description_width": ""
          }
        },
        "fbfe1981b14648698f01f4e26ffc245b": {
          "model_module": "@jupyter-widgets/base",
          "model_name": "LayoutModel",
          "model_module_version": "1.2.0",
          "state": {
            "_model_module": "@jupyter-widgets/base",
            "_model_module_version": "1.2.0",
            "_model_name": "LayoutModel",
            "_view_count": null,
            "_view_module": "@jupyter-widgets/base",
            "_view_module_version": "1.2.0",
            "_view_name": "LayoutView",
            "align_content": null,
            "align_items": null,
            "align_self": null,
            "border": null,
            "bottom": null,
            "display": null,
            "flex": null,
            "flex_flow": null,
            "grid_area": null,
            "grid_auto_columns": null,
            "grid_auto_flow": null,
            "grid_auto_rows": null,
            "grid_column": null,
            "grid_gap": null,
            "grid_row": null,
            "grid_template_areas": null,
            "grid_template_columns": null,
            "grid_template_rows": null,
            "height": null,
            "justify_content": null,
            "justify_items": null,
            "left": null,
            "margin": null,
            "max_height": null,
            "max_width": null,
            "min_height": null,
            "min_width": null,
            "object_fit": null,
            "object_position": null,
            "order": null,
            "overflow": null,
            "overflow_x": null,
            "overflow_y": null,
            "padding": null,
            "right": null,
            "top": null,
            "visibility": null,
            "width": null
          }
        },
        "ccce067591da4394a0e0a5a97b54651d": {
          "model_module": "@jupyter-widgets/controls",
          "model_name": "ProgressStyleModel",
          "model_module_version": "1.5.0",
          "state": {
            "_model_module": "@jupyter-widgets/controls",
            "_model_module_version": "1.5.0",
            "_model_name": "ProgressStyleModel",
            "_view_count": null,
            "_view_module": "@jupyter-widgets/base",
            "_view_module_version": "1.2.0",
            "_view_name": "StyleView",
            "bar_color": null,
            "description_width": ""
          }
        },
        "149e9d81fc4d45528ad16ef667c0a16a": {
          "model_module": "@jupyter-widgets/base",
          "model_name": "LayoutModel",
          "model_module_version": "1.2.0",
          "state": {
            "_model_module": "@jupyter-widgets/base",
            "_model_module_version": "1.2.0",
            "_model_name": "LayoutModel",
            "_view_count": null,
            "_view_module": "@jupyter-widgets/base",
            "_view_module_version": "1.2.0",
            "_view_name": "LayoutView",
            "align_content": null,
            "align_items": null,
            "align_self": null,
            "border": null,
            "bottom": null,
            "display": null,
            "flex": null,
            "flex_flow": null,
            "grid_area": null,
            "grid_auto_columns": null,
            "grid_auto_flow": null,
            "grid_auto_rows": null,
            "grid_column": null,
            "grid_gap": null,
            "grid_row": null,
            "grid_template_areas": null,
            "grid_template_columns": null,
            "grid_template_rows": null,
            "height": null,
            "justify_content": null,
            "justify_items": null,
            "left": null,
            "margin": null,
            "max_height": null,
            "max_width": null,
            "min_height": null,
            "min_width": null,
            "object_fit": null,
            "object_position": null,
            "order": null,
            "overflow": null,
            "overflow_x": null,
            "overflow_y": null,
            "padding": null,
            "right": null,
            "top": null,
            "visibility": null,
            "width": null
          }
        },
        "62bf38894ce94426a3108c9ebbef192c": {
          "model_module": "@jupyter-widgets/controls",
          "model_name": "DescriptionStyleModel",
          "model_module_version": "1.5.0",
          "state": {
            "_model_module": "@jupyter-widgets/controls",
            "_model_module_version": "1.5.0",
            "_model_name": "DescriptionStyleModel",
            "_view_count": null,
            "_view_module": "@jupyter-widgets/base",
            "_view_module_version": "1.2.0",
            "_view_name": "StyleView",
            "description_width": ""
          }
        },
        "4589526d683545d2b3f04b7c9cc88776": {
          "model_module": "@jupyter-widgets/controls",
          "model_name": "HBoxModel",
          "model_module_version": "1.5.0",
          "state": {
            "_dom_classes": [],
            "_model_module": "@jupyter-widgets/controls",
            "_model_module_version": "1.5.0",
            "_model_name": "HBoxModel",
            "_view_count": null,
            "_view_module": "@jupyter-widgets/controls",
            "_view_module_version": "1.5.0",
            "_view_name": "HBoxView",
            "box_style": "",
            "children": [
              "IPY_MODEL_62a5239595014a6d8f9dd0fd4efabb33",
              "IPY_MODEL_cd6c342019dd44dda797dbaaac6c41a8",
              "IPY_MODEL_89712eb2e47f4defad3b2abe33d82d82"
            ],
            "layout": "IPY_MODEL_6710ba3abe554fb6a55d0d11cc89bfc9"
          }
        },
        "62a5239595014a6d8f9dd0fd4efabb33": {
          "model_module": "@jupyter-widgets/controls",
          "model_name": "HTMLModel",
          "model_module_version": "1.5.0",
          "state": {
            "_dom_classes": [],
            "_model_module": "@jupyter-widgets/controls",
            "_model_module_version": "1.5.0",
            "_model_name": "HTMLModel",
            "_view_count": null,
            "_view_module": "@jupyter-widgets/controls",
            "_view_module_version": "1.5.0",
            "_view_name": "HTMLView",
            "description": "",
            "description_tooltip": null,
            "layout": "IPY_MODEL_acacdc8fc31f4d438209a45e30cd83a8",
            "placeholder": "​",
            "style": "IPY_MODEL_88d56088b9eb4ff1bc0b35b5488b7684",
            "value": "model-00002-of-00004.safetensors: 100%"
          }
        },
        "cd6c342019dd44dda797dbaaac6c41a8": {
          "model_module": "@jupyter-widgets/controls",
          "model_name": "FloatProgressModel",
          "model_module_version": "1.5.0",
          "state": {
            "_dom_classes": [],
            "_model_module": "@jupyter-widgets/controls",
            "_model_module_version": "1.5.0",
            "_model_name": "FloatProgressModel",
            "_view_count": null,
            "_view_module": "@jupyter-widgets/controls",
            "_view_module_version": "1.5.0",
            "_view_name": "ProgressView",
            "bar_style": "success",
            "description": "",
            "description_tooltip": null,
            "layout": "IPY_MODEL_b2dd7945d22141da937834e591b7acb9",
            "max": 4999802720,
            "min": 0,
            "orientation": "horizontal",
            "style": "IPY_MODEL_95735766622f44228b9a27da1fc6e8e6",
            "value": 4999802720
          }
        },
        "89712eb2e47f4defad3b2abe33d82d82": {
          "model_module": "@jupyter-widgets/controls",
          "model_name": "HTMLModel",
          "model_module_version": "1.5.0",
          "state": {
            "_dom_classes": [],
            "_model_module": "@jupyter-widgets/controls",
            "_model_module_version": "1.5.0",
            "_model_name": "HTMLModel",
            "_view_count": null,
            "_view_module": "@jupyter-widgets/controls",
            "_view_module_version": "1.5.0",
            "_view_name": "HTMLView",
            "description": "",
            "description_tooltip": null,
            "layout": "IPY_MODEL_dc70ee25f0364ee8b4e3deb2c9cdd0c4",
            "placeholder": "​",
            "style": "IPY_MODEL_22263cbd95944e35ba3fca8179d5abbd",
            "value": " 5.00G/5.00G [03:07&lt;00:00, 16.5MB/s]"
          }
        },
        "6710ba3abe554fb6a55d0d11cc89bfc9": {
          "model_module": "@jupyter-widgets/base",
          "model_name": "LayoutModel",
          "model_module_version": "1.2.0",
          "state": {
            "_model_module": "@jupyter-widgets/base",
            "_model_module_version": "1.2.0",
            "_model_name": "LayoutModel",
            "_view_count": null,
            "_view_module": "@jupyter-widgets/base",
            "_view_module_version": "1.2.0",
            "_view_name": "LayoutView",
            "align_content": null,
            "align_items": null,
            "align_self": null,
            "border": null,
            "bottom": null,
            "display": null,
            "flex": null,
            "flex_flow": null,
            "grid_area": null,
            "grid_auto_columns": null,
            "grid_auto_flow": null,
            "grid_auto_rows": null,
            "grid_column": null,
            "grid_gap": null,
            "grid_row": null,
            "grid_template_areas": null,
            "grid_template_columns": null,
            "grid_template_rows": null,
            "height": null,
            "justify_content": null,
            "justify_items": null,
            "left": null,
            "margin": null,
            "max_height": null,
            "max_width": null,
            "min_height": null,
            "min_width": null,
            "object_fit": null,
            "object_position": null,
            "order": null,
            "overflow": null,
            "overflow_x": null,
            "overflow_y": null,
            "padding": null,
            "right": null,
            "top": null,
            "visibility": null,
            "width": null
          }
        },
        "acacdc8fc31f4d438209a45e30cd83a8": {
          "model_module": "@jupyter-widgets/base",
          "model_name": "LayoutModel",
          "model_module_version": "1.2.0",
          "state": {
            "_model_module": "@jupyter-widgets/base",
            "_model_module_version": "1.2.0",
            "_model_name": "LayoutModel",
            "_view_count": null,
            "_view_module": "@jupyter-widgets/base",
            "_view_module_version": "1.2.0",
            "_view_name": "LayoutView",
            "align_content": null,
            "align_items": null,
            "align_self": null,
            "border": null,
            "bottom": null,
            "display": null,
            "flex": null,
            "flex_flow": null,
            "grid_area": null,
            "grid_auto_columns": null,
            "grid_auto_flow": null,
            "grid_auto_rows": null,
            "grid_column": null,
            "grid_gap": null,
            "grid_row": null,
            "grid_template_areas": null,
            "grid_template_columns": null,
            "grid_template_rows": null,
            "height": null,
            "justify_content": null,
            "justify_items": null,
            "left": null,
            "margin": null,
            "max_height": null,
            "max_width": null,
            "min_height": null,
            "min_width": null,
            "object_fit": null,
            "object_position": null,
            "order": null,
            "overflow": null,
            "overflow_x": null,
            "overflow_y": null,
            "padding": null,
            "right": null,
            "top": null,
            "visibility": null,
            "width": null
          }
        },
        "88d56088b9eb4ff1bc0b35b5488b7684": {
          "model_module": "@jupyter-widgets/controls",
          "model_name": "DescriptionStyleModel",
          "model_module_version": "1.5.0",
          "state": {
            "_model_module": "@jupyter-widgets/controls",
            "_model_module_version": "1.5.0",
            "_model_name": "DescriptionStyleModel",
            "_view_count": null,
            "_view_module": "@jupyter-widgets/base",
            "_view_module_version": "1.2.0",
            "_view_name": "StyleView",
            "description_width": ""
          }
        },
        "b2dd7945d22141da937834e591b7acb9": {
          "model_module": "@jupyter-widgets/base",
          "model_name": "LayoutModel",
          "model_module_version": "1.2.0",
          "state": {
            "_model_module": "@jupyter-widgets/base",
            "_model_module_version": "1.2.0",
            "_model_name": "LayoutModel",
            "_view_count": null,
            "_view_module": "@jupyter-widgets/base",
            "_view_module_version": "1.2.0",
            "_view_name": "LayoutView",
            "align_content": null,
            "align_items": null,
            "align_self": null,
            "border": null,
            "bottom": null,
            "display": null,
            "flex": null,
            "flex_flow": null,
            "grid_area": null,
            "grid_auto_columns": null,
            "grid_auto_flow": null,
            "grid_auto_rows": null,
            "grid_column": null,
            "grid_gap": null,
            "grid_row": null,
            "grid_template_areas": null,
            "grid_template_columns": null,
            "grid_template_rows": null,
            "height": null,
            "justify_content": null,
            "justify_items": null,
            "left": null,
            "margin": null,
            "max_height": null,
            "max_width": null,
            "min_height": null,
            "min_width": null,
            "object_fit": null,
            "object_position": null,
            "order": null,
            "overflow": null,
            "overflow_x": null,
            "overflow_y": null,
            "padding": null,
            "right": null,
            "top": null,
            "visibility": null,
            "width": null
          }
        },
        "95735766622f44228b9a27da1fc6e8e6": {
          "model_module": "@jupyter-widgets/controls",
          "model_name": "ProgressStyleModel",
          "model_module_version": "1.5.0",
          "state": {
            "_model_module": "@jupyter-widgets/controls",
            "_model_module_version": "1.5.0",
            "_model_name": "ProgressStyleModel",
            "_view_count": null,
            "_view_module": "@jupyter-widgets/base",
            "_view_module_version": "1.2.0",
            "_view_name": "StyleView",
            "bar_color": null,
            "description_width": ""
          }
        },
        "dc70ee25f0364ee8b4e3deb2c9cdd0c4": {
          "model_module": "@jupyter-widgets/base",
          "model_name": "LayoutModel",
          "model_module_version": "1.2.0",
          "state": {
            "_model_module": "@jupyter-widgets/base",
            "_model_module_version": "1.2.0",
            "_model_name": "LayoutModel",
            "_view_count": null,
            "_view_module": "@jupyter-widgets/base",
            "_view_module_version": "1.2.0",
            "_view_name": "LayoutView",
            "align_content": null,
            "align_items": null,
            "align_self": null,
            "border": null,
            "bottom": null,
            "display": null,
            "flex": null,
            "flex_flow": null,
            "grid_area": null,
            "grid_auto_columns": null,
            "grid_auto_flow": null,
            "grid_auto_rows": null,
            "grid_column": null,
            "grid_gap": null,
            "grid_row": null,
            "grid_template_areas": null,
            "grid_template_columns": null,
            "grid_template_rows": null,
            "height": null,
            "justify_content": null,
            "justify_items": null,
            "left": null,
            "margin": null,
            "max_height": null,
            "max_width": null,
            "min_height": null,
            "min_width": null,
            "object_fit": null,
            "object_position": null,
            "order": null,
            "overflow": null,
            "overflow_x": null,
            "overflow_y": null,
            "padding": null,
            "right": null,
            "top": null,
            "visibility": null,
            "width": null
          }
        },
        "22263cbd95944e35ba3fca8179d5abbd": {
          "model_module": "@jupyter-widgets/controls",
          "model_name": "DescriptionStyleModel",
          "model_module_version": "1.5.0",
          "state": {
            "_model_module": "@jupyter-widgets/controls",
            "_model_module_version": "1.5.0",
            "_model_name": "DescriptionStyleModel",
            "_view_count": null,
            "_view_module": "@jupyter-widgets/base",
            "_view_module_version": "1.2.0",
            "_view_name": "StyleView",
            "description_width": ""
          }
        },
        "d759a67600cc4f34a2fe683e39a2e97c": {
          "model_module": "@jupyter-widgets/controls",
          "model_name": "HBoxModel",
          "model_module_version": "1.5.0",
          "state": {
            "_dom_classes": [],
            "_model_module": "@jupyter-widgets/controls",
            "_model_module_version": "1.5.0",
            "_model_name": "HBoxModel",
            "_view_count": null,
            "_view_module": "@jupyter-widgets/controls",
            "_view_module_version": "1.5.0",
            "_view_name": "HBoxView",
            "box_style": "",
            "children": [
              "IPY_MODEL_4ceb2d6c96ca401d9f509e8acfe24fb3",
              "IPY_MODEL_53d50b6e30064e4dabb933c53183c152",
              "IPY_MODEL_f71ac7d24aff49f0a405a20d7c3e450e"
            ],
            "layout": "IPY_MODEL_f11f611c462940f88120229fddd85851"
          }
        },
        "4ceb2d6c96ca401d9f509e8acfe24fb3": {
          "model_module": "@jupyter-widgets/controls",
          "model_name": "HTMLModel",
          "model_module_version": "1.5.0",
          "state": {
            "_dom_classes": [],
            "_model_module": "@jupyter-widgets/controls",
            "_model_module_version": "1.5.0",
            "_model_name": "HTMLModel",
            "_view_count": null,
            "_view_module": "@jupyter-widgets/controls",
            "_view_module_version": "1.5.0",
            "_view_name": "HTMLView",
            "description": "",
            "description_tooltip": null,
            "layout": "IPY_MODEL_5b3007968a734532abb7714bec3e453d",
            "placeholder": "​",
            "style": "IPY_MODEL_93bd8834c7124b91a52a243f5e468edf",
            "value": "model-00003-of-00004.safetensors: 100%"
          }
        },
        "53d50b6e30064e4dabb933c53183c152": {
          "model_module": "@jupyter-widgets/controls",
          "model_name": "FloatProgressModel",
          "model_module_version": "1.5.0",
          "state": {
            "_dom_classes": [],
            "_model_module": "@jupyter-widgets/controls",
            "_model_module_version": "1.5.0",
            "_model_name": "FloatProgressModel",
            "_view_count": null,
            "_view_module": "@jupyter-widgets/controls",
            "_view_module_version": "1.5.0",
            "_view_name": "ProgressView",
            "bar_style": "success",
            "description": "",
            "description_tooltip": null,
            "layout": "IPY_MODEL_5eb9c9b1f1c24640b3bd989eae04da55",
            "max": 4915916176,
            "min": 0,
            "orientation": "horizontal",
            "style": "IPY_MODEL_fa28c938f60a4b0eb2337e225799d5fa",
            "value": 4915916176
          }
        },
        "f71ac7d24aff49f0a405a20d7c3e450e": {
          "model_module": "@jupyter-widgets/controls",
          "model_name": "HTMLModel",
          "model_module_version": "1.5.0",
          "state": {
            "_dom_classes": [],
            "_model_module": "@jupyter-widgets/controls",
            "_model_module_version": "1.5.0",
            "_model_name": "HTMLModel",
            "_view_count": null,
            "_view_module": "@jupyter-widgets/controls",
            "_view_module_version": "1.5.0",
            "_view_name": "HTMLView",
            "description": "",
            "description_tooltip": null,
            "layout": "IPY_MODEL_e16d6edd1c064dc2bea0bb32154e3328",
            "placeholder": "​",
            "style": "IPY_MODEL_cd8c665fa64845748008d983cb415b73",
            "value": " 4.92G/4.92G [05:27&lt;00:00, 27.4MB/s]"
          }
        },
        "f11f611c462940f88120229fddd85851": {
          "model_module": "@jupyter-widgets/base",
          "model_name": "LayoutModel",
          "model_module_version": "1.2.0",
          "state": {
            "_model_module": "@jupyter-widgets/base",
            "_model_module_version": "1.2.0",
            "_model_name": "LayoutModel",
            "_view_count": null,
            "_view_module": "@jupyter-widgets/base",
            "_view_module_version": "1.2.0",
            "_view_name": "LayoutView",
            "align_content": null,
            "align_items": null,
            "align_self": null,
            "border": null,
            "bottom": null,
            "display": null,
            "flex": null,
            "flex_flow": null,
            "grid_area": null,
            "grid_auto_columns": null,
            "grid_auto_flow": null,
            "grid_auto_rows": null,
            "grid_column": null,
            "grid_gap": null,
            "grid_row": null,
            "grid_template_areas": null,
            "grid_template_columns": null,
            "grid_template_rows": null,
            "height": null,
            "justify_content": null,
            "justify_items": null,
            "left": null,
            "margin": null,
            "max_height": null,
            "max_width": null,
            "min_height": null,
            "min_width": null,
            "object_fit": null,
            "object_position": null,
            "order": null,
            "overflow": null,
            "overflow_x": null,
            "overflow_y": null,
            "padding": null,
            "right": null,
            "top": null,
            "visibility": null,
            "width": null
          }
        },
        "5b3007968a734532abb7714bec3e453d": {
          "model_module": "@jupyter-widgets/base",
          "model_name": "LayoutModel",
          "model_module_version": "1.2.0",
          "state": {
            "_model_module": "@jupyter-widgets/base",
            "_model_module_version": "1.2.0",
            "_model_name": "LayoutModel",
            "_view_count": null,
            "_view_module": "@jupyter-widgets/base",
            "_view_module_version": "1.2.0",
            "_view_name": "LayoutView",
            "align_content": null,
            "align_items": null,
            "align_self": null,
            "border": null,
            "bottom": null,
            "display": null,
            "flex": null,
            "flex_flow": null,
            "grid_area": null,
            "grid_auto_columns": null,
            "grid_auto_flow": null,
            "grid_auto_rows": null,
            "grid_column": null,
            "grid_gap": null,
            "grid_row": null,
            "grid_template_areas": null,
            "grid_template_columns": null,
            "grid_template_rows": null,
            "height": null,
            "justify_content": null,
            "justify_items": null,
            "left": null,
            "margin": null,
            "max_height": null,
            "max_width": null,
            "min_height": null,
            "min_width": null,
            "object_fit": null,
            "object_position": null,
            "order": null,
            "overflow": null,
            "overflow_x": null,
            "overflow_y": null,
            "padding": null,
            "right": null,
            "top": null,
            "visibility": null,
            "width": null
          }
        },
        "93bd8834c7124b91a52a243f5e468edf": {
          "model_module": "@jupyter-widgets/controls",
          "model_name": "DescriptionStyleModel",
          "model_module_version": "1.5.0",
          "state": {
            "_model_module": "@jupyter-widgets/controls",
            "_model_module_version": "1.5.0",
            "_model_name": "DescriptionStyleModel",
            "_view_count": null,
            "_view_module": "@jupyter-widgets/base",
            "_view_module_version": "1.2.0",
            "_view_name": "StyleView",
            "description_width": ""
          }
        },
        "5eb9c9b1f1c24640b3bd989eae04da55": {
          "model_module": "@jupyter-widgets/base",
          "model_name": "LayoutModel",
          "model_module_version": "1.2.0",
          "state": {
            "_model_module": "@jupyter-widgets/base",
            "_model_module_version": "1.2.0",
            "_model_name": "LayoutModel",
            "_view_count": null,
            "_view_module": "@jupyter-widgets/base",
            "_view_module_version": "1.2.0",
            "_view_name": "LayoutView",
            "align_content": null,
            "align_items": null,
            "align_self": null,
            "border": null,
            "bottom": null,
            "display": null,
            "flex": null,
            "flex_flow": null,
            "grid_area": null,
            "grid_auto_columns": null,
            "grid_auto_flow": null,
            "grid_auto_rows": null,
            "grid_column": null,
            "grid_gap": null,
            "grid_row": null,
            "grid_template_areas": null,
            "grid_template_columns": null,
            "grid_template_rows": null,
            "height": null,
            "justify_content": null,
            "justify_items": null,
            "left": null,
            "margin": null,
            "max_height": null,
            "max_width": null,
            "min_height": null,
            "min_width": null,
            "object_fit": null,
            "object_position": null,
            "order": null,
            "overflow": null,
            "overflow_x": null,
            "overflow_y": null,
            "padding": null,
            "right": null,
            "top": null,
            "visibility": null,
            "width": null
          }
        },
        "fa28c938f60a4b0eb2337e225799d5fa": {
          "model_module": "@jupyter-widgets/controls",
          "model_name": "ProgressStyleModel",
          "model_module_version": "1.5.0",
          "state": {
            "_model_module": "@jupyter-widgets/controls",
            "_model_module_version": "1.5.0",
            "_model_name": "ProgressStyleModel",
            "_view_count": null,
            "_view_module": "@jupyter-widgets/base",
            "_view_module_version": "1.2.0",
            "_view_name": "StyleView",
            "bar_color": null,
            "description_width": ""
          }
        },
        "e16d6edd1c064dc2bea0bb32154e3328": {
          "model_module": "@jupyter-widgets/base",
          "model_name": "LayoutModel",
          "model_module_version": "1.2.0",
          "state": {
            "_model_module": "@jupyter-widgets/base",
            "_model_module_version": "1.2.0",
            "_model_name": "LayoutModel",
            "_view_count": null,
            "_view_module": "@jupyter-widgets/base",
            "_view_module_version": "1.2.0",
            "_view_name": "LayoutView",
            "align_content": null,
            "align_items": null,
            "align_self": null,
            "border": null,
            "bottom": null,
            "display": null,
            "flex": null,
            "flex_flow": null,
            "grid_area": null,
            "grid_auto_columns": null,
            "grid_auto_flow": null,
            "grid_auto_rows": null,
            "grid_column": null,
            "grid_gap": null,
            "grid_row": null,
            "grid_template_areas": null,
            "grid_template_columns": null,
            "grid_template_rows": null,
            "height": null,
            "justify_content": null,
            "justify_items": null,
            "left": null,
            "margin": null,
            "max_height": null,
            "max_width": null,
            "min_height": null,
            "min_width": null,
            "object_fit": null,
            "object_position": null,
            "order": null,
            "overflow": null,
            "overflow_x": null,
            "overflow_y": null,
            "padding": null,
            "right": null,
            "top": null,
            "visibility": null,
            "width": null
          }
        },
        "cd8c665fa64845748008d983cb415b73": {
          "model_module": "@jupyter-widgets/controls",
          "model_name": "DescriptionStyleModel",
          "model_module_version": "1.5.0",
          "state": {
            "_model_module": "@jupyter-widgets/controls",
            "_model_module_version": "1.5.0",
            "_model_name": "DescriptionStyleModel",
            "_view_count": null,
            "_view_module": "@jupyter-widgets/base",
            "_view_module_version": "1.2.0",
            "_view_name": "StyleView",
            "description_width": ""
          }
        },
        "0b4c2c0a466e464196d579518368dd0f": {
          "model_module": "@jupyter-widgets/controls",
          "model_name": "HBoxModel",
          "model_module_version": "1.5.0",
          "state": {
            "_dom_classes": [],
            "_model_module": "@jupyter-widgets/controls",
            "_model_module_version": "1.5.0",
            "_model_name": "HBoxModel",
            "_view_count": null,
            "_view_module": "@jupyter-widgets/controls",
            "_view_module_version": "1.5.0",
            "_view_name": "HBoxView",
            "box_style": "",
            "children": [
              "IPY_MODEL_a2c427da0ecd44fba691a3830ea172de",
              "IPY_MODEL_14ebe749938f42528764e392ab5ae58b",
              "IPY_MODEL_fabac993d0d8472e8fc1369152c22ac3"
            ],
            "layout": "IPY_MODEL_74fd24bdcbf241dda709318b80f9123d"
          }
        },
        "a2c427da0ecd44fba691a3830ea172de": {
          "model_module": "@jupyter-widgets/controls",
          "model_name": "HTMLModel",
          "model_module_version": "1.5.0",
          "state": {
            "_dom_classes": [],
            "_model_module": "@jupyter-widgets/controls",
            "_model_module_version": "1.5.0",
            "_model_name": "HTMLModel",
            "_view_count": null,
            "_view_module": "@jupyter-widgets/controls",
            "_view_module_version": "1.5.0",
            "_view_name": "HTMLView",
            "description": "",
            "description_tooltip": null,
            "layout": "IPY_MODEL_7975e17661504684a8692e82e9718c87",
            "placeholder": "​",
            "style": "IPY_MODEL_55c0f2125977483f9856cd01825eb850",
            "value": "model-00004-of-00004.safetensors: 100%"
          }
        },
        "14ebe749938f42528764e392ab5ae58b": {
          "model_module": "@jupyter-widgets/controls",
          "model_name": "FloatProgressModel",
          "model_module_version": "1.5.0",
          "state": {
            "_dom_classes": [],
            "_model_module": "@jupyter-widgets/controls",
            "_model_module_version": "1.5.0",
            "_model_name": "FloatProgressModel",
            "_view_count": null,
            "_view_module": "@jupyter-widgets/controls",
            "_view_module_version": "1.5.0",
            "_view_name": "ProgressView",
            "bar_style": "success",
            "description": "",
            "description_tooltip": null,
            "layout": "IPY_MODEL_1bec582decce425c981663e0200983b8",
            "max": 1168138808,
            "min": 0,
            "orientation": "horizontal",
            "style": "IPY_MODEL_1d1d075f2d54441ab028763777e7b43c",
            "value": 1168138808
          }
        },
        "fabac993d0d8472e8fc1369152c22ac3": {
          "model_module": "@jupyter-widgets/controls",
          "model_name": "HTMLModel",
          "model_module_version": "1.5.0",
          "state": {
            "_dom_classes": [],
            "_model_module": "@jupyter-widgets/controls",
            "_model_module_version": "1.5.0",
            "_model_name": "HTMLModel",
            "_view_count": null,
            "_view_module": "@jupyter-widgets/controls",
            "_view_module_version": "1.5.0",
            "_view_name": "HTMLView",
            "description": "",
            "description_tooltip": null,
            "layout": "IPY_MODEL_409a6a5908464204bfe2445975b1fdac",
            "placeholder": "​",
            "style": "IPY_MODEL_8e26095e8fa14b69b5787ee7b76de5e3",
            "value": " 1.17G/1.17G [01:21&lt;00:00, 16.8MB/s]"
          }
        },
        "74fd24bdcbf241dda709318b80f9123d": {
          "model_module": "@jupyter-widgets/base",
          "model_name": "LayoutModel",
          "model_module_version": "1.2.0",
          "state": {
            "_model_module": "@jupyter-widgets/base",
            "_model_module_version": "1.2.0",
            "_model_name": "LayoutModel",
            "_view_count": null,
            "_view_module": "@jupyter-widgets/base",
            "_view_module_version": "1.2.0",
            "_view_name": "LayoutView",
            "align_content": null,
            "align_items": null,
            "align_self": null,
            "border": null,
            "bottom": null,
            "display": null,
            "flex": null,
            "flex_flow": null,
            "grid_area": null,
            "grid_auto_columns": null,
            "grid_auto_flow": null,
            "grid_auto_rows": null,
            "grid_column": null,
            "grid_gap": null,
            "grid_row": null,
            "grid_template_areas": null,
            "grid_template_columns": null,
            "grid_template_rows": null,
            "height": null,
            "justify_content": null,
            "justify_items": null,
            "left": null,
            "margin": null,
            "max_height": null,
            "max_width": null,
            "min_height": null,
            "min_width": null,
            "object_fit": null,
            "object_position": null,
            "order": null,
            "overflow": null,
            "overflow_x": null,
            "overflow_y": null,
            "padding": null,
            "right": null,
            "top": null,
            "visibility": null,
            "width": null
          }
        },
        "7975e17661504684a8692e82e9718c87": {
          "model_module": "@jupyter-widgets/base",
          "model_name": "LayoutModel",
          "model_module_version": "1.2.0",
          "state": {
            "_model_module": "@jupyter-widgets/base",
            "_model_module_version": "1.2.0",
            "_model_name": "LayoutModel",
            "_view_count": null,
            "_view_module": "@jupyter-widgets/base",
            "_view_module_version": "1.2.0",
            "_view_name": "LayoutView",
            "align_content": null,
            "align_items": null,
            "align_self": null,
            "border": null,
            "bottom": null,
            "display": null,
            "flex": null,
            "flex_flow": null,
            "grid_area": null,
            "grid_auto_columns": null,
            "grid_auto_flow": null,
            "grid_auto_rows": null,
            "grid_column": null,
            "grid_gap": null,
            "grid_row": null,
            "grid_template_areas": null,
            "grid_template_columns": null,
            "grid_template_rows": null,
            "height": null,
            "justify_content": null,
            "justify_items": null,
            "left": null,
            "margin": null,
            "max_height": null,
            "max_width": null,
            "min_height": null,
            "min_width": null,
            "object_fit": null,
            "object_position": null,
            "order": null,
            "overflow": null,
            "overflow_x": null,
            "overflow_y": null,
            "padding": null,
            "right": null,
            "top": null,
            "visibility": null,
            "width": null
          }
        },
        "55c0f2125977483f9856cd01825eb850": {
          "model_module": "@jupyter-widgets/controls",
          "model_name": "DescriptionStyleModel",
          "model_module_version": "1.5.0",
          "state": {
            "_model_module": "@jupyter-widgets/controls",
            "_model_module_version": "1.5.0",
            "_model_name": "DescriptionStyleModel",
            "_view_count": null,
            "_view_module": "@jupyter-widgets/base",
            "_view_module_version": "1.2.0",
            "_view_name": "StyleView",
            "description_width": ""
          }
        },
        "1bec582decce425c981663e0200983b8": {
          "model_module": "@jupyter-widgets/base",
          "model_name": "LayoutModel",
          "model_module_version": "1.2.0",
          "state": {
            "_model_module": "@jupyter-widgets/base",
            "_model_module_version": "1.2.0",
            "_model_name": "LayoutModel",
            "_view_count": null,
            "_view_module": "@jupyter-widgets/base",
            "_view_module_version": "1.2.0",
            "_view_name": "LayoutView",
            "align_content": null,
            "align_items": null,
            "align_self": null,
            "border": null,
            "bottom": null,
            "display": null,
            "flex": null,
            "flex_flow": null,
            "grid_area": null,
            "grid_auto_columns": null,
            "grid_auto_flow": null,
            "grid_auto_rows": null,
            "grid_column": null,
            "grid_gap": null,
            "grid_row": null,
            "grid_template_areas": null,
            "grid_template_columns": null,
            "grid_template_rows": null,
            "height": null,
            "justify_content": null,
            "justify_items": null,
            "left": null,
            "margin": null,
            "max_height": null,
            "max_width": null,
            "min_height": null,
            "min_width": null,
            "object_fit": null,
            "object_position": null,
            "order": null,
            "overflow": null,
            "overflow_x": null,
            "overflow_y": null,
            "padding": null,
            "right": null,
            "top": null,
            "visibility": null,
            "width": null
          }
        },
        "1d1d075f2d54441ab028763777e7b43c": {
          "model_module": "@jupyter-widgets/controls",
          "model_name": "ProgressStyleModel",
          "model_module_version": "1.5.0",
          "state": {
            "_model_module": "@jupyter-widgets/controls",
            "_model_module_version": "1.5.0",
            "_model_name": "ProgressStyleModel",
            "_view_count": null,
            "_view_module": "@jupyter-widgets/base",
            "_view_module_version": "1.2.0",
            "_view_name": "StyleView",
            "bar_color": null,
            "description_width": ""
          }
        },
        "409a6a5908464204bfe2445975b1fdac": {
          "model_module": "@jupyter-widgets/base",
          "model_name": "LayoutModel",
          "model_module_version": "1.2.0",
          "state": {
            "_model_module": "@jupyter-widgets/base",
            "_model_module_version": "1.2.0",
            "_model_name": "LayoutModel",
            "_view_count": null,
            "_view_module": "@jupyter-widgets/base",
            "_view_module_version": "1.2.0",
            "_view_name": "LayoutView",
            "align_content": null,
            "align_items": null,
            "align_self": null,
            "border": null,
            "bottom": null,
            "display": null,
            "flex": null,
            "flex_flow": null,
            "grid_area": null,
            "grid_auto_columns": null,
            "grid_auto_flow": null,
            "grid_auto_rows": null,
            "grid_column": null,
            "grid_gap": null,
            "grid_row": null,
            "grid_template_areas": null,
            "grid_template_columns": null,
            "grid_template_rows": null,
            "height": null,
            "justify_content": null,
            "justify_items": null,
            "left": null,
            "margin": null,
            "max_height": null,
            "max_width": null,
            "min_height": null,
            "min_width": null,
            "object_fit": null,
            "object_position": null,
            "order": null,
            "overflow": null,
            "overflow_x": null,
            "overflow_y": null,
            "padding": null,
            "right": null,
            "top": null,
            "visibility": null,
            "width": null
          }
        },
        "8e26095e8fa14b69b5787ee7b76de5e3": {
          "model_module": "@jupyter-widgets/controls",
          "model_name": "DescriptionStyleModel",
          "model_module_version": "1.5.0",
          "state": {
            "_model_module": "@jupyter-widgets/controls",
            "_model_module_version": "1.5.0",
            "_model_name": "DescriptionStyleModel",
            "_view_count": null,
            "_view_module": "@jupyter-widgets/base",
            "_view_module_version": "1.2.0",
            "_view_name": "StyleView",
            "description_width": ""
          }
        },
        "3296a2ff4d04464a91e2e3473199b090": {
          "model_module": "@jupyter-widgets/controls",
          "model_name": "HBoxModel",
          "model_module_version": "1.5.0",
          "state": {
            "_dom_classes": [],
            "_model_module": "@jupyter-widgets/controls",
            "_model_module_version": "1.5.0",
            "_model_name": "HBoxModel",
            "_view_count": null,
            "_view_module": "@jupyter-widgets/controls",
            "_view_module_version": "1.5.0",
            "_view_name": "HBoxView",
            "box_style": "",
            "children": [
              "IPY_MODEL_3eefdb9362fc49a19347e0a2e3b84471",
              "IPY_MODEL_521bf90d36d74afa860746619abcc663",
              "IPY_MODEL_586244273b434e8889d97da73fcde15e"
            ],
            "layout": "IPY_MODEL_2a205de8dda54fa7aa610aa06bb21ad1"
          }
        },
        "3eefdb9362fc49a19347e0a2e3b84471": {
          "model_module": "@jupyter-widgets/controls",
          "model_name": "HTMLModel",
          "model_module_version": "1.5.0",
          "state": {
            "_dom_classes": [],
            "_model_module": "@jupyter-widgets/controls",
            "_model_module_version": "1.5.0",
            "_model_name": "HTMLModel",
            "_view_count": null,
            "_view_module": "@jupyter-widgets/controls",
            "_view_module_version": "1.5.0",
            "_view_name": "HTMLView",
            "description": "",
            "description_tooltip": null,
            "layout": "IPY_MODEL_cba7b6c6e1ce428baabe3488146bd762",
            "placeholder": "​",
            "style": "IPY_MODEL_347191a9714846a6a716b1e9eb8120c4",
            "value": "Map (num_proc=2): 100%"
          }
        },
        "521bf90d36d74afa860746619abcc663": {
          "model_module": "@jupyter-widgets/controls",
          "model_name": "FloatProgressModel",
          "model_module_version": "1.5.0",
          "state": {
            "_dom_classes": [],
            "_model_module": "@jupyter-widgets/controls",
            "_model_module_version": "1.5.0",
            "_model_name": "FloatProgressModel",
            "_view_count": null,
            "_view_module": "@jupyter-widgets/controls",
            "_view_module_version": "1.5.0",
            "_view_name": "ProgressView",
            "bar_style": "success",
            "description": "",
            "description_tooltip": null,
            "layout": "IPY_MODEL_196e026aabef4c0ba773c253e77e5df2",
            "max": 403,
            "min": 0,
            "orientation": "horizontal",
            "style": "IPY_MODEL_01cfe8060bda454284a1e8508726ada7",
            "value": 403
          }
        },
        "586244273b434e8889d97da73fcde15e": {
          "model_module": "@jupyter-widgets/controls",
          "model_name": "HTMLModel",
          "model_module_version": "1.5.0",
          "state": {
            "_dom_classes": [],
            "_model_module": "@jupyter-widgets/controls",
            "_model_module_version": "1.5.0",
            "_model_name": "HTMLModel",
            "_view_count": null,
            "_view_module": "@jupyter-widgets/controls",
            "_view_module_version": "1.5.0",
            "_view_name": "HTMLView",
            "description": "",
            "description_tooltip": null,
            "layout": "IPY_MODEL_7906db566cc447ba896afe4a2a3090de",
            "placeholder": "​",
            "style": "IPY_MODEL_b330d399dda04786b27f566a139227a8",
            "value": " 403/403 [00:10&lt;00:00, 52.01 examples/s]"
          }
        },
        "2a205de8dda54fa7aa610aa06bb21ad1": {
          "model_module": "@jupyter-widgets/base",
          "model_name": "LayoutModel",
          "model_module_version": "1.2.0",
          "state": {
            "_model_module": "@jupyter-widgets/base",
            "_model_module_version": "1.2.0",
            "_model_name": "LayoutModel",
            "_view_count": null,
            "_view_module": "@jupyter-widgets/base",
            "_view_module_version": "1.2.0",
            "_view_name": "LayoutView",
            "align_content": null,
            "align_items": null,
            "align_self": null,
            "border": null,
            "bottom": null,
            "display": null,
            "flex": null,
            "flex_flow": null,
            "grid_area": null,
            "grid_auto_columns": null,
            "grid_auto_flow": null,
            "grid_auto_rows": null,
            "grid_column": null,
            "grid_gap": null,
            "grid_row": null,
            "grid_template_areas": null,
            "grid_template_columns": null,
            "grid_template_rows": null,
            "height": null,
            "justify_content": null,
            "justify_items": null,
            "left": null,
            "margin": null,
            "max_height": null,
            "max_width": null,
            "min_height": null,
            "min_width": null,
            "object_fit": null,
            "object_position": null,
            "order": null,
            "overflow": null,
            "overflow_x": null,
            "overflow_y": null,
            "padding": null,
            "right": null,
            "top": null,
            "visibility": null,
            "width": null
          }
        },
        "cba7b6c6e1ce428baabe3488146bd762": {
          "model_module": "@jupyter-widgets/base",
          "model_name": "LayoutModel",
          "model_module_version": "1.2.0",
          "state": {
            "_model_module": "@jupyter-widgets/base",
            "_model_module_version": "1.2.0",
            "_model_name": "LayoutModel",
            "_view_count": null,
            "_view_module": "@jupyter-widgets/base",
            "_view_module_version": "1.2.0",
            "_view_name": "LayoutView",
            "align_content": null,
            "align_items": null,
            "align_self": null,
            "border": null,
            "bottom": null,
            "display": null,
            "flex": null,
            "flex_flow": null,
            "grid_area": null,
            "grid_auto_columns": null,
            "grid_auto_flow": null,
            "grid_auto_rows": null,
            "grid_column": null,
            "grid_gap": null,
            "grid_row": null,
            "grid_template_areas": null,
            "grid_template_columns": null,
            "grid_template_rows": null,
            "height": null,
            "justify_content": null,
            "justify_items": null,
            "left": null,
            "margin": null,
            "max_height": null,
            "max_width": null,
            "min_height": null,
            "min_width": null,
            "object_fit": null,
            "object_position": null,
            "order": null,
            "overflow": null,
            "overflow_x": null,
            "overflow_y": null,
            "padding": null,
            "right": null,
            "top": null,
            "visibility": null,
            "width": null
          }
        },
        "347191a9714846a6a716b1e9eb8120c4": {
          "model_module": "@jupyter-widgets/controls",
          "model_name": "DescriptionStyleModel",
          "model_module_version": "1.5.0",
          "state": {
            "_model_module": "@jupyter-widgets/controls",
            "_model_module_version": "1.5.0",
            "_model_name": "DescriptionStyleModel",
            "_view_count": null,
            "_view_module": "@jupyter-widgets/base",
            "_view_module_version": "1.2.0",
            "_view_name": "StyleView",
            "description_width": ""
          }
        },
        "196e026aabef4c0ba773c253e77e5df2": {
          "model_module": "@jupyter-widgets/base",
          "model_name": "LayoutModel",
          "model_module_version": "1.2.0",
          "state": {
            "_model_module": "@jupyter-widgets/base",
            "_model_module_version": "1.2.0",
            "_model_name": "LayoutModel",
            "_view_count": null,
            "_view_module": "@jupyter-widgets/base",
            "_view_module_version": "1.2.0",
            "_view_name": "LayoutView",
            "align_content": null,
            "align_items": null,
            "align_self": null,
            "border": null,
            "bottom": null,
            "display": null,
            "flex": null,
            "flex_flow": null,
            "grid_area": null,
            "grid_auto_columns": null,
            "grid_auto_flow": null,
            "grid_auto_rows": null,
            "grid_column": null,
            "grid_gap": null,
            "grid_row": null,
            "grid_template_areas": null,
            "grid_template_columns": null,
            "grid_template_rows": null,
            "height": null,
            "justify_content": null,
            "justify_items": null,
            "left": null,
            "margin": null,
            "max_height": null,
            "max_width": null,
            "min_height": null,
            "min_width": null,
            "object_fit": null,
            "object_position": null,
            "order": null,
            "overflow": null,
            "overflow_x": null,
            "overflow_y": null,
            "padding": null,
            "right": null,
            "top": null,
            "visibility": null,
            "width": null
          }
        },
        "01cfe8060bda454284a1e8508726ada7": {
          "model_module": "@jupyter-widgets/controls",
          "model_name": "ProgressStyleModel",
          "model_module_version": "1.5.0",
          "state": {
            "_model_module": "@jupyter-widgets/controls",
            "_model_module_version": "1.5.0",
            "_model_name": "ProgressStyleModel",
            "_view_count": null,
            "_view_module": "@jupyter-widgets/base",
            "_view_module_version": "1.2.0",
            "_view_name": "StyleView",
            "bar_color": null,
            "description_width": ""
          }
        },
        "7906db566cc447ba896afe4a2a3090de": {
          "model_module": "@jupyter-widgets/base",
          "model_name": "LayoutModel",
          "model_module_version": "1.2.0",
          "state": {
            "_model_module": "@jupyter-widgets/base",
            "_model_module_version": "1.2.0",
            "_model_name": "LayoutModel",
            "_view_count": null,
            "_view_module": "@jupyter-widgets/base",
            "_view_module_version": "1.2.0",
            "_view_name": "LayoutView",
            "align_content": null,
            "align_items": null,
            "align_self": null,
            "border": null,
            "bottom": null,
            "display": null,
            "flex": null,
            "flex_flow": null,
            "grid_area": null,
            "grid_auto_columns": null,
            "grid_auto_flow": null,
            "grid_auto_rows": null,
            "grid_column": null,
            "grid_gap": null,
            "grid_row": null,
            "grid_template_areas": null,
            "grid_template_columns": null,
            "grid_template_rows": null,
            "height": null,
            "justify_content": null,
            "justify_items": null,
            "left": null,
            "margin": null,
            "max_height": null,
            "max_width": null,
            "min_height": null,
            "min_width": null,
            "object_fit": null,
            "object_position": null,
            "order": null,
            "overflow": null,
            "overflow_x": null,
            "overflow_y": null,
            "padding": null,
            "right": null,
            "top": null,
            "visibility": null,
            "width": null
          }
        },
        "b330d399dda04786b27f566a139227a8": {
          "model_module": "@jupyter-widgets/controls",
          "model_name": "DescriptionStyleModel",
          "model_module_version": "1.5.0",
          "state": {
            "_model_module": "@jupyter-widgets/controls",
            "_model_module_version": "1.5.0",
            "_model_name": "DescriptionStyleModel",
            "_view_count": null,
            "_view_module": "@jupyter-widgets/base",
            "_view_module_version": "1.2.0",
            "_view_name": "StyleView",
            "description_width": ""
          }
        }
      }
    }
  },
  "nbformat": 4,
  "nbformat_minor": 0
}